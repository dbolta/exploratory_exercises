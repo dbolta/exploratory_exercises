{
 "cells": [
  {
   "cell_type": "markdown",
   "metadata": {},
   "source": [
    "### WHO data url\n",
    "https://www.who.int/childgrowth/standards/weight_for_age/en/\n",
    "#### WHO weight for age txt link\n",
    "https://www.who.int/childgrowth/standards/wfa_girls_z_exp.txt\n",
    "<br>https://www.who.int/childgrowth/standards/wfa_girls_p_exp.txt"
   ]
  },
  {
   "cell_type": "code",
   "execution_count": 1,
   "metadata": {},
   "outputs": [],
   "source": [
    "import pandas as pd\n",
    "import numpy as np\n",
    "import scipy.stats\n",
    "import matplotlib.pyplot as plt"
   ]
  },
  {
   "cell_type": "code",
   "execution_count": 2,
   "metadata": {
    "scrolled": true
   },
   "outputs": [
    {
     "data": {
      "text/html": [
       "<div>\n",
       "<style scoped>\n",
       "    .dataframe tbody tr th:only-of-type {\n",
       "        vertical-align: middle;\n",
       "    }\n",
       "\n",
       "    .dataframe tbody tr th {\n",
       "        vertical-align: top;\n",
       "    }\n",
       "\n",
       "    .dataframe thead th {\n",
       "        text-align: right;\n",
       "    }\n",
       "</style>\n",
       "<table border=\"1\" class=\"dataframe\">\n",
       "  <thead>\n",
       "    <tr style=\"text-align: right;\">\n",
       "      <th></th>\n",
       "      <th>Age</th>\n",
       "      <th>L</th>\n",
       "      <th>M</th>\n",
       "      <th>S</th>\n",
       "      <th>P01</th>\n",
       "      <th>P1</th>\n",
       "      <th>P3</th>\n",
       "      <th>P5</th>\n",
       "      <th>P10</th>\n",
       "      <th>P15</th>\n",
       "      <th>P25</th>\n",
       "      <th>P50</th>\n",
       "      <th>P75</th>\n",
       "      <th>P85</th>\n",
       "      <th>P90</th>\n",
       "      <th>P95</th>\n",
       "      <th>P97</th>\n",
       "      <th>P99</th>\n",
       "      <th>P999</th>\n",
       "      <th>day</th>\n",
       "    </tr>\n",
       "  </thead>\n",
       "  <tbody>\n",
       "    <tr>\n",
       "      <th>0</th>\n",
       "      <td>0</td>\n",
       "      <td>0.3809</td>\n",
       "      <td>3.2322</td>\n",
       "      <td>0.14171</td>\n",
       "      <td>2.002</td>\n",
       "      <td>2.273</td>\n",
       "      <td>2.440</td>\n",
       "      <td>2.532</td>\n",
       "      <td>2.678</td>\n",
       "      <td>2.779</td>\n",
       "      <td>2.932</td>\n",
       "      <td>3.232</td>\n",
       "      <td>3.550</td>\n",
       "      <td>3.729</td>\n",
       "      <td>3.853</td>\n",
       "      <td>4.041</td>\n",
       "      <td>4.166</td>\n",
       "      <td>4.409</td>\n",
       "      <td>4.846</td>\n",
       "      <td>0</td>\n",
       "    </tr>\n",
       "    <tr>\n",
       "      <th>1</th>\n",
       "      <td>1</td>\n",
       "      <td>0.3259</td>\n",
       "      <td>3.1957</td>\n",
       "      <td>0.14578</td>\n",
       "      <td>1.963</td>\n",
       "      <td>2.231</td>\n",
       "      <td>2.398</td>\n",
       "      <td>2.490</td>\n",
       "      <td>2.635</td>\n",
       "      <td>2.737</td>\n",
       "      <td>2.892</td>\n",
       "      <td>3.196</td>\n",
       "      <td>3.520</td>\n",
       "      <td>3.704</td>\n",
       "      <td>3.831</td>\n",
       "      <td>4.026</td>\n",
       "      <td>4.155</td>\n",
       "      <td>4.408</td>\n",
       "      <td>4.865</td>\n",
       "      <td>1</td>\n",
       "    </tr>\n",
       "    <tr>\n",
       "      <th>2</th>\n",
       "      <td>2</td>\n",
       "      <td>0.3101</td>\n",
       "      <td>3.2104</td>\n",
       "      <td>0.14637</td>\n",
       "      <td>1.972</td>\n",
       "      <td>2.240</td>\n",
       "      <td>2.408</td>\n",
       "      <td>2.500</td>\n",
       "      <td>2.646</td>\n",
       "      <td>2.748</td>\n",
       "      <td>2.904</td>\n",
       "      <td>3.210</td>\n",
       "      <td>3.538</td>\n",
       "      <td>3.723</td>\n",
       "      <td>3.853</td>\n",
       "      <td>4.049</td>\n",
       "      <td>4.181</td>\n",
       "      <td>4.438</td>\n",
       "      <td>4.902</td>\n",
       "      <td>2</td>\n",
       "    </tr>\n",
       "    <tr>\n",
       "      <th>3</th>\n",
       "      <td>3</td>\n",
       "      <td>0.2986</td>\n",
       "      <td>3.2315</td>\n",
       "      <td>0.14657</td>\n",
       "      <td>1.986</td>\n",
       "      <td>2.255</td>\n",
       "      <td>2.424</td>\n",
       "      <td>2.516</td>\n",
       "      <td>2.663</td>\n",
       "      <td>2.766</td>\n",
       "      <td>2.923</td>\n",
       "      <td>3.232</td>\n",
       "      <td>3.562</td>\n",
       "      <td>3.749</td>\n",
       "      <td>3.879</td>\n",
       "      <td>4.079</td>\n",
       "      <td>4.212</td>\n",
       "      <td>4.471</td>\n",
       "      <td>4.942</td>\n",
       "      <td>3</td>\n",
       "    </tr>\n",
       "    <tr>\n",
       "      <th>4</th>\n",
       "      <td>4</td>\n",
       "      <td>0.2891</td>\n",
       "      <td>3.2558</td>\n",
       "      <td>0.14658</td>\n",
       "      <td>2.004</td>\n",
       "      <td>2.274</td>\n",
       "      <td>2.443</td>\n",
       "      <td>2.536</td>\n",
       "      <td>2.684</td>\n",
       "      <td>2.787</td>\n",
       "      <td>2.945</td>\n",
       "      <td>3.256</td>\n",
       "      <td>3.589</td>\n",
       "      <td>3.778</td>\n",
       "      <td>3.909</td>\n",
       "      <td>4.110</td>\n",
       "      <td>4.245</td>\n",
       "      <td>4.507</td>\n",
       "      <td>4.983</td>\n",
       "      <td>4</td>\n",
       "    </tr>\n",
       "  </tbody>\n",
       "</table>\n",
       "</div>"
      ],
      "text/plain": [
       "   Age       L       M        S    P01     P1     P3     P5    P10    P15  \\\n",
       "0    0  0.3809  3.2322  0.14171  2.002  2.273  2.440  2.532  2.678  2.779   \n",
       "1    1  0.3259  3.1957  0.14578  1.963  2.231  2.398  2.490  2.635  2.737   \n",
       "2    2  0.3101  3.2104  0.14637  1.972  2.240  2.408  2.500  2.646  2.748   \n",
       "3    3  0.2986  3.2315  0.14657  1.986  2.255  2.424  2.516  2.663  2.766   \n",
       "4    4  0.2891  3.2558  0.14658  2.004  2.274  2.443  2.536  2.684  2.787   \n",
       "\n",
       "     P25    P50    P75    P85    P90    P95    P97    P99   P999  day  \n",
       "0  2.932  3.232  3.550  3.729  3.853  4.041  4.166  4.409  4.846    0  \n",
       "1  2.892  3.196  3.520  3.704  3.831  4.026  4.155  4.408  4.865    1  \n",
       "2  2.904  3.210  3.538  3.723  3.853  4.049  4.181  4.438  4.902    2  \n",
       "3  2.923  3.232  3.562  3.749  3.879  4.079  4.212  4.471  4.942    3  \n",
       "4  2.945  3.256  3.589  3.778  3.909  4.110  4.245  4.507  4.983    4  "
      ]
     },
     "execution_count": 2,
     "metadata": {},
     "output_type": "execute_result"
    }
   ],
   "source": [
    "data_girls_percentiles = pd.read_csv('https://www.who.int/childgrowth/standards/wfa_girls_p_exp.txt', sep=\"\\t\") #, header=None)\n",
    "data_girls_percentiles['day'] = data_girls_percentiles['Age']\n",
    "data_girls_percentiles.head()"
   ]
  },
  {
   "cell_type": "code",
   "execution_count": 3,
   "metadata": {},
   "outputs": [],
   "source": [
    "max_day = np.max(data_girls_percentiles['day'])"
   ]
  },
  {
   "cell_type": "markdown",
   "metadata": {},
   "source": [
    "#### LMS z score\n",
    "https://www.cdc.gov/nchs/data/nhsr/nhsr063.pdf\n",
    "<br>https://www.indianpediatrics.net/jan2014/jan-37-43.htm\n",
    "<br> Z score and x-coordinate are same thing\n",
    "#### scipy.stats.norm\n",
    "https://docs.scipy.org/doc/scipy/reference/generated/scipy.stats.norm.html"
   ]
  },
  {
   "cell_type": "code",
   "execution_count": 4,
   "metadata": {},
   "outputs": [
    {
     "name": "stdout",
     "output_type": "stream",
     "text": [
      "0.039999999999999994\n",
      "0.39862325420460504\n"
     ]
    }
   ],
   "source": [
    "def LMS_z_score(weight_kg, L, M, S):\n",
    "    if L != 0:\n",
    "        return 1/(S * L) * ((weight_kg / M) ** L - 1)\n",
    "    elif L == 0:\n",
    "        return ln(weight_kg / M)/S\n",
    "print(LMS_z_score(weight_kg = 10, L = -1, M = 8, S = 5))\n",
    "\n",
    "def LMS_pdf(weight_kg, L, M, S):\n",
    "    x = LMS_z_score(weight_kg = weight_kg, L = L, M = M, S = S)\n",
    "    return scipy.stats.norm.pdf(x = x, loc=0, scale=1)\n",
    "\n",
    "print(LMS_pdf(weight_kg = 10, L = -1, M = 8, S = 5))\n",
    "\n",
    "def kg_to_lbs(kg):\n",
    "    return kg * 2.2046\n",
    "\n",
    "def lbs_to_kg(lb):\n",
    "    return lb / 2.2046"
   ]
  },
  {
   "cell_type": "code",
   "execution_count": 5,
   "metadata": {},
   "outputs": [
    {
     "data": {
      "text/html": [
       "<div>\n",
       "<style scoped>\n",
       "    .dataframe tbody tr th:only-of-type {\n",
       "        vertical-align: middle;\n",
       "    }\n",
       "\n",
       "    .dataframe tbody tr th {\n",
       "        vertical-align: top;\n",
       "    }\n",
       "\n",
       "    .dataframe thead th {\n",
       "        text-align: right;\n",
       "    }\n",
       "</style>\n",
       "<table border=\"1\" class=\"dataframe\">\n",
       "  <thead>\n",
       "    <tr style=\"text-align: right;\">\n",
       "      <th></th>\n",
       "      <th>day</th>\n",
       "      <th>lbs</th>\n",
       "      <th>oz</th>\n",
       "      <th>lbs_2</th>\n",
       "      <th>kg</th>\n",
       "      <th>L</th>\n",
       "      <th>M</th>\n",
       "      <th>S</th>\n",
       "    </tr>\n",
       "  </thead>\n",
       "  <tbody>\n",
       "    <tr>\n",
       "      <th>0</th>\n",
       "      <td>0</td>\n",
       "      <td>7</td>\n",
       "      <td>9</td>\n",
       "      <td>7.5625</td>\n",
       "      <td>3.430327</td>\n",
       "      <td>0.3809</td>\n",
       "      <td>3.2322</td>\n",
       "      <td>0.14171</td>\n",
       "    </tr>\n",
       "    <tr>\n",
       "      <th>1</th>\n",
       "      <td>3</td>\n",
       "      <td>6</td>\n",
       "      <td>15</td>\n",
       "      <td>6.9375</td>\n",
       "      <td>3.146829</td>\n",
       "      <td>0.2986</td>\n",
       "      <td>3.2315</td>\n",
       "      <td>0.14657</td>\n",
       "    </tr>\n",
       "    <tr>\n",
       "      <th>2</th>\n",
       "      <td>16</td>\n",
       "      <td>8</td>\n",
       "      <td>0</td>\n",
       "      <td>8.0000</td>\n",
       "      <td>3.628776</td>\n",
       "      <td>0.2218</td>\n",
       "      <td>3.6438</td>\n",
       "      <td>0.14258</td>\n",
       "    </tr>\n",
       "  </tbody>\n",
       "</table>\n",
       "</div>"
      ],
      "text/plain": [
       "   day  lbs  oz   lbs_2        kg       L       M        S\n",
       "0    0    7   9  7.5625  3.430327  0.3809  3.2322  0.14171\n",
       "1    3    6  15  6.9375  3.146829  0.2986  3.2315  0.14657\n",
       "2   16    8   0  8.0000  3.628776  0.2218  3.6438  0.14258"
      ]
     },
     "execution_count": 5,
     "metadata": {},
     "output_type": "execute_result"
    }
   ],
   "source": [
    "baby_weights = pd.read_csv('baby weights.csv')\n",
    "baby_weights['lbs_2'] = baby_weights['lbs'] + baby_weights['oz'] / 16\n",
    "baby_weights['kg'] = lbs_to_kg(lb = baby_weights['lbs_2'])\n",
    "baby_weights = baby_weights.join(data_girls_percentiles[['day', 'L', 'M', 'S']].set_index('day'), on = 'day')\n",
    "\n",
    "baby_weights"
   ]
  },
  {
   "cell_type": "code",
   "execution_count": 6,
   "metadata": {},
   "outputs": [
    {
     "name": "stdout",
     "output_type": "stream",
     "text": [
      "Mean z_score of baby's weight: 0.385 sigma.\n",
      "Standard deviation of baby's weight: 0.015\n"
     ]
    },
    {
     "data": {
      "text/html": [
       "<div>\n",
       "<style scoped>\n",
       "    .dataframe tbody tr th:only-of-type {\n",
       "        vertical-align: middle;\n",
       "    }\n",
       "\n",
       "    .dataframe tbody tr th {\n",
       "        vertical-align: top;\n",
       "    }\n",
       "\n",
       "    .dataframe thead th {\n",
       "        text-align: right;\n",
       "    }\n",
       "</style>\n",
       "<table border=\"1\" class=\"dataframe\">\n",
       "  <thead>\n",
       "    <tr style=\"text-align: right;\">\n",
       "      <th></th>\n",
       "      <th>day</th>\n",
       "      <th>lbs</th>\n",
       "      <th>oz</th>\n",
       "      <th>lbs_2</th>\n",
       "      <th>kg</th>\n",
       "      <th>L</th>\n",
       "      <th>M</th>\n",
       "      <th>S</th>\n",
       "      <th>z_score</th>\n",
       "    </tr>\n",
       "  </thead>\n",
       "  <tbody>\n",
       "    <tr>\n",
       "      <th>0</th>\n",
       "      <td>0</td>\n",
       "      <td>7</td>\n",
       "      <td>9</td>\n",
       "      <td>7.5625</td>\n",
       "      <td>3.430327</td>\n",
       "      <td>0.3809</td>\n",
       "      <td>3.2322</td>\n",
       "      <td>0.14171</td>\n",
       "      <td>0.364552</td>\n",
       "    </tr>\n",
       "    <tr>\n",
       "      <th>1</th>\n",
       "      <td>3</td>\n",
       "      <td>6</td>\n",
       "      <td>15</td>\n",
       "      <td>6.9375</td>\n",
       "      <td>3.146829</td>\n",
       "      <td>0.2986</td>\n",
       "      <td>3.2315</td>\n",
       "      <td>0.14657</td>\n",
       "      <td>0.392501</td>\n",
       "    </tr>\n",
       "    <tr>\n",
       "      <th>2</th>\n",
       "      <td>16</td>\n",
       "      <td>8</td>\n",
       "      <td>0</td>\n",
       "      <td>8.0000</td>\n",
       "      <td>3.628776</td>\n",
       "      <td>0.2218</td>\n",
       "      <td>3.6438</td>\n",
       "      <td>0.14258</td>\n",
       "      <td>0.398775</td>\n",
       "    </tr>\n",
       "  </tbody>\n",
       "</table>\n",
       "</div>"
      ],
      "text/plain": [
       "   day  lbs  oz   lbs_2        kg       L       M        S   z_score\n",
       "0    0    7   9  7.5625  3.430327  0.3809  3.2322  0.14171  0.364552\n",
       "1    3    6  15  6.9375  3.146829  0.2986  3.2315  0.14657  0.392501\n",
       "2   16    8   0  8.0000  3.628776  0.2218  3.6438  0.14258  0.398775"
      ]
     },
     "execution_count": 6,
     "metadata": {},
     "output_type": "execute_result"
    }
   ],
   "source": [
    "baby_weights['z_score'] = baby_weights[['kg', 'L', 'M', 'S']].apply(axis = 1,\n",
    "                                                                    func = lambda in_row: \n",
    "                                                                    LMS_pdf(weight_kg = in_row['kg'],\n",
    "                                                                            L = in_row['L'],\n",
    "                                                                            M = in_row['M'], \n",
    "                                                                            S = in_row['S']))\n",
    "likelihood_mean = np.mean(baby_weights['z_score'])\n",
    "print(\"Mean z_score of baby's weight: \" + \n",
    "      str(np.round_(likelihood_mean, decimals = 3)) +\n",
    "     \" sigma.\")\n",
    "\n",
    "likelihood_stdev = np.std(baby_weights['z_score'])\n",
    "print(\"Standard deviation of baby's weight: \" + \n",
    "      str(np.round_(likelihood_stdev, decimals = 3)))\n",
    "\n",
    "baby_weights"
   ]
  },
  {
   "cell_type": "code",
   "execution_count": 7,
   "metadata": {
    "scrolled": true
   },
   "outputs": [
    {
     "name": "stdout",
     "output_type": "stream",
     "text": [
      "Max posterior: 0.13559581523908934\n"
     ]
    },
    {
     "data": {
      "text/html": [
       "<div>\n",
       "<style scoped>\n",
       "    .dataframe tbody tr th:only-of-type {\n",
       "        vertical-align: middle;\n",
       "    }\n",
       "\n",
       "    .dataframe tbody tr th {\n",
       "        vertical-align: top;\n",
       "    }\n",
       "\n",
       "    .dataframe thead th {\n",
       "        text-align: right;\n",
       "    }\n",
       "</style>\n",
       "<table border=\"1\" class=\"dataframe\">\n",
       "  <thead>\n",
       "    <tr style=\"text-align: right;\">\n",
       "      <th></th>\n",
       "      <th>lbs</th>\n",
       "      <th>day</th>\n",
       "      <th>prior_z_score</th>\n",
       "      <th>likelihood_z_score</th>\n",
       "      <th>prior_pdf</th>\n",
       "      <th>likelihood_pdf</th>\n",
       "      <th>posterior_pdf</th>\n",
       "      <th>prior_cdf</th>\n",
       "      <th>likelihood_cdf</th>\n",
       "      <th>posterior_cdf</th>\n",
       "    </tr>\n",
       "  </thead>\n",
       "  <tbody>\n",
       "    <tr>\n",
       "      <th>0</th>\n",
       "      <td>1.000000</td>\n",
       "      <td>1856</td>\n",
       "      <td>-51.272834</td>\n",
       "      <td>-3472.508845</td>\n",
       "      <td>0.0</td>\n",
       "      <td>0.0</td>\n",
       "      <td>0.0</td>\n",
       "      <td>0.0</td>\n",
       "      <td>0.0</td>\n",
       "      <td>0.0</td>\n",
       "    </tr>\n",
       "    <tr>\n",
       "      <th>1</th>\n",
       "      <td>1.099099</td>\n",
       "      <td>1856</td>\n",
       "      <td>-48.966315</td>\n",
       "      <td>-3317.462384</td>\n",
       "      <td>0.0</td>\n",
       "      <td>0.0</td>\n",
       "      <td>0.0</td>\n",
       "      <td>0.0</td>\n",
       "      <td>0.0</td>\n",
       "      <td>0.0</td>\n",
       "    </tr>\n",
       "    <tr>\n",
       "      <th>2</th>\n",
       "      <td>1.198198</td>\n",
       "      <td>1856</td>\n",
       "      <td>-46.925274</td>\n",
       "      <td>-3180.261576</td>\n",
       "      <td>0.0</td>\n",
       "      <td>0.0</td>\n",
       "      <td>0.0</td>\n",
       "      <td>0.0</td>\n",
       "      <td>0.0</td>\n",
       "      <td>0.0</td>\n",
       "    </tr>\n",
       "    <tr>\n",
       "      <th>3</th>\n",
       "      <td>1.297297</td>\n",
       "      <td>1856</td>\n",
       "      <td>-45.100721</td>\n",
       "      <td>-3057.613345</td>\n",
       "      <td>0.0</td>\n",
       "      <td>0.0</td>\n",
       "      <td>0.0</td>\n",
       "      <td>0.0</td>\n",
       "      <td>0.0</td>\n",
       "      <td>0.0</td>\n",
       "    </tr>\n",
       "    <tr>\n",
       "      <th>4</th>\n",
       "      <td>1.396396</td>\n",
       "      <td>1856</td>\n",
       "      <td>-43.455616</td>\n",
       "      <td>-2947.027792</td>\n",
       "      <td>0.0</td>\n",
       "      <td>0.0</td>\n",
       "      <td>0.0</td>\n",
       "      <td>0.0</td>\n",
       "      <td>0.0</td>\n",
       "      <td>0.0</td>\n",
       "    </tr>\n",
       "  </tbody>\n",
       "</table>\n",
       "</div>"
      ],
      "text/plain": [
       "        lbs   day  prior_z_score  likelihood_z_score  prior_pdf  \\\n",
       "0  1.000000  1856     -51.272834        -3472.508845        0.0   \n",
       "1  1.099099  1856     -48.966315        -3317.462384        0.0   \n",
       "2  1.198198  1856     -46.925274        -3180.261576        0.0   \n",
       "3  1.297297  1856     -45.100721        -3057.613345        0.0   \n",
       "4  1.396396  1856     -43.455616        -2947.027792        0.0   \n",
       "\n",
       "   likelihood_pdf  posterior_pdf  prior_cdf  likelihood_cdf  posterior_cdf  \n",
       "0             0.0            0.0        0.0             0.0            0.0  \n",
       "1             0.0            0.0        0.0             0.0            0.0  \n",
       "2             0.0            0.0        0.0             0.0            0.0  \n",
       "3             0.0            0.0        0.0             0.0            0.0  \n",
       "4             0.0            0.0        0.0             0.0            0.0  "
      ]
     },
     "execution_count": 7,
     "metadata": {},
     "output_type": "execute_result"
    }
   ],
   "source": [
    "year_5_pdf = pd.DataFrame({'lbs': np.linspace(1, 100, num = 1000)})\n",
    "year_5_pdf['day'] = max_day\n",
    "year_5_pdf = year_5_pdf.join(data_girls_percentiles[['day', 'L', 'M', 'S']].set_index('day'), on = 'day')\n",
    "year_5_pdf['kg'] = lbs_to_kg(lb = year_5_pdf['lbs'])\n",
    "year_5_pdf['prior_z_score'] = year_5_pdf[['kg', 'L', 'M', 'S']].apply(axis = 1,\n",
    "                                                                    func = lambda in_row: \n",
    "                                                                    LMS_z_score(weight_kg = in_row['kg'],\n",
    "                                                                                L = in_row['L'],\n",
    "                                                                                M = in_row['M'], \n",
    "                                                                                S = in_row['S']))\n",
    "for colname in ['L', 'M', 'S', 'kg']:\n",
    "    del year_5_pdf[colname]\n",
    "\n",
    "year_5_pdf['likelihood_z_score'] = (year_5_pdf['prior_z_score'] - likelihood_mean) / likelihood_stdev\n",
    "year_5_pdf['prior_pdf'] = scipy.stats.norm.pdf(x = year_5_pdf['prior_z_score'], loc=0, scale=1)\n",
    "year_5_pdf['likelihood_pdf'] = scipy.stats.norm.pdf(x = year_5_pdf['likelihood_z_score'], loc=0, scale=1)\n",
    "year_5_pdf['posterior_pdf'] = year_5_pdf['prior_pdf'] * year_5_pdf['likelihood_pdf']\n",
    "year_5_pdf['prior_cdf'] = year_5_pdf['prior_pdf'].cumsum(axis = 0)\n",
    "year_5_pdf['likelihood_cdf'] = year_5_pdf['likelihood_pdf'].cumsum(axis = 0)\n",
    "year_5_pdf['posterior_cdf'] = year_5_pdf['posterior_pdf'].cumsum(axis = 0)\n",
    "year_5_pdf['prior_cdf'] = year_5_pdf['prior_cdf'] / np.max(year_5_pdf['prior_cdf'])\n",
    "year_5_pdf['likelihood_cdf'] = year_5_pdf['likelihood_cdf'] / np.max(year_5_pdf['likelihood_cdf'])\n",
    "year_5_pdf['posterior_cdf'] = year_5_pdf['posterior_cdf'] / np.max(year_5_pdf['posterior_cdf'])\n",
    "\n",
    "### check max posterior\n",
    "print(\"Max posterior: \"+ str(np.max(year_5_pdf['posterior_pdf'])))\n",
    "year_5_pdf.head()"
   ]
  },
  {
   "cell_type": "code",
   "execution_count": 8,
   "metadata": {},
   "outputs": [
    {
     "data": {
      "text/plain": [
       "42.91891891891892"
      ]
     },
     "execution_count": 8,
     "metadata": {},
     "output_type": "execute_result"
    }
   ],
   "source": [
    "# Location of max posterior\n",
    "max_posterior_lbs = (year_5_pdf\n",
    "                     .loc[year_5_pdf['posterior_pdf'] == np.max(year_5_pdf['posterior_pdf']), 'lbs']\n",
    "                     .iloc[0])\n",
    "max_posterior_lbs"
   ]
  },
  {
   "cell_type": "markdown",
   "metadata": {},
   "source": [
    "#### Helpful intro to matplotlib\n",
    "https://bespokeblog.wordpress.com/2011/07/07/basic-data-plotting-with-matplotlib-part-2-lines-points-formatting/"
   ]
  },
  {
   "cell_type": "code",
   "execution_count": 9,
   "metadata": {},
   "outputs": [
    {
     "data": {
      "image/png": "[encoded data removed]",
      "text/plain": [
       "<Figure size 432x288 with 1 Axes>"
      ]
     },
     "metadata": {
      "needs_background": "light"
     },
     "output_type": "display_data"
    }
   ],
   "source": [
    "plt.plot(year_5_pdf['lbs'], year_5_pdf['posterior_cdf'], label = 'posterior_cdf',\n",
    "        linestyle = '-', color = 'k')\n",
    "plt.plot(year_5_pdf['lbs'], year_5_pdf['prior_cdf'], label = 'prior_cdf',\n",
    "        linestyle = '-', color = 'b')\n",
    "plt.plot(year_5_pdf['lbs'], year_5_pdf['likelihood_cdf'], label = 'likelihood_cdf',\n",
    "        linestyle = '-', color = 'g')\n",
    "plt.xlabel('Weight (lbs)')\n",
    "plt.ylabel('CDF')\n",
    "plt.title('Bayesian Baby Weight Estimate')\n",
    "plt.legend()\n",
    "plt.show()"
   ]
  },
  {
   "cell_type": "code",
   "execution_count": 10,
   "metadata": {},
   "outputs": [
    {
     "name": "stdout",
     "output_type": "stream",
     "text": [
      "Max posterior: 0.14776119960642448\n"
     ]
    },
    {
     "data": {
      "image/png": "[encoded data removed]",
      "text/plain": [
       "<Figure size 432x288 with 1 Axes>"
      ]
     },
     "metadata": {
      "needs_background": "light"
     },
     "output_type": "display_data"
    }
   ],
   "source": [
    "year_5_pdf = pd.DataFrame({'lbs': np.linspace(40, 45, num = 1000)})\n",
    "year_5_pdf['day'] = max_day\n",
    "year_5_pdf = year_5_pdf.join(data_girls_percentiles[['day', 'L', 'M', 'S']].set_index('day'), on = 'day')\n",
    "year_5_pdf['kg'] = lbs_to_kg(lb = year_5_pdf['lbs'])\n",
    "year_5_pdf['prior_z_score'] = year_5_pdf[['kg', 'L', 'M', 'S']].apply(axis = 1,\n",
    "                                                                    func = lambda in_row: \n",
    "                                                                    LMS_z_score(weight_kg = in_row['kg'],\n",
    "                                                                                L = in_row['L'],\n",
    "                                                                                M = in_row['M'], \n",
    "                                                                                S = in_row['S']))\n",
    "for colname in ['L', 'M', 'S', 'kg']:\n",
    "    del year_5_pdf[colname]\n",
    "\n",
    "year_5_pdf['likelihood_z_score'] = (year_5_pdf['prior_z_score'] - likelihood_mean) / likelihood_stdev\n",
    "year_5_pdf['prior_pdf'] = scipy.stats.norm.pdf(x = year_5_pdf['prior_z_score'], loc=0, scale=1)\n",
    "year_5_pdf['likelihood_pdf'] = scipy.stats.norm.pdf(x = year_5_pdf['likelihood_z_score'], loc=0, scale=1)\n",
    "year_5_pdf['posterior_pdf'] = year_5_pdf['prior_pdf'] * year_5_pdf['likelihood_pdf']\n",
    "year_5_pdf['prior_cdf'] = year_5_pdf['prior_pdf'].cumsum(axis = 0)\n",
    "year_5_pdf['likelihood_cdf'] = year_5_pdf['likelihood_pdf'].cumsum(axis = 0)\n",
    "year_5_pdf['posterior_cdf'] = year_5_pdf['posterior_pdf'].cumsum(axis = 0)\n",
    "year_5_pdf['prior_cdf'] = year_5_pdf['prior_cdf'] / np.max(year_5_pdf['prior_cdf'])\n",
    "year_5_pdf['likelihood_cdf'] = year_5_pdf['likelihood_cdf'] / np.max(year_5_pdf['likelihood_cdf'])\n",
    "year_5_pdf['posterior_cdf'] = year_5_pdf['posterior_cdf'] / np.max(year_5_pdf['posterior_cdf'])\n",
    "\n",
    "### check max posterior\n",
    "print(\"Max posterior: \"+ str(np.max(year_5_pdf['posterior_pdf'])))\n",
    "\n",
    "plt.plot(year_5_pdf['lbs'], year_5_pdf['prior_cdf'], label = 'prior_cdf',\n",
    "        linestyle = '-', color = 'b')\n",
    "plt.plot(year_5_pdf['lbs'], year_5_pdf['likelihood_cdf'], label = 'likelihood_cdf',\n",
    "        linestyle = '-', color = 'g')\n",
    "plt.plot(year_5_pdf['lbs'].iloc[lambda x: x.index % 10 == 0], \n",
    "         year_5_pdf['posterior_cdf'].iloc[lambda x: x.index % 10 == 0], \n",
    "         label = 'posterior_cdf',\n",
    "        linestyle = 'None', marker = '.', color = 'r')\n",
    "\n",
    "plt.xlabel('Weight (lbs)')\n",
    "plt.ylabel('CDF')\n",
    "plt.title('Bayesian Baby Weight Estimate')\n",
    "plt.legend()\n",
    "plt.show()"
   ]
  },
  {
   "cell_type": "markdown",
   "metadata": {},
   "source": [
    "## Start MCMC\n",
    "Approximate same posterior with MCMC"
   ]
  },
  {
   "cell_type": "code",
   "execution_count": 11,
   "metadata": {},
   "outputs": [
    {
     "data": {
      "text/plain": [
       "42.91891891891892"
      ]
     },
     "execution_count": 11,
     "metadata": {},
     "output_type": "execute_result"
    }
   ],
   "source": [
    "max_posterior_lbs"
   ]
  },
  {
   "cell_type": "code",
   "execution_count": 48,
   "metadata": {},
   "outputs": [],
   "source": [
    "iteration = [0]\n",
    "MCMC_lbs = [max_posterior_lbs]\n",
    "MCMC_day = max_day\n",
    "MCMC_L = data_girls_percentiles.loc[data_girls_percentiles['day'] == MCMC_day]['L'].iloc[0]\n",
    "MCMC_M = data_girls_percentiles.loc[data_girls_percentiles['day'] == MCMC_day]['M'].iloc[0]\n",
    "MCMC_S = data_girls_percentiles.loc[data_girls_percentiles['day'] == MCMC_day]['S'].iloc[0]\n",
    "MCMC_prior_z_score = [LMS_z_score(weight_kg = lbs_to_kg(lb = MCMC_lbs[0]), \n",
    "                                  L = MCMC_L, M = MCMC_M, S = MCMC_S)]\n",
    "MCMC_likelihood_z_score = [(MCMC_prior_z_score[0] - likelihood_mean) / likelihood_stdev]\n",
    "MCMC_prior_pdf = [scipy.stats.norm.pdf(x = MCMC_prior_z_score[0], loc=0, scale=1)]\n",
    "MCMC_likelihood_pdf = [scipy.stats.norm.pdf(x = MCMC_likelihood_z_score[0], loc=0, scale=1)]  \n",
    "MCMC_posterior_pdf = [MCMC_prior_pdf[0] * MCMC_likelihood_pdf[0]]\n",
    "MCMC_alpha = [MCMC_posterior_pdf]"
   ]
  },
  {
   "cell_type": "code",
   "execution_count": 49,
   "metadata": {},
   "outputs": [],
   "source": [
    "for i in range(1, 30000):\n",
    "    MCMC_lbs.append(MCMC_lbs[i - 1] + (np.random.uniform(-1.0, 1.0) * 10))\n",
    "    MCMC_prior_z_score.append(LMS_z_score(weight_kg = lbs_to_kg(lb = MCMC_lbs[i]), \n",
    "                                          L = MCMC_L, M = MCMC_M, S = MCMC_S))\n",
    "    MCMC_likelihood_z_score.append((MCMC_prior_z_score[i] - likelihood_mean) / likelihood_stdev)\n",
    "    MCMC_prior_pdf.append(scipy.stats.norm.pdf(x = MCMC_prior_z_score[i], loc=0, scale=1))\n",
    "    MCMC_likelihood_pdf.append(scipy.stats.norm.pdf(x = MCMC_likelihood_z_score[i], loc=0, scale=1))\n",
    "    MCMC_posterior_pdf.append(MCMC_prior_pdf[i] * MCMC_likelihood_pdf[i])\n",
    "    if MCMC_posterior_pdf[i] == 0:\n",
    "        MCMC_alpha.append(0)\n",
    "    elif MCMC_posterior_pdf[i - 1] == 0:\n",
    "        MCMC_alpha.append(2)\n",
    "    else:\n",
    "        MCMC_alpha.append(MCMC_posterior_pdf[i] / MCMC_posterior_pdf[i - 1])\n",
    "    if MCMC_alpha[i] < 1:\n",
    "        if np.random.uniform(0, 1) > MCMC_alpha[i]:\n",
    "            MCMC_lbs[i] = MCMC_lbs[i - 1]\n",
    "            MCMC_prior_z_score[i] = MCMC_prior_z_score[i - 1]\n",
    "            MCMC_likelihood_z_score[i] = MCMC_likelihood_z_score[i - 1]\n",
    "            MCMC_prior_pdf[i] = MCMC_prior_pdf[i - 1]\n",
    "            MCMC_likelihood_pdf[i] = MCMC_likelihood_pdf[i - 1]\n",
    "            MCMC_posterior_pdf[i] = MCMC_posterior_pdf[i - 1]\n",
    "            MCMC_alpha[i] = MCMC_alpha[i - 1]"
   ]
  },
  {
   "cell_type": "code",
   "execution_count": 50,
   "metadata": {},
   "outputs": [
    {
     "data": {
      "image/png": "[encoded data removed]",
      "text/plain": [
       "<Figure size 432x288 with 1 Axes>"
      ]
     },
     "metadata": {
      "needs_background": "light"
     },
     "output_type": "display_data"
    }
   ],
   "source": [
    "MCMC_results = pd.DataFrame({'MCMC_lbs': MCMC_lbs}).sort_values('MCMC_lbs')\n",
    "MCMC_results['cdf'] = list(range(MCMC_results.shape[0]))\n",
    "MCMC_results['cdf'] = (MCMC_results['cdf'] + 1) / MCMC_results.shape[0]\n",
    "#MCMC_results\n",
    "plt.plot(MCMC_results['MCMC_lbs'], MCMC_results['cdf'], label = 'MCMC_cdf',\n",
    "        linestyle = '-', color = 'b')\n",
    "plt.xlabel('Weight (lbs)')\n",
    "plt.ylabel('CDF')\n",
    "plt.title('MCMC Baby Weight Estimate')\n",
    "plt.legend()\n",
    "plt.show()"
   ]
  },
  {
   "cell_type": "code",
   "execution_count": null,
   "metadata": {},
   "outputs": [],
   "source": []
  }
 ],
 "metadata": {
  "kernelspec": {
   "display_name": "Python 3",
   "language": "python",
   "name": "python3"
  },
  "language_info": {
   "codemirror_mode": {
    "name": "ipython",
    "version": 3
   },
   "file_extension": ".py",
   "mimetype": "text/x-python",
   "name": "python",
   "nbconvert_exporter": "python",
   "pygments_lexer": "ipython3",
   "version": "3.7.3"
  },
  "varInspector": {
   "cols": {
    "lenName": 16,
    "lenType": 16,
    "lenVar": 40
   },
   "kernels_config": {
    "python": {
     "delete_cmd_postfix": "",
     "delete_cmd_prefix": "del ",
     "library": "var_list.py",
     "varRefreshCmd": "print(var_dic_list())"
    },
    "r": {
     "delete_cmd_postfix": ") ",
     "delete_cmd_prefix": "rm(",
     "library": "var_list.r",
     "varRefreshCmd": "cat(var_dic_list()) "
    }
   },
   "types_to_exclude": [
    "module",
    "function",
    "builtin_function_or_method",
    "instance",
    "_Feature"
   ],
   "window_display": false
  }
 },
 "nbformat": 4,
 "nbformat_minor": 2
}
