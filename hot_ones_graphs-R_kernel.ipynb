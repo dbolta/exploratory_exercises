{
 "cells": [
  {
   "cell_type": "markdown",
   "metadata": {},
   "source": [
    "Hot Ones Spice Graphs\n",
    "================\n",
    "D Bolta\n",
    "Jan, 2019\n",
    "\n",
    "Hot ones is a show about chicken wings. This particular episode features one of my favorite Chefs/TV personalities, Alton Brown.\n",
    "\n",
    "As the show progresses, they report the Scoville level of each sauce. The spice level progresses quickly, but I wanted to visualize how quickly. Does each new sauce progress fairly linearly? Or does each new sauce completely redefine \"spicy\", making all the old sauces look like marinara?\n",
    "\n",
    "Load some basic packages\n",
    "========================\n",
    "\n",
    "Don't need startup messages"
   ]
  },
  {
   "cell_type": "code",
   "execution_count": 1,
   "metadata": {},
   "outputs": [],
   "source": [
    "suppressMessages(suppressWarnings(library(ggplot2)))"
   ]
  },
  {
   "cell_type": "code",
   "execution_count": 2,
   "metadata": {},
   "outputs": [],
   "source": [
    "suppressMessages(suppressWarnings(library(dplyr)))"
   ]
  },
  {
   "cell_type": "markdown",
   "metadata": {},
   "source": [
    "Create vectors to define sauce data\n",
    "==================================="
   ]
  },
  {
   "cell_type": "code",
   "execution_count": 3,
   "metadata": {},
   "outputs": [],
   "source": [
    "sauce_order_vec = 1:10\n",
    "scoville_SHU_vec = c(450,\n",
    "                     550,\n",
    "                     5500,\n",
    "                     15600,\n",
    "                     32000,\n",
    "                     56000,\n",
    "                     82000,\n",
    "                     135600,\n",
    "                     1e6,\n",
    "                     2e6)\n",
    "\n",
    "sauce_names_conc = c(\"Ancho_and_Morita\",\n",
    "                     \"Louisiana\",\n",
    "                     \"Bronx\",\n",
    "                     \"Hot_Ones_Chipotle\",\n",
    "                     \"Hamajang\",\n",
    "                     \"Karma\",\n",
    "                     \"Dawsons\",\n",
    "                     \"Da_Bomb\",\n",
    "                     \"Mad_Dog_Anniv\",\n",
    "                     \"Last_Dab\")\n",
    "\n",
    "sauce_names_vec = factor(sauce_names_conc,\n",
    "                         sauce_names_conc)"
   ]
  },
  {
   "cell_type": "markdown",
   "metadata": {},
   "source": [
    "Create a tall data frame that can be directly visualized\n",
    "========================================================\n",
    "\n",
    "Each trellis should recursively include all sauces tasted up to that point."
   ]
  },
  {
   "cell_type": "code",
   "execution_count": 4,
   "metadata": {},
   "outputs": [],
   "source": [
    "sauces_df = data.frame(\"sauce_order\" = sauce_order_vec[1:2],\n",
    "                       \"sauce_names\" = sauce_names_vec[1:2],\n",
    "                       \"scoville_SHU\" = scoville_SHU_vec[1:2],\n",
    "                       \"facet_label\" = sauce_names_vec[2],\n",
    "                       \"facet_color\" = -2,\n",
    "                       stringsAsFactors = FALSE)\n",
    "for (i in 3:max(sauce_order_vec)){\n",
    "  sauces_df = sauces_df %>%\n",
    "    bind_rows(data.frame(\"sauce_order\" = sauce_order_vec[1:i],\n",
    "                       \"sauce_names\" = sauce_names_vec[1:i],\n",
    "                       \"scoville_SHU\" = scoville_SHU_vec[1:i],\n",
    "                       \"facet_label\" = sauce_names_vec[i],\n",
    "                       \"facet_color\" = -1*i,\n",
    "                       stringsAsFactors = FALSE))\n",
    "}"
   ]
  },
  {
   "cell_type": "markdown",
   "metadata": {},
   "source": [
    "Build out the plots\n",
    "===================\n",
    "\n",
    "Run with cartesian and semilog scales.\n",
    "\n",
    "Even on semilog, it's apparent that most of the"
   ]
  },
  {
   "cell_type": "code",
   "execution_count": 6,
   "metadata": {},
   "outputs": [
    {
     "data": {
      "image/png": "[encoded data removed]",
      "text/plain": [
       "plot without title"
      ]
     },
     "metadata": {},
     "output_type": "display_data"
    }
   ],
   "source": [
    "# # Linear\n",
    "# sauces_df %>%\n",
    "#   ggplot(aes(x = sauce_order, y = scoville_SHU, \n",
    "#              color = log10(scoville_SHU))) +\n",
    "#   geom_point() +\n",
    "#   scale_color_gradient(low = \"yellow\", high = \"red\") +\n",
    "#   facet_wrap(~facet_label, nrow = 3, ncol = 3, scales = \"free\") +\n",
    "#   theme_bw()\n",
    "\n",
    "# Semilogarithmic\n",
    "graph = sauces_df %>%\n",
    "  ggplot(aes(x = sauce_order, y = scoville_SHU, \n",
    "             color = log10(scoville_SHU))) +\n",
    "  geom_point() +\n",
    "  scale_color_gradient(low = \"yellow\", high = \"red\") +\n",
    "  facet_wrap(~facet_label, nrow = 3, ncol = 3, scales = \"free\") +\n",
    "  theme_bw() +\n",
    "  scale_y_continuous(limits = c(100, NA), trans=\"log10\")\n",
    "print(graph)"
   ]
  },
  {
   "cell_type": "markdown",
   "metadata": {},
   "source": [
    "Conclusion: If people taste heat on a log scale (see link), the progression of most of the sauces is actually fairly consistent. Although most contestants have trouble stepping up to \"Da Bomb\", the level jump really occurs on the following sauce. This suggests that heat isn't the driving issue with \"Da Bomb\".\n",
    "\n",
    "\"Why humans perceive logarithmically\" <br><https://rss.onlinelibrary.wiley.com/doi/pdf/10.1111/j.1740-9713.2013.00636.x>"
   ]
  }
 ],
 "metadata": {
  "kernelspec": {
   "display_name": "R",
   "language": "R",
   "name": "ir"
  },
  "language_info": {
   "codemirror_mode": "r",
   "file_extension": ".r",
   "mimetype": "text/x-r-source",
   "name": "R",
   "pygments_lexer": "r",
   "version": "3.4.2"
  }
 },
 "nbformat": 4,
 "nbformat_minor": 2
}
