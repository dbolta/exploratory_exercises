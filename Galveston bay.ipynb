{
 "cells": [
  {
   "cell_type": "markdown",
   "metadata": {},
   "source": [
    "## Hurricane Harvey Data Around Houston\n",
    "Galveston Bay citizens run their own water monitoring:\n",
    "<br>http://gulfcitizenscience.org/gbf_db"
   ]
  },
  {
   "cell_type": "markdown",
   "metadata": {},
   "source": [
    "#### Here's some support links on datetimes in pandas.\n",
    "http://strftime.org/\n",
    "<br>https://stackoverflow.com/questions/26763344/convert-pandas-column-to-datetime"
   ]
  },
  {
   "cell_type": "code",
   "execution_count": 1,
   "metadata": {},
   "outputs": [],
   "source": [
    "import pandas as pd\n",
    "import matplotlib.pyplot as plt"
   ]
  },
  {
   "cell_type": "markdown",
   "metadata": {},
   "source": [
    "## Section 1: Galveston Bay Data"
   ]
  },
  {
   "cell_type": "code",
   "execution_count": 2,
   "metadata": {},
   "outputs": [
    {
     "data": {
      "text/html": [
       "<div>\n",
       "<style scoped>\n",
       "    .dataframe tbody tr th:only-of-type {\n",
       "        vertical-align: middle;\n",
       "    }\n",
       "\n",
       "    .dataframe tbody tr th {\n",
       "        vertical-align: top;\n",
       "    }\n",
       "\n",
       "    .dataframe thead th {\n",
       "        text-align: right;\n",
       "    }\n",
       "</style>\n",
       "<table border=\"1\" class=\"dataframe\">\n",
       "  <thead>\n",
       "    <tr style=\"text-align: right;\">\n",
       "      <th></th>\n",
       "      <th>Date</th>\n",
       "      <th>Area</th>\n",
       "      <th>Air Temp (°C)</th>\n",
       "      <th>Water Temp (°C)</th>\n",
       "      <th>Dissolved Oxygen (mg/L)</th>\n",
       "      <th>pH</th>\n",
       "      <th>Salinity (ppt)</th>\n",
       "      <th>Enterococcus</th>\n",
       "    </tr>\n",
       "  </thead>\n",
       "  <tbody>\n",
       "    <tr>\n",
       "      <th>0</th>\n",
       "      <td>7/19/2018 10:03 am</td>\n",
       "      <td>Galveston Bay at Shoreacres Pier</td>\n",
       "      <td>27.0</td>\n",
       "      <td>28.0</td>\n",
       "      <td>5.6</td>\n",
       "      <td>8.0</td>\n",
       "      <td>14.10</td>\n",
       "      <td>1.0</td>\n",
       "    </tr>\n",
       "    <tr>\n",
       "      <th>1</th>\n",
       "      <td>7/18/2018 8:30 am</td>\n",
       "      <td>Jones Bay at Bayou Vista</td>\n",
       "      <td>28.0</td>\n",
       "      <td>29.5</td>\n",
       "      <td>3.4</td>\n",
       "      <td>8.0</td>\n",
       "      <td>23.60</td>\n",
       "      <td>20.0</td>\n",
       "    </tr>\n",
       "    <tr>\n",
       "      <th>2</th>\n",
       "      <td>7/18/2018 8:12 am</td>\n",
       "      <td>Jones Bay at Tiki Tom's RV Park</td>\n",
       "      <td>28.0</td>\n",
       "      <td>28.5</td>\n",
       "      <td>4.0</td>\n",
       "      <td>8.0</td>\n",
       "      <td>28.60</td>\n",
       "      <td>10.0</td>\n",
       "    </tr>\n",
       "    <tr>\n",
       "      <th>3</th>\n",
       "      <td>7/17/2018 8:00 am</td>\n",
       "      <td>Clear Lake at Watergate Yachting Center</td>\n",
       "      <td>27.0</td>\n",
       "      <td>29.0</td>\n",
       "      <td>3.8</td>\n",
       "      <td>8.6</td>\n",
       "      <td>10.95</td>\n",
       "      <td>1.0</td>\n",
       "    </tr>\n",
       "  </tbody>\n",
       "</table>\n",
       "</div>"
      ],
      "text/plain": [
       "                 Date                                     Area  Air Temp (°C)  \\\n",
       "0  7/19/2018 10:03 am         Galveston Bay at Shoreacres Pier           27.0   \n",
       "1   7/18/2018 8:30 am                 Jones Bay at Bayou Vista           28.0   \n",
       "2   7/18/2018 8:12 am          Jones Bay at Tiki Tom's RV Park           28.0   \n",
       "3   7/17/2018 8:00 am  Clear Lake at Watergate Yachting Center           27.0   \n",
       "\n",
       "   Water Temp (°C)  Dissolved Oxygen (mg/L)   pH  Salinity (ppt)  Enterococcus  \n",
       "0             28.0                      5.6  8.0           14.10           1.0  \n",
       "1             29.5                      3.4  8.0           23.60          20.0  \n",
       "2             28.5                      4.0  8.0           28.60          10.0  \n",
       "3             29.0                      3.8  8.6           10.95           1.0  "
      ]
     },
     "execution_count": 2,
     "metadata": {},
     "output_type": "execute_result"
    }
   ],
   "source": [
    "bay_data_germs = (pd.read_csv(\"Galveston Bay Foundation Data_20190516.csv\")\n",
    "                  .dropna(how='any') # only keep with enterococcus readings (also keeps highest-quality data)\n",
    "                  .reset_index(inplace = False, drop = True))\n",
    "bay_data_germs.head(4)"
   ]
  },
  {
   "cell_type": "code",
   "execution_count": 3,
   "metadata": {},
   "outputs": [
    {
     "data": {
      "text/html": [
       "<div>\n",
       "<style scoped>\n",
       "    .dataframe tbody tr th:only-of-type {\n",
       "        vertical-align: middle;\n",
       "    }\n",
       "\n",
       "    .dataframe tbody tr th {\n",
       "        vertical-align: top;\n",
       "    }\n",
       "\n",
       "    .dataframe thead th {\n",
       "        text-align: right;\n",
       "    }\n",
       "</style>\n",
       "<table border=\"1\" class=\"dataframe\">\n",
       "  <thead>\n",
       "    <tr style=\"text-align: right;\">\n",
       "      <th></th>\n",
       "      <th>Area</th>\n",
       "      <th>Air Temp (°C)</th>\n",
       "      <th>Water Temp (°C)</th>\n",
       "      <th>Dissolved Oxygen (mg/L)</th>\n",
       "      <th>pH</th>\n",
       "      <th>Salinity (ppt)</th>\n",
       "      <th>Enterococcus</th>\n",
       "      <th>Decimal_Date</th>\n",
       "    </tr>\n",
       "  </thead>\n",
       "  <tbody>\n",
       "    <tr>\n",
       "      <th>0</th>\n",
       "      <td>Galveston Bay at Shoreacres Pier</td>\n",
       "      <td>27.0</td>\n",
       "      <td>28.0</td>\n",
       "      <td>5.6</td>\n",
       "      <td>8.0</td>\n",
       "      <td>14.10</td>\n",
       "      <td>1.0</td>\n",
       "      <td>2018.635388</td>\n",
       "    </tr>\n",
       "    <tr>\n",
       "      <th>1</th>\n",
       "      <td>Jones Bay at Bayou Vista</td>\n",
       "      <td>28.0</td>\n",
       "      <td>29.5</td>\n",
       "      <td>3.4</td>\n",
       "      <td>8.0</td>\n",
       "      <td>23.60</td>\n",
       "      <td>20.0</td>\n",
       "      <td>2018.632648</td>\n",
       "    </tr>\n",
       "    <tr>\n",
       "      <th>2</th>\n",
       "      <td>Jones Bay at Tiki Tom's RV Park</td>\n",
       "      <td>28.0</td>\n",
       "      <td>28.5</td>\n",
       "      <td>4.0</td>\n",
       "      <td>8.0</td>\n",
       "      <td>28.60</td>\n",
       "      <td>10.0</td>\n",
       "      <td>2018.632648</td>\n",
       "    </tr>\n",
       "    <tr>\n",
       "      <th>3</th>\n",
       "      <td>Clear Lake at Watergate Yachting Center</td>\n",
       "      <td>27.0</td>\n",
       "      <td>29.0</td>\n",
       "      <td>3.8</td>\n",
       "      <td>8.6</td>\n",
       "      <td>10.95</td>\n",
       "      <td>1.0</td>\n",
       "      <td>2018.629909</td>\n",
       "    </tr>\n",
       "  </tbody>\n",
       "</table>\n",
       "</div>"
      ],
      "text/plain": [
       "                                      Area  Air Temp (°C)  Water Temp (°C)  \\\n",
       "0         Galveston Bay at Shoreacres Pier           27.0             28.0   \n",
       "1                 Jones Bay at Bayou Vista           28.0             29.5   \n",
       "2          Jones Bay at Tiki Tom's RV Park           28.0             28.5   \n",
       "3  Clear Lake at Watergate Yachting Center           27.0             29.0   \n",
       "\n",
       "   Dissolved Oxygen (mg/L)   pH  Salinity (ppt)  Enterococcus  Decimal_Date  \n",
       "0                      5.6  8.0           14.10           1.0   2018.635388  \n",
       "1                      3.4  8.0           23.60          20.0   2018.632648  \n",
       "2                      4.0  8.0           28.60          10.0   2018.632648  \n",
       "3                      3.8  8.6           10.95           1.0   2018.629909  "
      ]
     },
     "execution_count": 3,
     "metadata": {},
     "output_type": "execute_result"
    }
   ],
   "source": [
    "bay_data_germs['Date'] =  pd.to_datetime(bay_data_germs['Date'])\n",
    "bay_data_germs['Year'] = bay_data_germs['Date'].dt.year\n",
    "bay_data_germs['Month'] = bay_data_germs['Date'].dt.month\n",
    "bay_data_germs['Day'] = bay_data_germs['Date'].dt.day\n",
    "bay_data_germs['Decimal_Date'] = (bay_data_germs['Year'] + \n",
    "                                  bay_data_germs['Month'] / 12 + \n",
    "                                  bay_data_germs['Day'] / 365)\n",
    "bay_data_germs = bay_data_germs[['Area', 'Air Temp (°C)', 'Water Temp (°C)', 'Dissolved Oxygen (mg/L)', \n",
    "                                 'pH', 'Salinity (ppt)', 'Enterococcus', 'Decimal_Date']]\n",
    "bay_data_germs.head(4)"
   ]
  },
  {
   "cell_type": "code",
   "execution_count": 4,
   "metadata": {},
   "outputs": [
    {
     "data": {
      "image/png": "[encoded data removed]",
      "text/plain": [
       "<Figure size 432x288 with 1 Axes>"
      ]
     },
     "metadata": {
      "needs_background": "light"
     },
     "output_type": "display_data"
    }
   ],
   "source": [
    "plt.plot(bay_data_germs.loc[(bay_data_germs['Decimal_Date'] >= 2017.0) & \n",
    "                            (bay_data_germs['Decimal_Date'] < 2018.0)]['Decimal_Date'],\n",
    "         bay_data_germs.loc[(bay_data_germs['Decimal_Date'] >= 2017.0) & \n",
    "                            (bay_data_germs['Decimal_Date'] < 2018.0)]['Enterococcus'], \n",
    "         label = 'Enterococcus',\n",
    "         linestyle = 'None', marker = '.')\n",
    "plt.plot([2017 + 8/12+30/265 for i in range(2)],\n",
    "         [0, np.max(bay_data_germs.loc[(bay_data_germs['Decimal_Date'] >= 2017.0) & \n",
    "                                       (bay_data_germs['Decimal_Date'] < 2018.0)]['Enterococcus'])],\n",
    "         label = 'Hurricane Harvey',\n",
    "         linestyle = '-', color = 'r')\n",
    "plt.xlabel('Year')\n",
    "plt.ylabel('Enterococcus')\n",
    "plt.title('Fecal Bacteria not apparently trending with hurricane Harvey')\n",
    "plt.legend()\n",
    "plt.show()"
   ]
  },
  {
   "cell_type": "code",
   "execution_count": 5,
   "metadata": {},
   "outputs": [
    {
     "data": {
      "image/png": "[encoded data removed]",
      "text/plain": [
       "<Figure size 432x288 with 1 Axes>"
      ]
     },
     "metadata": {
      "needs_background": "light"
     },
     "output_type": "display_data"
    }
   ],
   "source": [
    "plt.plot(bay_data_germs['Decimal_Date'], \n",
    "         bay_data_germs['Enterococcus'], \n",
    "         label = 'Enterococcus',\n",
    "         linestyle = 'None', marker = '.')\n",
    "plt.plot([2017 + 8/12+30/265 for i in range(2)],\n",
    "         [0, np.max(bay_data_germs.loc[(bay_data_germs['Decimal_Date'] >= 2017.0) & \n",
    "                                       (bay_data_germs['Decimal_Date'] < 2018.0)]['Enterococcus'])],\n",
    "         label = 'Hurricane Harvey',\n",
    "         linestyle = '-', color = 'r')\n",
    "plt.xlabel('Year')\n",
    "plt.ylabel('Enterococcus')\n",
    "plt.title('Longer-Term Fecal Bacteria Trends: Increase First Half 2018')\n",
    "plt.legend()\n",
    "plt.show()"
   ]
  },
  {
   "cell_type": "code",
   "execution_count": 6,
   "metadata": {},
   "outputs": [
    {
     "data": {
      "image/png": "[encoded data removed]",
      "text/plain": [
       "<Figure size 432x288 with 1 Axes>"
      ]
     },
     "metadata": {
      "needs_background": "light"
     },
     "output_type": "display_data"
    }
   ],
   "source": [
    "plt.plot(bay_data_germs.loc[(bay_data_germs['Decimal_Date'] >= 2017.0) & \n",
    "                            (bay_data_germs['Decimal_Date'] < 2018.0)]['Decimal_Date'],\n",
    "         bay_data_germs.loc[(bay_data_germs['Decimal_Date'] >= 2017.0) & \n",
    "                            (bay_data_germs['Decimal_Date'] < 2018.0)]['Salinity (ppt)'], \n",
    "         label = 'Salinity (ppt)',\n",
    "         linestyle = 'None', marker = '.')\n",
    "plt.plot([2017 + 8/12+30/265 for i in range(2)],\n",
    "         [0, np.max(bay_data_germs.loc[(bay_data_germs['Decimal_Date'] >= 2017.0) &\n",
    "                                       (bay_data_germs['Decimal_Date'] < 2018.0)]['Salinity (ppt)'])],\n",
    "         label = 'Hurricane Harvey',\n",
    "         linestyle = '-', color = 'r')\n",
    "plt.xlabel('Year')\n",
    "plt.ylabel('Salinity')\n",
    "plt.title('Hurricane Harvey reduced Galveston Bay salinity')\n",
    "plt.legend()\n",
    "plt.show()"
   ]
  },
  {
   "cell_type": "code",
   "execution_count": 7,
   "metadata": {},
   "outputs": [
    {
     "data": {
      "image/png": "[encoded data removed]",
      "text/plain": [
       "<Figure size 432x288 with 1 Axes>"
      ]
     },
     "metadata": {
      "needs_background": "light"
     },
     "output_type": "display_data"
    }
   ],
   "source": [
    "plt.plot(bay_data_germs.loc[(bay_data_germs['Decimal_Date'] >= 2017.0) & \n",
    "                            (bay_data_germs['Decimal_Date'] < 2018.0)]['Decimal_Date'], \n",
    "         bay_data_germs.loc[(bay_data_germs['Decimal_Date'] >= 2017.0) & \n",
    "                            (bay_data_germs['Decimal_Date'] < 2018.0)]['pH'], \n",
    "         label = 'pH',\n",
    "         linestyle = 'None', marker = '.')\n",
    "plt.plot([2017 + 8/12+30/265 for i in range(2)],\n",
    "         [0, np.max(bay_data_germs.loc[(bay_data_germs['Decimal_Date'] >= 2017.0) &\n",
    "                                       (bay_data_germs['Decimal_Date'] < 2018.0)]['pH'])],\n",
    "         label = 'Hurricane Harvey',\n",
    "         linestyle = '-', color = 'r')\n",
    "plt.xlabel('Year')\n",
    "plt.ylabel('pH')\n",
    "plt.title('pH')\n",
    "plt.legend()\n",
    "plt.show()"
   ]
  },
  {
   "cell_type": "code",
   "execution_count": 8,
   "metadata": {},
   "outputs": [
    {
     "data": {
      "image/png": "[encoded data removed]",
      "text/plain": [
       "<Figure size 432x288 with 1 Axes>"
      ]
     },
     "metadata": {
      "needs_background": "light"
     },
     "output_type": "display_data"
    }
   ],
   "source": [
    "plt.plot(bay_data_germs.loc[(bay_data_germs['Decimal_Date'] >= 2017.0) & \n",
    "                            (bay_data_germs['Decimal_Date'] < 2018.0)]['Decimal_Date'], \n",
    "         bay_data_germs.loc[(bay_data_germs['Decimal_Date'] >= 2017.0) & \n",
    "                            (bay_data_germs['Decimal_Date'] < 2018.0)]['Dissolved Oxygen (mg/L)'], \n",
    "         label = 'Dissolved Oxygen',\n",
    "         linestyle = 'None', marker = '.')\n",
    "plt.plot([2017 + 8/12+30/265 for i in range(2)],\n",
    "         [0, np.max(bay_data_germs.loc[(bay_data_germs['Decimal_Date'] >= 2017.0) &\n",
    "                                       (bay_data_germs['Decimal_Date'] < 2018.0)]['Dissolved Oxygen (mg/L)'])],\n",
    "         label = 'Hurricane Harvey',\n",
    "         linestyle = '-', color = 'r')\n",
    "plt.xlabel('Year')\n",
    "plt.ylabel('Dissolved Oxygen (mg/L)')\n",
    "plt.title('Dissolved Oxygen High during Hurricane Harvey')\n",
    "plt.legend()\n",
    "plt.show()"
   ]
  },
  {
   "cell_type": "markdown",
   "metadata": {},
   "source": [
    "Dissolved oxygen trends with seasonal temperatures.\n",
    "<br>Gas solubility in liquid decreases with temperature increase (Henry's law)."
   ]
  },
  {
   "cell_type": "markdown",
   "metadata": {},
   "source": [
    "## Section 2: Add rainfall data from Houston Hobby Airport\n",
    "PRCP documentation\n",
    "<br>https://www1.ncdc.noaa.gov/pub/data/cdo/documentation/GHCND_documentation.pdf"
   ]
  },
  {
   "cell_type": "code",
   "execution_count": 9,
   "metadata": {},
   "outputs": [
    {
     "data": {
      "text/html": [
       "<div>\n",
       "<style scoped>\n",
       "    .dataframe tbody tr th:only-of-type {\n",
       "        vertical-align: middle;\n",
       "    }\n",
       "\n",
       "    .dataframe tbody tr th {\n",
       "        vertical-align: top;\n",
       "    }\n",
       "\n",
       "    .dataframe thead th {\n",
       "        text-align: right;\n",
       "    }\n",
       "</style>\n",
       "<table border=\"1\" class=\"dataframe\">\n",
       "  <thead>\n",
       "    <tr style=\"text-align: right;\">\n",
       "      <th></th>\n",
       "      <th>STATION</th>\n",
       "      <th>NAME</th>\n",
       "      <th>DATE</th>\n",
       "      <th>PRCP</th>\n",
       "      <th>week_rolling_avg_PRCP</th>\n",
       "    </tr>\n",
       "  </thead>\n",
       "  <tbody>\n",
       "    <tr>\n",
       "      <th>0</th>\n",
       "      <td>USW00012918</td>\n",
       "      <td>HOUSTON WILLIAM P HOBBY AIRPORT, TX US</td>\n",
       "      <td>2008-01-01</td>\n",
       "      <td>0.0</td>\n",
       "      <td>0.0</td>\n",
       "    </tr>\n",
       "    <tr>\n",
       "      <th>1</th>\n",
       "      <td>USW00012918</td>\n",
       "      <td>HOUSTON WILLIAM P HOBBY AIRPORT, TX US</td>\n",
       "      <td>2008-01-02</td>\n",
       "      <td>0.0</td>\n",
       "      <td>0.0</td>\n",
       "    </tr>\n",
       "    <tr>\n",
       "      <th>2</th>\n",
       "      <td>USW00012918</td>\n",
       "      <td>HOUSTON WILLIAM P HOBBY AIRPORT, TX US</td>\n",
       "      <td>2008-01-03</td>\n",
       "      <td>0.0</td>\n",
       "      <td>0.0</td>\n",
       "    </tr>\n",
       "  </tbody>\n",
       "</table>\n",
       "</div>"
      ],
      "text/plain": [
       "       STATION                                    NAME        DATE  PRCP  \\\n",
       "0  USW00012918  HOUSTON WILLIAM P HOBBY AIRPORT, TX US  2008-01-01   0.0   \n",
       "1  USW00012918  HOUSTON WILLIAM P HOBBY AIRPORT, TX US  2008-01-02   0.0   \n",
       "2  USW00012918  HOUSTON WILLIAM P HOBBY AIRPORT, TX US  2008-01-03   0.0   \n",
       "\n",
       "   week_rolling_avg_PRCP  \n",
       "0                    0.0  \n",
       "1                    0.0  \n",
       "2                    0.0  "
      ]
     },
     "execution_count": 9,
     "metadata": {},
     "output_type": "execute_result"
    }
   ],
   "source": [
    "rain_data = pd.read_csv('hobby weather 1.csv')\n",
    "rain_data['week_rolling_avg_PRCP'] = rain_data['PRCP'].rolling(window = 7,\n",
    "                                                               min_periods = 1).mean()\n",
    " \n",
    "rain_data.head(3)"
   ]
  },
  {
   "cell_type": "code",
   "execution_count": 10,
   "metadata": {},
   "outputs": [
    {
     "data": {
      "text/plain": [
       "12.07"
      ]
     },
     "execution_count": 10,
     "metadata": {},
     "output_type": "execute_result"
    }
   ],
   "source": [
    "np.max(rain_data['PRCP'])"
   ]
  },
  {
   "cell_type": "code",
   "execution_count": 11,
   "metadata": {},
   "outputs": [
    {
     "data": {
      "text/html": [
       "<div>\n",
       "<style scoped>\n",
       "    .dataframe tbody tr th:only-of-type {\n",
       "        vertical-align: middle;\n",
       "    }\n",
       "\n",
       "    .dataframe tbody tr th {\n",
       "        vertical-align: top;\n",
       "    }\n",
       "\n",
       "    .dataframe thead th {\n",
       "        text-align: right;\n",
       "    }\n",
       "</style>\n",
       "<table border=\"1\" class=\"dataframe\">\n",
       "  <thead>\n",
       "    <tr style=\"text-align: right;\">\n",
       "      <th></th>\n",
       "      <th>Decimal_Date</th>\n",
       "      <th>PRCP</th>\n",
       "      <th>week_rolling_avg_PRCP</th>\n",
       "    </tr>\n",
       "  </thead>\n",
       "  <tbody>\n",
       "    <tr>\n",
       "      <th>0</th>\n",
       "      <td>2008.086073</td>\n",
       "      <td>0.0</td>\n",
       "      <td>0.0</td>\n",
       "    </tr>\n",
       "    <tr>\n",
       "      <th>1</th>\n",
       "      <td>2008.088813</td>\n",
       "      <td>0.0</td>\n",
       "      <td>0.0</td>\n",
       "    </tr>\n",
       "    <tr>\n",
       "      <th>2</th>\n",
       "      <td>2008.091553</td>\n",
       "      <td>0.0</td>\n",
       "      <td>0.0</td>\n",
       "    </tr>\n",
       "    <tr>\n",
       "      <th>3</th>\n",
       "      <td>2008.094292</td>\n",
       "      <td>0.0</td>\n",
       "      <td>0.0</td>\n",
       "    </tr>\n",
       "  </tbody>\n",
       "</table>\n",
       "</div>"
      ],
      "text/plain": [
       "   Decimal_Date  PRCP  week_rolling_avg_PRCP\n",
       "0   2008.086073   0.0                    0.0\n",
       "1   2008.088813   0.0                    0.0\n",
       "2   2008.091553   0.0                    0.0\n",
       "3   2008.094292   0.0                    0.0"
      ]
     },
     "execution_count": 11,
     "metadata": {},
     "output_type": "execute_result"
    }
   ],
   "source": [
    "rain_data = rain_data[['DATE', 'PRCP', 'week_rolling_avg_PRCP']]\n",
    "rain_data['DATE'] = pd.to_datetime(rain_data['DATE'])\n",
    "\n",
    "rain_data['Year'] = rain_data['DATE'].dt.year\n",
    "rain_data['Month'] = rain_data['DATE'].dt.month\n",
    "rain_data['Day'] = rain_data['DATE'].dt.day\n",
    "rain_data['Decimal_Date'] = rain_data['Year'] + rain_data['Month'] / 12 + rain_data['Day'] / 365\n",
    "rain_data = rain_data[['Decimal_Date', 'PRCP', 'week_rolling_avg_PRCP']]\n",
    "\n",
    "rain_data.head(4)"
   ]
  },
  {
   "cell_type": "code",
   "execution_count": 12,
   "metadata": {},
   "outputs": [
    {
     "data": {
      "text/html": [
       "<div>\n",
       "<style scoped>\n",
       "    .dataframe tbody tr th:only-of-type {\n",
       "        vertical-align: middle;\n",
       "    }\n",
       "\n",
       "    .dataframe tbody tr th {\n",
       "        vertical-align: top;\n",
       "    }\n",
       "\n",
       "    .dataframe thead th {\n",
       "        text-align: right;\n",
       "    }\n",
       "</style>\n",
       "<table border=\"1\" class=\"dataframe\">\n",
       "  <thead>\n",
       "    <tr style=\"text-align: right;\">\n",
       "      <th></th>\n",
       "      <th>Area</th>\n",
       "      <th>Air Temp (°C)</th>\n",
       "      <th>Water Temp (°C)</th>\n",
       "      <th>Dissolved Oxygen (mg/L)</th>\n",
       "      <th>pH</th>\n",
       "      <th>Salinity (ppt)</th>\n",
       "      <th>Enterococcus</th>\n",
       "      <th>Decimal_Date</th>\n",
       "      <th>PRCP</th>\n",
       "      <th>week_rolling_avg_PRCP</th>\n",
       "    </tr>\n",
       "  </thead>\n",
       "  <tbody>\n",
       "    <tr>\n",
       "      <th>0</th>\n",
       "      <td>Galveston Bay at Shoreacres Pier</td>\n",
       "      <td>27.0</td>\n",
       "      <td>28.0</td>\n",
       "      <td>5.6</td>\n",
       "      <td>8.0</td>\n",
       "      <td>14.10</td>\n",
       "      <td>1.0</td>\n",
       "      <td>2018.635388</td>\n",
       "      <td>0.0</td>\n",
       "      <td>0.0</td>\n",
       "    </tr>\n",
       "    <tr>\n",
       "      <th>1</th>\n",
       "      <td>Jones Bay at Bayou Vista</td>\n",
       "      <td>28.0</td>\n",
       "      <td>29.5</td>\n",
       "      <td>3.4</td>\n",
       "      <td>8.0</td>\n",
       "      <td>23.60</td>\n",
       "      <td>20.0</td>\n",
       "      <td>2018.632648</td>\n",
       "      <td>0.0</td>\n",
       "      <td>0.0</td>\n",
       "    </tr>\n",
       "    <tr>\n",
       "      <th>2</th>\n",
       "      <td>Jones Bay at Tiki Tom's RV Park</td>\n",
       "      <td>28.0</td>\n",
       "      <td>28.5</td>\n",
       "      <td>4.0</td>\n",
       "      <td>8.0</td>\n",
       "      <td>28.60</td>\n",
       "      <td>10.0</td>\n",
       "      <td>2018.632648</td>\n",
       "      <td>0.0</td>\n",
       "      <td>0.0</td>\n",
       "    </tr>\n",
       "    <tr>\n",
       "      <th>3</th>\n",
       "      <td>Clear Lake at Watergate Yachting Center</td>\n",
       "      <td>27.0</td>\n",
       "      <td>29.0</td>\n",
       "      <td>3.8</td>\n",
       "      <td>8.6</td>\n",
       "      <td>10.95</td>\n",
       "      <td>1.0</td>\n",
       "      <td>2018.629909</td>\n",
       "      <td>0.0</td>\n",
       "      <td>0.0</td>\n",
       "    </tr>\n",
       "  </tbody>\n",
       "</table>\n",
       "</div>"
      ],
      "text/plain": [
       "                                      Area  Air Temp (°C)  Water Temp (°C)  \\\n",
       "0         Galveston Bay at Shoreacres Pier           27.0             28.0   \n",
       "1                 Jones Bay at Bayou Vista           28.0             29.5   \n",
       "2          Jones Bay at Tiki Tom's RV Park           28.0             28.5   \n",
       "3  Clear Lake at Watergate Yachting Center           27.0             29.0   \n",
       "\n",
       "   Dissolved Oxygen (mg/L)   pH  Salinity (ppt)  Enterococcus  Decimal_Date  \\\n",
       "0                      5.6  8.0           14.10           1.0   2018.635388   \n",
       "1                      3.4  8.0           23.60          20.0   2018.632648   \n",
       "2                      4.0  8.0           28.60          10.0   2018.632648   \n",
       "3                      3.8  8.6           10.95           1.0   2018.629909   \n",
       "\n",
       "   PRCP  week_rolling_avg_PRCP  \n",
       "0   0.0                    0.0  \n",
       "1   0.0                    0.0  \n",
       "2   0.0                    0.0  \n",
       "3   0.0                    0.0  "
      ]
     },
     "execution_count": 12,
     "metadata": {},
     "output_type": "execute_result"
    }
   ],
   "source": [
    "bay_data_germs = bay_data_germs.join(rain_data.set_index('Decimal_Date'), on = 'Decimal_Date')\n",
    "bay_data_germs.head(4)"
   ]
  },
  {
   "cell_type": "code",
   "execution_count": 13,
   "metadata": {},
   "outputs": [
    {
     "data": {
      "image/png": "[encoded data removed]",
      "text/plain": [
       "<Figure size 432x288 with 1 Axes>"
      ]
     },
     "metadata": {
      "needs_background": "light"
     },
     "output_type": "display_data"
    }
   ],
   "source": [
    "plt.plot([2017 + 8/12+30/265 for i in range(2)],\n",
    "         [0, np.max(bay_data_germs.loc[(bay_data_germs['Decimal_Date'] >= 2017.0) &\n",
    "                                       (bay_data_germs['Decimal_Date'] < 2018.0)]['PRCP'])],\n",
    "         linestyle = '-', color = 'r',\n",
    "        label = 'Precipitation')\n",
    "plt.plot(bay_data_germs.loc[(bay_data_germs['Decimal_Date'] >= 2017.0) & \n",
    "                            (bay_data_germs['Decimal_Date'] < 2018.0)]['Decimal_Date'],\n",
    "         bay_data_germs.loc[(bay_data_germs['Decimal_Date'] >= 2017.0) & \n",
    "                            (bay_data_germs['Decimal_Date'] < 2018.0)]['PRCP'],\n",
    "        linestyle = 'None', marker = '.', color = 'g',\n",
    "        label = 'Hurricane Harvey')\n",
    "plt.xlabel('Year')\n",
    "plt.ylabel('Inches per day')\n",
    "plt.title('Houston Hobby Precipitation not Catching Hurricane Harvey')\n",
    "plt.legend()\n",
    "plt.show()"
   ]
  },
  {
   "cell_type": "markdown",
   "metadata": {},
   "source": [
    "#### Does a weekly average feature better expose precipitation around Hurricane Harvey?"
   ]
  },
  {
   "cell_type": "code",
   "execution_count": 14,
   "metadata": {},
   "outputs": [
    {
     "data": {
      "image/png": "[encoded data removed]",
      "text/plain": [
       "<Figure size 432x288 with 1 Axes>"
      ]
     },
     "metadata": {
      "needs_background": "light"
     },
     "output_type": "display_data"
    }
   ],
   "source": [
    "plt.plot([2017 + 8/12+30/265 for i in range(2)],\n",
    "         [0, np.max(bay_data_germs.loc[(bay_data_germs['Decimal_Date'] >= 2017.0) & \n",
    "                                       (bay_data_germs['Decimal_Date'] < 2018.0)]['week_rolling_avg_PRCP'])],\n",
    "         linestyle = '-', color = 'r')\n",
    "plt.plot(bay_data_germs.loc[(bay_data_germs['Decimal_Date'] >= 2017.0) & \n",
    "                            (bay_data_germs['Decimal_Date'] < 2018.0)]['Decimal_Date'],\n",
    "         (bay_data_germs\n",
    "          .loc[(bay_data_germs['Decimal_Date'] >= 2017.0) & \n",
    "               (bay_data_germs['Decimal_Date'] < 2018.0)]\n",
    "          ['week_rolling_avg_PRCP']),\n",
    "        linestyle = 'None', marker = '.', color = 'g')\n",
    "plt.xlabel('Year')\n",
    "plt.ylabel('Inches per Day')\n",
    "plt.title('Houston Hobby Rolling Weekly Avg Daily Precipitation')\n",
    "plt.legend()\n",
    "plt.show()"
   ]
  },
  {
   "cell_type": "markdown",
   "metadata": {},
   "source": [
    "## Section 3: Buffalo Bayou water levels\n",
    "Data source:\n",
    "<br>https://waterdata.usgs.gov/usa/nwis/uv?site_no=08073700\n",
    "<br>TS   parameter     Description\n",
    "<br>        140428       00060     Discharge, cubic feet per second\n",
    "<br>        140429       00065     Gage height, feet, [Primary Sensor]\n",
    "\n",
    "Support link: groupby's in pandas\n",
    "<br>https://www.shanelynn.ie/summarising-aggregation-and-grouping-data-in-python-pandas/"
   ]
  },
  {
   "cell_type": "code",
   "execution_count": 15,
   "metadata": {},
   "outputs": [
    {
     "data": {
      "text/html": [
       "<div>\n",
       "<style scoped>\n",
       "    .dataframe tbody tr th:only-of-type {\n",
       "        vertical-align: middle;\n",
       "    }\n",
       "\n",
       "    .dataframe tbody tr th {\n",
       "        vertical-align: top;\n",
       "    }\n",
       "\n",
       "    .dataframe thead th {\n",
       "        text-align: right;\n",
       "    }\n",
       "</style>\n",
       "<table border=\"1\" class=\"dataframe\">\n",
       "  <thead>\n",
       "    <tr style=\"text-align: right;\">\n",
       "      <th></th>\n",
       "      <th>Date</th>\n",
       "      <th>Area</th>\n",
       "      <th>Air Temp (°C)</th>\n",
       "      <th>Water Temp (°C)</th>\n",
       "      <th>Dissolved Oxygen (mg/L)</th>\n",
       "      <th>pH</th>\n",
       "      <th>Salinity (ppt)</th>\n",
       "      <th>Enterococcus</th>\n",
       "    </tr>\n",
       "  </thead>\n",
       "  <tbody>\n",
       "    <tr>\n",
       "      <th>0</th>\n",
       "      <td>7/25/2018 12:24 pm</td>\n",
       "      <td>Clear Lake at Marina Del Sol</td>\n",
       "      <td>32.0</td>\n",
       "      <td>31.0</td>\n",
       "      <td>6.1</td>\n",
       "      <td>8.5</td>\n",
       "      <td>12.4</td>\n",
       "      <td>NaN</td>\n",
       "    </tr>\n",
       "    <tr>\n",
       "      <th>1</th>\n",
       "      <td>7/25/2018 8:55 am</td>\n",
       "      <td>Galveston Bay at Bayshore Park</td>\n",
       "      <td>29.5</td>\n",
       "      <td>27.5</td>\n",
       "      <td>4.1</td>\n",
       "      <td>8.3</td>\n",
       "      <td>16.5</td>\n",
       "      <td>NaN</td>\n",
       "    </tr>\n",
       "    <tr>\n",
       "      <th>2</th>\n",
       "      <td>7/25/2018 8:55 am</td>\n",
       "      <td>Galveston Bay at Bayshore Park</td>\n",
       "      <td>29.5</td>\n",
       "      <td>27.5</td>\n",
       "      <td>4.1</td>\n",
       "      <td>8.3</td>\n",
       "      <td>16.5</td>\n",
       "      <td>NaN</td>\n",
       "    </tr>\n",
       "    <tr>\n",
       "      <th>3</th>\n",
       "      <td>7/20/2018 4:55 pm</td>\n",
       "      <td>Clear Lake at Nassau Bay Upper Bay Road</td>\n",
       "      <td>38.0</td>\n",
       "      <td>34.0</td>\n",
       "      <td>9.6</td>\n",
       "      <td>8.7</td>\n",
       "      <td>5.2</td>\n",
       "      <td>NaN</td>\n",
       "    </tr>\n",
       "  </tbody>\n",
       "</table>\n",
       "</div>"
      ],
      "text/plain": [
       "                 Date                                     Area  Air Temp (°C)  \\\n",
       "0  7/25/2018 12:24 pm             Clear Lake at Marina Del Sol           32.0   \n",
       "1   7/25/2018 8:55 am           Galveston Bay at Bayshore Park           29.5   \n",
       "2   7/25/2018 8:55 am           Galveston Bay at Bayshore Park           29.5   \n",
       "3   7/20/2018 4:55 pm  Clear Lake at Nassau Bay Upper Bay Road           38.0   \n",
       "\n",
       "   Water Temp (°C)  Dissolved Oxygen (mg/L)   pH  Salinity (ppt)  Enterococcus  \n",
       "0             31.0                      6.1  8.5            12.4           NaN  \n",
       "1             27.5                      4.1  8.3            16.5           NaN  \n",
       "2             27.5                      4.1  8.3            16.5           NaN  \n",
       "3             34.0                      9.6  8.7             5.2           NaN  "
      ]
     },
     "execution_count": 15,
     "metadata": {},
     "output_type": "execute_result"
    }
   ],
   "source": [
    "### get the bay data for a northern location in the bay\n",
    "bay_data_buff_bayou = (pd.read_csv(\"Galveston Bay Foundation Data_20190516.csv\")\n",
    "                       .reset_index(inplace = False, drop = True))\n",
    "bay_data_buff_bayou.head(4)"
   ]
  },
  {
   "cell_type": "code",
   "execution_count": 16,
   "metadata": {
    "scrolled": true
   },
   "outputs": [],
   "source": [
    "#sorted(list(bay_data_buff_bayou['Area'].unique()))"
   ]
  },
  {
   "cell_type": "code",
   "execution_count": 17,
   "metadata": {
    "scrolled": true
   },
   "outputs": [
    {
     "data": {
      "text/html": [
       "<div>\n",
       "<style scoped>\n",
       "    .dataframe tbody tr th:only-of-type {\n",
       "        vertical-align: middle;\n",
       "    }\n",
       "\n",
       "    .dataframe tbody tr th {\n",
       "        vertical-align: top;\n",
       "    }\n",
       "\n",
       "    .dataframe thead th {\n",
       "        text-align: right;\n",
       "    }\n",
       "</style>\n",
       "<table border=\"1\" class=\"dataframe\">\n",
       "  <thead>\n",
       "    <tr style=\"text-align: right;\">\n",
       "      <th></th>\n",
       "      <th>Area</th>\n",
       "      <th>Air Temp (°C)</th>\n",
       "      <th>Water Temp (°C)</th>\n",
       "      <th>Dissolved Oxygen (mg/L)</th>\n",
       "      <th>pH</th>\n",
       "      <th>Salinity (ppt)</th>\n",
       "      <th>Enterococcus</th>\n",
       "      <th>Decimal_Date</th>\n",
       "    </tr>\n",
       "  </thead>\n",
       "  <tbody>\n",
       "    <tr>\n",
       "      <th>0</th>\n",
       "      <td>Clear Lake at Marina Del Sol</td>\n",
       "      <td>32.0</td>\n",
       "      <td>31.0</td>\n",
       "      <td>6.1</td>\n",
       "      <td>8.5</td>\n",
       "      <td>12.4</td>\n",
       "      <td>NaN</td>\n",
       "      <td>2018.651826</td>\n",
       "    </tr>\n",
       "    <tr>\n",
       "      <th>1</th>\n",
       "      <td>Galveston Bay at Bayshore Park</td>\n",
       "      <td>29.5</td>\n",
       "      <td>27.5</td>\n",
       "      <td>4.1</td>\n",
       "      <td>8.3</td>\n",
       "      <td>16.5</td>\n",
       "      <td>NaN</td>\n",
       "      <td>2018.651826</td>\n",
       "    </tr>\n",
       "    <tr>\n",
       "      <th>2</th>\n",
       "      <td>Galveston Bay at Bayshore Park</td>\n",
       "      <td>29.5</td>\n",
       "      <td>27.5</td>\n",
       "      <td>4.1</td>\n",
       "      <td>8.3</td>\n",
       "      <td>16.5</td>\n",
       "      <td>NaN</td>\n",
       "      <td>2018.651826</td>\n",
       "    </tr>\n",
       "    <tr>\n",
       "      <th>3</th>\n",
       "      <td>Clear Lake at Nassau Bay Upper Bay Road</td>\n",
       "      <td>38.0</td>\n",
       "      <td>34.0</td>\n",
       "      <td>9.6</td>\n",
       "      <td>8.7</td>\n",
       "      <td>5.2</td>\n",
       "      <td>NaN</td>\n",
       "      <td>2018.638128</td>\n",
       "    </tr>\n",
       "  </tbody>\n",
       "</table>\n",
       "</div>"
      ],
      "text/plain": [
       "                                      Area  Air Temp (°C)  Water Temp (°C)  \\\n",
       "0             Clear Lake at Marina Del Sol           32.0             31.0   \n",
       "1           Galveston Bay at Bayshore Park           29.5             27.5   \n",
       "2           Galveston Bay at Bayshore Park           29.5             27.5   \n",
       "3  Clear Lake at Nassau Bay Upper Bay Road           38.0             34.0   \n",
       "\n",
       "   Dissolved Oxygen (mg/L)   pH  Salinity (ppt)  Enterococcus  Decimal_Date  \n",
       "0                      6.1  8.5            12.4           NaN   2018.651826  \n",
       "1                      4.1  8.3            16.5           NaN   2018.651826  \n",
       "2                      4.1  8.3            16.5           NaN   2018.651826  \n",
       "3                      9.6  8.7             5.2           NaN   2018.638128  "
      ]
     },
     "execution_count": 17,
     "metadata": {},
     "output_type": "execute_result"
    }
   ],
   "source": [
    "bay_data_buff_bayou['Date'] =  pd.to_datetime(bay_data_buff_bayou['Date'])\n",
    "bay_data_buff_bayou['Year'] = bay_data_buff_bayou['Date'].dt.year\n",
    "bay_data_buff_bayou['Month'] = bay_data_buff_bayou['Date'].dt.month\n",
    "bay_data_buff_bayou['Day'] = bay_data_buff_bayou['Date'].dt.day\n",
    "bay_data_buff_bayou['Decimal_Date'] = (bay_data_buff_bayou['Year'] + \n",
    "                                       bay_data_buff_bayou['Month'] / 12 + \n",
    "                                       bay_data_buff_bayou['Day'] / 365)\n",
    "bay_data_buff_bayou = bay_data_buff_bayou[['Area', 'Air Temp (°C)', 'Water Temp (°C)', 'Dissolved Oxygen (mg/L)', \n",
    "                                           'pH', 'Salinity (ppt)', 'Enterococcus', 'Decimal_Date']]\n",
    "bay_data_buff_bayou.head(4)"
   ]
  },
  {
   "cell_type": "markdown",
   "metadata": {},
   "source": [
    "Remove bay samples far from buffalo bayou:"
   ]
  },
  {
   "cell_type": "code",
   "execution_count": 18,
   "metadata": {},
   "outputs": [],
   "source": [
    "bay_data_buff_bayou = (bay_data_buff_bayou[bay_data_buff_bayou['Area']\n",
    "                                           .str.contains(\"Christmas|East Bay|\\\n",
    "                                                         Eckert|Jones|West Bay|Trinity|Anahuac|\\\n",
    "                                                         Highland Bayou|Offatt|\\\n",
    "                                                         Swan\")==False])\n",
    "bay_data_buff_bayou = (bay_data_buff_bayou[bay_data_buff_bayou['Area']\n",
    "                                           .str.contains(\"Highland Bayou|Offatt|Swan Lake\")==False])\n",
    "#sorted(list(bay_data_buff_bayou['Area'].unique()))"
   ]
  },
  {
   "cell_type": "code",
   "execution_count": 19,
   "metadata": {},
   "outputs": [
    {
     "data": {
      "text/html": [
       "<div>\n",
       "<style scoped>\n",
       "    .dataframe tbody tr th:only-of-type {\n",
       "        vertical-align: middle;\n",
       "    }\n",
       "\n",
       "    .dataframe tbody tr th {\n",
       "        vertical-align: top;\n",
       "    }\n",
       "\n",
       "    .dataframe thead th {\n",
       "        text-align: right;\n",
       "    }\n",
       "</style>\n",
       "<table border=\"1\" class=\"dataframe\">\n",
       "  <thead>\n",
       "    <tr style=\"text-align: right;\">\n",
       "      <th></th>\n",
       "      <th>Discharge_cfpd</th>\n",
       "      <th>Gage_ht_ft</th>\n",
       "    </tr>\n",
       "    <tr>\n",
       "      <th>Decimal_Date</th>\n",
       "      <th></th>\n",
       "      <th></th>\n",
       "    </tr>\n",
       "  </thead>\n",
       "  <tbody>\n",
       "    <tr>\n",
       "      <th>2009.086073</th>\n",
       "      <td>94.188542</td>\n",
       "      <td>28.486250</td>\n",
       "    </tr>\n",
       "    <tr>\n",
       "      <th>2009.088813</th>\n",
       "      <td>91.780208</td>\n",
       "      <td>28.454583</td>\n",
       "    </tr>\n",
       "    <tr>\n",
       "      <th>2009.091553</th>\n",
       "      <td>88.593750</td>\n",
       "      <td>28.412292</td>\n",
       "    </tr>\n",
       "    <tr>\n",
       "      <th>2009.094292</th>\n",
       "      <td>87.441667</td>\n",
       "      <td>28.396146</td>\n",
       "    </tr>\n",
       "  </tbody>\n",
       "</table>\n",
       "</div>"
      ],
      "text/plain": [
       "              Discharge_cfpd  Gage_ht_ft\n",
       "Decimal_Date                            \n",
       "2009.086073        94.188542   28.486250\n",
       "2009.088813        91.780208   28.454583\n",
       "2009.091553        88.593750   28.412292\n",
       "2009.094292        87.441667   28.396146"
      ]
     },
     "execution_count": 19,
     "metadata": {},
     "output_type": "execute_result"
    }
   ],
   "source": [
    "buff_bayou = pd.read_csv('buffalo bayou 1.txt', sep = '\\t', skiprows = [1])\n",
    "buff_bayou.rename(columns={'140428_00060': 'Discharge_cfpd', '140429_00065': 'Gage_ht_ft'}, inplace=True)\n",
    "\n",
    "buff_bayou['datetime'] = pd.to_datetime(buff_bayou['datetime'])\n",
    "\n",
    "buff_bayou['Year'] = buff_bayou['datetime'].dt.year\n",
    "buff_bayou['Month'] = buff_bayou['datetime'].dt.month\n",
    "buff_bayou['Day'] = buff_bayou['datetime'].dt.day\n",
    "buff_bayou['Decimal_Date'] = buff_bayou['Year'] + buff_bayou['Month'] / 12 + buff_bayou['Day'] / 365\n",
    "\n",
    "buff_bayou = buff_bayou[['Decimal_Date', 'Discharge_cfpd', 'Gage_ht_ft']]\n",
    "\n",
    "buff_bayou = buff_bayou.groupby('Decimal_Date')[['Discharge_cfpd', 'Gage_ht_ft']].mean()\n",
    "\n",
    "buff_bayou.head(4)"
   ]
  },
  {
   "cell_type": "code",
   "execution_count": 20,
   "metadata": {},
   "outputs": [
    {
     "data": {
      "text/html": [
       "<div>\n",
       "<style scoped>\n",
       "    .dataframe tbody tr th:only-of-type {\n",
       "        vertical-align: middle;\n",
       "    }\n",
       "\n",
       "    .dataframe tbody tr th {\n",
       "        vertical-align: top;\n",
       "    }\n",
       "\n",
       "    .dataframe thead th {\n",
       "        text-align: right;\n",
       "    }\n",
       "</style>\n",
       "<table border=\"1\" class=\"dataframe\">\n",
       "  <thead>\n",
       "    <tr style=\"text-align: right;\">\n",
       "      <th></th>\n",
       "      <th>Area</th>\n",
       "      <th>Air Temp (°C)</th>\n",
       "      <th>Water Temp (°C)</th>\n",
       "      <th>Dissolved Oxygen (mg/L)</th>\n",
       "      <th>pH</th>\n",
       "      <th>Salinity (ppt)</th>\n",
       "      <th>Enterococcus</th>\n",
       "      <th>Decimal_Date</th>\n",
       "      <th>Discharge_cfpd</th>\n",
       "      <th>Gage_ht_ft</th>\n",
       "    </tr>\n",
       "  </thead>\n",
       "  <tbody>\n",
       "    <tr>\n",
       "      <th>0</th>\n",
       "      <td>Clear Lake at Marina Del Sol</td>\n",
       "      <td>32.0</td>\n",
       "      <td>31.0</td>\n",
       "      <td>6.1</td>\n",
       "      <td>8.5</td>\n",
       "      <td>12.4</td>\n",
       "      <td>NaN</td>\n",
       "      <td>2018.651826</td>\n",
       "      <td>96.297917</td>\n",
       "      <td>28.021042</td>\n",
       "    </tr>\n",
       "    <tr>\n",
       "      <th>1</th>\n",
       "      <td>Galveston Bay at Bayshore Park</td>\n",
       "      <td>29.5</td>\n",
       "      <td>27.5</td>\n",
       "      <td>4.1</td>\n",
       "      <td>8.3</td>\n",
       "      <td>16.5</td>\n",
       "      <td>NaN</td>\n",
       "      <td>2018.651826</td>\n",
       "      <td>96.297917</td>\n",
       "      <td>28.021042</td>\n",
       "    </tr>\n",
       "    <tr>\n",
       "      <th>2</th>\n",
       "      <td>Galveston Bay at Bayshore Park</td>\n",
       "      <td>29.5</td>\n",
       "      <td>27.5</td>\n",
       "      <td>4.1</td>\n",
       "      <td>8.3</td>\n",
       "      <td>16.5</td>\n",
       "      <td>NaN</td>\n",
       "      <td>2018.651826</td>\n",
       "      <td>96.297917</td>\n",
       "      <td>28.021042</td>\n",
       "    </tr>\n",
       "    <tr>\n",
       "      <th>3</th>\n",
       "      <td>Clear Lake at Nassau Bay Upper Bay Road</td>\n",
       "      <td>38.0</td>\n",
       "      <td>34.0</td>\n",
       "      <td>9.6</td>\n",
       "      <td>8.7</td>\n",
       "      <td>5.2</td>\n",
       "      <td>NaN</td>\n",
       "      <td>2018.638128</td>\n",
       "      <td>108.083333</td>\n",
       "      <td>28.157500</td>\n",
       "    </tr>\n",
       "  </tbody>\n",
       "</table>\n",
       "</div>"
      ],
      "text/plain": [
       "                                      Area  Air Temp (°C)  Water Temp (°C)  \\\n",
       "0             Clear Lake at Marina Del Sol           32.0             31.0   \n",
       "1           Galveston Bay at Bayshore Park           29.5             27.5   \n",
       "2           Galveston Bay at Bayshore Park           29.5             27.5   \n",
       "3  Clear Lake at Nassau Bay Upper Bay Road           38.0             34.0   \n",
       "\n",
       "   Dissolved Oxygen (mg/L)   pH  Salinity (ppt)  Enterococcus  Decimal_Date  \\\n",
       "0                      6.1  8.5            12.4           NaN   2018.651826   \n",
       "1                      4.1  8.3            16.5           NaN   2018.651826   \n",
       "2                      4.1  8.3            16.5           NaN   2018.651826   \n",
       "3                      9.6  8.7             5.2           NaN   2018.638128   \n",
       "\n",
       "   Discharge_cfpd  Gage_ht_ft  \n",
       "0       96.297917   28.021042  \n",
       "1       96.297917   28.021042  \n",
       "2       96.297917   28.021042  \n",
       "3      108.083333   28.157500  "
      ]
     },
     "execution_count": 20,
     "metadata": {},
     "output_type": "execute_result"
    }
   ],
   "source": [
    "bay_data_buff_bayou = bay_data_buff_bayou.join(buff_bayou, on = 'Decimal_Date')\n",
    "bay_data_buff_bayou.head(4)"
   ]
  },
  {
   "cell_type": "markdown",
   "metadata": {},
   "source": [
    "#### Buffalo Bayou gauge does a good job of capturing Hurricane Harvey."
   ]
  },
  {
   "cell_type": "code",
   "execution_count": 21,
   "metadata": {},
   "outputs": [
    {
     "data": {
      "image/png": "[encoded data removed]",
      "text/plain": [
       "<Figure size 432x288 with 1 Axes>"
      ]
     },
     "metadata": {
      "needs_background": "light"
     },
     "output_type": "display_data"
    }
   ],
   "source": [
    "plt.plot([2017 + 8/12+30/265 for i in range(2)],\n",
    "         [0, np.max(bay_data_buff_bayou.loc[(bay_data_buff_bayou['Decimal_Date'] >= 2017.0) & \n",
    "                                            (bay_data_buff_bayou['Decimal_Date'] < 2018.0)]['Discharge_cfpd'])],\n",
    "         linestyle = '-', color = 'r')\n",
    "plt.plot(bay_data_buff_bayou.loc[(bay_data_buff_bayou['Decimal_Date'] >= 2017.0) & \n",
    "                                 (bay_data_buff_bayou['Decimal_Date'] < 2018.0)]['Decimal_Date'],\n",
    "         (bay_data_buff_bayou\n",
    "          .loc[(bay_data_buff_bayou['Decimal_Date'] >= 2017.0) & \n",
    "               (bay_data_buff_bayou['Decimal_Date'] < 2018.0)]\n",
    "          ['Discharge_cfpd']),\n",
    "        linestyle = 'None', marker = '.', color = 'g',\n",
    "        label = 'Hurricane Harvey')\n",
    "plt.xlabel('Year')\n",
    "plt.ylabel('Discharge_cfpd')\n",
    "plt.title('Buffalo Bayou Discharge Volume CF per Day')\n",
    "plt.legend()\n",
    "plt.show()"
   ]
  },
  {
   "cell_type": "code",
   "execution_count": 22,
   "metadata": {},
   "outputs": [
    {
     "data": {
      "image/png": "[encoded data removed]",
      "text/plain": [
       "<Figure size 432x288 with 1 Axes>"
      ]
     },
     "metadata": {
      "needs_background": "light"
     },
     "output_type": "display_data"
    }
   ],
   "source": [
    "plt.plot([2017 + 8/12+30/265 for i in range(2)],\n",
    "         [0, np.max(bay_data_buff_bayou.loc[(bay_data_buff_bayou['Decimal_Date'] >= 2017.0) &\n",
    "                                            (bay_data_buff_bayou['Decimal_Date'] < 2018.0)]['Gage_ht_ft'])],\n",
    "         linestyle = '-', color = 'r')\n",
    "plt.plot(bay_data_buff_bayou.loc[(bay_data_buff_bayou['Decimal_Date'] >= 2017.0) & \n",
    "                                 (bay_data_buff_bayou['Decimal_Date'] < 2018.0)]['Decimal_Date'],\n",
    "         (bay_data_buff_bayou\n",
    "          .loc[(bay_data_buff_bayou['Decimal_Date'] >= 2017.0) & \n",
    "               (bay_data_buff_bayou['Decimal_Date'] < 2018.0)]\n",
    "          ['Gage_ht_ft']),\n",
    "        linestyle = 'None', marker = '.', color = 'g',\n",
    "        label = 'Hurricane Harvey')\n",
    "plt.xlabel('Year')\n",
    "plt.ylabel('Gage_ht_ft')\n",
    "plt.title('Buffalo Bayou Gage Height Feet')\n",
    "plt.legend()\n",
    "plt.show()"
   ]
  },
  {
   "cell_type": "markdown",
   "metadata": {},
   "source": [
    "Salinity and gauge data both correlate with Hurricane Harvey.\n",
    "<br>Crossplot those features."
   ]
  },
  {
   "cell_type": "code",
   "execution_count": 23,
   "metadata": {},
   "outputs": [
    {
     "data": {
      "image/png": "[encoded data removed]",
      "text/plain": [
       "<Figure size 432x288 with 1 Axes>"
      ]
     },
     "metadata": {
      "needs_background": "light"
     },
     "output_type": "display_data"
    }
   ],
   "source": [
    "plt.plot((bay_data_buff_bayou.loc[(bay_data_buff_bayou['Decimal_Date'] >= 2017.0) & \n",
    "                                  (bay_data_buff_bayou['Decimal_Date'] < 2018.0)]\n",
    "          ['Salinity (ppt)']),\n",
    "         (bay_data_buff_bayou\n",
    "          .loc[(bay_data_buff_bayou['Decimal_Date'] >= 2017.0) & \n",
    "               (bay_data_buff_bayou['Decimal_Date'] < 2018.0)]\n",
    "          ['Gage_ht_ft']),\n",
    "        linestyle = 'None', marker = '.', color = 'g')\n",
    "plt.xlabel('Salinity')\n",
    "plt.ylabel('Gage_ht_ft')\n",
    "plt.title('Buffalo Bayou Gage Height vs. Salinity Trend')\n",
    "plt.legend()\n",
    "plt.show()"
   ]
  },
  {
   "cell_type": "code",
   "execution_count": 24,
   "metadata": {},
   "outputs": [
    {
     "data": {
      "image/png": "[encoded data removed]",
      "text/plain": [
       "<Figure size 432x288 with 1 Axes>"
      ]
     },
     "metadata": {
      "needs_background": "light"
     },
     "output_type": "display_data"
    }
   ],
   "source": [
    "plt.plot((bay_data_buff_bayou.loc[(bay_data_buff_bayou['Decimal_Date'] >= 2017.0) & \n",
    "                                  (bay_data_buff_bayou['Decimal_Date'] < 2018.0)]\n",
    "          ['Salinity (ppt)']),\n",
    "         (bay_data_buff_bayou\n",
    "          .loc[(bay_data_buff_bayou['Decimal_Date'] >= 2017.0) & \n",
    "               (bay_data_buff_bayou['Decimal_Date'] < 2018.0)]\n",
    "          ['Discharge_cfpd']),\n",
    "        linestyle = 'None', marker = '.', color = 'g')\n",
    "plt.xlabel('Salinity')\n",
    "plt.ylabel('Discharge_cfpd')\n",
    "plt.title('Buffalo Bayou Discharge Rate vs. Salinity Trend')\n",
    "plt.legend()\n",
    "plt.show()"
   ]
  },
  {
   "cell_type": "markdown",
   "metadata": {},
   "source": [
    "Not all, but some Galveston Bay sampling areas correlate to buffalo bayou discharge rates.\n",
    "<br>Identify sampling locations where data correlate:"
   ]
  },
  {
   "cell_type": "code",
   "execution_count": 29,
   "metadata": {},
   "outputs": [
    {
     "data": {
      "text/plain": [
       "['Clear Lake at 18 Waterford Oak Lane',\n",
       " 'Clear Lake at Blue Dolphin Yachting Center',\n",
       " 'Clear Lake at Clear Lake Park Pier',\n",
       " 'Clear Lake at Lakewood Yacht Club',\n",
       " 'Clear Lake at Nassau Bay Upper Bay Road',\n",
       " 'Clear Lake at Sea Cove Ct',\n",
       " 'Clear Lake at South Shore Harbor',\n",
       " 'Clear Lake at Taylor Lake Entrance and Nasa Road',\n",
       " 'Clear Lake at Waterford Harbor Marina',\n",
       " 'Clear Lake at Watergate Yachting Center',\n",
       " 'Galveston Bay at 1109 6th St. San Leon',\n",
       " 'Galveston Bay at 3903 Bayshore Bacliff',\n",
       " 'Galveston Bay at Pine Gully Park',\n",
       " 'Galveston Bay at Seascape Pier',\n",
       " 'Galveston Bay at Shoreacres Pier',\n",
       " 'Galveston Bay at Todville Road',\n",
       " 'Galveston Bay at Topwater Grill',\n",
       " 'Moses Lake at Texas City Prairie Preserve']"
      ]
     },
     "execution_count": 29,
     "metadata": {},
     "output_type": "execute_result"
    }
   ],
   "source": [
    "sorted(bay_data_buff_bayou.loc[(bay_data_buff_bayou['Gage_ht_ft'] > 55) & \n",
    "                               (bay_data_buff_bayou['Salinity (ppt)'] < 5)]['Area'].unique())"
   ]
  },
  {
   "cell_type": "markdown",
   "metadata": {},
   "source": [
    "List of correlating locations (and Buffalo Bayou gauge location) on google maps:\n",
    "<br>https://goo.gl/maps/EqNykH7SuF6UE5yC6"
   ]
  },
  {
   "cell_type": "code",
   "execution_count": null,
   "metadata": {},
   "outputs": [],
   "source": []
  }
 ],
 "metadata": {
  "kernelspec": {
   "display_name": "Python 3",
   "language": "python",
   "name": "python3"
  },
  "language_info": {
   "codemirror_mode": {
    "name": "ipython",
    "version": 3
   },
   "file_extension": ".py",
   "mimetype": "text/x-python",
   "name": "python",
   "nbconvert_exporter": "python",
   "pygments_lexer": "ipython3",
   "version": "3.7.3"
  },
  "varInspector": {
   "cols": {
    "lenName": 16,
    "lenType": 16,
    "lenVar": 40
   },
   "kernels_config": {
    "python": {
     "delete_cmd_postfix": "",
     "delete_cmd_prefix": "del ",
     "library": "var_list.py",
     "varRefreshCmd": "print(var_dic_list())"
    },
    "r": {
     "delete_cmd_postfix": ") ",
     "delete_cmd_prefix": "rm(",
     "library": "var_list.r",
     "varRefreshCmd": "cat(var_dic_list()) "
    }
   },
   "types_to_exclude": [
    "module",
    "function",
    "builtin_function_or_method",
    "instance",
    "_Feature"
   ],
   "window_display": false
  }
 },
 "nbformat": 4,
 "nbformat_minor": 2
}
