{
 "cells": [
  {
   "cell_type": "markdown",
   "metadata": {},
   "source": [
    "# Mont Carlo Integration"
   ]
  },
  {
   "cell_type": "code",
   "execution_count": 90,
   "metadata": {},
   "outputs": [],
   "source": [
    "import numpy as np\n",
    "import scipy.stats\n",
    "import matplotlib.pyplot as plt\n",
    "import pandas as pd"
   ]
  },
  {
   "cell_type": "markdown",
   "metadata": {},
   "source": [
    "## Example 1. \n",
    "f(x) = x**2 \n",
    "<br>on [0,1]"
   ]
  },
  {
   "cell_type": "markdown",
   "metadata": {},
   "source": [
    "__Analytical__"
   ]
  },
  {
   "cell_type": "code",
   "execution_count": 2,
   "metadata": {},
   "outputs": [],
   "source": [
    "def f(x):\n",
    "    return x**2"
   ]
  },
  {
   "cell_type": "code",
   "execution_count": 3,
   "metadata": {},
   "outputs": [],
   "source": [
    "def F(a_in, b_in):\n",
    "    return 1/3 * b**3 - 1/3 * a**3"
   ]
  },
  {
   "cell_type": "code",
   "execution_count": 4,
   "metadata": {},
   "outputs": [
    {
     "data": {
      "text/plain": [
       "0.3333333333333333"
      ]
     },
     "execution_count": 4,
     "metadata": {},
     "output_type": "execute_result"
    }
   ],
   "source": [
    "a = 0\n",
    "b = 1\n",
    "F(a_in = a, b_in = b)"
   ]
  },
  {
   "cell_type": "markdown",
   "metadata": {},
   "source": [
    "### Monte Carlo\n",
    "https://theclevermachine.wordpress.com/tag/monte-carlo-integration/"
   ]
  },
  {
   "cell_type": "code",
   "execution_count": 6,
   "metadata": {},
   "outputs": [
    {
     "data": {
      "text/plain": [
       "0.3331020892340764"
      ]
     },
     "execution_count": 6,
     "metadata": {},
     "output_type": "execute_result"
    }
   ],
   "source": [
    "num_iters = 500000\n",
    "np.mean(f(scipy.stats.uniform.rvs(loc = a, scale = b, size = num_iters, random_state = 1)))"
   ]
  },
  {
   "cell_type": "markdown",
   "metadata": {},
   "source": [
    "## Example 1b.\n",
    "Add a normalization factor for the uniform distribution.\n",
    "<br>on [0,2]"
   ]
  },
  {
   "cell_type": "code",
   "execution_count": 7,
   "metadata": {},
   "outputs": [
    {
     "data": {
      "text/plain": [
       "2.6666666666666665"
      ]
     },
     "execution_count": 7,
     "metadata": {},
     "output_type": "execute_result"
    }
   ],
   "source": [
    "a = 0\n",
    "b = 2\n",
    "F(a_in = a, b_in = b)"
   ]
  },
  {
   "cell_type": "markdown",
   "metadata": {},
   "source": [
    "### Monte Carlo"
   ]
  },
  {
   "cell_type": "code",
   "execution_count": 8,
   "metadata": {},
   "outputs": [
    {
     "data": {
      "text/plain": [
       "2.6665476169389173"
      ]
     },
     "execution_count": 8,
     "metadata": {},
     "output_type": "execute_result"
    }
   ],
   "source": [
    "num_iters = 5000000\n",
    "p_x_norm_factor = b - a\n",
    "\n",
    "out = scipy.stats.uniform.rvs(loc = a, scale = b, size = num_iters, random_state = 1)\n",
    "out = f(out)\n",
    "out = np.mean(out)\n",
    "p_x_norm_factor * out"
   ]
  },
  {
   "cell_type": "markdown",
   "metadata": {},
   "source": [
    "## Example 2. Normal distribution\n",
    "on [1, 1000]"
   ]
  },
  {
   "cell_type": "markdown",
   "metadata": {},
   "source": [
    "__Quick compare: two different methods to calculate norm pdf__"
   ]
  },
  {
   "cell_type": "code",
   "execution_count": 9,
   "metadata": {},
   "outputs": [
    {
     "data": {
      "text/plain": [
       "0.3989422804014327"
      ]
     },
     "execution_count": 9,
     "metadata": {},
     "output_type": "execute_result"
    }
   ],
   "source": [
    "def f(x, mu = 0, sd = 1):\n",
    "    out = x - mu\n",
    "    out = mu**2\n",
    "    out = -1 * out / (2 * sd**2)\n",
    "    out = np.exp(out)   \n",
    "    return 1/(np.sqrt(2 * np.pi * sd**2)) * out \n",
    "\n",
    "f(x = 0, sd = 1, mu = 0)"
   ]
  },
  {
   "cell_type": "code",
   "execution_count": 10,
   "metadata": {},
   "outputs": [
    {
     "data": {
      "text/plain": [
       "0.3989422804014327"
      ]
     },
     "execution_count": 10,
     "metadata": {},
     "output_type": "execute_result"
    }
   ],
   "source": [
    "def f(x, mu = 0, sd = 1):\n",
    "    return scipy.stats.norm.pdf(x = x, loc = mu, scale = sd)\n",
    "    \n",
    "f(x = 0, sd = 1, mu = 0)"
   ]
  },
  {
   "cell_type": "markdown",
   "metadata": {},
   "source": [
    "__So scipy.stats works as expected__\n",
    "\n",
    "__Define integral__"
   ]
  },
  {
   "cell_type": "code",
   "execution_count": 15,
   "metadata": {},
   "outputs": [],
   "source": [
    "def F(a_in, b_in, mu = 0, sd = 1):\n",
    "    return scipy.stats.norm.cdf(x = b_in, loc = mu, scale = sd) - scipy.stats.norm.cdf(x = a_in, loc = mu, scale = sd)"
   ]
  },
  {
   "cell_type": "markdown",
   "metadata": {},
   "source": [
    "__Double-check that scipy.stats.cdf works as expected:__"
   ]
  },
  {
   "cell_type": "code",
   "execution_count": 16,
   "metadata": {},
   "outputs": [
    {
     "data": {
      "text/plain": [
       "0.5"
      ]
     },
     "execution_count": 16,
     "metadata": {},
     "output_type": "execute_result"
    }
   ],
   "source": [
    "a = 0\n",
    "b = 1000\n",
    "F(0, 1000)"
   ]
  },
  {
   "cell_type": "markdown",
   "metadata": {},
   "source": [
    "### Monte Carlo"
   ]
  },
  {
   "cell_type": "code",
   "execution_count": 17,
   "metadata": {},
   "outputs": [
    {
     "data": {
      "text/plain": [
       "0.4985915822663913"
      ]
     },
     "execution_count": 17,
     "metadata": {},
     "output_type": "execute_result"
    }
   ],
   "source": [
    "num_iters = 50000000\n",
    "p_x_norm_factor = b - a\n",
    "\n",
    "out = scipy.stats.uniform.rvs(loc = a, scale = b, size = num_iters, random_state = 1)\n",
    "out = f(out)\n",
    "out = np.mean(out)\n",
    "p_x_norm_factor * out"
   ]
  },
  {
   "cell_type": "markdown",
   "metadata": {},
   "source": [
    "__So Monte Carlo successfully recreates analytical cdf__"
   ]
  },
  {
   "cell_type": "markdown",
   "metadata": {},
   "source": [
    "## MCMC Integration\n",
    "__As per__\n",
    "<br>https://stats.stackexchange.com/questions/248652/approximating-1d-integral-with-metropolis-hastings-markov-chain-monte-carlo\n",
    "\n",
    "__Other material__\n",
    "<br>https://stats.stackexchange.com/questions/154409/metropolis-hastings-integration-why-isnt-my-strategy-working\n",
    "<br>https://en.wikipedia.org/wiki/Metropolis%E2%80%93Hastings_algorithm"
   ]
  },
  {
   "cell_type": "code",
   "execution_count": 18,
   "metadata": {},
   "outputs": [],
   "source": [
    "def f(x, a, b):\n",
    "    if a <= x <= b:\n",
    "        return x**2\n",
    "    else:\n",
    "        return 0"
   ]
  },
  {
   "cell_type": "code",
   "execution_count": 29,
   "metadata": {},
   "outputs": [],
   "source": [
    "def F(a_in, b_in):\n",
    "    return 1/3 * b**3 - 1/3 * a**3"
   ]
  },
  {
   "cell_type": "code",
   "execution_count": 121,
   "metadata": {},
   "outputs": [
    {
     "name": "stdout",
     "output_type": "stream",
     "text": [
      "analytical answer 9.0\n",
      "number accepted jumps 0\n",
      "MCMC approx:  9.089915341334532 \t uncertainty:  0.38774188255097475\n"
     ]
    }
   ],
   "source": [
    "a = 0\n",
    "b = 3\n",
    "\n",
    "num_iters = 4000 #number of iterations\n",
    "sigma = 0.5\n",
    "\n",
    "x = scipy.stats.uniform.rvs(loc = a, scale = b, size = 1, random_state = 1)[0] #initial x value\n",
    "\n",
    "chain = [] #stores Markov chain \n",
    "chain.append(f(x, a, b)) #initialises chain\n",
    "\n",
    "accept = 0 # number of accepted jumps\n",
    "\n",
    "#generates an array of random x values from norm distribution\n",
    "rands = scipy.stats.norm.rvs(loc = 0, scale = sigma, size = num_iters) \n",
    "rands_u = scipy.stats.uniform.rvs(loc = 0, scale = 1, size = num_iters) #rand number between 0 and 1\n",
    "\n",
    "### Random-walk MCMC. (Not Metropolis - Hastings algorithm)\n",
    "for i in range(1, num_iters):\n",
    "    x += rands[i]  #candidate for jump\n",
    "    if f(x, a, b) > 0:\n",
    "        chain.append(f(x, a, b))\n",
    "\n",
    "I = (b - a) * np.mean(chain) #integral approximation\n",
    "\n",
    "\n",
    "### uncertainty on approx.\n",
    "uncertainty = (b - a) / np.sqrt(len(chain)) * np.std(chain) \n",
    "\n",
    "### integral approx at each iteration\n",
    "conv = np.array([(b - a)*sum(chain[:x+1])*(1/(x+1)) for x in range(len(chain))])\n",
    "\n",
    "#chain\n",
    "print(\"analytical answer\", F(a, b))\n",
    "print(\"number accepted jumps\", accept)\n",
    "print('MCMC approx: ', I, '\\t','uncertainty: ', uncertainty)"
   ]
  },
  {
   "cell_type": "markdown",
   "metadata": {},
   "source": [
    "__Avg from MCMC is low.__\n",
    "<br>Perhaps sampling still not uniform?\n",
    "<br>Uniform would generate and integral of 0.5 on the cdf."
   ]
  },
  {
   "cell_type": "code",
   "execution_count": 122,
   "metadata": {},
   "outputs": [
    {
     "data": {
      "text/html": [
       "<div>\n",
       "<style scoped>\n",
       "    .dataframe tbody tr th:only-of-type {\n",
       "        vertical-align: middle;\n",
       "    }\n",
       "\n",
       "    .dataframe tbody tr th {\n",
       "        vertical-align: top;\n",
       "    }\n",
       "\n",
       "    .dataframe thead th {\n",
       "        text-align: right;\n",
       "    }\n",
       "</style>\n",
       "<table border=\"1\" class=\"dataframe\">\n",
       "  <thead>\n",
       "    <tr style=\"text-align: right;\">\n",
       "      <th></th>\n",
       "      <th>x</th>\n",
       "      <th>y</th>\n",
       "      <th>ideal_y</th>\n",
       "    </tr>\n",
       "  </thead>\n",
       "  <tbody>\n",
       "    <tr>\n",
       "      <th>0</th>\n",
       "      <td>0.000342</td>\n",
       "      <td>0.000000</td>\n",
       "      <td>0.000000</td>\n",
       "    </tr>\n",
       "    <tr>\n",
       "      <th>1</th>\n",
       "      <td>0.000411</td>\n",
       "      <td>0.002469</td>\n",
       "      <td>0.000008</td>\n",
       "    </tr>\n",
       "    <tr>\n",
       "      <th>2</th>\n",
       "      <td>0.000554</td>\n",
       "      <td>0.004938</td>\n",
       "      <td>0.000024</td>\n",
       "    </tr>\n",
       "    <tr>\n",
       "      <th>3</th>\n",
       "      <td>0.001206</td>\n",
       "      <td>0.007407</td>\n",
       "      <td>0.000096</td>\n",
       "    </tr>\n",
       "    <tr>\n",
       "      <th>4</th>\n",
       "      <td>0.004280</td>\n",
       "      <td>0.009877</td>\n",
       "      <td>0.000438</td>\n",
       "    </tr>\n",
       "  </tbody>\n",
       "</table>\n",
       "</div>"
      ],
      "text/plain": [
       "          x         y   ideal_y\n",
       "0  0.000342  0.000000  0.000000\n",
       "1  0.000411  0.002469  0.000008\n",
       "2  0.000554  0.004938  0.000024\n",
       "3  0.001206  0.007407  0.000096\n",
       "4  0.004280  0.009877  0.000438"
      ]
     },
     "execution_count": 122,
     "metadata": {},
     "output_type": "execute_result"
    }
   ],
   "source": [
    "MCMC_cdf = pd.DataFrame({\"x\": np.sort(chain),\n",
    "                         \"y\": np.arange(len(chain)) / len(chain)})\n",
    "MCMC_cdf['ideal_y'] = 1 / (np.max(MCMC_cdf['x']) - np.min(MCMC_cdf['x'])) * (MCMC_cdf['x'] - np.min(MCMC_cdf['x']))\n",
    "MCMC_cdf.head()"
   ]
  },
  {
   "cell_type": "code",
   "execution_count": 123,
   "metadata": {},
   "outputs": [
    {
     "data": {
      "text/plain": [
       "<matplotlib.legend.Legend at 0x1ae84279a90>"
      ]
     },
     "execution_count": 123,
     "metadata": {},
     "output_type": "execute_result"
    },
    {
     "data": {
      "image/png": "[encoded data removed]",
      "text/plain": [
       "<Figure size 432x288 with 1 Axes>"
      ]
     },
     "metadata": {
      "needs_background": "light"
     },
     "output_type": "display_data"
    }
   ],
   "source": [
    "plt.plot(MCMC_cdf['x'],\n",
    "         MCMC_cdf['y'],\n",
    "        label = \"Actual CDF\")\n",
    "plt.plot(MCMC_cdf['x'],\n",
    "         MCMC_cdf['ideal_y'],\n",
    "        label = \"Ideally Sampled CDF\")\n",
    "plt.legend()"
   ]
  },
  {
   "cell_type": "code",
   "execution_count": null,
   "metadata": {},
   "outputs": [],
   "source": []
  }
 ],
 "metadata": {
  "kernelspec": {
   "display_name": "Python 3",
   "language": "python",
   "name": "python3"
  },
  "language_info": {
   "codemirror_mode": {
    "name": "ipython",
    "version": 3
   },
   "file_extension": ".py",
   "mimetype": "text/x-python",
   "name": "python",
   "nbconvert_exporter": "python",
   "pygments_lexer": "ipython3",
   "version": "3.6.8"
  }
 },
 "nbformat": 4,
 "nbformat_minor": 2
}
