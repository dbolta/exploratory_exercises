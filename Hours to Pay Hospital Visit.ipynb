{
 "cells": [
  {
   "cell_type": "markdown",
   "metadata": {},
   "source": [
    "# Hours of work to pay for a hospital visit.\n",
    "\n",
    "Data.world's \"Makeover Monday\" recently used median earnings and Zillow home prices across the USA to determine how many hours per month, a person would have to work to pay their monthly house note.\n",
    "<br> Given this data, I wanted to also determine how many work hours a trip to the hospital would cost to pay off. "
   ]
  },
  {
   "cell_type": "code",
   "execution_count": 26,
   "metadata": {},
   "outputs": [],
   "source": [
    "library(tidyr)\n",
    "library(dplyr)\n",
    "library(ggplot2)\n",
    "library(maps)"
   ]
  },
  {
   "cell_type": "markdown",
   "metadata": {},
   "source": [
    "## First, lets find some medical cost data.\n",
    "The Kaiser Family Foundation, KFF, has a nice collection of datasets.\n",
    "\n",
    "Selected health services, expenditures per capita by state from 2014\n",
    "https://www.kff.org/other/state-indicator/health-spending-per-capita-by-service/?currentTimeframe=0&sortModel=%7B%22colId%22:%22Location%22,%22sort%22:%22asc%22%7D\n",
    "\n",
    "#### Sped up for loops:\n",
    "This chunk shows a strategy for getting more speed from R's for loop.\n",
    "According to Advanced R by Hadley Wickham, for loops operating on data frames can appear slow because data frames are not considered a primitive object. As a result, edits to data frames are not actually made in place but by duplicating and overwrighting the object (a much slower process).\n",
    "<br>My fix here is to convert the data frame to a primitive object, a list, run the for loop, then convert back to a data frame."
   ]
  },
  {
   "cell_type": "code",
   "execution_count": 28,
   "metadata": {},
   "outputs": [
    {
     "data": {
      "text/html": [
       "<table>\n",
       "<thead><tr><th scope=col>Location</th><th scope=col>Hospital_Care</th><th scope=col>Physician_and_Clinical_Services</th><th scope=col>Other_Professional_Services</th><th scope=col>Prescription_Drugs_and_Other_Medical_Nondurables</th><th scope=col>Nursing_Home_Care</th><th scope=col>Dental_Services</th><th scope=col>Home_Health_Care</th><th scope=col>Medical_Durables</th><th scope=col>Other_Health_Residential_and_Personal_Care</th><th scope=col>Timeframe</th><th scope=col>Title</th></tr></thead>\n",
       "<tbody>\n",
       "\t<tr><td>United States                                                                                               </td><td>3079                                                                                                        </td><td>1874                                                                                                        </td><td>260                                                                                                         </td><td>1114                                                                                                        </td><td>479                                                                                                         </td><td>354                                                                                                         </td><td>262                                                                                                         </td><td>146                                                                                                         </td><td>475                                                                                                         </td><td>2014                                                                                                        </td><td>Health Care Expenditures per Capita by Service by State of Residence | The Henry J. Kaiser Family Foundation</td></tr>\n",
       "\t<tr><td>Alabama                                                                                                     </td><td>2625                                                                                                        </td><td>1739                                                                                                        </td><td>170                                                                                                         </td><td>1407                                                                                                        </td><td>391                                                                                                         </td><td>279                                                                                                         </td><td>202                                                                                                         </td><td>142                                                                                                         </td><td>324                                                                                                         </td><td>2014                                                                                                        </td><td>Health Care Expenditures per Capita by Service by State of Residence | The Henry J. Kaiser Family Foundation</td></tr>\n",
       "\t<tr><td>Alaska                                                                                                      </td><td>4715                                                                                                        </td><td>3368                                                                                                        </td><td>465                                                                                                         </td><td> 640                                                                                                        </td><td>204                                                                                                         </td><td>542                                                                                                         </td><td>195                                                                                                         </td><td>139                                                                                                         </td><td>797                                                                                                         </td><td>2014                                                                                                        </td><td>Health Care Expenditures per Capita by Service by State of Residence | The Henry J. Kaiser Family Foundation</td></tr>\n",
       "\t<tr><td>Arizona                                                                                                     </td><td>2337                                                                                                        </td><td>1774                                                                                                        </td><td>248                                                                                                         </td><td> 814                                                                                                        </td><td>286                                                                                                         </td><td>335                                                                                                         </td><td>136                                                                                                         </td><td>175                                                                                                         </td><td>347                                                                                                         </td><td>2014                                                                                                        </td><td>Health Care Expenditures per Capita by Service by State of Residence | The Henry J. Kaiser Family Foundation</td></tr>\n",
       "\t<tr><td>Arkansas                                                                                                    </td><td>2673                                                                                                        </td><td>1635                                                                                                        </td><td>262                                                                                                         </td><td>1169                                                                                                        </td><td>440                                                                                                         </td><td>309                                                                                                         </td><td>181                                                                                                         </td><td>104                                                                                                         </td><td>635                                                                                                         </td><td>2014                                                                                                        </td><td>Health Care Expenditures per Capita by Service by State of Residence | The Henry J. Kaiser Family Foundation</td></tr>\n",
       "</tbody>\n",
       "</table>\n"
      ],
      "text/latex": [
       "\\begin{tabular}{r|llllllllllll}\n",
       " Location & Hospital\\_Care & Physician\\_and\\_Clinical\\_Services & Other\\_Professional\\_Services & Prescription\\_Drugs\\_and\\_Other\\_Medical\\_Nondurables & Nursing\\_Home\\_Care & Dental\\_Services & Home\\_Health\\_Care & Medical\\_Durables & Other\\_Health\\_Residential\\_and\\_Personal\\_Care & Timeframe & Title\\\\\n",
       "\\hline\n",
       "\t United States                                                                                                          & 3079                                                                                                                   & 1874                                                                                                                   & 260                                                                                                                    & 1114                                                                                                                   & 479                                                                                                                    & 354                                                                                                                    & 262                                                                                                                    & 146                                                                                                                    & 475                                                                                                                    & 2014                                                                                                                   & Health Care Expenditures per Capita by Service by State of Residence \\textbar{} The Henry J. Kaiser Family Foundation\\\\\n",
       "\t Alabama                                                                                                                & 2625                                                                                                                   & 1739                                                                                                                   & 170                                                                                                                    & 1407                                                                                                                   & 391                                                                                                                    & 279                                                                                                                    & 202                                                                                                                    & 142                                                                                                                    & 324                                                                                                                    & 2014                                                                                                                   & Health Care Expenditures per Capita by Service by State of Residence \\textbar{} The Henry J. Kaiser Family Foundation\\\\\n",
       "\t Alaska                                                                                                                 & 4715                                                                                                                   & 3368                                                                                                                   & 465                                                                                                                    &  640                                                                                                                   & 204                                                                                                                    & 542                                                                                                                    & 195                                                                                                                    & 139                                                                                                                    & 797                                                                                                                    & 2014                                                                                                                   & Health Care Expenditures per Capita by Service by State of Residence \\textbar{} The Henry J. Kaiser Family Foundation\\\\\n",
       "\t Arizona                                                                                                                & 2337                                                                                                                   & 1774                                                                                                                   & 248                                                                                                                    &  814                                                                                                                   & 286                                                                                                                    & 335                                                                                                                    & 136                                                                                                                    & 175                                                                                                                    & 347                                                                                                                    & 2014                                                                                                                   & Health Care Expenditures per Capita by Service by State of Residence \\textbar{} The Henry J. Kaiser Family Foundation\\\\\n",
       "\t Arkansas                                                                                                               & 2673                                                                                                                   & 1635                                                                                                                   & 262                                                                                                                    & 1169                                                                                                                   & 440                                                                                                                    & 309                                                                                                                    & 181                                                                                                                    & 104                                                                                                                    & 635                                                                                                                    & 2014                                                                                                                   & Health Care Expenditures per Capita by Service by State of Residence \\textbar{} The Henry J. Kaiser Family Foundation\\\\\n",
       "\\end{tabular}\n"
      ],
      "text/markdown": [
       "\n",
       "| Location | Hospital_Care | Physician_and_Clinical_Services | Other_Professional_Services | Prescription_Drugs_and_Other_Medical_Nondurables | Nursing_Home_Care | Dental_Services | Home_Health_Care | Medical_Durables | Other_Health_Residential_and_Personal_Care | Timeframe | Title |\n",
       "|---|---|---|---|---|---|---|---|---|---|---|---|\n",
       "| United States                                                                                                | 3079                                                                                                         | 1874                                                                                                         | 260                                                                                                          | 1114                                                                                                         | 479                                                                                                          | 354                                                                                                          | 262                                                                                                          | 146                                                                                                          | 475                                                                                                          | 2014                                                                                                         | Health Care Expenditures per Capita by Service by State of Residence | The Henry J. Kaiser Family Foundation |\n",
       "| Alabama                                                                                                      | 2625                                                                                                         | 1739                                                                                                         | 170                                                                                                          | 1407                                                                                                         | 391                                                                                                          | 279                                                                                                          | 202                                                                                                          | 142                                                                                                          | 324                                                                                                          | 2014                                                                                                         | Health Care Expenditures per Capita by Service by State of Residence | The Henry J. Kaiser Family Foundation |\n",
       "| Alaska                                                                                                       | 4715                                                                                                         | 3368                                                                                                         | 465                                                                                                          |  640                                                                                                         | 204                                                                                                          | 542                                                                                                          | 195                                                                                                          | 139                                                                                                          | 797                                                                                                          | 2014                                                                                                         | Health Care Expenditures per Capita by Service by State of Residence | The Henry J. Kaiser Family Foundation |\n",
       "| Arizona                                                                                                      | 2337                                                                                                         | 1774                                                                                                         | 248                                                                                                          |  814                                                                                                         | 286                                                                                                          | 335                                                                                                          | 136                                                                                                          | 175                                                                                                          | 347                                                                                                          | 2014                                                                                                         | Health Care Expenditures per Capita by Service by State of Residence | The Henry J. Kaiser Family Foundation |\n",
       "| Arkansas                                                                                                     | 2673                                                                                                         | 1635                                                                                                         | 262                                                                                                          | 1169                                                                                                         | 440                                                                                                          | 309                                                                                                          | 181                                                                                                          | 104                                                                                                          | 635                                                                                                          | 2014                                                                                                         | Health Care Expenditures per Capita by Service by State of Residence | The Henry J. Kaiser Family Foundation |\n",
       "\n"
      ],
      "text/plain": [
       "  Location      Hospital_Care Physician_and_Clinical_Services\n",
       "1 United States 3079          1874                           \n",
       "2 Alabama       2625          1739                           \n",
       "3 Alaska        4715          3368                           \n",
       "4 Arizona       2337          1774                           \n",
       "5 Arkansas      2673          1635                           \n",
       "  Other_Professional_Services Prescription_Drugs_and_Other_Medical_Nondurables\n",
       "1 260                         1114                                            \n",
       "2 170                         1407                                            \n",
       "3 465                          640                                            \n",
       "4 248                          814                                            \n",
       "5 262                         1169                                            \n",
       "  Nursing_Home_Care Dental_Services Home_Health_Care Medical_Durables\n",
       "1 479               354             262              146             \n",
       "2 391               279             202              142             \n",
       "3 204               542             195              139             \n",
       "4 286               335             136              175             \n",
       "5 440               309             181              104             \n",
       "  Other_Health_Residential_and_Personal_Care Timeframe\n",
       "1 475                                        2014     \n",
       "2 324                                        2014     \n",
       "3 797                                        2014     \n",
       "4 347                                        2014     \n",
       "5 635                                        2014     \n",
       "  Title                                                                                                       \n",
       "1 Health Care Expenditures per Capita by Service by State of Residence | The Henry J. Kaiser Family Foundation\n",
       "2 Health Care Expenditures per Capita by Service by State of Residence | The Henry J. Kaiser Family Foundation\n",
       "3 Health Care Expenditures per Capita by Service by State of Residence | The Henry J. Kaiser Family Foundation\n",
       "4 Health Care Expenditures per Capita by Service by State of Residence | The Henry J. Kaiser Family Foundation\n",
       "5 Health Care Expenditures per Capita by Service by State of Residence | The Henry J. Kaiser Family Foundation"
      ]
     },
     "metadata": {},
     "output_type": "display_data"
    }
   ],
   "source": [
    "kff_exp_data = read.csv(\"kff_exp_per_capita_by_service_by_state.csv\",\n",
    "                    stringsAsFactors = FALSE)\n",
    "\n",
    "names(kff_exp_data) = gsub(pattern = \"\\\\.\\\\.\",\n",
    "                       replacement = \"_\",\n",
    "                       x = names(kff_exp_data)) %>%\n",
    "  gsub(pattern = \"\\\\.\",\n",
    "       replacement = \"_\",\n",
    "       x = .)\n",
    "\n",
    "### Cleanup data with $ in their string\n",
    "kff_exp_data = kff_exp_data %>% \n",
    "  as.list() \n",
    "for(i in 1:length(kff_exp_data)){\n",
    "  for(j in 1:length(kff_exp_data[[i]])){\n",
    "    kff_exp_data[[i]][j] = gsub(pattern = \"\\\\$\", replacement = \"\", x = kff_exp_data[[i]][j])\n",
    "  }\n",
    "  if(suppressWarnings(!is.na(as.numeric(kff_exp_data[[i]][1])))){\n",
    "    kff_exp_data[[i]] = kff_exp_data[[i]] %>%\n",
    "      as.numeric()\n",
    "  }\n",
    "}\n",
    "\n",
    "kff_exp_data = kff_exp_data %>% \n",
    "  as.data.frame(stringsAsFactors = FALSE)\n",
    "\n",
    "kff_exp_data %>%\n",
    "slice(1:5)"
   ]
  },
  {
   "cell_type": "markdown",
   "metadata": {},
   "source": [
    "## Hospital admission rates\n",
    "I have costs per state. Now lets extract per capita admission rates.\n",
    "<br>Hospital admissions per 1000 of population in 2016\n",
    "https://www.kff.org/other/state-indicator/admissions-by-ownership/?currentTimeframe=0&sortModel=%7B%22colId%22:%22Location%22,%22sort%22:%22asc%22%7D"
   ]
  },
  {
   "cell_type": "code",
   "execution_count": 29,
   "metadata": {
    "scrolled": true
   },
   "outputs": [
    {
     "data": {
      "text/html": [
       "<table>\n",
       "<thead><tr><th scope=col>Location</th><th scope=col>State_Local_Government</th><th scope=col>Non_Profit</th><th scope=col>For_Profit</th><th scope=col>Total</th></tr></thead>\n",
       "<tbody>\n",
       "\t<tr><td>United States</td><td>13           </td><td>75           </td><td>16           </td><td>103          </td></tr>\n",
       "\t<tr><td>Alabama      </td><td>64           </td><td>28           </td><td>38           </td><td>130          </td></tr>\n",
       "\t<tr><td>Alaska       </td><td>6            </td><td>48           </td><td>15           </td><td> 69          </td></tr>\n",
       "\t<tr><td>Arizona      </td><td>4            </td><td>67           </td><td>19           </td><td> 90          </td></tr>\n",
       "\t<tr><td>Arkansas     </td><td>11           </td><td>84           </td><td>23           </td><td>118          </td></tr>\n",
       "</tbody>\n",
       "</table>\n"
      ],
      "text/latex": [
       "\\begin{tabular}{r|lllll}\n",
       " Location & State\\_Local\\_Government & Non\\_Profit & For\\_Profit & Total\\\\\n",
       "\\hline\n",
       "\t United States & 13            & 75            & 16            & 103          \\\\\n",
       "\t Alabama       & 64            & 28            & 38            & 130          \\\\\n",
       "\t Alaska        & 6             & 48            & 15            &  69          \\\\\n",
       "\t Arizona       & 4             & 67            & 19            &  90          \\\\\n",
       "\t Arkansas      & 11            & 84            & 23            & 118          \\\\\n",
       "\\end{tabular}\n"
      ],
      "text/markdown": [
       "\n",
       "| Location | State_Local_Government | Non_Profit | For_Profit | Total |\n",
       "|---|---|---|---|---|\n",
       "| United States | 13            | 75            | 16            | 103           |\n",
       "| Alabama       | 64            | 28            | 38            | 130           |\n",
       "| Alaska        | 6             | 48            | 15            |  69           |\n",
       "| Arizona       | 4             | 67            | 19            |  90           |\n",
       "| Arkansas      | 11            | 84            | 23            | 118           |\n",
       "\n"
      ],
      "text/plain": [
       "  Location      State_Local_Government Non_Profit For_Profit Total\n",
       "1 United States 13                     75         16         103  \n",
       "2 Alabama       64                     28         38         130  \n",
       "3 Alaska        6                      48         15          69  \n",
       "4 Arizona       4                      67         19          90  \n",
       "5 Arkansas      11                     84         23         118  "
      ]
     },
     "metadata": {},
     "output_type": "display_data"
    }
   ],
   "source": [
    "kff_admissions_data = read.csv(\"kff_admissions_per_1000_population.csv\",\n",
    "                               stringsAsFactors = FALSE)\n",
    "\n",
    "names(kff_admissions_data) = gsub(pattern = \"\\\\.\\\\.\",\n",
    "                       replacement = \"_\",\n",
    "                       x = names(kff_admissions_data)) %>%\n",
    "  gsub(pattern = \"\\\\.\",\n",
    "       replacement = \"_\",\n",
    "       x = .)\n",
    "\n",
    "kff_admissions_data %>%\n",
    "slice(1:5)"
   ]
  },
  {
   "cell_type": "markdown",
   "metadata": {},
   "source": [
    "This data is interesting by itself.\n",
    "<br>It appears that on average, an American will get admitted to the hospital every 10 years. \n",
    "<br>(103 admissions / 1000 people = 10% chance of admission)\n",
    "\n",
    "\n",
    "## Kff state populations, 2017\n",
    "Now I need KFF's assumptions for population to be able to convert the percapita data.\n",
    "https://www.kff.org/other/state-indicator/total-residents/?currentTimeframe=0&sortModel=%7B%22colId%22:%22Location%22,%22sort%22:%22asc%22%7D"
   ]
  },
  {
   "cell_type": "code",
   "execution_count": 31,
   "metadata": {
    "scrolled": true
   },
   "outputs": [
    {
     "data": {
      "text/html": [
       "<table>\n",
       "<thead><tr><th scope=col>Location</th><th scope=col>Total_Residents</th></tr></thead>\n",
       "<tbody>\n",
       "\t<tr><td>United States</td><td>317022500    </td></tr>\n",
       "\t<tr><td>Alabama      </td><td>  4741400    </td></tr>\n",
       "\t<tr><td>Alaska       </td><td>   710100    </td></tr>\n",
       "\t<tr><td>Arizona      </td><td>  6841300    </td></tr>\n",
       "\t<tr><td>Arkansas     </td><td>  2910000    </td></tr>\n",
       "</tbody>\n",
       "</table>\n"
      ],
      "text/latex": [
       "\\begin{tabular}{r|ll}\n",
       " Location & Total\\_Residents\\\\\n",
       "\\hline\n",
       "\t United States & 317022500    \\\\\n",
       "\t Alabama       &   4741400    \\\\\n",
       "\t Alaska        &    710100    \\\\\n",
       "\t Arizona       &   6841300    \\\\\n",
       "\t Arkansas      &   2910000    \\\\\n",
       "\\end{tabular}\n"
      ],
      "text/markdown": [
       "\n",
       "| Location | Total_Residents |\n",
       "|---|---|\n",
       "| United States | 317022500     |\n",
       "| Alabama       |   4741400     |\n",
       "| Alaska        |    710100     |\n",
       "| Arizona       |   6841300     |\n",
       "| Arkansas      |   2910000     |\n",
       "\n"
      ],
      "text/plain": [
       "  Location      Total_Residents\n",
       "1 United States 317022500      \n",
       "2 Alabama         4741400      \n",
       "3 Alaska           710100      \n",
       "4 Arizona         6841300      \n",
       "5 Arkansas        2910000      "
      ]
     },
     "metadata": {},
     "output_type": "display_data"
    }
   ],
   "source": [
    "kff_populations_data = read.csv(\"kff_state_populations.csv\",\n",
    "                               stringsAsFactors = FALSE) %>% \n",
    "  select(-Footnotes)\n",
    "\n",
    "names(kff_populations_data) = gsub(pattern = \"\\\\.\\\\.\",\n",
    "                       replacement = \"_\",\n",
    "                       x = names(kff_populations_data)) %>%\n",
    "  gsub(pattern = \"\\\\.\",\n",
    "       replacement = \"_\",\n",
    "       x = .)\n",
    "\n",
    "kff_populations_data %>%\n",
    "slice(1:5)"
   ]
  },
  {
   "cell_type": "markdown",
   "metadata": {},
   "source": [
    "## Merge kff data together"
   ]
  },
  {
   "cell_type": "code",
   "execution_count": 32,
   "metadata": {
    "scrolled": true
   },
   "outputs": [
    {
     "data": {
      "text/html": [
       "<table>\n",
       "<thead><tr><th scope=col>State</th><th scope=col>Total_Residents</th><th scope=col>Total_admissions</th><th scope=col>Total_Hospital_Care_exp</th><th scope=col>cost_per_hospital_visit</th></tr></thead>\n",
       "<tbody>\n",
       "\t<tr><td>United States</td><td>317022500    </td><td>32653317.5   </td><td>976112277500 </td><td>29893.20     </td></tr>\n",
       "\t<tr><td>Alabama      </td><td>  4741400    </td><td>  616382.0   </td><td> 12446175000 </td><td>20192.31     </td></tr>\n",
       "\t<tr><td>Alaska       </td><td>   710100    </td><td>   48996.9   </td><td>  3348121500 </td><td>68333.33     </td></tr>\n",
       "\t<tr><td>Arizona      </td><td>  6841300    </td><td>  615717.0   </td><td> 15988118100 </td><td>25966.67     </td></tr>\n",
       "\t<tr><td>Arkansas     </td><td>  2910000    </td><td>  343380.0   </td><td>  7778430000 </td><td>22652.54     </td></tr>\n",
       "</tbody>\n",
       "</table>\n"
      ],
      "text/latex": [
       "\\begin{tabular}{r|lllll}\n",
       " State & Total\\_Residents & Total\\_admissions & Total\\_Hospital\\_Care\\_exp & cost\\_per\\_hospital\\_visit\\\\\n",
       "\\hline\n",
       "\t United States & 317022500     & 32653317.5    & 976112277500  & 29893.20     \\\\\n",
       "\t Alabama       &   4741400     &   616382.0    &  12446175000  & 20192.31     \\\\\n",
       "\t Alaska        &    710100     &    48996.9    &   3348121500  & 68333.33     \\\\\n",
       "\t Arizona       &   6841300     &   615717.0    &  15988118100  & 25966.67     \\\\\n",
       "\t Arkansas      &   2910000     &   343380.0    &   7778430000  & 22652.54     \\\\\n",
       "\\end{tabular}\n"
      ],
      "text/markdown": [
       "\n",
       "| State | Total_Residents | Total_admissions | Total_Hospital_Care_exp | cost_per_hospital_visit |\n",
       "|---|---|---|---|---|\n",
       "| United States | 317022500     | 32653317.5    | 976112277500  | 29893.20      |\n",
       "| Alabama       |   4741400     |   616382.0    |  12446175000  | 20192.31      |\n",
       "| Alaska        |    710100     |    48996.9    |   3348121500  | 68333.33      |\n",
       "| Arizona       |   6841300     |   615717.0    |  15988118100  | 25966.67      |\n",
       "| Arkansas      |   2910000     |   343380.0    |   7778430000  | 22652.54      |\n",
       "\n"
      ],
      "text/plain": [
       "  State         Total_Residents Total_admissions Total_Hospital_Care_exp\n",
       "1 United States 317022500       32653317.5       976112277500           \n",
       "2 Alabama         4741400         616382.0        12446175000           \n",
       "3 Alaska           710100          48996.9         3348121500           \n",
       "4 Arizona         6841300         615717.0        15988118100           \n",
       "5 Arkansas        2910000         343380.0         7778430000           \n",
       "  cost_per_hospital_visit\n",
       "1 29893.20               \n",
       "2 20192.31               \n",
       "3 68333.33               \n",
       "4 25966.67               \n",
       "5 22652.54               "
      ]
     },
     "metadata": {},
     "output_type": "display_data"
    }
   ],
   "source": [
    "kff_data = kff_admissions_data %>% \n",
    "  select(Location, Total) %>% \n",
    "  rename(Total_admissions_per_1000_pop = Total)\n",
    "\n",
    "kff_data = kff_data %>% \n",
    "  left_join(kff_exp_data %>% \n",
    "              select(Location, Hospital_Care),\n",
    "            by = \"Location\") %>% \n",
    "  rename(Hospital_Care_exp_per_capita = Hospital_Care) %>% \n",
    "  left_join(kff_populations_data,\n",
    "            by = \"Location\")\n",
    "\n",
    "kff_data = kff_data %>% \n",
    "  mutate(Total_admissions = Total_admissions_per_1000_pop / 1000 * Total_Residents,\n",
    "         Total_Hospital_Care_exp = Hospital_Care_exp_per_capita * Total_Residents) %>%\n",
    "  select(-Total_admissions_per_1000_pop, -Hospital_Care_exp_per_capita)\n",
    "\n",
    "kff_data = kff_data %>% \n",
    "  mutate(cost_per_hospital_visit = Total_Hospital_Care_exp / Total_admissions) %>% \n",
    "  rename(State = Location)\n",
    "\n",
    "kff_data %>%\n",
    "slice(1:5)"
   ]
  },
  {
   "cell_type": "markdown",
   "metadata": {},
   "source": [
    "## Now for data.world\n",
    "Pull in the data from their makeover Monday.\n",
    "https://data.world/makeovermonday/2018w47\n",
    "https://howmuch.net/sources/hours-work-afford-home\n",
    "2015 Incomes\n",
    "2017(?) Mortage rates and Zillow prices"
   ]
  },
  {
   "cell_type": "code",
   "execution_count": 33,
   "metadata": {
    "scrolled": true
   },
   "outputs": [
    {
     "data": {
      "text/html": [
       "<table>\n",
       "<thead><tr><th scope=col>City</th><th scope=col>State</th><th scope=col>Monthly_Mortgage_Payment</th><th scope=col>Hours_per_Month_to_Afford_a_Home</th></tr></thead>\n",
       "<tbody>\n",
       "\t<tr><td>Toledo   </td><td>Ohio     </td><td>273      </td><td>16.9     </td></tr>\n",
       "\t<tr><td>Memphis  </td><td>Tennessee</td><td>321      </td><td>18.4     </td></tr>\n",
       "\t<tr><td>Cleveland</td><td>Ohio     </td><td>255      </td><td>20.3     </td></tr>\n",
       "\t<tr><td>Buffalo  </td><td>New York </td><td>327      </td><td>21.4     </td></tr>\n",
       "\t<tr><td>Baltimore</td><td>Maryland </td><td>504      </td><td>24.9     </td></tr>\n",
       "</tbody>\n",
       "</table>\n"
      ],
      "text/latex": [
       "\\begin{tabular}{r|llll}\n",
       " City & State & Monthly\\_Mortgage\\_Payment & Hours\\_per\\_Month\\_to\\_Afford\\_a\\_Home\\\\\n",
       "\\hline\n",
       "\t Toledo    & Ohio      & 273       & 16.9     \\\\\n",
       "\t Memphis   & Tennessee & 321       & 18.4     \\\\\n",
       "\t Cleveland & Ohio      & 255       & 20.3     \\\\\n",
       "\t Buffalo   & New York  & 327       & 21.4     \\\\\n",
       "\t Baltimore & Maryland  & 504       & 24.9     \\\\\n",
       "\\end{tabular}\n"
      ],
      "text/markdown": [
       "\n",
       "| City | State | Monthly_Mortgage_Payment | Hours_per_Month_to_Afford_a_Home |\n",
       "|---|---|---|---|\n",
       "| Toledo    | Ohio      | 273       | 16.9      |\n",
       "| Memphis   | Tennessee | 321       | 18.4      |\n",
       "| Cleveland | Ohio      | 255       | 20.3      |\n",
       "| Buffalo   | New York  | 327       | 21.4      |\n",
       "| Baltimore | Maryland  | 504       | 24.9      |\n",
       "\n"
      ],
      "text/plain": [
       "  City      State     Monthly_Mortgage_Payment Hours_per_Month_to_Afford_a_Home\n",
       "1 Toledo    Ohio      273                      16.9                            \n",
       "2 Memphis   Tennessee 321                      18.4                            \n",
       "3 Cleveland Ohio      255                      20.3                            \n",
       "4 Buffalo   New York  327                      21.4                            \n",
       "5 Baltimore Maryland  504                      24.9                            "
      ]
     },
     "metadata": {},
     "output_type": "display_data"
    }
   ],
   "source": [
    "Hours_to_Pay_Mortgage = read.csv(\"Hours to Pay Mortgage.csv\",\n",
    "                                 stringsAsFactors = FALSE)\n",
    "\n",
    "### change \"..\" and \".\" to single \"_\"\n",
    "names(Hours_to_Pay_Mortgage) = gsub(pattern = \"\\\\.\\\\.\",\n",
    "                       replacement = \"_\",\n",
    "                       x = names(Hours_to_Pay_Mortgage)) %>%\n",
    "  gsub(pattern = \"\\\\.\",\n",
    "       replacement = \"_\",\n",
    "       x = .)\n",
    "\n",
    "### Make a data fram a list so for loop will run faster\n",
    "Hours_to_Pay_Mortgage = Hours_to_Pay_Mortgage %>% \n",
    "  as.list() \n",
    "\n",
    "for(i in 1:length(Hours_to_Pay_Mortgage)){\n",
    "  for(j in 1:length(Hours_to_Pay_Mortgage[[i]])){\n",
    "    Hours_to_Pay_Mortgage[[i]][j] = \n",
    "      gsub(pattern = \",\", replacement = \"\", x = Hours_to_Pay_Mortgage[[i]][j])\n",
    "    Hours_to_Pay_Mortgage[[i]][j] = \n",
    "      gsub(pattern = \"%\", replacement = \"\", x = Hours_to_Pay_Mortgage[[i]][j])\n",
    "  }\n",
    "  if(suppressWarnings(!is.na(as.numeric(Hours_to_Pay_Mortgage[[i]][1])))){\n",
    "    Hours_to_Pay_Mortgage[[i]] = Hours_to_Pay_Mortgage[[i]] %>%\n",
    "      as.numeric()\n",
    "  }\n",
    "}\n",
    "\n",
    "Hours_to_Pay_Mortgage = Hours_to_Pay_Mortgage %>% \n",
    "  as.data.frame(stringsAsFactors = FALSE)\n",
    "\n",
    "### Remove columns\n",
    "Hours_to_Pay_Mortgage = Hours_to_Pay_Mortgage %>% \n",
    "  select(-Median_Home_Listing_Price,\n",
    "         -X30_year_Fixed_Mortgage_Rate,\n",
    "         -Median_Household_Income,\n",
    "         -Number_of_Periods,\n",
    "         -Present_Value)\n",
    "\n",
    "Hours_to_Pay_Mortgage %>%\n",
    "slice(1:5)"
   ]
  },
  {
   "cell_type": "markdown",
   "metadata": {},
   "source": [
    "### Oh no! The data is supposed to be by state, but it's by city.\n",
    "#### I need to aggregate it to the state level using weighted averages by city population.\n",
    "\n",
    "## City population data\n",
    "https://factfinder.census.gov/faces/tableservices/jsf/pages/productview.xhtml?src=bkmk"
   ]
  },
  {
   "cell_type": "code",
   "execution_count": 34,
   "metadata": {
    "scrolled": true
   },
   "outputs": [
    {
     "data": {
      "text/html": [
       "<table>\n",
       "<thead><tr><th scope=col>State</th><th scope=col>City</th><th scope=col>population</th></tr></thead>\n",
       "<tbody>\n",
       "\t<tr><td>Alabama        </td><td>Auburn city    </td><td> 62703         </td></tr>\n",
       "\t<tr><td>Alabama        </td><td>Birmingham city</td><td>211263         </td></tr>\n",
       "\t<tr><td>Alabama        </td><td>Decatur city   </td><td> 54605         </td></tr>\n",
       "\t<tr><td>Alabama        </td><td>Dothan city    </td><td> 68172         </td></tr>\n",
       "\t<tr><td>Alabama        </td><td>Hoover city    </td><td> 84551         </td></tr>\n",
       "</tbody>\n",
       "</table>\n"
      ],
      "text/latex": [
       "\\begin{tabular}{r|lll}\n",
       " State & City & population\\\\\n",
       "\\hline\n",
       "\t Alabama         & Auburn city     &  62703         \\\\\n",
       "\t Alabama         & Birmingham city & 211263         \\\\\n",
       "\t Alabama         & Decatur city    &  54605         \\\\\n",
       "\t Alabama         & Dothan city     &  68172         \\\\\n",
       "\t Alabama         & Hoover city     &  84551         \\\\\n",
       "\\end{tabular}\n"
      ],
      "text/markdown": [
       "\n",
       "| State | City | population |\n",
       "|---|---|---|\n",
       "| Alabama         | Auburn city     |  62703          |\n",
       "| Alabama         | Birmingham city | 211263          |\n",
       "| Alabama         | Decatur city    |  54605          |\n",
       "| Alabama         | Dothan city     |  68172          |\n",
       "| Alabama         | Hoover city     |  84551          |\n",
       "\n"
      ],
      "text/plain": [
       "  State   City            population\n",
       "1 Alabama Auburn city      62703    \n",
       "2 Alabama Birmingham city 211263    \n",
       "3 Alabama Decatur city     54605    \n",
       "4 Alabama Dothan city      68172    \n",
       "5 Alabama Hoover city      84551    "
      ]
     },
     "metadata": {},
     "output_type": "display_data"
    }
   ],
   "source": [
    "city_pop_1 = read.csv(\"PEP_2017_PEPANNRSIP.US12A.csv\",\n",
    "                      stringsAsFactors = FALSE) %>% \n",
    "  janitor::remove_empty(\"cols\")\n",
    "\n",
    "### change \"..\" and \".\" to single \"_\"\n",
    "names(city_pop_1) = gsub(pattern = \"\\\\.\\\\.\",\n",
    "                       replacement = \"_\",\n",
    "                       x = names(city_pop_1)) %>%\n",
    "  gsub(pattern = \"\\\\.\",\n",
    "       replacement = \"_\",\n",
    "       x = .)\n",
    "\n",
    "### Remove first label columns\n",
    "city_pop_1 = city_pop_1 %>% \n",
    "  select(names(city_pop_1) %>% \n",
    "           .[1:6] %>% \n",
    "            one_of() %>% \n",
    "           -.)\n",
    "\n",
    "names(city_pop_1)[1] = \"location\"\n",
    "\n",
    "names(city_pop_1) = city_pop_1 %>% \n",
    "  names() %>% \n",
    "  gsub(pattern = \"res\", replacement = \"\", x = .) %>% \n",
    "  gsub(pattern = \"pop\", replacement = \"\", x = .)\n",
    "\n",
    "### Remove Columns from year 2010 with other data sources \n",
    "city_pop_1 = city_pop_1[,which(nchar(names(city_pop_1)) <= nchar(\"location\"))]\n",
    "\n",
    "### clean up location column into city & state\n",
    "city_pop_1 = city_pop_1 %>% \n",
    "  mutate(city_pos = regexpr(text = location, pattern = \", \")) %>% \n",
    "  mutate(City = substr(x = location, start = 1, stop = city_pos - 1),\n",
    "         State = substr(x = location, \n",
    "                        start = city_pos + nchar(\", \"), stop = nchar(location))) %>% \n",
    "  select(-location, -city_pos) %>% \n",
    "  select(State, City, everything()) \n",
    "\n",
    "### Correct \"Saint Paul\" to \"St. Paul\"\n",
    "city_pop_1 = city_pop_1 %>% \n",
    "  mutate(City = ifelse(State == \"Minnesota\", \n",
    "                       ifelse(grepl(\"St. Paul\", City),\n",
    "                              \"Saint Paul\",\n",
    "                              City),\n",
    "                       City))\n",
    "\n",
    "names(city_pop_1) = gsub(pattern = \"7\", replacement = \"\", x = names(city_pop_1))\n",
    "\n",
    "### gather the years\n",
    "city_pop_1 = city_pop_1 %>%\n",
    "  #select(-state, -city) %>%\n",
    "  gather(key = year, value = population, -2:-1) %>%\n",
    "  filter(year == max(year)) %>%\n",
    "  select(-year) %>% ### drop 2016\n",
    "  arrange(State, City)\n",
    "\n",
    "city_pop_1 %>%\n",
    "slice(1:5)"
   ]
  },
  {
   "cell_type": "markdown",
   "metadata": {},
   "source": [
    "## Join city populations data into mortgage"
   ]
  },
  {
   "cell_type": "code",
   "execution_count": 35,
   "metadata": {
    "scrolled": true
   },
   "outputs": [
    {
     "data": {
      "text/html": [
       "<table>\n",
       "<thead><tr><th scope=col>City</th><th scope=col>State</th><th scope=col>Monthly_Mortgage_Payment</th><th scope=col>Hours_per_Month_to_Afford_a_Home</th><th scope=col>population</th></tr></thead>\n",
       "<tbody>\n",
       "\t<tr><td>Toledo   </td><td>Ohio     </td><td>273      </td><td>16.9     </td><td>278606   </td></tr>\n",
       "\t<tr><td>Memphis  </td><td>Tennessee</td><td>321      </td><td>18.4     </td><td>653369   </td></tr>\n",
       "\t<tr><td>Cleveland</td><td>Ohio     </td><td>255      </td><td>20.3     </td><td>387451   </td></tr>\n",
       "\t<tr><td>Buffalo  </td><td>New York </td><td>327      </td><td>21.4     </td><td>258463   </td></tr>\n",
       "\t<tr><td>Baltimore</td><td>Maryland </td><td>504      </td><td>24.9     </td><td>616958   </td></tr>\n",
       "</tbody>\n",
       "</table>\n"
      ],
      "text/latex": [
       "\\begin{tabular}{r|lllll}\n",
       " City & State & Monthly\\_Mortgage\\_Payment & Hours\\_per\\_Month\\_to\\_Afford\\_a\\_Home & population\\\\\n",
       "\\hline\n",
       "\t Toledo    & Ohio      & 273       & 16.9      & 278606   \\\\\n",
       "\t Memphis   & Tennessee & 321       & 18.4      & 653369   \\\\\n",
       "\t Cleveland & Ohio      & 255       & 20.3      & 387451   \\\\\n",
       "\t Buffalo   & New York  & 327       & 21.4      & 258463   \\\\\n",
       "\t Baltimore & Maryland  & 504       & 24.9      & 616958   \\\\\n",
       "\\end{tabular}\n"
      ],
      "text/markdown": [
       "\n",
       "| City | State | Monthly_Mortgage_Payment | Hours_per_Month_to_Afford_a_Home | population |\n",
       "|---|---|---|---|---|\n",
       "| Toledo    | Ohio      | 273       | 16.9      | 278606    |\n",
       "| Memphis   | Tennessee | 321       | 18.4      | 653369    |\n",
       "| Cleveland | Ohio      | 255       | 20.3      | 387451    |\n",
       "| Buffalo   | New York  | 327       | 21.4      | 258463    |\n",
       "| Baltimore | Maryland  | 504       | 24.9      | 616958    |\n",
       "\n"
      ],
      "text/plain": [
       "  City      State     Monthly_Mortgage_Payment Hours_per_Month_to_Afford_a_Home\n",
       "1 Toledo    Ohio      273                      16.9                            \n",
       "2 Memphis   Tennessee 321                      18.4                            \n",
       "3 Cleveland Ohio      255                      20.3                            \n",
       "4 Buffalo   New York  327                      21.4                            \n",
       "5 Baltimore Maryland  504                      24.9                            \n",
       "  population\n",
       "1 278606    \n",
       "2 653369    \n",
       "3 387451    \n",
       "4 258463    \n",
       "5 616958    "
      ]
     },
     "metadata": {},
     "output_type": "display_data"
    }
   ],
   "source": [
    "Hours_to_Pay_Mortgage = Hours_to_Pay_Mortgage %>% \n",
    "  mutate(city_regex_ind = 1:nrow(Hours_to_Pay_Mortgage))\n",
    "\n",
    "Hours_to_Pay_Mortgage$city_regex_ind = \n",
    "  vapply(1:nrow(Hours_to_Pay_Mortgage),\n",
    "         FUN.VALUE = numeric(1),\n",
    "         function(i){\n",
    "           for(j in 1:nrow(city_pop_1)){\n",
    "             if(grepl(pattern = Hours_to_Pay_Mortgage$State[i], \n",
    "                      x = city_pop_1$State[j]) &\n",
    "                grepl(pattern = Hours_to_Pay_Mortgage$City[i], \n",
    "                      x = city_pop_1$City[j])){\n",
    "               return(j)\n",
    "             }\n",
    "             ### Cause \"Winston-Salem\" hyphen causing problems\n",
    "             if(grepl(pattern = Hours_to_Pay_Mortgage$State[i], \n",
    "                      x = city_pop_1$State[j]) &\n",
    "                grepl(pattern = substr(Hours_to_Pay_Mortgage$City[i], 1, 4), \n",
    "                      x = substr(city_pop_1$City[j], 1, 4))){\n",
    "               return(j)\n",
    "             }\n",
    "           }\n",
    "           return(NA)\n",
    "         })\n",
    "\n",
    "Hours_to_Pay_Mortgage = Hours_to_Pay_Mortgage %>% \n",
    "  mutate(population = city_pop_1$population[Hours_to_Pay_Mortgage$city_regex_ind]) %>% \n",
    "  select(-city_regex_ind)\n",
    "\n",
    "Hours_to_Pay_Mortgage %>%\n",
    "slice(1:5)"
   ]
  },
  {
   "cell_type": "markdown",
   "metadata": {},
   "source": [
    "## Get States averages as weighted by city populations"
   ]
  },
  {
   "cell_type": "code",
   "execution_count": 36,
   "metadata": {
    "scrolled": true
   },
   "outputs": [
    {
     "data": {
      "text/html": [
       "<table>\n",
       "<thead><tr><th scope=col>State</th><th scope=col>Monthly_Mortgage_Payment</th><th scope=col>Hours_per_Month_to_Afford_a_Home</th></tr></thead>\n",
       "<tbody>\n",
       "\t<tr><td>Alaska              </td><td>1158.000            </td><td>30.90000            </td></tr>\n",
       "\t<tr><td>Arizona             </td><td>1023.775            </td><td>41.24286            </td></tr>\n",
       "\t<tr><td>California          </td><td>2230.859            </td><td>84.48499            </td></tr>\n",
       "\t<tr><td>Colorado            </td><td>1418.597            </td><td>55.13413            </td></tr>\n",
       "\t<tr><td>District of Columbia</td><td>2000.000            </td><td>58.90000            </td></tr>\n",
       "</tbody>\n",
       "</table>\n"
      ],
      "text/latex": [
       "\\begin{tabular}{r|lll}\n",
       " State & Monthly\\_Mortgage\\_Payment & Hours\\_per\\_Month\\_to\\_Afford\\_a\\_Home\\\\\n",
       "\\hline\n",
       "\t Alaska               & 1158.000             & 30.90000            \\\\\n",
       "\t Arizona              & 1023.775             & 41.24286            \\\\\n",
       "\t California           & 2230.859             & 84.48499            \\\\\n",
       "\t Colorado             & 1418.597             & 55.13413            \\\\\n",
       "\t District of Columbia & 2000.000             & 58.90000            \\\\\n",
       "\\end{tabular}\n"
      ],
      "text/markdown": [
       "\n",
       "| State | Monthly_Mortgage_Payment | Hours_per_Month_to_Afford_a_Home |\n",
       "|---|---|---|\n",
       "| Alaska               | 1158.000             | 30.90000             |\n",
       "| Arizona              | 1023.775             | 41.24286             |\n",
       "| California           | 2230.859             | 84.48499             |\n",
       "| Colorado             | 1418.597             | 55.13413             |\n",
       "| District of Columbia | 2000.000             | 58.90000             |\n",
       "\n"
      ],
      "text/plain": [
       "  State                Monthly_Mortgage_Payment\n",
       "1 Alaska               1158.000                \n",
       "2 Arizona              1023.775                \n",
       "3 California           2230.859                \n",
       "4 Colorado             1418.597                \n",
       "5 District of Columbia 2000.000                \n",
       "  Hours_per_Month_to_Afford_a_Home\n",
       "1 30.90000                        \n",
       "2 41.24286                        \n",
       "3 84.48499                        \n",
       "4 55.13413                        \n",
       "5 58.90000                        "
      ]
     },
     "metadata": {},
     "output_type": "display_data"
    }
   ],
   "source": [
    "Hours_to_Pay_Mortgage_per_state = Hours_to_Pay_Mortgage %>% \n",
    "  group_by(State) %>% \n",
    "  summarise(Monthly_Mortgage_Payment = weighted.mean(Monthly_Mortgage_Payment, population),\n",
    "            Hours_per_Month_to_Afford_a_Home =\n",
    "              weighted.mean(Hours_per_Month_to_Afford_a_Home, population)) %>% \n",
    "  ungroup()\n",
    "\n",
    "Hours_to_Pay_Mortgage_per_state %>%\n",
    "slice(1:5)"
   ]
  },
  {
   "cell_type": "markdown",
   "metadata": {},
   "source": [
    "## Kff summary by state"
   ]
  },
  {
   "cell_type": "code",
   "execution_count": 37,
   "metadata": {
    "scrolled": true
   },
   "outputs": [
    {
     "data": {
      "text/html": [
       "<table>\n",
       "<thead><tr><th scope=col>State</th><th scope=col>cost_per_hospital_visit</th></tr></thead>\n",
       "<tbody>\n",
       "\t<tr><td>Alaska       </td><td>68333.33     </td></tr>\n",
       "\t<tr><td>Vermont      </td><td>58375.00     </td></tr>\n",
       "\t<tr><td>Wyoming      </td><td>57157.14     </td></tr>\n",
       "\t<tr><td>Montana      </td><td>41820.22     </td></tr>\n",
       "\t<tr><td>New Hampshire</td><td>40117.02     </td></tr>\n",
       "</tbody>\n",
       "</table>\n"
      ],
      "text/latex": [
       "\\begin{tabular}{r|ll}\n",
       " State & cost\\_per\\_hospital\\_visit\\\\\n",
       "\\hline\n",
       "\t Alaska        & 68333.33     \\\\\n",
       "\t Vermont       & 58375.00     \\\\\n",
       "\t Wyoming       & 57157.14     \\\\\n",
       "\t Montana       & 41820.22     \\\\\n",
       "\t New Hampshire & 40117.02     \\\\\n",
       "\\end{tabular}\n"
      ],
      "text/markdown": [
       "\n",
       "| State | cost_per_hospital_visit |\n",
       "|---|---|\n",
       "| Alaska        | 68333.33      |\n",
       "| Vermont       | 58375.00      |\n",
       "| Wyoming       | 57157.14      |\n",
       "| Montana       | 41820.22      |\n",
       "| New Hampshire | 40117.02      |\n",
       "\n"
      ],
      "text/plain": [
       "  State         cost_per_hospital_visit\n",
       "1 Alaska        68333.33               \n",
       "2 Vermont       58375.00               \n",
       "3 Wyoming       57157.14               \n",
       "4 Montana       41820.22               \n",
       "5 New Hampshire 40117.02               "
      ]
     },
     "metadata": {},
     "output_type": "display_data"
    }
   ],
   "source": [
    "kff_summary_1 = kff_data %>% \n",
    "  select(State, cost_per_hospital_visit) %>% \n",
    "  arrange(desc(cost_per_hospital_visit))\n",
    "\n",
    "kff_summary_1 %>%\n",
    "slice(1:5)"
   ]
  },
  {
   "cell_type": "code",
   "execution_count": 19,
   "metadata": {},
   "outputs": [
    {
     "data": {},
     "metadata": {},
     "output_type": "display_data"
    },
    {
     "data": {
      "image/png": "[encoded data removed]",
      "text/plain": [
       "plot without title"
      ]
     },
     "metadata": {},
     "output_type": "display_data"
    }
   ],
   "source": [
    "kff_summary_1 %>% \n",
    "  ggplot(aes(cost_per_hospital_visit)) +\n",
    "  geom_density(fill = \"dark blue\") +\n",
    "  theme_bw()"
   ]
  },
  {
   "cell_type": "markdown",
   "metadata": {},
   "source": [
    "## Voila, the answer!\n",
    "#### Combine mortgage and medical data"
   ]
  },
  {
   "cell_type": "code",
   "execution_count": 38,
   "metadata": {
    "scrolled": true
   },
   "outputs": [
    {
     "data": {
      "text/html": [
       "<table>\n",
       "<thead><tr><th scope=col>State</th><th scope=col>years_of_work_to_pay_hospital_visit</th><th scope=col>Months_equiv</th></tr></thead>\n",
       "<tbody>\n",
       "\t<tr><td>Wisconsin</td><td>0.9238227</td><td>11.08587 </td></tr>\n",
       "\t<tr><td>Alaska   </td><td>0.9117012</td><td>10.94041 </td></tr>\n",
       "\t<tr><td>Indiana  </td><td>0.8510777</td><td>10.21293 </td></tr>\n",
       "\t<tr><td>Ohio     </td><td>0.8441653</td><td>10.12998 </td></tr>\n",
       "\t<tr><td>Maryland </td><td>0.8360610</td><td>10.03273 </td></tr>\n",
       "</tbody>\n",
       "</table>\n"
      ],
      "text/latex": [
       "\\begin{tabular}{r|lll}\n",
       " State & years\\_of\\_work\\_to\\_pay\\_hospital\\_visit & Months\\_equiv\\\\\n",
       "\\hline\n",
       "\t Wisconsin & 0.9238227 & 11.08587 \\\\\n",
       "\t Alaska    & 0.9117012 & 10.94041 \\\\\n",
       "\t Indiana   & 0.8510777 & 10.21293 \\\\\n",
       "\t Ohio      & 0.8441653 & 10.12998 \\\\\n",
       "\t Maryland  & 0.8360610 & 10.03273 \\\\\n",
       "\\end{tabular}\n"
      ],
      "text/markdown": [
       "\n",
       "| State | years_of_work_to_pay_hospital_visit | Months_equiv |\n",
       "|---|---|---|\n",
       "| Wisconsin | 0.9238227 | 11.08587  |\n",
       "| Alaska    | 0.9117012 | 10.94041  |\n",
       "| Indiana   | 0.8510777 | 10.21293  |\n",
       "| Ohio      | 0.8441653 | 10.12998  |\n",
       "| Maryland  | 0.8360610 | 10.03273  |\n",
       "\n"
      ],
      "text/plain": [
       "  State     years_of_work_to_pay_hospital_visit Months_equiv\n",
       "1 Wisconsin 0.9238227                           11.08587    \n",
       "2 Alaska    0.9117012                           10.94041    \n",
       "3 Indiana   0.8510777                           10.21293    \n",
       "4 Ohio      0.8441653                           10.12998    \n",
       "5 Maryland  0.8360610                           10.03273    "
      ]
     },
     "metadata": {},
     "output_type": "display_data"
    }
   ],
   "source": [
    "Mortgage_and_medical = Hours_to_Pay_Mortgage_per_state %>% \n",
    "  left_join(kff_data, by = \"State\") %>% \n",
    "  mutate(years_of_work_to_pay_hospital_visit = cost_per_hospital_visit / Monthly_Mortgage_Payment * Hours_per_Month_to_Afford_a_Home / 40 / 50)\n",
    "\n",
    "### Sort by years needed\n",
    "Mortgage_and_medical %>% \n",
    "  arrange(desc(years_of_work_to_pay_hospital_visit)) %>% \n",
    "  select(State, years_of_work_to_pay_hospital_visit) %>% \n",
    "  mutate(Months_equiv = years_of_work_to_pay_hospital_visit * 12) %>%\n",
    "slice(1:5)"
   ]
  },
  {
   "cell_type": "markdown",
   "metadata": {},
   "source": [
    "There are 5 states where the median household would need to work 10 months to afford ne medical visit.\n",
    "<br>More evidence of health insurance's benefit/necessity.\n",
    "\n",
    "## Visualize the states\n",
    "#### Density and cumulative density"
   ]
  },
  {
   "cell_type": "code",
   "execution_count": 21,
   "metadata": {},
   "outputs": [
    {
     "data": {},
     "metadata": {},
     "output_type": "display_data"
    },
    {
     "data": {},
     "metadata": {},
     "output_type": "display_data"
    },
    {
     "data": {
      "image/png": "[encoded data removed]",
      "text/plain": [
       "plot without title"
      ]
     },
     "metadata": {},
     "output_type": "display_data"
    },
    {
     "data": {
      "image/png": "[encoded data removed]",
      "text/plain": [
       "plot without title"
      ]
     },
     "metadata": {},
     "output_type": "display_data"
    }
   ],
   "source": [
    "Mortgage_and_medical %>% \n",
    "  ggplot(aes(x = years_of_work_to_pay_hospital_visit)) +\n",
    "  geom_density(fill = \"dark blue\") +\n",
    "  theme_bw() +\n",
    "  xlim(c(0, 1))\n",
    "\n",
    "Mortgage_and_medical %>% \n",
    "  ggplot(aes(x = years_of_work_to_pay_hospital_visit)) +\n",
    "  geom_step(aes(y=..y..),stat=\"ecdf\") +\n",
    "  theme_bw() +\n",
    "  xlim(c(0, 1))"
   ]
  },
  {
   "cell_type": "markdown",
   "metadata": {},
   "source": [
    "# Using presidential election results, lets compare red/blue states\n",
    "## load votes data"
   ]
  },
  {
   "cell_type": "code",
   "execution_count": 39,
   "metadata": {
    "scrolled": true
   },
   "outputs": [
    {
     "data": {
      "text/html": [
       "<table>\n",
       "<thead><tr><th scope=col>State</th><th scope=col>DJT_vote_perc_2016</th><th scope=col>DJT_WIN</th></tr></thead>\n",
       "<tbody>\n",
       "\t<tr><td>Alabama </td><td>0.63    </td><td>1       </td></tr>\n",
       "\t<tr><td>Alaska  </td><td>0.53    </td><td>1       </td></tr>\n",
       "\t<tr><td>Arizona </td><td>0.50    </td><td>1       </td></tr>\n",
       "\t<tr><td>Arkansas</td><td>0.60    </td><td>1       </td></tr>\n",
       "\t<tr><td>Florida </td><td>0.49    </td><td>1       </td></tr>\n",
       "</tbody>\n",
       "</table>\n"
      ],
      "text/latex": [
       "\\begin{tabular}{r|lll}\n",
       " State & DJT\\_vote\\_perc\\_2016 & DJT\\_WIN\\\\\n",
       "\\hline\n",
       "\t Alabama  & 0.63     & 1       \\\\\n",
       "\t Alaska   & 0.53     & 1       \\\\\n",
       "\t Arizona  & 0.50     & 1       \\\\\n",
       "\t Arkansas & 0.60     & 1       \\\\\n",
       "\t Florida  & 0.49     & 1       \\\\\n",
       "\\end{tabular}\n"
      ],
      "text/markdown": [
       "\n",
       "| State | DJT_vote_perc_2016 | DJT_WIN |\n",
       "|---|---|---|\n",
       "| Alabama  | 0.63     | 1        |\n",
       "| Alaska   | 0.53     | 1        |\n",
       "| Arizona  | 0.50     | 1        |\n",
       "| Arkansas | 0.60     | 1        |\n",
       "| Florida  | 0.49     | 1        |\n",
       "\n"
      ],
      "text/plain": [
       "  State    DJT_vote_perc_2016 DJT_WIN\n",
       "1 Alabama  0.63               1      \n",
       "2 Alaska   0.53               1      \n",
       "3 Arizona  0.50               1      \n",
       "4 Arkansas 0.60               1      \n",
       "5 Florida  0.49               1      "
      ]
     },
     "metadata": {},
     "output_type": "display_data"
    }
   ],
   "source": [
    "votes = read.csv(\"votes_taxes_data_1.csv\", stringsAsFactors = FALSE) %>% \n",
    "  select(State, DJT_vote_perc_2016, DJT_WIN)\n",
    "\n",
    "votes %>%\n",
    "slice(1:5)"
   ]
  },
  {
   "cell_type": "code",
   "execution_count": 23,
   "metadata": {},
   "outputs": [
    {
     "data": {},
     "metadata": {},
     "output_type": "display_data"
    },
    {
     "data": {},
     "metadata": {},
     "output_type": "display_data"
    },
    {
     "data": {
      "image/png": "[encoded data removed]",
      "text/plain": [
       "plot without title"
      ]
     },
     "metadata": {},
     "output_type": "display_data"
    },
    {
     "data": {
      "image/png": "[encoded data removed]",
      "text/plain": [
       "plot without title"
      ]
     },
     "metadata": {},
     "output_type": "display_data"
    }
   ],
   "source": [
    "Mortgage_medical_votes = Mortgage_and_medical %>% \n",
    "  left_join(votes, by = \"State\")\n",
    "\n",
    "Mortgage_medical_votes %>%\n",
    "  mutate(DJT_win = ifelse(DJT_WIN == 1, \"DJT\", \"HRC\")) %>% \n",
    "  ggplot(aes(x = years_of_work_to_pay_hospital_visit, fill = DJT_win)) +\n",
    "  geom_density(alpha = 0.7) +\n",
    "  scale_fill_brewer(palette = \"Set1\")\n",
    "\n",
    "Mortgage_medical_votes %>%\n",
    "  mutate(DJT_win = ifelse(DJT_WIN == 1, \"DJT\", \"HRC\")) %>% \n",
    "  ggplot(aes(x = years_of_work_to_pay_hospital_visit, color = DJT_win)) +\n",
    "  geom_step(aes(y=..y..),stat=\"ecdf\") +\n",
    "  theme_bw() +\n",
    "  xlim(c(0, 1))"
   ]
  },
  {
   "cell_type": "markdown",
   "metadata": {},
   "source": [
    "Are red states more expensive to live in for the sick? \n",
    "<br>The data look too close to tell. \n",
    "\n",
    "## What about T testing?"
   ]
  },
  {
   "cell_type": "code",
   "execution_count": 24,
   "metadata": {},
   "outputs": [
    {
     "data": {
      "text/plain": [
       "\n",
       "\tWelch Two Sample t-test\n",
       "\n",
       "data:  Mortgage_medical_votes$years_of_work_to_pay_hospital_visit[which_DJT_win] and Mortgage_medical_votes$years_of_work_to_pay_hospital_visit[-which_DJT_win]\n",
       "t = 1.3239, df = 29.959, p-value = 0.09777\n",
       "alternative hypothesis: true difference in means is greater than 0\n",
       "95 percent confidence interval:\n",
       " -0.01671016         Inf\n",
       "sample estimates:\n",
       "mean of x mean of y \n",
       "0.6984458 0.6392046 \n"
      ]
     },
     "metadata": {},
     "output_type": "display_data"
    }
   ],
   "source": [
    "which_DJT_win = which(Mortgage_medical_votes$DJT_WIN == 1)\n",
    "t.test(x = Mortgage_medical_votes$years_of_work_to_pay_hospital_visit[which_DJT_win],\n",
    "       y = Mortgage_medical_votes$years_of_work_to_pay_hospital_visit[-which_DJT_win],\n",
    "       alternative = \"greater\")"
   ]
  },
  {
   "cell_type": "markdown",
   "metadata": {},
   "source": [
    "So, given the \"crisis of repeatability\" circling these days, the frequentist interpretation is also \"too close to call\". The data meets a 10% threshold\n",
    "\n",
    "## Heat map the results"
   ]
  },
  {
   "cell_type": "code",
   "execution_count": 25,
   "metadata": {},
   "outputs": [
    {
     "data": {},
     "metadata": {},
     "output_type": "display_data"
    },
    {
     "data": {
      "image/png": "[encoded data removed]",
      "text/plain": [
       "plot without title"
      ]
     },
     "metadata": {},
     "output_type": "display_data"
    }
   ],
   "source": [
    "all_states <- map_data(\"state\") %>% \n",
    "  left_join(Mortgage_and_medical %>% \n",
    "              mutate(state = tolower(State)) %>% \n",
    "              select(state, years_of_work_to_pay_hospital_visit),\n",
    "            by = c(\"region\" = \"state\")) %>% \n",
    "  rename(years_of_work = years_of_work_to_pay_hospital_visit)\n",
    "\n",
    "### plot all states with ggplot\n",
    "ggplot() +\n",
    "  geom_polygon(data=all_states, aes(x=long, y=lat, group = group, \n",
    "                                    fill = years_of_work), colour=\"white\") +\n",
    "  scale_fill_continuous(low = \"yellow\", high = \"red\")"
   ]
  },
  {
   "cell_type": "code",
   "execution_count": null,
   "metadata": {},
   "outputs": [],
   "source": []
  }
 ],
 "metadata": {
  "kernelspec": {
   "display_name": "R",
   "language": "R",
   "name": "ir"
  },
  "language_info": {
   "codemirror_mode": "r",
   "file_extension": ".r",
   "mimetype": "text/x-r-source",
   "name": "R",
   "pygments_lexer": "r",
   "version": "3.4.2"
  },
  "varInspector": {
   "cols": {
    "lenName": 16,
    "lenType": 16,
    "lenVar": 40
   },
   "kernels_config": {
    "python": {
     "delete_cmd_postfix": "",
     "delete_cmd_prefix": "del ",
     "library": "var_list.py",
     "varRefreshCmd": "print(var_dic_list())"
    },
    "r": {
     "delete_cmd_postfix": ") ",
     "delete_cmd_prefix": "rm(",
     "library": "var_list.r",
     "varRefreshCmd": "cat(var_dic_list()) "
    }
   },
   "types_to_exclude": [
    "module",
    "function",
    "builtin_function_or_method",
    "instance",
    "_Feature"
   ],
   "window_display": false
  }
 },
 "nbformat": 4,
 "nbformat_minor": 2
}
