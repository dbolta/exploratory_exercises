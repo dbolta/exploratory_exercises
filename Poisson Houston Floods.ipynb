{
 "cells": [
  {
   "cell_type": "markdown",
   "metadata": {},
   "source": [
    "# Poisson Distributed Houston Flooding\n",
    "__Historic flood data__\n",
    "<br>https://weather.com/storms/severe/news/2019-05-09-houston-americas-flood-capital"
   ]
  },
  {
   "cell_type": "code",
   "execution_count": 3,
   "metadata": {},
   "outputs": [],
   "source": [
    "import numpy as np\n",
    "import scipy.stats\n",
    "import collections"
   ]
  },
  {
   "cell_type": "code",
   "execution_count": 74,
   "metadata": {},
   "outputs": [
    {
     "data": {
      "text/plain": [
       "[1, 1, 3, 2, 2, 4, 2, 1, 2, 0, 1, 0, 0, 1]"
      ]
     },
     "execution_count": 74,
     "metadata": {},
     "output_type": "execute_result"
    }
   ],
   "source": [
    "days_per_yr_with_flood = [1, 2, 6, 8, 3, 5, 3, 5, 5, 2, 6, 2, 0, 5, 4, 8, 10, 7, 13, 4]\n",
    "num_yrs = len(days_per_yr_with_flood)\n",
    "freq_of_observ = collections.Counter(days_per_yr_with_flood)\n",
    "freq_of_observ = [freq_of_observ[i] for i in range(14)]\n",
    "# num_yrs = sum(freq_of_observ)\n",
    "freq_of_observ"
   ]
  },
  {
   "cell_type": "code",
   "execution_count": 75,
   "metadata": {},
   "outputs": [
    {
     "data": {
      "text/plain": [
       "99"
      ]
     },
     "execution_count": 75,
     "metadata": {},
     "output_type": "execute_result"
    }
   ],
   "source": [
    "num_days_with_flood = np.sum(days_per_yr_with_flood)\n",
    "num_days_with_flood"
   ]
  },
  {
   "cell_type": "markdown",
   "metadata": {},
   "source": [
    "__Avg time between flood days.__"
   ]
  },
  {
   "cell_type": "code",
   "execution_count": 76,
   "metadata": {},
   "outputs": [
    {
     "data": {
      "text/plain": [
       "4.95"
      ]
     },
     "execution_count": 76,
     "metadata": {},
     "output_type": "execute_result"
    }
   ],
   "source": [
    "mu = num_days_with_flood / num_yrs\n",
    "mu"
   ]
  },
  {
   "cell_type": "code",
   "execution_count": 85,
   "metadata": {},
   "outputs": [
    {
     "data": {
      "text/plain": [
       "[0.7012574839761597, 1.7356122728409953, 2.8637602501876436, 3.543903309607207]"
      ]
     },
     "execution_count": 85,
     "metadata": {},
     "output_type": "execute_result"
    }
   ],
   "source": [
    "freq_expected = [scipy.stats.poisson.pmf(k = i, mu = mu) * num_yrs\n",
    "                 for i in range(len(freq_of_observ))]\n",
    "freq_expected[1:5]"
   ]
  },
  {
   "cell_type": "markdown",
   "metadata": {},
   "source": [
    "__Check poisson distribution goodness of fit__"
   ]
  },
  {
   "cell_type": "code",
   "execution_count": 81,
   "metadata": {},
   "outputs": [
    {
     "data": {
      "text/plain": [
       "Power_divergenceResult(statistic=10.429062340331107, pvalue=0.3168790351853755)"
      ]
     },
     "execution_count": 81,
     "metadata": {},
     "output_type": "execute_result"
    }
   ],
   "source": [
    "scipy.stats.chisquare(f_obs = freq_of_observ[0:11],\n",
    "                      f_exp = freq_expected[0:11],\n",
    "                      ddof = 1) # -1 df cause mu estimated"
   ]
  },
  {
   "cell_type": "markdown",
   "metadata": {},
   "source": [
    "__32% is not great but cannot reject at 95% confidence__\n",
    "<br>Let's roll with this assumption"
   ]
  },
  {
   "cell_type": "markdown",
   "metadata": {},
   "source": [
    "__Check how likely floods are to occur within 1 month of each other__"
   ]
  },
  {
   "cell_type": "code",
   "execution_count": 83,
   "metadata": {},
   "outputs": [
    {
     "data": {
      "text/plain": [
       "0.338006803309166"
      ]
     },
     "execution_count": 83,
     "metadata": {},
     "output_type": "execute_result"
    }
   ],
   "source": [
    "time_to_investigate = 1/12\n",
    "\n",
    "prob_of_time_between_occurences = 1 - np.exp(-1 * mu * time_to_investigate) # this amount of time or less\n",
    "\n",
    "prob_of_time_between_occurences"
   ]
  },
  {
   "cell_type": "markdown",
   "metadata": {},
   "source": [
    "__34% chance of a flood day occuring with 1 month of the previous.__\n",
    "<br><br><br><br>\n",
    "__What about 1 year apart?__"
   ]
  },
  {
   "cell_type": "code",
   "execution_count": 84,
   "metadata": {},
   "outputs": [
    {
     "data": {
      "text/plain": [
       "0.9929165910709479"
      ]
     },
     "execution_count": 84,
     "metadata": {},
     "output_type": "execute_result"
    }
   ],
   "source": [
    "time_to_investigate = 1\n",
    "\n",
    "prob_of_time_between_occurences = 1 - np.exp(-1 * mu * time_to_investigate) # this amount of time or less\n",
    "\n",
    "prob_of_time_between_occurences"
   ]
  },
  {
   "cell_type": "markdown",
   "metadata": {},
   "source": [
    "__Wow- 99% chance of having a flood within 1 year of the last flood!__"
   ]
  }
 ],
 "metadata": {
  "kernelspec": {
   "display_name": "Python 3",
   "language": "python",
   "name": "python3"
  },
  "language_info": {
   "codemirror_mode": {
    "name": "ipython",
    "version": 3
   },
   "file_extension": ".py",
   "mimetype": "text/x-python",
   "name": "python",
   "nbconvert_exporter": "python",
   "pygments_lexer": "ipython3",
   "version": "3.7.3"
  },
  "varInspector": {
   "cols": {
    "lenName": 16,
    "lenType": 16,
    "lenVar": 40
   },
   "kernels_config": {
    "python": {
     "delete_cmd_postfix": "",
     "delete_cmd_prefix": "del ",
     "library": "var_list.py",
     "varRefreshCmd": "print(var_dic_list())"
    },
    "r": {
     "delete_cmd_postfix": ") ",
     "delete_cmd_prefix": "rm(",
     "library": "var_list.r",
     "varRefreshCmd": "cat(var_dic_list()) "
    }
   },
   "types_to_exclude": [
    "module",
    "function",
    "builtin_function_or_method",
    "instance",
    "_Feature"
   ],
   "window_display": false
  }
 },
 "nbformat": 4,
 "nbformat_minor": 2
}
