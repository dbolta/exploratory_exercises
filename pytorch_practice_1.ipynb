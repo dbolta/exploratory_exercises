{
 "cells": [
  {
   "cell_type": "markdown",
   "metadata": {},
   "source": [
    "### Start with numpy data"
   ]
  },
  {
   "cell_type": "code",
   "execution_count": 1,
   "metadata": {},
   "outputs": [],
   "source": [
    "import numpy as np"
   ]
  },
  {
   "cell_type": "markdown",
   "metadata": {},
   "source": [
    "#### Create a numeric data set with 3 inputs and 1 output"
   ]
  },
  {
   "cell_type": "code",
   "execution_count": 2,
   "metadata": {},
   "outputs": [
    {
     "data": {
      "text/plain": [
       "(1000, 4)"
      ]
     },
     "execution_count": 2,
     "metadata": {},
     "output_type": "execute_result"
    }
   ],
   "source": [
    "num_rows = 1000\n",
    "\n",
    "np.random.seed(1234)\n",
    "data_1 = np.random.normal(loc=0, scale=1.0, size=[num_rows, 3])\n",
    "\n",
    "# Calculate the label column\n",
    "data_1 = np.hstack((data_1,\n",
    "                    np.apply_along_axis(func1d = lambda x: x[1] * np.sin(x[0]) + x[2],\n",
    "                                        axis = 1,\n",
    "                                        arr = data_1).reshape(num_rows, 1)))\n",
    "#data_1\n",
    "data_1.shape"
   ]
  },
  {
   "cell_type": "markdown",
   "metadata": {},
   "source": [
    "#### Matplotlib"
   ]
  },
  {
   "cell_type": "code",
   "execution_count": 3,
   "metadata": {},
   "outputs": [],
   "source": [
    "import matplotlib.pyplot as plt"
   ]
  },
  {
   "cell_type": "code",
   "execution_count": 4,
   "metadata": {},
   "outputs": [
    {
     "data": {
      "image/png": "[encoded data removed]",
      "text/plain": [
       "<Figure size 432x288 with 1 Axes>"
      ]
     },
     "metadata": {},
     "output_type": "display_data"
    }
   ],
   "source": [
    "plt.scatter(data_1[:, 0], data_1[:, 3], color='darkgreen')\n",
    "plt.show()"
   ]
  },
  {
   "cell_type": "markdown",
   "metadata": {},
   "source": [
    "### Pytorch with optim\n",
    "https://pytorch.org/tutorials/beginner/pytorch_with_examples.html#nn-module"
   ]
  },
  {
   "cell_type": "code",
   "execution_count": 6,
   "metadata": {},
   "outputs": [],
   "source": [
    "import torch"
   ]
  },
  {
   "cell_type": "code",
   "execution_count": 7,
   "metadata": {},
   "outputs": [],
   "source": [
    "# Create tensors from np data\n",
    "x = torch.from_numpy(data_1[:,0:3])\n",
    "y = torch.from_numpy(data_1[:,3])"
   ]
  },
  {
   "cell_type": "code",
   "execution_count": 29,
   "metadata": {},
   "outputs": [],
   "source": [
    "# N is batch size; D_in is input dimension;\n",
    "# H is hidden dimension; D_out is output dimension.\n",
    "N, D_in = x.shape\n",
    "H1 = 32\n",
    "H2 = 28\n",
    "H3 = 16\n",
    "H4 = 4\n",
    "D_out = 1"
   ]
  },
  {
   "cell_type": "code",
   "execution_count": 30,
   "metadata": {},
   "outputs": [],
   "source": [
    "# Use the nn package to define our model and loss function.\n",
    "model = torch.nn.Sequential(\n",
    "    torch.nn.Linear(D_in, H1),\n",
    "    torch.nn.ReLU(),\n",
    "    torch.nn.Linear(H1, H2),\n",
    "    torch.nn.ReLU(),\n",
    "    torch.nn.Linear(H2, H3),\n",
    "    torch.nn.ReLU(),\n",
    "    torch.nn.Linear(H3, H4),\n",
    "    torch.nn.ReLU(),\n",
    "    torch.nn.Linear(H4, D_out),\n",
    ")\n",
    "loss_fn = torch.nn.MSELoss(reduction='sum')"
   ]
  },
  {
   "cell_type": "code",
   "execution_count": 90,
   "metadata": {},
   "outputs": [
    {
     "name": "stdout",
     "output_type": "stream",
     "text": [
      "99 1412052.375\n",
      "199 1412052.375\n",
      "299 1412052.375\n",
      "399 1412052.375\n",
      "499 1412052.375\n",
      "599 1412052.375\n",
      "699 1412052.375\n",
      "799 1412052.375\n",
      "899 1412052.375\n",
      "999 1412052.375\n",
      "1099 1412052.375\n",
      "1199 1412052.375\n",
      "1299 1412052.375\n",
      "1399 1412052.375\n",
      "1499 1412052.375\n",
      "1599 1412052.375\n",
      "1699 1412052.375\n",
      "1799 1412052.375\n",
      "1899 1412052.375\n",
      "1999 1412052.375\n"
     ]
    }
   ],
   "source": [
    "# Use the optim package to define an Optimizer that will update the weights of\n",
    "# the model for us. Here we will use Adam; the optim package contains many other\n",
    "# optimization algoriths. The first argument to the Adam constructor tells the\n",
    "# optimizer which Tensors it should update.\n",
    "learning_rate = 1e-4\n",
    "optimizer = torch.optim.Adam(model.parameters(), lr=learning_rate)\n",
    "for t in range(2000):\n",
    "    # Forward pass: compute predicted y by passing x to the model.\n",
    "    y_pred = model(x.float())\n",
    "\n",
    "    # Compute and print loss.\n",
    "    loss = loss_fn(y_pred, y.float())\n",
    "    if (t + 1) % 100 == 0:\n",
    "        print(t, loss.item())\n",
    "\n",
    "    # Before the backward pass, use the optimizer object to zero all of the\n",
    "    # gradients for the variables it will update (which are the learnable\n",
    "    # weights of the model). This is because by default, gradients are\n",
    "    # accumulated in buffers( i.e, not overwritten) whenever .backward()\n",
    "    # is called. Checkout docs of torch.autograd.backward for more details.\n",
    "    optimizer.zero_grad()\n",
    "\n",
    "    # Backward pass: compute gradient of the loss with respect to model\n",
    "    # parameters\n",
    "    loss.backward()\n",
    "\n",
    "    # Calling the step function on an Optimizer makes an update to its\n",
    "    # parameters\n",
    "    optimizer.step()"
   ]
  },
  {
   "cell_type": "markdown",
   "metadata": {},
   "source": [
    "#### Perturb the weights"
   ]
  },
  {
   "cell_type": "code",
   "execution_count": 82,
   "metadata": {},
   "outputs": [],
   "source": [
    "#list(model.parameters())[1]\n",
    "manipulated_state_dict = model.state_dict()\n",
    "for i in model.state_dict().keys():\n",
    "    manipulated_state_dict[i] = \\\n",
    "    torch.add(model.state_dict()[i],\n",
    "              torch.distributions.normal.Normal(0.0, 0.1).sample(model.state_dict()[i].shape))\n",
    "model.load_state_dict(manipulated_state_dict)"
   ]
  },
  {
   "cell_type": "code",
   "execution_count": null,
   "metadata": {},
   "outputs": [],
   "source": []
  }
 ],
 "metadata": {
  "kernelspec": {
   "display_name": "Python 3",
   "language": "python",
   "name": "python3"
  },
  "language_info": {
   "codemirror_mode": {
    "name": "ipython",
    "version": 3
   },
   "file_extension": ".py",
   "mimetype": "text/x-python",
   "name": "python",
   "nbconvert_exporter": "python",
   "pygments_lexer": "ipython3",
   "version": "3.6.5"
  }
 },
 "nbformat": 4,
 "nbformat_minor": 2
}
