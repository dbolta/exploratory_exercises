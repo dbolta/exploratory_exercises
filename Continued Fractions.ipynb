{
 "cells": [
  {
   "cell_type": "markdown",
   "metadata": {},
   "source": [
    "Inspired by YouTube Mathologer Video\n",
    "<br>https://www.youtube.com/watch?v=CaasbfdJdJg\n",
    "<br>Supporting material at\n",
    "<br>http://mathworld.wolfram.com/GeneralizedContinuedFraction.html"
   ]
  },
  {
   "cell_type": "code",
   "execution_count": 1,
   "metadata": {},
   "outputs": [],
   "source": [
    "import numpy as np"
   ]
  },
  {
   "cell_type": "code",
   "execution_count": 47,
   "metadata": {},
   "outputs": [],
   "source": [
    "### Irrationals list\n",
    "golden = (1 + 5 ** 0.5) / 2\n",
    "pi = np.pi"
   ]
  },
  {
   "cell_type": "code",
   "execution_count": 2,
   "metadata": {},
   "outputs": [],
   "source": [
    "def create_cont_fraction(working_number, depth):\n",
    "    integer_parts = []\n",
    "    for i in range(depth):\n",
    "        integer_parts.append(np.floor(working_number))\n",
    "        working_number = working_number - np.floor(working_number)\n",
    "        working_number = 1 / working_number\n",
    "    return(integer_parts)"
   ]
  },
  {
   "cell_type": "code",
   "execution_count": 3,
   "metadata": {},
   "outputs": [],
   "source": [
    "def resolve_cont_fraction(integers_list):\n",
    "    integers_list.reverse()\n",
    "    original_irrational = integers_list[0]\n",
    "    for i in integers_list[1:]:\n",
    "        original_irrational = i + 1/original_irrational\n",
    "    return(original_irrational)    "
   ]
  },
  {
   "cell_type": "code",
   "execution_count": 43,
   "metadata": {},
   "outputs": [
    {
     "data": {
      "text/plain": [
       "23"
      ]
     },
     "execution_count": 43,
     "metadata": {},
     "output_type": "execute_result"
    }
   ],
   "source": [
    "working_irrational = np.sqrt(2)\n",
    "\n",
    "i = 0\n",
    "error = 0.1\n",
    "max_iterations = 1000\n",
    "while np.abs(error) > 0.0 and i < max_iterations:\n",
    "    i += 1\n",
    "    error = resolve_cont_fraction(integers_list = \n",
    "                                  create_cont_fraction(working_number = working_irrational, \n",
    "                                                       depth = i)\n",
    "                                 ) - working_irrational\n",
    "    \n",
    "i"
   ]
  },
  {
   "cell_type": "code",
   "execution_count": 44,
   "metadata": {},
   "outputs": [
    {
     "data": {
      "text/plain": [
       "0.0"
      ]
     },
     "execution_count": 44,
     "metadata": {},
     "output_type": "execute_result"
    }
   ],
   "source": [
    "resolve_cont_fraction(integers_list = create_cont_fraction(working_number = working_irrational, depth = i)) - \\\n",
    "working_irrational"
   ]
  },
  {
   "cell_type": "code",
   "execution_count": 45,
   "metadata": {},
   "outputs": [
    {
     "data": {
      "text/plain": [
       "[1.0,\n",
       " 2.0,\n",
       " 2.0,\n",
       " 2.0,\n",
       " 2.0,\n",
       " 2.0,\n",
       " 2.0,\n",
       " 2.0,\n",
       " 2.0,\n",
       " 2.0,\n",
       " 2.0,\n",
       " 2.0,\n",
       " 2.0,\n",
       " 2.0,\n",
       " 2.0,\n",
       " 2.0,\n",
       " 2.0,\n",
       " 2.0,\n",
       " 2.0,\n",
       " 2.0,\n",
       " 2.0,\n",
       " 1.0,\n",
       " 1.0]"
      ]
     },
     "execution_count": 45,
     "metadata": {},
     "output_type": "execute_result"
    }
   ],
   "source": [
    "create_cont_fraction(working_number = working_irrational, depth = i)"
   ]
  },
  {
   "cell_type": "code",
   "execution_count": null,
   "metadata": {},
   "outputs": [],
   "source": []
  }
 ],
 "metadata": {
  "kernelspec": {
   "display_name": "Python 3",
   "language": "python",
   "name": "python3"
  },
  "language_info": {
   "codemirror_mode": {
    "name": "ipython",
    "version": 3
   },
   "file_extension": ".py",
   "mimetype": "text/x-python",
   "name": "python",
   "nbconvert_exporter": "python",
   "pygments_lexer": "ipython3",
   "version": "3.6.8"
  }
 },
 "nbformat": 4,
 "nbformat_minor": 2
}
