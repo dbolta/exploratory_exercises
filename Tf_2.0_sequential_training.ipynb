{
 "cells": [
  {
   "cell_type": "code",
   "execution_count": 1,
   "metadata": {},
   "outputs": [
    {
     "name": "stdout",
     "output_type": "stream",
     "text": [
      "2.0.0\n"
     ]
    }
   ],
   "source": [
    "import numpy as np\n",
    "import pandas as pd\n",
    "import matplotlib.pyplot as plt\n",
    "import tensorflow as tf\n",
    "print(tf.__version__)"
   ]
  },
  {
   "cell_type": "code",
   "execution_count": 2,
   "metadata": {},
   "outputs": [
    {
     "name": "stdout",
     "output_type": "stream",
     "text": [
      "[[ 2.1 -0.5 10.   3.2 22.  10. ]]\n"
     ]
    }
   ],
   "source": [
    "full_training_inputs = np.array([[-1.2, -37]\n",
    "                                 , [1.,1.]\n",
    "                                 , [2., 1.]\n",
    "                                 , [4, 1]\n",
    "                                 , [1.,2.]\n",
    "                                 , [4, 6]                                 \n",
    "                              ])\n",
    "#print(full_training_inputs)\n",
    "full_training_outputs = np.array([[2.1\n",
    "                                   , -0.5\n",
    "                                   , 10\n",
    "                                   , 3.2\n",
    "                                   , 22\n",
    "                                   , 10                                   \n",
    "                                ]])\n",
    "print(full_training_outputs)"
   ]
  },
  {
   "cell_type": "code",
   "execution_count": 3,
   "metadata": {},
   "outputs": [],
   "source": [
    "class NNet_init(tf.keras.Model):\n",
    "  def __init__(self):\n",
    "    super(NNet_init, self).__init__()\n",
    "    self.weights_var = tf.Variable([[1.,  0.9]\n",
    "                                    ], name = \"weights_var\")\n",
    "    self.bias_var = tf.Variable([[1.]\n",
    "                                 ], name = \"bias_var\")\n",
    "    self.weights_out_var = tf.Variable([[1.\n",
    "                                         ]], name = \"weights_out_var\")\n",
    "    \n",
    "    \n",
    "    \n",
    "  def call(self, input_data):\n",
    "    input_data = tf.transpose(input_data)\n",
    "    layer_1_var = tf.linalg.matmul(self.weights_var, input_data) + self.bias_var\n",
    "    layer_1_var_activated = tf.nn.leaky_relu(layer_1_var)\n",
    "    layer_out_var = tf.linalg.matmul(self.weights_out_var, layer_1_var_activated)\n",
    "    \n",
    "    return layer_out_var"
   ]
  },
  {
   "cell_type": "code",
   "execution_count": 4,
   "metadata": {},
   "outputs": [
    {
     "name": "stdout",
     "output_type": "stream",
     "text": [
      "tf.Tensor([[ -1.2 -37. ]], shape=(1, 2), dtype=float32)\n",
      "tf.Tensor([[2.1]], shape=(1, 1), dtype=float32)\n"
     ]
    }
   ],
   "source": [
    "training_inputs = tf.constant(full_training_inputs[0,:].reshape((1,2))\n",
    "                             , dtype = \"float32\")\n",
    "print(training_inputs)\n",
    "training_outputs = tf.constant(full_training_outputs[0,0].reshape((1,1))\n",
    "                              , dtype = \"float32\")\n",
    "print(training_outputs)"
   ]
  },
  {
   "cell_type": "code",
   "execution_count": 5,
   "metadata": {},
   "outputs": [],
   "source": [
    "# The loss function to be optimized\n",
    "def loss(model, inputs, targets):\n",
    "  error = model(inputs) - targets\n",
    "  return tf.reduce_mean(tf.square(error))\n",
    "\n",
    "def grad(model, inputs, targets):\n",
    "  with tf.GradientTape() as tape:\n",
    "    loss_value = loss(model, inputs, targets)\n",
    "  return tape.gradient(loss_value, [model.weights_var\n",
    "                                    , model.bias_var\n",
    "                                    , model.weights_out_var\n",
    "                                    ])"
   ]
  },
  {
   "cell_type": "code",
   "execution_count": 6,
   "metadata": {},
   "outputs": [],
   "source": [
    "model = NNet_init()"
   ]
  },
  {
   "cell_type": "code",
   "execution_count": 7,
   "metadata": {},
   "outputs": [
    {
     "name": "stdout",
     "output_type": "stream",
     "text": [
      "Initial loss: 77.440\n"
     ]
    }
   ],
   "source": [
    "optimizer = (tf.keras.optimizers.Adam()\n",
    "            )\n",
    "\n",
    "print(\"Initial loss: {:.3f}\".format(loss(model, training_inputs, training_outputs)))"
   ]
  },
  {
   "cell_type": "code",
   "execution_count": 8,
   "metadata": {},
   "outputs": [
    {
     "name": "stdout",
     "output_type": "stream",
     "text": [
      "tf.Tensor([[  4.2240005 130.24     ]], shape=(1, 2), dtype=float32)\n",
      "tf.Tensor([[-3.5200002]], shape=(1, 1), dtype=float32)\n",
      "tf.Tensor([[117.920006]], shape=(1, 1), dtype=float32)\n"
     ]
    }
   ],
   "source": [
    "grads = grad(model, training_inputs, training_outputs)\n",
    "for i in range(len(grads)):\n",
    "    print(grads[i])"
   ]
  },
  {
   "cell_type": "code",
   "execution_count": 9,
   "metadata": {},
   "outputs": [
    {
     "data": {
      "text/plain": [
       "77.18445"
      ]
     },
     "execution_count": 9,
     "metadata": {},
     "output_type": "execute_result"
    }
   ],
   "source": [
    "optimizer.apply_gradients(zip(grads, [model.weights_var, \n",
    "    model.bias_var\n",
    "                                    , model.weights_out_var\n",
    "                                     ]))\n",
    "best_loss = loss(model, training_inputs, training_outputs).numpy()\n",
    "best_iter = -1\n",
    "best_loss"
   ]
  },
  {
   "cell_type": "code",
   "execution_count": 10,
   "metadata": {},
   "outputs": [
    {
     "name": "stdout",
     "output_type": "stream",
     "text": [
      "Loss at step 0, 000: 76.929604\n"
     ]
    }
   ],
   "source": [
    "j = 0\n",
    "while best_loss > 0.0 and j < 10:\n",
    "  for i in range(80000):\n",
    "    grads = grad(model, training_inputs, training_outputs)\n",
    "    optimizer.apply_gradients(zip(grads, [model.weights_var,\n",
    "      model.bias_var\n",
    "                                    , model.weights_out_var\n",
    "                                       ]))\n",
    "    current_loss = loss(model, training_inputs, training_outputs).numpy()\n",
    "    if current_loss < best_loss:\n",
    "      best_loss = current_loss\n",
    "      best_iter = i\n",
    "    if i % 8000 == 0:\n",
    "      print(\"Loss at step {}, {:03d}: {:5f}\".format(j, i, loss(model, training_inputs, training_outputs)))\n",
    "    if i - best_iter > 2000:\n",
    "      break\n",
    "  j += 1"
   ]
  },
  {
   "cell_type": "code",
   "execution_count": 11,
   "metadata": {},
   "outputs": [
    {
     "name": "stdout",
     "output_type": "stream",
     "text": [
      "Halted at step: 6671 with loss 0.000, W = [[ 0.00293999 -0.09705605]], B = [[1.9970503]], W_out = [[0.3760343]]\n"
     ]
    }
   ],
   "source": [
    "print(\"Halted at step: {} with loss {:.3f}, W = {}, B = {}, W_out = {}\".format(i,\n",
    "                                                                               current_loss\n",
    "                                                                               , model.weights_var.numpy()\n",
    "                                                                               , model.bias_var.numpy()\n",
    "                                                                               , model.weights_out_var.numpy())\n",
    "     )"
   ]
  },
  {
   "cell_type": "code",
   "execution_count": 12,
   "metadata": {},
   "outputs": [
    {
     "name": "stdout",
     "output_type": "stream",
     "text": [
      "[[ 0.00293999 -0.09705605]]\n"
     ]
    }
   ],
   "source": [
    "results_weights_var = model.weights_var.numpy()\n",
    "results_bias_var = model.bias_var.numpy()\n",
    "results_weights_out_var = model.weights_out_var.numpy()\n",
    "print(results_weights_var)"
   ]
  },
  {
   "cell_type": "markdown",
   "metadata": {},
   "source": [
    "__Initialization complete__"
   ]
  },
  {
   "cell_type": "code",
   "execution_count": 13,
   "metadata": {},
   "outputs": [],
   "source": [
    "class NNet(tf.keras.Model):\n",
    "  def __init__(self):\n",
    "    super(NNet, self).__init__()\n",
    "    self.weights_const = tf.constant(results_weights_var)\n",
    "    self.biases_const = tf.constant(results_bias_var)\n",
    "    self.weights_out_const = tf.constant(results_weights_out_var)\n",
    "    \n",
    "    self.weights_var = tf.Variable(np.random.uniform(size = (1,2))\n",
    "                                   , name = \"weights_var\"\n",
    "                                   , dtype = \"float32\")\n",
    "    self.bias_var = tf.Variable(np.random.uniform(size = (1,1))\n",
    "                                , name = \"bias_var\"\n",
    "                               , dtype = \"float32\")\n",
    "    self.weights_out_var = tf.Variable(np.random.uniform(size = (1,1))\n",
    "                                       , name = \"weights_out_var\"\n",
    "                                      , dtype = \"float32\")\n",
    "    \n",
    "  def call(self, input_data):\n",
    "    input_data = tf.transpose(input_data)\n",
    "    layer_1_const = tf.linalg.matmul(self.weights_const, input_data, transpose_b = False) + self.biases_const\n",
    "    layer_1_const = tf.nn.leaky_relu(layer_1_const)\n",
    "    layer_out_const = tf.linalg.matmul(self.weights_out_const, layer_1_const, transpose_b = False)\n",
    "    \n",
    "    layer_1_var = tf.linalg.matmul(self.weights_var, input_data, transpose_b = False) + self.bias_var\n",
    "    layer_1_var_activated = tf.nn.leaky_relu(layer_1_var)\n",
    "    layer_out_var = tf.linalg.matmul(self.weights_out_var, layer_1_var_activated, transpose_b = False)\n",
    "    #layer_out_var = self.weights_out_var * layer_1_var_activated\n",
    "    \n",
    "    return layer_out_const + layer_out_var\n"
   ]
  },
  {
   "cell_type": "code",
   "execution_count": 14,
   "metadata": {},
   "outputs": [
    {
     "name": "stdout",
     "output_type": "stream",
     "text": [
      "tf.Tensor(\n",
      "[[ -1.2 -37. ]\n",
      " [  1.    1. ]], shape=(2, 2), dtype=float32)\n",
      "tf.Tensor([[ 2.1 -0.5]], shape=(1, 2), dtype=float32)\n"
     ]
    }
   ],
   "source": [
    "training_inputs = tf.constant(full_training_inputs[:2,:]\n",
    "                             , dtype = \"float32\")\n",
    "print(training_inputs)\n",
    "training_outputs = tf.constant(full_training_outputs[:,:2]\n",
    "                              , dtype = \"float32\")\n",
    "print(training_outputs)"
   ]
  },
  {
   "cell_type": "code",
   "execution_count": 15,
   "metadata": {},
   "outputs": [],
   "source": [
    "model = NNet()"
   ]
  },
  {
   "cell_type": "code",
   "execution_count": 16,
   "metadata": {},
   "outputs": [
    {
     "name": "stdout",
     "output_type": "stream",
     "text": [
      "Initial loss: 4.159\n"
     ]
    }
   ],
   "source": [
    "optimizer = (tf.keras.optimizers.Adam()\n",
    "            )\n",
    "\n",
    "print(\"Initial loss: {:.3f}\".format(loss(model, training_inputs, training_outputs)))"
   ]
  },
  {
   "cell_type": "code",
   "execution_count": 17,
   "metadata": {},
   "outputs": [
    {
     "name": "stdout",
     "output_type": "stream",
     "text": [
      "tf.Tensor([[ 2.2186797 10.214375 ]], shape=(1, 2), dtype=float32)\n",
      "tf.Tensor([[1.7273241]], shape=(1, 1), dtype=float32)\n",
      "tf.Tensor([[6.768092]], shape=(1, 1), dtype=float32)\n"
     ]
    }
   ],
   "source": [
    "grads = grad(model, training_inputs, training_outputs)\n",
    "for i in range(len(grads)):\n",
    "    print(grads[i])"
   ]
  },
  {
   "cell_type": "code",
   "execution_count": 18,
   "metadata": {},
   "outputs": [
    {
     "data": {
      "text/plain": [
       "4.137771"
      ]
     },
     "execution_count": 18,
     "metadata": {},
     "output_type": "execute_result"
    }
   ],
   "source": [
    "optimizer.apply_gradients(zip(grads, [model.weights_var, \n",
    "    model.bias_var\n",
    "                                    , model.weights_out_var\n",
    "                                     ]))\n",
    "best_loss = loss(model, training_inputs, training_outputs).numpy()\n",
    "best_iter = -1\n",
    "best_loss"
   ]
  },
  {
   "cell_type": "code",
   "execution_count": 19,
   "metadata": {},
   "outputs": [
    {
     "name": "stdout",
     "output_type": "stream",
     "text": [
      "Loss at step 0, 000: 4.117011\n",
      "Loss at step 0, 8000: 0.000000\n"
     ]
    }
   ],
   "source": [
    "j = 0\n",
    "while best_loss > 0.000001 and j < 10:\n",
    "  for i in range(80000):\n",
    "    grads = grad(model, training_inputs, training_outputs)\n",
    "    optimizer.apply_gradients(zip(grads, [model.weights_var,\n",
    "      model.bias_var\n",
    "                                    , model.weights_out_var\n",
    "                                       ]))\n",
    "    current_loss = loss(model, training_inputs, training_outputs).numpy()\n",
    "    if current_loss < best_loss:\n",
    "      best_loss = current_loss\n",
    "      best_iter = i\n",
    "    if i % 8000 == 0:\n",
    "      print(\"Loss at step {}, {:03d}: {:5f}\".format(j, i, loss(model, training_inputs, training_outputs)))\n",
    "    if i - best_iter > 2000:\n",
    "      break\n",
    "  j += 1"
   ]
  },
  {
   "cell_type": "code",
   "execution_count": 20,
   "metadata": {},
   "outputs": [
    {
     "name": "stdout",
     "output_type": "stream",
     "text": [
      "Halted at step: 14332 with loss 0.000, W = [[-1.8064003   0.01491064]], B = [[-1.615987]], W_out = [[1.7836784]]\n"
     ]
    }
   ],
   "source": [
    "print(\"Halted at step: {} with loss {:.3f}, W = {}, B = {}, W_out = {}\".format(i,\n",
    "                                                                               current_loss\n",
    "                                                                               , model.weights_var.numpy()\n",
    "                                                                               , model.bias_var.numpy()\n",
    "                                                                               , model.weights_out_var.numpy())\n",
    "     )"
   ]
  },
  {
   "cell_type": "code",
   "execution_count": 21,
   "metadata": {},
   "outputs": [
    {
     "name": "stdout",
     "output_type": "stream",
     "text": [
      "[[ 0.00293999 -0.09705605]\n",
      " [-1.8064003   0.01491064]]\n"
     ]
    }
   ],
   "source": [
    "results_weights_var = np.concatenate((results_weights_var\n",
    "                                     , model.weights_var.numpy()\n",
    "                                     )\n",
    "                                    )\n",
    "\n",
    "results_bias_var = np.concatenate((results_bias_var\n",
    "                                  , model.bias_var.numpy()))\n",
    "\n",
    "results_weights_out_var = np.concatenate((results_weights_out_var\n",
    "                                          , model.weights_out_var.numpy()\n",
    "                                          )\n",
    "                                        , axis = 1)\n",
    "print(results_weights_var)"
   ]
  },
  {
   "cell_type": "code",
   "execution_count": 22,
   "metadata": {},
   "outputs": [
    {
     "name": "stdout",
     "output_type": "stream",
     "text": [
      "[[4.055589 4.055589]]\n"
     ]
    }
   ],
   "source": [
    "tmp = np.concatenate(([[4.055589]], [[4.055589]])\n",
    "                     , axis = 1\n",
    "                    )\n",
    "#.reshape((1,2))\n",
    "print(tmp)\n",
    "#np.array([[1,2,3]]).shape"
   ]
  },
  {
   "cell_type": "markdown",
   "metadata": {},
   "source": [
    "__Attempt as a loop__"
   ]
  },
  {
   "cell_type": "code",
   "execution_count": 23,
   "metadata": {
    "scrolled": true
   },
   "outputs": [
    {
     "name": "stdout",
     "output_type": "stream",
     "text": [
      "Fitting 3 rows of data\n",
      "with 1 neuron(s)\n",
      "Loss at step 0, 000: 34.047142\n",
      "Loss at step 0, 8000: 0.000000\n",
      "Loss at step 0, 16000: 0.000000\n",
      "Fitting 4 rows of data\n",
      "with 1 neuron(s)\n",
      "Loss at step 0, 000: 212.954254\n",
      "Loss at step 0, 8000: 2.864986\n",
      "Loss at step 1, 000: 1.756455\n",
      "Loss at step 2, 000: 1.756455\n",
      "Loss at step 3, 000: 1.756474\n",
      "with 2 neuron(s)\n",
      "Loss at step 0, 000: 210.846954\n",
      "Loss at step 0, 8000: 13.801014\n",
      "Loss at step 1, 000: 13.801014\n",
      "Loss at step 2, 000: 13.801010\n",
      "Loss at step 3, 000: 13.801012\n",
      "with 3 neuron(s)\n",
      "Loss at step 0, 000: 339.963654\n",
      "Loss at step 0, 8000: 3.595809\n",
      "Loss at step 0, 16000: 0.000001\n",
      "Fitting 5 rows of data\n",
      "with 1 neuron(s)\n",
      "Loss at step 0, 000: 120.838135\n",
      "Loss at step 0, 8000: 62.609173\n",
      "Loss at step 1, 000: 62.609180\n",
      "Loss at step 2, 000: 62.609169\n",
      "Loss at step 3, 000: 62.609180\n",
      "with 2 neuron(s)\n",
      "Loss at step 0, 000: 117.149513\n",
      "Loss at step 0, 8000: 0.000000\n",
      "Fitting 6 rows of data\n",
      "with 1 neuron(s)\n",
      "Loss at step 0, 000: 550.352966\n",
      "Loss at step 0, 8000: 291.629395\n",
      "Loss at step 0, 16000: 274.579102\n",
      "Loss at step 1, 000: 274.577698\n",
      "Loss at step 2, 000: 274.577667\n",
      "Loss at step 3, 000: 274.577698\n",
      "with 2 neuron(s)\n",
      "Loss at step 0, 000: 564.043457\n",
      "Loss at step 0, 8000: 280.724976\n",
      "Loss at step 1, 000: 274.577637\n",
      "Loss at step 2, 000: 274.577637\n",
      "Loss at step 3, 000: 274.577698\n",
      "with 3 neuron(s)\n",
      "Loss at step 0, 000: 638.245300\n",
      "Loss at step 0, 8000: 24.056620\n",
      "Loss at step 1, 000: 24.055830\n",
      "Loss at step 2, 000: 24.055822\n",
      "Loss at step 3, 000: 24.055832\n",
      "with 4 neuron(s)\n",
      "Loss at step 0, 000: 767.394531\n",
      "Loss at step 0, 8000: 24.086237\n",
      "Loss at step 1, 000: 24.050713\n",
      "Loss at step 2, 000: 24.050713\n",
      "Loss at step 3, 000: 24.050714\n",
      "with 5 neuron(s)\n",
      "Loss at step 0, 000: 715.554504\n",
      "Loss at step 0, 8000: 10.318854\n",
      "Loss at step 1, 000: 10.318851\n",
      "Loss at step 2, 000: 10.318860\n",
      "Loss at step 3, 000: 10.318855\n",
      "with 6 neuron(s)\n",
      "Loss at step 0, 000: 1063.015259\n",
      "Loss at step 0, 8000: 9.911113\n",
      "Loss at step 0, 16000: 0.000000\n"
     ]
    }
   ],
   "source": [
    "for rows_of_data_to_fit in range(3, 1 + full_training_outputs.shape[1]):\n",
    "  print(\"Fitting {} rows of data\".format(rows_of_data_to_fit))\n",
    "  number_neurons_to_fit_with = 1\n",
    "  best_loss = 1\n",
    "  \n",
    "  while number_neurons_to_fit_with <= 10 and best_loss > 0.001:\n",
    "    print(\"with {} neuron(s)\".format(number_neurons_to_fit_with))\n",
    "    class NNet(tf.keras.Model):\n",
    "      def __init__(self):\n",
    "        super(NNet, self).__init__()\n",
    "        self.weights_const = tf.constant(results_weights_var, dtype = \"float32\")\n",
    "        self.biases_const = tf.constant(results_bias_var, dtype = \"float32\")\n",
    "        self.weights_out_const = tf.constant(results_weights_out_var, dtype = \"float32\")\n",
    "    \n",
    "        self.weights_var = tf.Variable(np.random.uniform(size = (number_neurons_to_fit_with, 2))\n",
    "                                       , name = \"weights_var\"\n",
    "                                       , dtype = \"float32\")\n",
    "        self.bias_var = tf.Variable(np.random.uniform(size = (number_neurons_to_fit_with, 1))\n",
    "                                    , name = \"bias_var\"\n",
    "                                   , dtype = \"float32\")\n",
    "        self.weights_out_var = tf.Variable(np.random.uniform(size = (1, number_neurons_to_fit_with))\n",
    "                                           , name = \"weights_out_var\"\n",
    "                                          , dtype = \"float32\")    \n",
    "    \n",
    "      def call(self, input_data):\n",
    "        input_data = tf.transpose(input_data)\n",
    "        layer_1_const = tf.linalg.matmul(self.weights_const, input_data) + self.biases_const\n",
    "        layer_1_const = tf.nn.leaky_relu(layer_1_const)\n",
    "        layer_out_const = tf.linalg.matmul(self.weights_out_const, layer_1_const, transpose_b = False)\n",
    "    \n",
    "        layer_1_var = tf.linalg.matmul(self.weights_var, input_data) + self.bias_var\n",
    "        layer_1_var_activated = tf.nn.leaky_relu(layer_1_var)\n",
    "        layer_out_var = tf.linalg.matmul(self.weights_out_var, layer_1_var_activated)\n",
    "    \n",
    "        return layer_out_const + layer_out_var\n",
    "\n",
    "    training_inputs = tf.constant(full_training_inputs[:rows_of_data_to_fit,:]\n",
    "                                 , dtype = \"float32\")\n",
    "    training_outputs = tf.constant(full_training_outputs[:,:rows_of_data_to_fit]\n",
    "                                  , dtype = \"float32\")\n",
    "\n",
    "    model = NNet()\n",
    "    optimizer = tf.keras.optimizers.Adam()\n",
    "\n",
    "    grads = grad(model, training_inputs, training_outputs)\n",
    "\n",
    "    optimizer.apply_gradients(zip(grads, [model.weights_var, \n",
    "        model.bias_var\n",
    "                                        , model.weights_out_var\n",
    "                                         ]))\n",
    "    best_loss = loss(model, training_inputs, training_outputs).numpy()\n",
    "    best_iter = -1\n",
    "\n",
    "    j = 0\n",
    "    while best_loss > 0.000001 and j < 4:\n",
    "      for i in range(80000):\n",
    "        grads = grad(model, training_inputs, training_outputs)\n",
    "        optimizer.apply_gradients(zip(grads, [model.weights_var,\n",
    "          model.bias_var\n",
    "                                        , model.weights_out_var\n",
    "                                           ]))\n",
    "        current_loss = loss(model, training_inputs, training_outputs).numpy()\n",
    "        if current_loss < best_loss:\n",
    "          best_loss = current_loss\n",
    "          best_iter = i\n",
    "        if i % 8000 == 0:\n",
    "          print(\"Loss at step {}, {:03d}: {:5f}\".format(j, i, loss(model, training_inputs, training_outputs)))\n",
    "        if i - best_iter > 2000:\n",
    "          break\n",
    "      j += 1\n",
    "      best_iter = -1\n",
    "\n",
    "    number_neurons_to_fit_with += 1    \n",
    "    \n",
    "  results_weights_var = np.concatenate((results_weights_var\n",
    "                                       , model.weights_var.numpy()\n",
    "                                       )\n",
    "                                      )\n",
    "\n",
    "  results_bias_var = np.concatenate((results_bias_var\n",
    "                                    , model.bias_var.numpy()))\n",
    "\n",
    "  results_weights_out_var = np.concatenate((results_weights_out_var\n",
    "                                            , model.weights_out_var.numpy()\n",
    "                                            )\n",
    "                                          , axis = 1)"
   ]
  },
  {
   "cell_type": "code",
   "execution_count": 24,
   "metadata": {},
   "outputs": [
    {
     "name": "stdout",
     "output_type": "stream",
     "text": [
      "[[ 2.9399912e-03 -9.7056054e-02]\n",
      " [-1.8064003e+00  1.4910637e-02]\n",
      " [ 3.2217562e+00 -1.8651757e-01]\n",
      " [ 2.9733770e+00 -7.3177719e-01]\n",
      " [ 2.1737335e+00 -1.1891392e+00]\n",
      " [ 7.9192072e-01  2.3103638e+00]\n",
      " [-3.7493932e+00  5.0147133e+00]\n",
      " [ 1.1052321e+00 -1.4782224e+00]\n",
      " [ 3.3738452e-01 -2.4047546e+00]\n",
      " [-7.3040712e-01  4.5971361e-01]\n",
      " [ 3.0730014e+00 -1.8441094e+00]\n",
      " [ 2.0833323e+00  3.0476074e+00]\n",
      " [-6.7727047e-01  5.3606176e-01]\n",
      " [-3.1413722e+00  1.8844931e+00]]\n",
      "[[ 1.9970503 ]\n",
      " [-1.615987  ]\n",
      " [-3.0352924 ]\n",
      " [-5.2151594 ]\n",
      " [-0.9846479 ]\n",
      " [-0.4650485 ]\n",
      " [-1.2654616 ]\n",
      " [ 0.37303057]\n",
      " [-1.5036277 ]\n",
      " [ 2.4619    ]\n",
      " [-1.2288816 ]\n",
      " [-1.8901116 ]\n",
      " [ 2.1730328 ]\n",
      " [ 1.2566622 ]]\n",
      "[[ 0.3760343  1.7836784  3.458818  -5.8438025  2.0788293 -1.3177881\n",
      "   5.264634   3.5719504 -2.6457014  1.6120778  3.5091817 -2.823831\n",
      "   1.8356752  3.6632023]]\n"
     ]
    }
   ],
   "source": [
    "print(results_weights_var)\n",
    "print(results_bias_var)\n",
    "print(results_weights_out_var)"
   ]
  },
  {
   "cell_type": "markdown",
   "metadata": {},
   "source": [
    "__Final Prediction__"
   ]
  },
  {
   "cell_type": "code",
   "execution_count": 25,
   "metadata": {},
   "outputs": [],
   "source": [
    "class NNet(tf.keras.Model):\n",
    "  def __init__(self):\n",
    "    super(NNet, self).__init__()\n",
    "    self.weights_const = tf.constant(results_weights_var)\n",
    "    self.biases_const = tf.constant(results_bias_var)\n",
    "    self.weights_out_const = tf.constant(results_weights_out_var)\n",
    "    \n",
    "  def call(self, input_data):\n",
    "    input_data = tf.transpose(input_data)\n",
    "    layer_1_const = tf.linalg.matmul(self.weights_const, input_data, transpose_b = False) + self.biases_const\n",
    "    layer_1_const = tf.nn.leaky_relu(layer_1_const)\n",
    "    layer_out_const = tf.linalg.matmul(self.weights_out_const, layer_1_const, transpose_b = False)\n",
    "    \n",
    "    return layer_out_const"
   ]
  },
  {
   "cell_type": "code",
   "execution_count": 26,
   "metadata": {},
   "outputs": [],
   "source": [
    "model = NNet()"
   ]
  },
  {
   "cell_type": "code",
   "execution_count": 27,
   "metadata": {},
   "outputs": [
    {
     "name": "stdout",
     "output_type": "stream",
     "text": [
      "WARNING:tensorflow:Layer n_net_13 is casting an input tensor from dtype float64 to the layer's dtype of float32, which is new behavior in TensorFlow 2.  The layer has dtype float32 because it's dtype defaults to floatx.\n",
      "\n",
      "If you intended to run this layer in float32, you can safely ignore this warning. If in doubt, this warning is likely only an issue if you are porting a TensorFlow 1.X model to TensorFlow 2.\n",
      "\n",
      "To change all layers to have dtype float64 by default, call `tf.keras.backend.set_floatx('float64')`. To change just this layer, pass dtype='float64' to the layer constructor. If you are the author of this layer, you can disable autocasting by passing autocast=False to the base Layer constructor.\n",
      "\n"
     ]
    },
    {
     "data": {
      "text/plain": [
       "2.1984581e-08"
      ]
     },
     "execution_count": 27,
     "metadata": {},
     "output_type": "execute_result"
    }
   ],
   "source": [
    "loss(model, full_training_inputs, full_training_outputs).numpy()"
   ]
  },
  {
   "cell_type": "code",
   "execution_count": 28,
   "metadata": {},
   "outputs": [
    {
     "name": "stdout",
     "output_type": "stream",
     "text": [
      "[[ -1.2 -37. ]\n",
      " [  1.    1. ]\n",
      " [  2.    1. ]\n",
      " [  4.    1. ]\n",
      " [  1.    2. ]\n",
      " [  4.    6. ]]\n",
      "[[ 2.1 -0.5 10.   3.2 22.  10. ]]\n"
     ]
    }
   ],
   "source": [
    "print(full_training_inputs)\n",
    "print(full_training_outputs)"
   ]
  },
  {
   "cell_type": "code",
   "execution_count": 29,
   "metadata": {},
   "outputs": [],
   "source": [
    "number_points_to_plot = 10"
   ]
  },
  {
   "cell_type": "code",
   "execution_count": 30,
   "metadata": {},
   "outputs": [
    {
     "name": "stdout",
     "output_type": "stream",
     "text": [
      "[1.         1.33333333 1.66666667 2.         2.33333333 2.66666667\n",
      " 3.         3.33333333 3.66666667 4.        ]\n"
     ]
    }
   ],
   "source": [
    "input_data_to_graph = np.concatenate((np.linspace(start = 1, stop = 4, num=number_points_to_plot, \n",
    "                                                  endpoint=True, dtype=None, axis=0).reshape((number_points_to_plot, 1)),\n",
    "                                      np.ones(number_points_to_plot).reshape((number_points_to_plot, 1))),\n",
    "                                     axis = 1)\n",
    "print(input_data_to_graph[:,0])"
   ]
  },
  {
   "cell_type": "code",
   "execution_count": 35,
   "metadata": {},
   "outputs": [
    {
     "data": {
      "image/png": "[encoded data removed]",
      "text/plain": [
       "<Figure size 432x288 with 1 Axes>"
      ]
     },
     "metadata": {
      "needs_background": "light"
     },
     "output_type": "display_data"
    }
   ],
   "source": [
    "plt.plot(input_data_to_graph[:,0],\n",
    "        model(input_data_to_graph).numpy()[0],\n",
    "        color = \"darkblue\")\n",
    "plt.scatter(input_data_to_graph[:,0],\n",
    "        model(input_data_to_graph).numpy()[0],\n",
    "        color = \"darkblue\")\n",
    "plt.scatter(full_training_inputs[1:4,0],\n",
    "           full_training_outputs[0][1:4],\n",
    "           color = \"red\")\n",
    "plt.show()"
   ]
  },
  {
   "cell_type": "code",
   "execution_count": null,
   "metadata": {},
   "outputs": [],
   "source": []
  }
 ],
 "metadata": {
  "kernelspec": {
   "display_name": "Python [conda env:tf2_2] *",
   "language": "python",
   "name": "conda-env-tf2_2-py"
  },
  "language_info": {
   "codemirror_mode": {
    "name": "ipython",
    "version": 3
   },
   "file_extension": ".py",
   "mimetype": "text/x-python",
   "name": "python",
   "nbconvert_exporter": "python",
   "pygments_lexer": "ipython3",
   "version": "3.7.3"
  }
 },
 "nbformat": 4,
 "nbformat_minor": 2
}
