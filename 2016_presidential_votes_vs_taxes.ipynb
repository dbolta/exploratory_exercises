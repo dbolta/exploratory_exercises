{
 "cells": [
  {
   "cell_type": "markdown",
   "metadata": {},
   "source": [
    "# Votes and Taxation by State, the 2016 US Presidential Election\n",
    "## D Bolta <br>Jan, 2019"
   ]
  },
  {
   "cell_type": "markdown",
   "metadata": {},
   "source": [
    "Uses data from the IRS combined with 2016 voting results, let's see if there's any patterns between how much money a state gives/gets from the US treasury vs. political leanings."
   ]
  },
  {
   "cell_type": "code",
   "execution_count": 1,
   "metadata": {},
   "outputs": [],
   "source": [
    "# Load libraries\n",
    "# Function wrapper to suppress startup warnings and messages\n",
    "library_no_messages_or_warnings = function(xxx){\n",
    "  suppressMessages(suppressWarnings(xxx))  \n",
    "}\n",
    "\n",
    "## Install new package\n",
    "#install.packages(\"e1071\", repos =\"https://cloud.r-project.org/\")\n",
    "\n",
    "# Tidyverse and modeling support\n",
    "library_no_messages_or_warnings(library(dplyr))\n",
    "library_no_messages_or_warnings(library(Metrics))\n",
    "library_no_messages_or_warnings(library(caret))\n",
    "library_no_messages_or_warnings(library(e1071))\n",
    "\n",
    "# Graphing support\n",
    "library_no_messages_or_warnings(library(ggplot2))\n",
    "library_no_messages_or_warnings(library(gridExtra))\n",
    "library_no_messages_or_warnings(library(corrplot))\n",
    "library_no_messages_or_warnings(library(rpart.plot))\n",
    "library_no_messages_or_warnings(library(rattle))\n",
    "library_no_messages_or_warnings(library(RColorBrewer))\n",
    "library_no_messages_or_warnings(library(rpart))"
   ]
  },
  {
   "cell_type": "markdown",
   "metadata": {},
   "source": [
    "### Lets read in the data and start data prep.\n",
    "Grab the column names, first."
   ]
  },
  {
   "cell_type": "code",
   "execution_count": 29,
   "metadata": {},
   "outputs": [
    {
     "data": {
      "text/html": [
       "<table>\n",
       "<thead><tr><th scope=col>.</th></tr></thead>\n",
       "<tbody>\n",
       "\t<tr><td>State                          </td></tr>\n",
       "\t<tr><td>Corp_tax_as_perc_of_total      </td></tr>\n",
       "\t<tr><td>Individual_tax_as_perc_of_total</td></tr>\n",
       "\t<tr><td>Taxes_paid                     </td></tr>\n",
       "\t<tr><td>Fed_subsidies                  </td></tr>\n",
       "\t<tr><td>Pop_2017                       </td></tr>\n",
       "\t<tr><td>Tax_per_capita                 </td></tr>\n",
       "\t<tr><td>Tax_minus_subsidy_per_capita   </td></tr>\n",
       "\t<tr><td>DJT_vote_perc_2016             </td></tr>\n",
       "\t<tr><td>Residual_vote_perc             </td></tr>\n",
       "\t<tr><td>DJT_WIN                        </td></tr>\n",
       "</tbody>\n",
       "</table>\n"
      ],
      "text/latex": [
       "\\begin{tabular}{r|l}\n",
       " .\\\\\n",
       "\\hline\n",
       "\t State                          \\\\\n",
       "\t Corp\\_tax\\_as\\_perc\\_of\\_total      \\\\\n",
       "\t Individual\\_tax\\_as\\_perc\\_of\\_total\\\\\n",
       "\t Taxes\\_paid                     \\\\\n",
       "\t Fed\\_subsidies                  \\\\\n",
       "\t Pop\\_2017                       \\\\\n",
       "\t Tax\\_per\\_capita                 \\\\\n",
       "\t Tax\\_minus\\_subsidy\\_per\\_capita   \\\\\n",
       "\t DJT\\_vote\\_perc\\_2016             \\\\\n",
       "\t Residual\\_vote\\_perc             \\\\\n",
       "\t DJT\\_WIN                        \\\\\n",
       "\\end{tabular}\n"
      ],
      "text/markdown": [
       "\n",
       "| . |\n",
       "|---|\n",
       "| State                           |\n",
       "| Corp_tax_as_perc_of_total       |\n",
       "| Individual_tax_as_perc_of_total |\n",
       "| Taxes_paid                      |\n",
       "| Fed_subsidies                   |\n",
       "| Pop_2017                        |\n",
       "| Tax_per_capita                  |\n",
       "| Tax_minus_subsidy_per_capita    |\n",
       "| DJT_vote_perc_2016              |\n",
       "| Residual_vote_perc              |\n",
       "| DJT_WIN                         |\n",
       "\n"
      ],
      "text/plain": [
       "   .                              \n",
       "1  State                          \n",
       "2  Corp_tax_as_perc_of_total      \n",
       "3  Individual_tax_as_perc_of_total\n",
       "4  Taxes_paid                     \n",
       "5  Fed_subsidies                  \n",
       "6  Pop_2017                       \n",
       "7  Tax_per_capita                 \n",
       "8  Tax_minus_subsidy_per_capita   \n",
       "9  DJT_vote_perc_2016             \n",
       "10 Residual_vote_perc             \n",
       "11 DJT_WIN                        "
      ]
     },
     "metadata": {},
     "output_type": "display_data"
    }
   ],
   "source": [
    "data_1 = read.csv(\"data_1.csv\",\n",
    "                  stringsAsFactors = FALSE) %>%\n",
    "  na.omit()\n",
    "names(data_1) %>%\n",
    "  as.data.frame(stringgsAsFactors = FALSE)"
   ]
  },
  {
   "cell_type": "markdown",
   "metadata": {},
   "source": [
    "### Data explanation\n",
    "-State (row label)\n",
    "<br>-Tax source: corporate/individual\n",
    "<br>-Taxes in/subsidies out of treasury\n",
    "<br>-State populations\n",
    "<br>-Per capita taxes, net treasury cash flow\n",
    "<br>-Vote breakdowns"
   ]
  },
  {
   "cell_type": "markdown",
   "metadata": {},
   "source": [
    "#### Check the data quickly, just to make sure things are reading in properly (that percents, strings, dates, etc. aren't creating problems)"
   ]
  },
  {
   "cell_type": "code",
   "execution_count": 3,
   "metadata": {},
   "outputs": [
    {
     "data": {
      "text/html": [
       "<table>\n",
       "<thead><tr><th scope=col>State</th><th scope=col>Corp_tax_as_perc_of_total</th><th scope=col>Individual_tax_as_perc_of_total</th><th scope=col>Taxes_paid</th><th scope=col>Fed_subsidies</th><th scope=col>Pop_2017</th><th scope=col>Tax_per_capita</th><th scope=col>Tax_minus_subsidy_per_capita</th><th scope=col>DJT_vote_perc_2016</th><th scope=col>Residual_vote_perc</th><th scope=col>DJT_WIN</th></tr></thead>\n",
       "<tbody>\n",
       "\t<tr><td>Alabama   </td><td>0.06015562</td><td>0.9249305 </td><td> 26583916 </td><td> 66190000 </td><td> 4874747  </td><td> 5453.394 </td><td>-8124.7466</td><td>0.63      </td><td>0.02      </td><td>1         </td></tr>\n",
       "\t<tr><td>Alaska    </td><td>0.03218699</td><td>0.9559736 </td><td>  5399946 </td><td>  8570000 </td><td>  739795  </td><td> 7299.246 </td><td>-4285.0438</td><td>0.53      </td><td>0.09      </td><td>1         </td></tr>\n",
       "\t<tr><td>Arizona   </td><td>0.07394090</td><td>0.8904450 </td><td> 43928177 </td><td> 74300000 </td><td> 7016270  </td><td> 6260.902 </td><td>-4328.7706</td><td>0.50      </td><td>0.05      </td><td>1         </td></tr>\n",
       "\t<tr><td>Arkansas  </td><td>0.15550243</td><td>0.8199078 </td><td> 32458328 </td><td> 23167000 </td><td> 3004279  </td><td>10804.033 </td><td> 3092.6981</td><td>0.60      </td><td>0.06      </td><td>1         </td></tr>\n",
       "\t<tr><td>Florida   </td><td>0.04696066</td><td>0.9332448 </td><td>192869033 </td><td>177103000 </td><td>20984400  </td><td> 9191.067 </td><td>  751.3216</td><td>0.49      </td><td>0.03      </td><td>1         </td></tr>\n",
       "\t<tr><td>Georgia   </td><td>0.13559881</td><td>0.8226765 </td><td> 94277375 </td><td> 62347000 </td><td>10429379  </td><td> 9039.596 </td><td> 3061.5797</td><td>0.51      </td><td>0.03      </td><td>1         </td></tr>\n",
       "</tbody>\n",
       "</table>\n"
      ],
      "text/latex": [
       "\\begin{tabular}{r|lllllllllll}\n",
       " State & Corp\\_tax\\_as\\_perc\\_of\\_total & Individual\\_tax\\_as\\_perc\\_of\\_total & Taxes\\_paid & Fed\\_subsidies & Pop\\_2017 & Tax\\_per\\_capita & Tax\\_minus\\_subsidy\\_per\\_capita & DJT\\_vote\\_perc\\_2016 & Residual\\_vote\\_perc & DJT\\_WIN\\\\\n",
       "\\hline\n",
       "\t Alabama    & 0.06015562 & 0.9249305  &  26583916  &  66190000  &  4874747   &  5453.394  & -8124.7466 & 0.63       & 0.02       & 1         \\\\\n",
       "\t Alaska     & 0.03218699 & 0.9559736  &   5399946  &   8570000  &   739795   &  7299.246  & -4285.0438 & 0.53       & 0.09       & 1         \\\\\n",
       "\t Arizona    & 0.07394090 & 0.8904450  &  43928177  &  74300000  &  7016270   &  6260.902  & -4328.7706 & 0.50       & 0.05       & 1         \\\\\n",
       "\t Arkansas   & 0.15550243 & 0.8199078  &  32458328  &  23167000  &  3004279   & 10804.033  &  3092.6981 & 0.60       & 0.06       & 1         \\\\\n",
       "\t Florida    & 0.04696066 & 0.9332448  & 192869033  & 177103000  & 20984400   &  9191.067  &   751.3216 & 0.49       & 0.03       & 1         \\\\\n",
       "\t Georgia    & 0.13559881 & 0.8226765  &  94277375  &  62347000  & 10429379   &  9039.596  &  3061.5797 & 0.51       & 0.03       & 1         \\\\\n",
       "\\end{tabular}\n"
      ],
      "text/markdown": [
       "\n",
       "| State | Corp_tax_as_perc_of_total | Individual_tax_as_perc_of_total | Taxes_paid | Fed_subsidies | Pop_2017 | Tax_per_capita | Tax_minus_subsidy_per_capita | DJT_vote_perc_2016 | Residual_vote_perc | DJT_WIN |\n",
       "|---|---|---|---|---|---|---|---|---|---|---|\n",
       "| Alabama    | 0.06015562 | 0.9249305  |  26583916  |  66190000  |  4874747   |  5453.394  | -8124.7466 | 0.63       | 0.02       | 1          |\n",
       "| Alaska     | 0.03218699 | 0.9559736  |   5399946  |   8570000  |   739795   |  7299.246  | -4285.0438 | 0.53       | 0.09       | 1          |\n",
       "| Arizona    | 0.07394090 | 0.8904450  |  43928177  |  74300000  |  7016270   |  6260.902  | -4328.7706 | 0.50       | 0.05       | 1          |\n",
       "| Arkansas   | 0.15550243 | 0.8199078  |  32458328  |  23167000  |  3004279   | 10804.033  |  3092.6981 | 0.60       | 0.06       | 1          |\n",
       "| Florida    | 0.04696066 | 0.9332448  | 192869033  | 177103000  | 20984400   |  9191.067  |   751.3216 | 0.49       | 0.03       | 1          |\n",
       "| Georgia    | 0.13559881 | 0.8226765  |  94277375  |  62347000  | 10429379   |  9039.596  |  3061.5797 | 0.51       | 0.03       | 1          |\n",
       "\n"
      ],
      "text/plain": [
       "  State    Corp_tax_as_perc_of_total Individual_tax_as_perc_of_total Taxes_paid\n",
       "1 Alabama  0.06015562                0.9249305                        26583916 \n",
       "2 Alaska   0.03218699                0.9559736                         5399946 \n",
       "3 Arizona  0.07394090                0.8904450                        43928177 \n",
       "4 Arkansas 0.15550243                0.8199078                        32458328 \n",
       "5 Florida  0.04696066                0.9332448                       192869033 \n",
       "6 Georgia  0.13559881                0.8226765                        94277375 \n",
       "  Fed_subsidies Pop_2017 Tax_per_capita Tax_minus_subsidy_per_capita\n",
       "1  66190000      4874747  5453.394      -8124.7466                  \n",
       "2   8570000       739795  7299.246      -4285.0438                  \n",
       "3  74300000      7016270  6260.902      -4328.7706                  \n",
       "4  23167000      3004279 10804.033       3092.6981                  \n",
       "5 177103000     20984400  9191.067        751.3216                  \n",
       "6  62347000     10429379  9039.596       3061.5797                  \n",
       "  DJT_vote_perc_2016 Residual_vote_perc DJT_WIN\n",
       "1 0.63               0.02               1      \n",
       "2 0.53               0.09               1      \n",
       "3 0.50               0.05               1      \n",
       "4 0.60               0.06               1      \n",
       "5 0.49               0.03               1      \n",
       "6 0.51               0.03               1      "
      ]
     },
     "metadata": {},
     "output_type": "display_data"
    }
   ],
   "source": [
    "head(data_1)"
   ]
  },
  {
   "cell_type": "markdown",
   "metadata": {},
   "source": [
    "### Scrub cocorrelated variables using caret.\n",
    "Since correlation requires continuous/numeric variables, I'll drop the state labels before processing."
   ]
  },
  {
   "cell_type": "code",
   "execution_count": 4,
   "metadata": {},
   "outputs": [
    {
     "data": {
      "text/html": [
       "<ol class=list-inline>\n",
       "\t<li>'Taxes_paid'</li>\n",
       "\t<li>'Pop_2017'</li>\n",
       "\t<li>'Corp_tax_as_perc_of_total'</li>\n",
       "</ol>\n"
      ],
      "text/latex": [
       "\\begin{enumerate*}\n",
       "\\item 'Taxes\\_paid'\n",
       "\\item 'Pop\\_2017'\n",
       "\\item 'Corp\\_tax\\_as\\_perc\\_of\\_total'\n",
       "\\end{enumerate*}\n"
      ],
      "text/markdown": [
       "1. 'Taxes_paid'\n",
       "2. 'Pop_2017'\n",
       "3. 'Corp_tax_as_perc_of_total'\n",
       "\n",
       "\n"
      ],
      "text/plain": [
       "[1] \"Taxes_paid\"                \"Pop_2017\"                 \n",
       "[3] \"Corp_tax_as_perc_of_total\""
      ]
     },
     "metadata": {},
     "output_type": "display_data"
    }
   ],
   "source": [
    "# Identify variables with >0.9 correlation within the data.\n",
    "highlyCorDescr = data_1 %>%\n",
    "  select(-State) %>%\n",
    "  cor() %>%\n",
    "  findCorrelation(cutoff = 0.9)\n",
    "\n",
    "tmp = data_1 %>%\n",
    "  select(-State) %>%\n",
    "  names()\n",
    "tmp[highlyCorDescr]\n",
    "rm(tmp)"
   ]
  },
  {
   "cell_type": "markdown",
   "metadata": {},
   "source": [
    "There are a few corrleations due to the feature transformations (normalization on the per capita columns, etc.).\n",
    "<br>I'll just keep everything for now."
   ]
  },
  {
   "cell_type": "markdown",
   "metadata": {},
   "source": [
    "#### Let's also do a quick check for linear redundancy (to ensure the data is full rank).\n",
    "Although the data is similar, it doesn't make sense to keep fully redundant information."
   ]
  },
  {
   "cell_type": "code",
   "execution_count": 5,
   "metadata": {},
   "outputs": [
    {
     "data": {
      "text/html": [
       "<dl>\n",
       "\t<dt>$linearCombos</dt>\n",
       "\t\t<dd><ol>\n",
       "</ol>\n",
       "</dd>\n",
       "\t<dt>$remove</dt>\n",
       "\t\t<dd>NULL</dd>\n",
       "</dl>\n"
      ],
      "text/latex": [
       "\\begin{description}\n",
       "\\item[\\$linearCombos] \\begin{enumerate}\n",
       "\\end{enumerate}\n",
       "\n",
       "\\item[\\$remove] NULL\n",
       "\\end{description}\n"
      ],
      "text/markdown": [
       "$linearCombos\n",
       ":   \n",
       "\n",
       "\n",
       "$remove\n",
       ":   NULL\n",
       "\n",
       "\n"
      ],
      "text/plain": [
       "$linearCombos\n",
       "list()\n",
       "\n",
       "$remove\n",
       "NULL\n"
      ]
     },
     "metadata": {},
     "output_type": "display_data"
    }
   ],
   "source": [
    "findLinearCombos(data_1 %>%\n",
    "                   select(-State))"
   ]
  },
  {
   "cell_type": "markdown",
   "metadata": {},
   "source": [
    "#### Caret found nothing to remove.\n",
    "Note- if I had included columns that were just differences of each other (e.g. DJT_vote, HRC_vote, and DJT_margin_over_HRC), this is where they would be flagged as redundant. "
   ]
  },
  {
   "cell_type": "markdown",
   "metadata": {},
   "source": [
    "### Let's look at how the data correlate to each state's voting record.\n",
    "I'll create a correlation matrix, filter down to the target variable, then sort by the correlation level. \n",
    "<br>Correlation ranges -1:1, so I'll sort by the absolute value of correlation, but include the original column side-by-side. "
   ]
  },
  {
   "cell_type": "code",
   "execution_count": 6,
   "metadata": {},
   "outputs": [
    {
     "name": "stderr",
     "output_type": "stream",
     "text": [
      "Warning message:\n",
      "\"package 'bindrcpp' was built under R version 3.4.3\""
     ]
    },
    {
     "data": {
      "text/html": [
       "<table>\n",
       "<thead><tr><th scope=col>names</th><th scope=col>DJT_vote_perc_2016</th><th scope=col>abs_DJT_vote_perc_2016</th></tr></thead>\n",
       "<tbody>\n",
       "\t<tr><td>DJT_vote_perc_2016             </td><td> 1.000000000                   </td><td>1.000000000                    </td></tr>\n",
       "\t<tr><td>DJT_WIN                        </td><td> 0.771151785                   </td><td>0.771151785                    </td></tr>\n",
       "\t<tr><td>Tax_per_capita                 </td><td>-0.633723471                   </td><td>0.633723471                    </td></tr>\n",
       "\t<tr><td>Taxes_paid                     </td><td>-0.268764816                   </td><td>0.268764816                    </td></tr>\n",
       "\t<tr><td>Tax_minus_subsidy_per_capita   </td><td>-0.233083692                   </td><td>0.233083692                    </td></tr>\n",
       "\t<tr><td>Pop_2017                       </td><td>-0.174344325                   </td><td>0.174344325                    </td></tr>\n",
       "\t<tr><td>Fed_subsidies                  </td><td>-0.141788410                   </td><td>0.141788410                    </td></tr>\n",
       "\t<tr><td>Corp_tax_as_perc_of_total      </td><td>-0.112539873                   </td><td>0.112539873                    </td></tr>\n",
       "\t<tr><td>Individual_tax_as_perc_of_total</td><td>-0.012701725                   </td><td>0.012701725                    </td></tr>\n",
       "\t<tr><td>Residual_vote_perc             </td><td>-0.003260276                   </td><td>0.003260276                    </td></tr>\n",
       "</tbody>\n",
       "</table>\n"
      ],
      "text/latex": [
       "\\begin{tabular}{r|lll}\n",
       " names & DJT\\_vote\\_perc\\_2016 & abs\\_DJT\\_vote\\_perc\\_2016\\\\\n",
       "\\hline\n",
       "\t DJT\\_vote\\_perc\\_2016              &  1.000000000                          & 1.000000000                          \\\\\n",
       "\t DJT\\_WIN                         &  0.771151785                      & 0.771151785                      \\\\\n",
       "\t Tax\\_per\\_capita                  & -0.633723471                        & 0.633723471                        \\\\\n",
       "\t Taxes\\_paid                      & -0.268764816                      & 0.268764816                      \\\\\n",
       "\t Tax\\_minus\\_subsidy\\_per\\_capita    & -0.233083692                            & 0.233083692                            \\\\\n",
       "\t Pop\\_2017                        & -0.174344325                      & 0.174344325                      \\\\\n",
       "\t Fed\\_subsidies                   & -0.141788410                      & 0.141788410                      \\\\\n",
       "\t Corp\\_tax\\_as\\_perc\\_of\\_total       & -0.112539873                              & 0.112539873                              \\\\\n",
       "\t Individual\\_tax\\_as\\_perc\\_of\\_total & -0.012701725                              & 0.012701725                              \\\\\n",
       "\t Residual\\_vote\\_perc              & -0.003260276                        & 0.003260276                        \\\\\n",
       "\\end{tabular}\n"
      ],
      "text/markdown": [
       "\n",
       "| names | DJT_vote_perc_2016 | abs_DJT_vote_perc_2016 |\n",
       "|---|---|---|\n",
       "| DJT_vote_perc_2016              |  1.000000000                    | 1.000000000                     |\n",
       "| DJT_WIN                         |  0.771151785                    | 0.771151785                     |\n",
       "| Tax_per_capita                  | -0.633723471                    | 0.633723471                     |\n",
       "| Taxes_paid                      | -0.268764816                    | 0.268764816                     |\n",
       "| Tax_minus_subsidy_per_capita    | -0.233083692                    | 0.233083692                     |\n",
       "| Pop_2017                        | -0.174344325                    | 0.174344325                     |\n",
       "| Fed_subsidies                   | -0.141788410                    | 0.141788410                     |\n",
       "| Corp_tax_as_perc_of_total       | -0.112539873                    | 0.112539873                     |\n",
       "| Individual_tax_as_perc_of_total | -0.012701725                    | 0.012701725                     |\n",
       "| Residual_vote_perc              | -0.003260276                    | 0.003260276                     |\n",
       "\n"
      ],
      "text/plain": [
       "   names                           DJT_vote_perc_2016 abs_DJT_vote_perc_2016\n",
       "1  DJT_vote_perc_2016               1.000000000       1.000000000           \n",
       "2  DJT_WIN                          0.771151785       0.771151785           \n",
       "3  Tax_per_capita                  -0.633723471       0.633723471           \n",
       "4  Taxes_paid                      -0.268764816       0.268764816           \n",
       "5  Tax_minus_subsidy_per_capita    -0.233083692       0.233083692           \n",
       "6  Pop_2017                        -0.174344325       0.174344325           \n",
       "7  Fed_subsidies                   -0.141788410       0.141788410           \n",
       "8  Corp_tax_as_perc_of_total       -0.112539873       0.112539873           \n",
       "9  Individual_tax_as_perc_of_total -0.012701725       0.012701725           \n",
       "10 Residual_vote_perc              -0.003260276       0.003260276           "
      ]
     },
     "metadata": {},
     "output_type": "display_data"
    }
   ],
   "source": [
    "cor_mat = data_1 %>%\n",
    "  select(-State) %>%\n",
    "  cor() %>%\n",
    "  as.data.frame() %>%\n",
    "  mutate(names = row.names(.),\n",
    "         abs_DJT_vote_perc_2016 = abs(DJT_vote_perc_2016))\n",
    "\n",
    "cor_mat %>%\n",
    "  select(names, DJT_vote_perc_2016, abs_DJT_vote_perc_2016) %>%\n",
    "  arrange(desc(abs_DJT_vote_perc_2016))"
   ]
  },
  {
   "cell_type": "markdown",
   "metadata": {},
   "source": [
    "### So the main correlator to states voting Trump is how much taxes they paid.\n",
    "More taxes per person (or state), more HRC votes. "
   ]
  },
  {
   "cell_type": "markdown",
   "metadata": {},
   "source": [
    "## Now, lets try some visual analytics"
   ]
  },
  {
   "cell_type": "code",
   "execution_count": 7,
   "metadata": {},
   "outputs": [
    {
     "data": {
      "image/png": "[encoded data removed]",
      "text/plain": [
       "plot without title"
      ]
     },
     "metadata": {},
     "output_type": "display_data"
    }
   ],
   "source": [
    "data_1_graph = data_1 %>%\n",
    "  mutate(DJT_WIN = ifelse(DJT_WIN == 1, \"DJT\", \"HRC\"))\n",
    "\n",
    "scatterPlot = data_1_graph %>%\n",
    "  ggplot(aes(Tax_per_capita, DJT_vote_perc_2016)) + \n",
    "  geom_point(aes(color = DJT_WIN)) + \n",
    "  scale_color_brewer(palette=\"Set1\") + \n",
    "  theme_bw() +\n",
    "  theme(legend.position=c(0.01, 0.99), legend.justification=c(0,1)) \n",
    "\n",
    "# Marginal density plot of x (top panel) \n",
    "xdensity = data_1_graph %>%\n",
    "  ggplot(aes(Tax_per_capita)) + \n",
    "  geom_density(aes(fill = DJT_WIN), alpha= 0.8) + \n",
    "  scale_fill_brewer(palette=\"Set1\") +\n",
    "  theme_bw() +\n",
    "  theme(legend.position = \"none\") \n",
    "\n",
    "# Marginal density plot of y (right panel) \n",
    "ydensity = data_1_graph %>%\n",
    "  ggplot(aes(DJT_vote_perc_2016)) + \n",
    "  geom_density(aes(fill = DJT_WIN), alpha= 0.8) + \n",
    "  scale_fill_brewer(palette=\"Set1\") +\n",
    "  theme_bw() +\n",
    "  theme(legend.position = \"none\") + \n",
    "  coord_flip()\n",
    "\n",
    "blankPlot = ggplot() + geom_blank() + theme_void()\n",
    "\n",
    "grid.arrange(xdensity, blankPlot, scatterPlot, ydensity, ncol=2, nrow=2, widths=c(4, 1.4), heights=c(1.4, 4)) "
   ]
  },
  {
   "cell_type": "markdown",
   "metadata": {},
   "source": [
    "## Conclusions from the graph \"DJT vote percent vs. Population, colored by State Winner\"\n",
    "### 1. The coloring: How is Trump winning in states where he received less than 50% votes?\n",
    "Why doesn't the color break right at 50%? Is something wrong with the data?\n",
    "<br> Trump manages to win in 5 states where he receives less than 50% of the vote because others (e.g. Bernie Sanders) took votes away from Hillary.\n",
    "### 2. What about that Most-correlated variable?\n",
    "Above, we saw that taxes paid per capita was the strongest (negative) correlator to the concentration of Trump votes.\n",
    "<br>The graph suggests that this effect is mostly driven by the leverage of one outlier state.\n",
    "<br>Lets view the data and check on the outlier."
   ]
  },
  {
   "cell_type": "code",
   "execution_count": 8,
   "metadata": {},
   "outputs": [
    {
     "data": {
      "text/html": [
       "<table>\n",
       "<thead><tr><th scope=col>State</th><th scope=col>Tax_per_capita</th><th scope=col>DJT_vote_perc_2016</th><th scope=col>DJT_WIN</th></tr></thead>\n",
       "<tbody>\n",
       "\t<tr><td>District of Columbia</td><td>40784.00            </td><td>0.04                </td><td>HRC                 </td></tr>\n",
       "\t<tr><td>Minnesota           </td><td>18726.37            </td><td>0.45                </td><td>HRC                 </td></tr>\n",
       "\t<tr><td>Delaware            </td><td>17757.21            </td><td>0.42                </td><td>HRC                 </td></tr>\n",
       "\t<tr><td>Massachusetts       </td><td>16472.20            </td><td>0.34                </td><td>HRC                 </td></tr>\n",
       "\t<tr><td>Connecticut         </td><td>16036.04            </td><td>0.41                </td><td>HRC                 </td></tr>\n",
       "\t<tr><td>New Jersey          </td><td>15971.70            </td><td>0.42                </td><td>HRC                 </td></tr>\n",
       "\t<tr><td>Rhode Island        </td><td>14077.87            </td><td>0.40                </td><td>HRC                 </td></tr>\n",
       "\t<tr><td>New York            </td><td>13519.49            </td><td>0.37                </td><td>HRC                 </td></tr>\n",
       "\t<tr><td>Nebraska            </td><td>13254.68            </td><td>0.60                </td><td>DJT                 </td></tr>\n",
       "\t<tr><td>Illinois            </td><td>12679.75            </td><td>0.39                </td><td>HRC                 </td></tr>\n",
       "\t<tr><td>Ohio                </td><td>12187.24            </td><td>0.52                </td><td>DJT                 </td></tr>\n",
       "</tbody>\n",
       "</table>\n"
      ],
      "text/latex": [
       "\\begin{tabular}{r|llll}\n",
       " State & Tax\\_per\\_capita & DJT\\_vote\\_perc\\_2016 & DJT\\_WIN\\\\\n",
       "\\hline\n",
       "\t District of Columbia & 40784.00             & 0.04                 & HRC                 \\\\\n",
       "\t Minnesota            & 18726.37             & 0.45                 & HRC                 \\\\\n",
       "\t Delaware             & 17757.21             & 0.42                 & HRC                 \\\\\n",
       "\t Massachusetts        & 16472.20             & 0.34                 & HRC                 \\\\\n",
       "\t Connecticut          & 16036.04             & 0.41                 & HRC                 \\\\\n",
       "\t New Jersey           & 15971.70             & 0.42                 & HRC                 \\\\\n",
       "\t Rhode Island         & 14077.87             & 0.40                 & HRC                 \\\\\n",
       "\t New York             & 13519.49             & 0.37                 & HRC                 \\\\\n",
       "\t Nebraska             & 13254.68             & 0.60                 & DJT                 \\\\\n",
       "\t Illinois             & 12679.75             & 0.39                 & HRC                 \\\\\n",
       "\t Ohio                 & 12187.24             & 0.52                 & DJT                 \\\\\n",
       "\\end{tabular}\n"
      ],
      "text/markdown": [
       "\n",
       "| State | Tax_per_capita | DJT_vote_perc_2016 | DJT_WIN |\n",
       "|---|---|---|---|\n",
       "| District of Columbia | 40784.00             | 0.04                 | HRC                  |\n",
       "| Minnesota            | 18726.37             | 0.45                 | HRC                  |\n",
       "| Delaware             | 17757.21             | 0.42                 | HRC                  |\n",
       "| Massachusetts        | 16472.20             | 0.34                 | HRC                  |\n",
       "| Connecticut          | 16036.04             | 0.41                 | HRC                  |\n",
       "| New Jersey           | 15971.70             | 0.42                 | HRC                  |\n",
       "| Rhode Island         | 14077.87             | 0.40                 | HRC                  |\n",
       "| New York             | 13519.49             | 0.37                 | HRC                  |\n",
       "| Nebraska             | 13254.68             | 0.60                 | DJT                  |\n",
       "| Illinois             | 12679.75             | 0.39                 | HRC                  |\n",
       "| Ohio                 | 12187.24             | 0.52                 | DJT                  |\n",
       "\n"
      ],
      "text/plain": [
       "   State                Tax_per_capita DJT_vote_perc_2016 DJT_WIN\n",
       "1  District of Columbia 40784.00       0.04               HRC    \n",
       "2  Minnesota            18726.37       0.45               HRC    \n",
       "3  Delaware             17757.21       0.42               HRC    \n",
       "4  Massachusetts        16472.20       0.34               HRC    \n",
       "5  Connecticut          16036.04       0.41               HRC    \n",
       "6  New Jersey           15971.70       0.42               HRC    \n",
       "7  Rhode Island         14077.87       0.40               HRC    \n",
       "8  New York             13519.49       0.37               HRC    \n",
       "9  Nebraska             13254.68       0.60               DJT    \n",
       "10 Illinois             12679.75       0.39               HRC    \n",
       "11 Ohio                 12187.24       0.52               DJT    "
      ]
     },
     "metadata": {},
     "output_type": "display_data"
    }
   ],
   "source": [
    "data_1_graph %>%\n",
    "  select(State, Tax_per_capita, DJT_vote_perc_2016, DJT_WIN) %>%\n",
    "  arrange(desc(Tax_per_capita)) %>%\n",
    "  slice(1:11)"
   ]
  },
  {
   "cell_type": "markdown",
   "metadata": {},
   "source": [
    "#### The outlier state is not even a state.\n",
    "However, after slicing out the top 10 states (and viewing the graph), we can see that only 2 of the top 10 most highly taxed state poulations went for Trump.\n",
    "<br>Although correlation is a linear trend, and susceptible to many issues, there is indeed a pattern of high federally-taxed states going for Hillary."
   ]
  },
  {
   "cell_type": "markdown",
   "metadata": {},
   "source": [
    "## Explore the data with a classification tree\n",
    "First, lets build the tree"
   ]
  },
  {
   "cell_type": "code",
   "execution_count": 9,
   "metadata": {},
   "outputs": [],
   "source": [
    "data_2 = data_1 %>%\n",
    "  select(-State, -DJT_vote_perc_2016) %>%\n",
    "  mutate(DJT_WIN = ifelse(DJT_WIN == 1, \"DJT\", \"HRC\"))\n",
    "\n",
    "tree_model = rpart(DJT_WIN ~ ., \n",
    "                   data = data_2, \n",
    "                   method = \"class\", \n",
    "                   minsplit = 2, \n",
    "                   minbucket = 1, \n",
    "                   parms = list(split = 'information'))"
   ]
  },
  {
   "cell_type": "markdown",
   "metadata": {},
   "source": [
    "#### First, extract the variable importances."
   ]
  },
  {
   "cell_type": "code",
   "execution_count": 10,
   "metadata": {},
   "outputs": [
    {
     "data": {
      "text/html": [
       "<table>\n",
       "<thead><tr><th></th><th scope=col>.</th></tr></thead>\n",
       "<tbody>\n",
       "\t<tr><th scope=row>Tax_per_capita</th><td>17.652413</td></tr>\n",
       "\t<tr><th scope=row>Corp_tax_as_perc_of_total</th><td>13.372178</td></tr>\n",
       "\t<tr><th scope=row>Individual_tax_as_perc_of_total</th><td>10.505285</td></tr>\n",
       "\t<tr><th scope=row>Tax_minus_subsidy_per_capita</th><td> 9.971320</td></tr>\n",
       "\t<tr><th scope=row>Taxes_paid</th><td> 7.409455</td></tr>\n",
       "\t<tr><th scope=row>Pop_2017</th><td> 5.283023</td></tr>\n",
       "\t<tr><th scope=row>Residual_vote_perc</th><td> 3.649918</td></tr>\n",
       "\t<tr><th scope=row>Fed_subsidies</th><td> 1.643715</td></tr>\n",
       "</tbody>\n",
       "</table>\n"
      ],
      "text/latex": [
       "\\begin{tabular}{r|l}\n",
       "  & .\\\\\n",
       "\\hline\n",
       "\tTax\\_per\\_capita & 17.652413\\\\\n",
       "\tCorp\\_tax\\_as\\_perc\\_of\\_total & 13.372178\\\\\n",
       "\tIndividual\\_tax\\_as\\_perc\\_of\\_total & 10.505285\\\\\n",
       "\tTax\\_minus\\_subsidy\\_per\\_capita &  9.971320\\\\\n",
       "\tTaxes\\_paid &  7.409455\\\\\n",
       "\tPop\\_2017 &  5.283023\\\\\n",
       "\tResidual\\_vote\\_perc &  3.649918\\\\\n",
       "\tFed\\_subsidies &  1.643715\\\\\n",
       "\\end{tabular}\n"
      ],
      "text/markdown": [
       "\n",
       "| <!--/--> | . |\n",
       "|---|---|\n",
       "| Tax_per_capita | 17.652413 |\n",
       "| Corp_tax_as_perc_of_total | 13.372178 |\n",
       "| Individual_tax_as_perc_of_total | 10.505285 |\n",
       "| Tax_minus_subsidy_per_capita |  9.971320 |\n",
       "| Taxes_paid |  7.409455 |\n",
       "| Pop_2017 |  5.283023 |\n",
       "| Residual_vote_perc |  3.649918 |\n",
       "| Fed_subsidies |  1.643715 |\n",
       "\n"
      ],
      "text/plain": [
       "                                .        \n",
       "Tax_per_capita                  17.652413\n",
       "Corp_tax_as_perc_of_total       13.372178\n",
       "Individual_tax_as_perc_of_total 10.505285\n",
       "Tax_minus_subsidy_per_capita     9.971320\n",
       "Taxes_paid                       7.409455\n",
       "Pop_2017                         5.283023\n",
       "Residual_vote_perc               3.649918\n",
       "Fed_subsidies                    1.643715"
      ]
     },
     "metadata": {},
     "output_type": "display_data"
    }
   ],
   "source": [
    "tree_model$variable.importance %>%\n",
    "  as.data.frame()"
   ]
  },
  {
   "cell_type": "markdown",
   "metadata": {},
   "source": [
    "#### Qualitatively, resluts are very similar to the linear correlations.\n",
    "<br>Taxes are very important, but now the tax breakouts of corporate vs. individual are much more important.\n",
    "<br>This change may be because the percentages are assumed to be continuous and range infinitely for linear. Decision trees make no such assumption.\n",
    "<br>I could have rescaled the percentages using some kind of hyperbolic or inv_tan functional shape, but not worth catering to the linear model assumptions for this exercise. "
   ]
  },
  {
   "cell_type": "markdown",
   "metadata": {},
   "source": [
    "#### Lets introspect the tree decision points. \n",
    "(Thanks to the rattle package.)"
   ]
  },
  {
   "cell_type": "code",
   "execution_count": 11,
   "metadata": {},
   "outputs": [
    {
     "data": {
      "image/png": "[encoded data removed]",
      "text/plain": [
       "Plot with title \"\""
      ]
     },
     "metadata": {},
     "output_type": "display_data"
    }
   ],
   "source": [
    "fancyRpartPlot(tree_model, cex = 0.6, box.palette = c(\"red\", \"blue\"), pal.thresh = 0.5)"
   ]
  },
  {
   "cell_type": "markdown",
   "metadata": {},
   "source": [
    "#### Once again, the top split is on taxes per capita.\n",
    "This is a nice validation of the linear correlation exercise.\n",
    "<br>The second branch suggests that the third party vote actually hurt Trump (after the tax impact is removed).\n",
    "<br>Almost all the other nodes with any amount of data are associated with some type of tax."
   ]
  },
  {
   "cell_type": "markdown",
   "metadata": {},
   "source": [
    "#### More visual analytics. Lets review impacts vs. net cash flow to the state. \n",
    "We can look at interactions of 2 variables by cross-plotting and then coloring by the target variable."
   ]
  },
  {
   "cell_type": "code",
   "execution_count": 12,
   "metadata": {},
   "outputs": [
    {
     "data": {},
     "metadata": {},
     "output_type": "display_data"
    },
    {
     "data": {
      "image/png": "[encoded data removed]",
      "text/plain": [
       "plot without title"
      ]
     },
     "metadata": {},
     "output_type": "display_data"
    }
   ],
   "source": [
    "data_2 %>%\n",
    "  ggplot(aes(Tax_per_capita, Tax_minus_subsidy_per_capita)) +\n",
    "  geom_point(aes(color = DJT_WIN)) + \n",
    "  scale_color_brewer(palette=\"Set1\")"
   ]
  },
  {
   "cell_type": "markdown",
   "metadata": {},
   "source": [
    "Hmm, looks like there's a red state getting a large federal subsidy.\n",
    "<br>Let's just check the data."
   ]
  },
  {
   "cell_type": "code",
   "execution_count": 13,
   "metadata": {},
   "outputs": [
    {
     "data": {
      "text/html": [
       "<table>\n",
       "<thead><tr><th scope=col>State</th><th scope=col>DJT_WIN</th><th scope=col>Tax_minus_subsidy_per_capita</th></tr></thead>\n",
       "<tbody>\n",
       "\t<tr><td>North Dakota        </td><td>1                   </td><td>-78406.513          </td></tr>\n",
       "\t<tr><td>Kentucky            </td><td>1                   </td><td>-12375.564          </td></tr>\n",
       "\t<tr><td>Indiana             </td><td>1                   </td><td>-10515.963          </td></tr>\n",
       "\t<tr><td>South Carolina      </td><td>1                   </td><td>-10389.550          </td></tr>\n",
       "\t<tr><td>Alabama             </td><td>1                   </td><td> -8124.747          </td></tr>\n",
       "\t<tr><td>District of Columbia</td><td>0                   </td><td> -7762.629          </td></tr>\n",
       "</tbody>\n",
       "</table>\n"
      ],
      "text/latex": [
       "\\begin{tabular}{r|lll}\n",
       " State & DJT\\_WIN & Tax\\_minus\\_subsidy\\_per\\_capita\\\\\n",
       "\\hline\n",
       "\t North Dakota         & 1                    & -78406.513          \\\\\n",
       "\t Kentucky             & 1                    & -12375.564          \\\\\n",
       "\t Indiana              & 1                    & -10515.963          \\\\\n",
       "\t South Carolina       & 1                    & -10389.550          \\\\\n",
       "\t Alabama              & 1                    &  -8124.747          \\\\\n",
       "\t District of Columbia & 0                    &  -7762.629          \\\\\n",
       "\\end{tabular}\n"
      ],
      "text/markdown": [
       "\n",
       "| State | DJT_WIN | Tax_minus_subsidy_per_capita |\n",
       "|---|---|---|\n",
       "| North Dakota         | 1                    | -78406.513           |\n",
       "| Kentucky             | 1                    | -12375.564           |\n",
       "| Indiana              | 1                    | -10515.963           |\n",
       "| South Carolina       | 1                    | -10389.550           |\n",
       "| Alabama              | 1                    |  -8124.747           |\n",
       "| District of Columbia | 0                    |  -7762.629           |\n",
       "\n"
      ],
      "text/plain": [
       "  State                DJT_WIN Tax_minus_subsidy_per_capita\n",
       "1 North Dakota         1       -78406.513                  \n",
       "2 Kentucky             1       -12375.564                  \n",
       "3 Indiana              1       -10515.963                  \n",
       "4 South Carolina       1       -10389.550                  \n",
       "5 Alabama              1        -8124.747                  \n",
       "6 District of Columbia 0        -7762.629                  "
      ]
     },
     "metadata": {},
     "output_type": "display_data"
    }
   ],
   "source": [
    "data_1 %>%\n",
    "  arrange(Tax_minus_subsidy_per_capita) %>%\n",
    "  select(State, DJT_WIN, Tax_minus_subsidy_per_capita) %>%\n",
    "  head()"
   ]
  },
  {
   "cell_type": "markdown",
   "metadata": {},
   "source": [
    "It looks like North Dakota is receiving a ton of money and paying very little taxes per capita.\n",
    "<br>Also, the 5 states receiving the most subsidy per capita all voted for Trump.\n",
    "<br>There's plenty of arguments here. I'm not a political analyst, so I'll just touch on the first that comes to mind for both side:\n",
    "<br>-This runs counter to the psychology of conservative fiscal policy. These states might have the most to risk if the federal government were to cut taxes & subsidies.\n",
    "<br>-However, perhaps these states also see the need for upheaval. They are receiving aide; it's not helping. Trump could be the outside candidate to come in and drain the swamp. "
   ]
  },
  {
   "cell_type": "markdown",
   "metadata": {},
   "source": [
    "#### Looking back at the scatterplot\n",
    "There also seems to be an interesting linear pattern acting as a ceiling. The more taxes paid, the more taxes_minus_subsidies paid.\n",
    "<br>This is probably an artificial construct manifested by the actual policy codified into law."
   ]
  },
  {
   "cell_type": "markdown",
   "metadata": {},
   "source": [
    "#### What about population's impact?"
   ]
  },
  {
   "cell_type": "code",
   "execution_count": 35,
   "metadata": {},
   "outputs": [
    {
     "data": {},
     "metadata": {},
     "output_type": "display_data"
    },
    {
     "data": {
      "image/png": "[encoded data removed]",
      "text/plain": [
       "plot without title"
      ]
     },
     "metadata": {},
     "output_type": "display_data"
    }
   ],
   "source": [
    "data_1 %>%\n",
    "  mutate(DJT_WIN = ifelse(DJT_WIN == 1, \"DJT\", \"HRC\")) %>%\n",
    "  ggplot(aes(Pop_2017, DJT_vote_perc_2016)) +\n",
    "  geom_point(aes(color = DJT_WIN)) + \n",
    "  geom_smooth(method='lm',formula=y~x) +\n",
    "  scale_color_brewer(palette=\"Set1\")"
   ]
  },
  {
   "cell_type": "markdown",
   "metadata": {},
   "source": [
    "Many people thing of large states voting democrat and small, farm states voting democrat.\n",
    "<br>There is a general, linear trend in this direction. But in fact that stereotype is probably more associated with population density.\n",
    "<br>There are some large states which are staunchly conservative (Texas), and many small states (both by population and land area) in the northeast that vote liberal."
   ]
  },
  {
   "cell_type": "markdown",
   "metadata": {},
   "source": [
    "### Lets create a quick linear model.\n",
    "R makes it so easy, why not"
   ]
  },
  {
   "cell_type": "markdown",
   "metadata": {},
   "source": [
    "First, the data looks quite skewed, so check for BoxCox reshaping (to help normalize skewed data with power transforms).\n",
    "<br>Also run the standard center & scale operation for linear regression."
   ]
  },
  {
   "cell_type": "code",
   "execution_count": 36,
   "metadata": {},
   "outputs": [],
   "source": [
    "data_3a_for_caret = data_1 %>%\n",
    "  select(-State, -DJT_WIN) \n",
    "\n",
    "boxcoxValues = preProcess(data_3a_for_caret, method = \"BoxCox\")\n",
    "data_3b_boxcox = predict(boxcoxValues, data_3a_for_caret)\n",
    "centers_scales = data_3b_boxcox %>%\n",
    "  preProcess(method = c(\"center\", \"scale\"))\n",
    "data_3c_scaled = predict(centers_scales, data_3b_boxcox)"
   ]
  },
  {
   "cell_type": "markdown",
   "metadata": {},
   "source": [
    "Check the target variable to see if caret recommends any power transformation."
   ]
  },
  {
   "cell_type": "code",
   "execution_count": 37,
   "metadata": {},
   "outputs": [
    {
     "data": {
      "text/plain": [
       "NULL"
      ]
     },
     "metadata": {},
     "output_type": "display_data"
    }
   ],
   "source": [
    "boxcoxValues$bc$DJT_vote_percent_2016"
   ]
  },
  {
   "cell_type": "markdown",
   "metadata": {},
   "source": [
    "Lets use caret's recursive feature elimination (backwards-stepping wrapper function), to remove less predictive variables.\n",
    "<br>We'll use caret's default fold count (10) over 5 repeats.\n",
    "<br>Repeated CV can be quite slow. Since these are linear models, speed should be fine.\n",
    "<br><br>Another note- With information leak, CV won't be terribly useful; it will just tune to the most overfit solution set.\n",
    "<br>https://www.rdocumentation.org/packages/caret/versions/6.0-81/topics/rfeControl"
   ]
  },
  {
   "cell_type": "code",
   "execution_count": 38,
   "metadata": {},
   "outputs": [],
   "source": [
    "set.seed(12345)\n",
    "lm_rfe = rfe(DJT_vote_perc_2016 ~ .,\n",
    "             data = data_3c_scaled,\n",
    "             sizes = c(1:10),\n",
    "             rfeControl = rfeControl(functions = lmFuncs,\n",
    "                                     method = \"repeatedcv\",\n",
    "                                     repeats = 5,\n",
    "                                     verbose = FALSE,\n",
    "                                     allowParallel = FALSE,\n",
    "                                     seeds = NULL\n",
    "                                    ))"
   ]
  },
  {
   "cell_type": "markdown",
   "metadata": {},
   "source": [
    "Visualize the error through the backwards-stepping."
   ]
  },
  {
   "cell_type": "code",
   "execution_count": 17,
   "metadata": {},
   "outputs": [
    {
     "data": {
      "image/png": "[encoded data removed]",
      "text/plain": [
       "plot without title"
      ]
     },
     "metadata": {},
     "output_type": "display_data"
    }
   ],
   "source": [
    "print(plot(lm_rfe))"
   ]
  },
  {
   "cell_type": "markdown",
   "metadata": {},
   "source": [
    "Check the optimum variables associated with the min RMSE step."
   ]
  },
  {
   "cell_type": "code",
   "execution_count": 18,
   "metadata": {},
   "outputs": [
    {
     "data": {
      "text/html": [
       "<ol class=list-inline>\n",
       "\t<li>'Taxes_paid'</li>\n",
       "\t<li>'Pop_2017'</li>\n",
       "\t<li>'Tax_per_capita'</li>\n",
       "\t<li>'Individual_tax_as_perc_of_total'</li>\n",
       "</ol>\n"
      ],
      "text/latex": [
       "\\begin{enumerate*}\n",
       "\\item 'Taxes\\_paid'\n",
       "\\item 'Pop\\_2017'\n",
       "\\item 'Tax\\_per\\_capita'\n",
       "\\item 'Individual\\_tax\\_as\\_perc\\_of\\_total'\n",
       "\\end{enumerate*}\n"
      ],
      "text/markdown": [
       "1. 'Taxes_paid'\n",
       "2. 'Pop_2017'\n",
       "3. 'Tax_per_capita'\n",
       "4. 'Individual_tax_as_perc_of_total'\n",
       "\n",
       "\n"
      ],
      "text/plain": [
       "[1] \"Taxes_paid\"                      \"Pop_2017\"                       \n",
       "[3] \"Tax_per_capita\"                  \"Individual_tax_as_perc_of_total\""
      ]
     },
     "metadata": {},
     "output_type": "display_data"
    }
   ],
   "source": [
    "lm_rfe$optVariables"
   ]
  },
  {
   "cell_type": "markdown",
   "metadata": {},
   "source": [
    "#### Check stability by repeating with a couple different seeds.\n",
    "Check out the documentation for seeds in rfeControl. Using the default value \"NA\" will not actually allow the set.seed call in the environment to have any effect. \n",
    "<br>In order to perturb the folds and test the stability of results across different seed starting points, \n",
    "<br>rfeControl(seeds = NULL)\n",
    "<br>should be used.\n",
    "<br>If the loop was occuring across multiple cores, the seeds would have to be listed out explicity (which we're not worrying about here)."
   ]
  },
  {
   "cell_type": "code",
   "execution_count": 19,
   "metadata": {},
   "outputs": [
    {
     "data": {
      "text/html": [
       "<ol class=list-inline>\n",
       "\t<li>'Taxes_paid'</li>\n",
       "\t<li>'Pop_2017'</li>\n",
       "\t<li>'Tax_per_capita'</li>\n",
       "</ol>\n"
      ],
      "text/latex": [
       "\\begin{enumerate*}\n",
       "\\item 'Taxes\\_paid'\n",
       "\\item 'Pop\\_2017'\n",
       "\\item 'Tax\\_per\\_capita'\n",
       "\\end{enumerate*}\n"
      ],
      "text/markdown": [
       "1. 'Taxes_paid'\n",
       "2. 'Pop_2017'\n",
       "3. 'Tax_per_capita'\n",
       "\n",
       "\n"
      ],
      "text/plain": [
       "[1] \"Taxes_paid\"     \"Pop_2017\"       \"Tax_per_capita\""
      ]
     },
     "metadata": {},
     "output_type": "display_data"
    },
    {
     "data": {
      "image/png": "[encoded data removed]",
      "text/plain": [
       "plot without title"
      ]
     },
     "metadata": {},
     "output_type": "display_data"
    }
   ],
   "source": [
    "set.seed(5555)\n",
    "lm_rfe = rfe(DJT_vote_perc_2016 ~ .,\n",
    "             data = data_3c_scaled,\n",
    "             sizes = c(1:10),\n",
    "             rfeControl = rfeControl(functions = lmFuncs,\n",
    "                                     method = \"repeatedcv\",\n",
    "                                     repeats = 5,\n",
    "                                     verbose = FALSE,\n",
    "                                     allowParallel = FALSE,\n",
    "                                     seeds = NULL))\n",
    "print(plot(lm_rfe))\n",
    "lm_rfe$optVariables"
   ]
  },
  {
   "cell_type": "code",
   "execution_count": 20,
   "metadata": {},
   "outputs": [
    {
     "data": {
      "text/html": [
       "<ol class=list-inline>\n",
       "\t<li>'Taxes_paid'</li>\n",
       "\t<li>'Pop_2017'</li>\n",
       "\t<li>'Tax_per_capita'</li>\n",
       "\t<li>'Individual_tax_as_perc_of_total'</li>\n",
       "</ol>\n"
      ],
      "text/latex": [
       "\\begin{enumerate*}\n",
       "\\item 'Taxes\\_paid'\n",
       "\\item 'Pop\\_2017'\n",
       "\\item 'Tax\\_per\\_capita'\n",
       "\\item 'Individual\\_tax\\_as\\_perc\\_of\\_total'\n",
       "\\end{enumerate*}\n"
      ],
      "text/markdown": [
       "1. 'Taxes_paid'\n",
       "2. 'Pop_2017'\n",
       "3. 'Tax_per_capita'\n",
       "4. 'Individual_tax_as_perc_of_total'\n",
       "\n",
       "\n"
      ],
      "text/plain": [
       "[1] \"Taxes_paid\"                      \"Pop_2017\"                       \n",
       "[3] \"Tax_per_capita\"                  \"Individual_tax_as_perc_of_total\""
      ]
     },
     "metadata": {},
     "output_type": "display_data"
    },
    {
     "data": {
      "image/png": "[encoded data removed]",
      "text/plain": [
       "plot without title"
      ]
     },
     "metadata": {},
     "output_type": "display_data"
    }
   ],
   "source": [
    "set.seed(34)\n",
    "lm_rfe = rfe(DJT_vote_perc_2016 ~ .,\n",
    "             data = data_3c_scaled,\n",
    "             sizes = c(1:10),\n",
    "             rfeControl = rfeControl(functions = lmFuncs,\n",
    "                                     method = \"repeatedcv\",\n",
    "                                     repeats = 5,\n",
    "                                     verbose = FALSE,\n",
    "                                     allowParallel = FALSE,\n",
    "                                     seeds = NULL))\n",
    "print(plot(lm_rfe))\n",
    "lm_rfe$optVariables"
   ]
  },
  {
   "cell_type": "markdown",
   "metadata": {},
   "source": [
    "### Cross validation results\n",
    "The different runs settled at the same 3-4 variables and similar levels of RMSE.\n",
    "<br>A nice aspect of RMSE is that it's the same units as the target variable.\n",
    "<br>However, being off by 85-90% (on average!) is quite high in an election where Trump can only take 0-100% of the vote!"
   ]
  },
  {
   "cell_type": "markdown",
   "metadata": {},
   "source": [
    "#### Lets use the rfe results to build the final model."
   ]
  },
  {
   "cell_type": "code",
   "execution_count": 21,
   "metadata": {},
   "outputs": [],
   "source": [
    "lm_model = paste0(lm_rfe$optVariables, collapse = \" + \") %>%\n",
    "  paste0(\"DJT_vote_perc_2016 ~ \", .) %>%\n",
    "  as.formula() %>%\n",
    "  lm(data = data_1)"
   ]
  },
  {
   "cell_type": "markdown",
   "metadata": {},
   "source": [
    "Grab the model predictions\n",
    "<br>Grab the normalized rmse\n",
    "<br>Show the model summary"
   ]
  },
  {
   "cell_type": "code",
   "execution_count": 24,
   "metadata": {},
   "outputs": [
    {
     "data": {
      "text/plain": [
       "\n",
       "Call:\n",
       "lm(formula = ., data = data_1)\n",
       "\n",
       "Residuals:\n",
       "      Min        1Q    Median        3Q       Max \n",
       "-0.254167 -0.044796  0.004753  0.059977  0.169038 \n",
       "\n",
       "Coefficients:\n",
       "                                  Estimate Std. Error t value Pr(>|t|)    \n",
       "(Intercept)                      1.183e+00  2.237e-01   5.289 3.31e-06 ***\n",
       "Taxes_paid                      -7.436e-10  8.023e-10  -0.927   0.3589    \n",
       "Pop_2017                         4.906e-09  8.855e-09   0.554   0.5823    \n",
       "Tax_per_capita                  -1.360e-05  2.814e-06  -4.831 1.54e-05 ***\n",
       "Individual_tax_as_perc_of_total -6.015e-01  2.402e-01  -2.504   0.0159 *  \n",
       "---\n",
       "Signif. codes:  0 '***' 0.001 '**' 0.01 '*' 0.05 '.' 0.1 ' ' 1\n",
       "\n",
       "Residual standard error: 0.08797 on 46 degrees of freedom\n",
       "Multiple R-squared:  0.4951,\tAdjusted R-squared:  0.4512 \n",
       "F-statistic: 11.28 on 4 and 46 DF,  p-value: 1.844e-06\n"
      ]
     },
     "metadata": {},
     "output_type": "display_data"
    },
    {
     "data": {
      "text/html": [
       "'NRMSE = 0.170569080459072'"
      ],
      "text/latex": [
       "'NRMSE = 0.170569080459072'"
      ],
      "text/markdown": [
       "'NRMSE = 0.170569080459072'"
      ],
      "text/plain": [
       "[1] \"NRMSE = 0.170569080459072\""
      ]
     },
     "metadata": {},
     "output_type": "display_data"
    }
   ],
   "source": [
    "lm_predictions = predict(lm_model, data_1)\n",
    "nrmse = rmse(actual = data_1$DJT_vote_perc_2016,\n",
    "             predicted = lm_predictions) / mean(data_1$DJT_vote_perc_2016)\n",
    "summary(lm_model)\n",
    "paste0(\"NRMSE = \", nrmse)"
   ]
  },
  {
   "cell_type": "markdown",
   "metadata": {},
   "source": [
    "#### Linear model summary results\n",
    "Two of the variables don't pass a p < 0.05 threshold.\n",
    "<br>The intercept has a very low p-value, suggesting that the available variables do not do a good job explaining the target response.\n",
    "<br>The training R-squared and training NRMSE actually are not as terrible as the rfe CV results suggested, but the major difference is that the CV errors were from data NOT IN TRAIN. \n",
    "<br>This substantial difference in indicators between CV and train suggest this linear model may be overtrained (we could start trying to solve this by removing the variables with high P-values.)"
   ]
  },
  {
   "cell_type": "markdown",
   "metadata": {},
   "source": [
    "#### Visualize linear model diagnostics\n",
    "As part of R's catering to statisticians, calling 'plot' on a linear model object shows several diagnostics.\n",
    "\n",
    "UVA has a pretty nice write up on the plots:\n",
    "https://data.library.virginia.edu/diagnostic-plots/"
   ]
  },
  {
   "cell_type": "code",
   "execution_count": 26,
   "metadata": {
    "scrolled": false
   },
   "outputs": [
    {
     "data": {
      "image/png": "[encoded data removed]",
      "text/plain": [
       "Plot with title \"\""
      ]
     },
     "metadata": {},
     "output_type": "display_data"
    },
    {
     "data": {
      "image/png": "[encoded data removed]",
      "text/plain": [
       "Plot with title \"\""
      ]
     },
     "metadata": {},
     "output_type": "display_data"
    },
    {
     "data": {
      "image/png": "[encoded data removed]",
      "text/plain": [
       "Plot with title \"\""
      ]
     },
     "metadata": {},
     "output_type": "display_data"
    },
    {
     "data": {
      "image/png": "[encoded data removed]",
      "text/plain": [
       "Plot with title \"\""
      ]
     },
     "metadata": {},
     "output_type": "display_data"
    }
   ],
   "source": [
    "plot(lm_model)"
   ]
  },
  {
   "cell_type": "markdown",
   "metadata": {},
   "source": [
    " #### Plots results\n",
    " The residual plot does not look great. Residuals are quite widely spaced (poorly predicted)\n",
    " <br>The Q-Q plot does not suggest the data deviate too badly from the central limit theorem.\n",
    " <br>The cook's distance plot shows the outlier, but its not affecting the overall trend of the data.\n",
    " <br>Overall, the residuals are noisy i.e. poorly predicted."
   ]
  },
  {
   "cell_type": "markdown",
   "metadata": {},
   "source": [
    "#### Plot actual vs. predicted"
   ]
  },
  {
   "cell_type": "code",
   "execution_count": 28,
   "metadata": {},
   "outputs": [
    {
     "data": {},
     "metadata": {},
     "output_type": "display_data"
    },
    {
     "data": {
      "image/png": "[encoded data removed]",
      "text/plain": [
       "plot without title"
      ]
     },
     "metadata": {},
     "output_type": "display_data"
    }
   ],
   "source": [
    "data_1 %>%\n",
    "  mutate(DJT_WIN = ifelse(DJT_WIN == 1, \"DJT\", \"HRC\")) %>%\n",
    "  ggplot(aes(lm_predictions, DJT_vote_perc_2016)) + \n",
    "  geom_point(aes(color = DJT_WIN)) +\n",
    "  geom_abline(slope = 1, intercept = 0) +\n",
    "  coord_cartesian(xlim = c(0, max(lm_predictions, data_1$DJT_vote_perc_2016)),\n",
    "                  ylim = c(0, max(lm_predictions, data_1$DJT_vote_perc_2016))) +\n",
    "  scale_color_brewer(palette=\"Set1\")"
   ]
  },
  {
   "cell_type": "markdown",
   "metadata": {},
   "source": [
    "#### Digesting AvP plot\n",
    "Overall, noisy data. With just taxes and population data, there's not really enough here to predict vote results."
   ]
  },
  {
   "cell_type": "markdown",
   "metadata": {},
   "source": [
    "## Parting thoughts\n",
    "Overall, the response of voter behavior to these indicators is very nonlinear, hence the decision tree doing a better job for uncovering clusters of behavior in the data.\n",
    "<br>Highly taxed states (federal taxes) tend to lean liberal, and states receiving net federal subsidy tend to lean conservative.\n",
    "<br>Maybe surprisingly, absolute population doesn't correlate strongly. "
   ]
  },
  {
   "cell_type": "code",
   "execution_count": null,
   "metadata": {},
   "outputs": [],
   "source": []
  }
 ],
 "metadata": {
  "kernelspec": {
   "display_name": "R",
   "language": "R",
   "name": "ir"
  },
  "language_info": {
   "codemirror_mode": "r",
   "file_extension": ".r",
   "mimetype": "text/x-r-source",
   "name": "R",
   "pygments_lexer": "r",
   "version": "3.4.2"
  },
  "varInspector": {
   "cols": {
    "lenName": 16,
    "lenType": 16,
    "lenVar": 40
   },
   "kernels_config": {
    "python": {
     "delete_cmd_postfix": "",
     "delete_cmd_prefix": "del ",
     "library": "var_list.py",
     "varRefreshCmd": "print(var_dic_list())"
    },
    "r": {
     "delete_cmd_postfix": ") ",
     "delete_cmd_prefix": "rm(",
     "library": "var_list.r",
     "varRefreshCmd": "cat(var_dic_list()) "
    }
   },
   "types_to_exclude": [
    "module",
    "function",
    "builtin_function_or_method",
    "instance",
    "_Feature"
   ],
   "window_display": false
  }
 },
 "nbformat": 4,
 "nbformat_minor": 2
}
