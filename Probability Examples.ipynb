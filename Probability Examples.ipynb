{
 "cells": [
  {
   "cell_type": "markdown",
   "metadata": {},
   "source": [
    "# A random assortment of statistics and probability examples\n",
    "__1. Birthday paradox__\n",
    "<br>__2. Coupon collector's problem__\n",
    "<br>__3. Poisson and exponential events probabilities__\n",
    "<br>__4. Goodness of fit: chi-squared and k-s tests__\n",
    "<br>__5. Jeep problem__"
   ]
  },
  {
   "cell_type": "code",
   "execution_count": 77,
   "metadata": {},
   "outputs": [],
   "source": [
    "import numpy as np\n",
    "import scipy.stats"
   ]
  },
  {
   "cell_type": "markdown",
   "metadata": {},
   "source": [
    "### 1. Birthday paradox\n",
    "Probability of having the same birthday.\n",
    "<br>Some cool algebra tricks wth help of Taylor expansion of exp(x)\n",
    "<br>https://betterexplained.com/articles/understanding-the-birthday-paradox/"
   ]
  },
  {
   "cell_type": "code",
   "execution_count": 15,
   "metadata": {},
   "outputs": [
    {
     "data": {
      "text/plain": [
       "0.04811882531956668"
      ]
     },
     "execution_count": 15,
     "metadata": {},
     "output_type": "execute_result"
    }
   ],
   "source": [
    "### Probability given number people in room\n",
    "days_in_year: int = 365\n",
    "people_in_room: int = 6\n",
    "\n",
    "prob_different = np.exp(-1*(people_in_room ** 2 / (2 * days_in_year)))\n",
    "prob_same = 1 - prob_different\n",
    "prob_same"
   ]
  },
  {
   "cell_type": "code",
   "execution_count": 14,
   "metadata": {},
   "outputs": [
    {
     "data": {
      "text/plain": [
       "42.00167213523923"
      ]
     },
     "execution_count": 14,
     "metadata": {},
     "output_type": "execute_result"
    }
   ],
   "source": [
    "### How many people to get certain probability\n",
    "desired_prob_same = 0.9\n",
    "\n",
    "prob_different = 1 - desired_prob_same\n",
    "# 0 = people_in_room^2 - people_in_room + 2 * days_in_year * np.ln(prob_different)\n",
    "people_in_room = 1 + np.sqrt(1**2 - 4 * 1 * 2 * days_in_year * np.log(prob_different)) / (2 * 1)\n",
    "people_in_room"
   ]
  },
  {
   "cell_type": "markdown",
   "metadata": {},
   "source": [
    "### 2. Coupon collector's problem\n",
    "Approach: work back from probabilities of getting the next unpossessed coupon.\n",
    "<br>(Number of coupons required is reciprocal to probability of getting needed coupons.)\n",
    "<br>Thanks to algebra, the summation simplifies to a quantity including the harmonic number of coupons.\n",
    "<br>https://brilliant.org/wiki/coupon-collector-problem/"
   ]
  },
  {
   "cell_type": "code",
   "execution_count": 120,
   "metadata": {},
   "outputs": [
    {
     "data": {
      "text/plain": [
       "29.29"
      ]
     },
     "execution_count": 120,
     "metadata": {},
     "output_type": "execute_result"
    }
   ],
   "source": [
    "number_coupons: int = 10\n",
    "\n",
    "def harmonic_num(x: int):\n",
    "    harmonic_number: float = 0.0\n",
    "    for i in range(x):\n",
    "        harmonic_number += 1/(i + 1)\n",
    "    return harmonic_number\n",
    "number_times: float = number_coupons * harmonic_num(number_coupons)\n",
    "np.round(number_times, 3)"
   ]
  },
  {
   "cell_type": "markdown",
   "metadata": {},
   "source": [
    "### 3. Poisson events and exponential time between events\n",
    "<br>References: Wiki articles for poisson and exponential distributions\n",
    "<br>https://stats.stackexchange.com/questions/2092/relationship-between-poisson-and-exponential-distribution\n",
    "\n",
    "__Baseball no-hitters events__\n",
    "<br>[sandcat.middlebury.edu/econ/repec/mdl/ancoec/0717.pdf](sandcat.middlebury.edu/econ/repec/mdl/ancoec/0717.pdf)\n",
    "<br>49 no-hitters in 40 years 1920-1959; over 280 months of baseball season\n",
    "<br>lambda = 1.225 no-hitters per year\n",
    "<br>lambda = 0.175 no-hitters per month"
   ]
  },
  {
   "cell_type": "code",
   "execution_count": 75,
   "metadata": {},
   "outputs": [
    {
     "name": "stdout",
     "output_type": "stream",
     "text": [
      "Avg number events per time period: 0.175\n",
      "Number of events in that time period to investigate: 0\n",
      "Prob_of_that_number_of_events: 0.839\n",
      "Prob_of_that_number_or_fewer_events (including 0): 0.839\n"
     ]
    }
   ],
   "source": [
    "avg_event_rate = 49/280 # lambda: the number occurences per time period\n",
    "\n",
    "### Poisson: probability of a given number of events occuring\n",
    "number_events_per_time_interval_to_investigate: int = 0\n",
    "    \n",
    "def poisson_pdf(rate, number_events_to_check):\n",
    "    return (rate ** number_events_to_check * \n",
    "            np.exp(-1 * rate) /\n",
    "            np.math.factorial(number_events_to_check))\n",
    "    \n",
    "prob_of_that_number_of_events = poisson_pdf(rate = avg_event_rate, \n",
    "                                            number_events_to_check = number_events_per_time_interval_to_investigate)\n",
    "\n",
    "prob_of_that_number_or_fewer_events = 0\n",
    "for i in range(number_events_per_time_interval_to_investigate + 1):\n",
    "    prob_of_that_number_or_fewer_events += \\\n",
    "    poisson_pdf(rate = avg_event_rate, \n",
    "                number_events_to_check = i)\n",
    "\n",
    "print(\"Avg number events per time period:\", \n",
    "      np.round(avg_event_rate, 3))\n",
    "print(\"Number of events in that time period to investigate:\", number_events_per_time_interval_to_investigate)\n",
    "print(\"Prob_of_that_number_of_events:\", \n",
    "      np.round(prob_of_that_number_of_events, 3))\n",
    "print(\"Prob_of_that_number_or_fewer_events (including 0):\", \n",
    "      np.round(prob_of_that_number_or_fewer_events, 3))"
   ]
  },
  {
   "cell_type": "code",
   "execution_count": 76,
   "metadata": {},
   "outputs": [
    {
     "name": "stdout",
     "output_type": "stream",
     "text": [
      "Avg number events per time period: 0.175\n",
      "Time between events to investigate: 0.143\n",
      "Prob_of_that_time_or_less_between_events (including 0): 0.025\n",
      "Avg_time_between_events: 5.714\n",
      "Probability of avg time or less between events: 0.632\n",
      "Median_time_between_events 3.961\n"
     ]
    }
   ],
   "source": [
    "avg_event_rate = 49/280 # lambda: the number occurences per time period\n",
    "\n",
    "### Exponential: time between events\n",
    "time_to_investigate = 1/7 # 7 months in mlb season\n",
    "\n",
    "prob_of_that_exact_time_between_occurences = avg_event_rate * np.exp(-1 * avg_event_rate * time_to_investigate)\n",
    "prob_of_time_between_occurences = 1 - np.exp(-1 * avg_event_rate * time_to_investigate) # this amount of time or less\n",
    "\n",
    "avg_time_between_events = 1 / avg_event_rate\n",
    "median_time_between_events = np.log(2) / avg_event_rate\n",
    "median_time_between_events\n",
    "\n",
    "print(\"Avg number events per time period:\", \n",
    "      np.round(avg_event_rate, 3))\n",
    "print(\"Time between events to investigate:\", \n",
    "      np.round(time_to_investigate, 3))\n",
    "# print(\"Prob_density_at_that_exact_time_between_occurences:\", \n",
    "#       np.round(prob_of_that_exact_time_between_occurences, 3))\n",
    "print(\"Prob_of_that_time_or_less_between_events (including 0):\", \n",
    "      np.round(prob_of_time_between_occurences, 3))\n",
    "print(\"Avg_time_between_events:\", \n",
    "      np.round(avg_time_between_events, 3))\n",
    "print(\"Probability of avg time or less between events:\", \n",
    "      np.round(1 - np.exp(-1 * avg_event_rate * avg_time_between_events), 3))\n",
    "print(\"Median_time_between_events\", \n",
    "      np.round(median_time_between_events, 3))"
   ]
  },
  {
   "cell_type": "markdown",
   "metadata": {},
   "source": [
    "### 4. Goodness of fit\n",
    "Chi-squared test for deviation from expected distribution\n",
    "<br>Only for binned/categorical data\n",
    "<br>[sandcat.middlebury.edu/econ/repec/mdl/ancoec/0717.pdf](sandcat.middlebury.edu/econ/repec/mdl/ancoec/0717.pdf)\n",
    "<br>https://docs.scipy.org/doc/scipy/reference/generated/scipy.stats.chisquare.html"
   ]
  },
  {
   "cell_type": "code",
   "execution_count": 84,
   "metadata": {},
   "outputs": [
    {
     "name": "stdout",
     "output_type": "stream",
     "text": [
      "If pvalue below 0.05, observations do not belong to expected distribution.\n",
      "P-value = 0.9878024170265235\n"
     ]
    }
   ],
   "source": [
    "observed_array = [11, 15, 9, 4, 1]\n",
    "expected_array = [11.75, 14.39, 8.8164, 3.6, 1.1025]\n",
    "dof_adjustment = 1 # +1 if also estimating mean for poisson from sample data\n",
    "\n",
    "print(\"If pvalue below 0.05, observations do not belong to expected distribution.\")\n",
    "print(\"P-value =\",\n",
    "      scipy.stats.chisquare(f_obs = observed_array,\n",
    "                            f_exp = expected_array,\n",
    "                            ddof = dof_adjustment)[1])"
   ]
  },
  {
   "cell_type": "markdown",
   "metadata": {},
   "source": [
    "Goodness of fit for continuous variables\n",
    "<br>https://stats.stackexchange.com/questions/76350/goodness-of-fit-for-continuous-variables\n",
    "\n",
    "Scipy kstest\n",
    "<br>https://docs.scipy.org/doc/scipy/reference/generated/scipy.stats.kstest.html\n",
    "\n",
    "List of continuous distributions in scipy\n",
    "<br>https://docs.scipy.org/doc/scipy/reference/stats.html#module-scipy.stats"
   ]
  },
  {
   "cell_type": "code",
   "execution_count": 94,
   "metadata": {},
   "outputs": [
    {
     "data": {
      "text/plain": [
       "KstestResult(statistic=0.5000427891604897, pvalue=9.655302994802462e-232)"
      ]
     },
     "execution_count": 94,
     "metadata": {},
     "output_type": "execute_result"
    }
   ],
   "source": [
    "scipy.stats.kstest(rvs = scipy.stats.uniform.rvs(size=1000, random_state = 12345),\n",
    "                  cdf = \"norm\",\n",
    "                  #args = (1, 1),\n",
    "                   # N = 20,\n",
    "                  alternative = 'two-sided',\n",
    "                  mode = 'approx')"
   ]
  },
  {
   "cell_type": "markdown",
   "metadata": {},
   "source": [
    "Named tuple\n",
    "<br>https://docs.python.org/2/library/collections.html"
   ]
  },
  {
   "cell_type": "code",
   "execution_count": 101,
   "metadata": {},
   "outputs": [
    {
     "data": {
      "text/plain": [
       "__main__.norm_args"
      ]
     },
     "execution_count": 101,
     "metadata": {},
     "output_type": "execute_result"
    }
   ],
   "source": [
    "import collections\n",
    "norm_args = collections.namedtuple('norm_args', ['loc', 'scale'])"
   ]
  },
  {
   "cell_type": "code",
   "execution_count": 102,
   "metadata": {},
   "outputs": [
    {
     "data": {
      "text/plain": [
       "KstestResult(statistic=0.02526609656624318, pvalue=0.5457961444206735)"
      ]
     },
     "execution_count": 102,
     "metadata": {},
     "output_type": "execute_result"
    }
   ],
   "source": [
    "scipy.stats.kstest(rvs = scipy.stats.norm.rvs(loc = 1,\n",
    "                                              scale = 1,\n",
    "                                              size = 1000, \n",
    "                                              random_state = 12345),\n",
    "                  cdf = \"norm\",\n",
    "                  args = norm_args(loc=1, scale=1),\n",
    "                   # N = 20,\n",
    "                  alternative = 'two-sided',\n",
    "                  mode = 'approx')"
   ]
  },
  {
   "cell_type": "code",
   "execution_count": 103,
   "metadata": {},
   "outputs": [],
   "source": [
    "uniform_args = collections.namedtuple('uniform_args', ['loc', 'scale'])"
   ]
  },
  {
   "cell_type": "code",
   "execution_count": 107,
   "metadata": {},
   "outputs": [
    {
     "data": {
      "text/plain": [
       "KstestResult(statistic=0.014856419814211264, pvalue=0.9800639362901664)"
      ]
     },
     "execution_count": 107,
     "metadata": {},
     "output_type": "execute_result"
    }
   ],
   "source": [
    "scipy.stats.kstest(rvs = scipy.stats.uniform.rvs(loc = 1,\n",
    "                                                 scale = 1,\n",
    "                                                 size=1000, \n",
    "                                                 random_state = 12345),\n",
    "                  cdf = \"uniform\",\n",
    "                  args = uniform_args(loc=1, scale=1),\n",
    "                   # N = 20,\n",
    "                  alternative = 'two-sided',\n",
    "                  mode = 'approx')"
   ]
  },
  {
   "cell_type": "markdown",
   "metadata": {},
   "source": [
    "__5. Jeep problem__\n",
    "<br>https://en.wikipedia.org/wiki/Jeep_problem"
   ]
  },
  {
   "cell_type": "code",
   "execution_count": 132,
   "metadata": {},
   "outputs": [
    {
     "name": "stdout",
     "output_type": "stream",
     "text": [
      "12367 trips needed to explore\n",
      "3092 trips needed to cross\n"
     ]
    }
   ],
   "source": [
    "desert_width = 5\n",
    "\n",
    "def dist_explore(num_trips):\n",
    "    return harmonic_num(x = num_trips) / 2\n",
    "\n",
    "def dist_cross(num_trips):\n",
    "    final_trip_distance = 0.0\n",
    "    for i in range(num_trips):\n",
    "        final_trip_distance += 1 / (2 * (i + 1) - 1)\n",
    "    return final_trip_distance\n",
    "\n",
    "resultant_distance = 0.0\n",
    "n_trips_to_explore = 0\n",
    "while resultant_distance < desert_width:\n",
    "    n_trips_to_explore += 1\n",
    "    resultant_distance = dist_explore(num_trips = n_trips_to_explore)\n",
    "\n",
    "resultant_distance = 0.0\n",
    "n_trips_to_cross = 0\n",
    "while resultant_distance < desert_width:\n",
    "    n_trips_to_cross += 1\n",
    "    resultant_distance = dist_cross(num_trips = n_trips_to_cross)\n",
    "\n",
    "print(n_trips_to_explore, \"trips needed to explore\")\n",
    "print(n_trips_to_cross, \"trips needed to cross\")"
   ]
  },
  {
   "cell_type": "code",
   "execution_count": 131,
   "metadata": {},
   "outputs": [
    {
     "data": {
      "text/plain": [
       "1.5333333333333332"
      ]
     },
     "execution_count": 131,
     "metadata": {},
     "output_type": "execute_result"
    }
   ],
   "source": [
    "dist_cross(3)"
   ]
  }
 ],
 "metadata": {
  "kernelspec": {
   "display_name": "Python 3",
   "language": "python",
   "name": "python3"
  },
  "language_info": {
   "codemirror_mode": {
    "name": "ipython",
    "version": 3
   },
   "file_extension": ".py",
   "mimetype": "text/x-python",
   "name": "python",
   "nbconvert_exporter": "python",
   "pygments_lexer": "ipython3",
   "version": "3.6.8"
  }
 },
 "nbformat": 4,
 "nbformat_minor": 2
}
