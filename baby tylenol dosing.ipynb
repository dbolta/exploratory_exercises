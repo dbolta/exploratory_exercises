{
 "cells": [
  {
   "cell_type": "markdown",
   "metadata": {},
   "source": [
    "__Baby Tylenol Dosing__\n",
    "<br>This calculates the volume dose of baby tylenol for your baby per\n",
    "<br>https://emedicine.medscape.com/article/2172407-overview\n",
    "<br>10-15 mg/kg/dose"
   ]
  },
  {
   "cell_type": "code",
   "execution_count": 21,
   "metadata": {},
   "outputs": [
    {
     "data": {
      "text/plain": [
       "{'baby_weight_kg': 8.12,\n",
       " 'baby_dose_min_mg': 81.25,\n",
       " 'baby_dose_max_mg': 121.88,\n",
       " 'baby_dose_min_ml': 2.54,\n",
       " 'baby_dose_max_ml': 3.81}"
      ]
     },
     "execution_count": 21,
     "metadata": {},
     "output_type": "execute_result"
    }
   ],
   "source": [
    "def acetaminophen_dose_by_weight(baby_weight_lbs,\n",
    "                                 baby_weight_oz = 0,\n",
    "                                 suspension_mg_acetaminophen = 160,\n",
    "                                 suspension_ml_solvent = 5):\n",
    "    baby_weight_kg = (baby_weight_lbs + baby_weight_oz / 16.0) / 2.2\n",
    "    dose_dict = {\"baby_weight_kg\": baby_weight_kg,\n",
    "                 \"baby_dose_min_mg\": 10 * baby_weight_kg,\n",
    "                 \"baby_dose_max_mg\": 15 * baby_weight_kg}\n",
    "    dose_dict['baby_dose_min_ml'] = (dose_dict[\"baby_dose_min_mg\"] / suspension_mg_acetaminophen \n",
    "                                     * suspension_ml_solvent)\n",
    "    dose_dict['baby_dose_max_ml'] = (dose_dict[\"baby_dose_max_mg\"] / suspension_mg_acetaminophen \n",
    "                                     * suspension_ml_solvent)\n",
    "    dose_dict = {k: round(v, 2) for k, v in dose_dict.items()}\n",
    "    return dose_dict\n",
    "acetaminophen_dose_by_weight(baby_weight_lbs = 17, baby_weight_oz = 14)"
   ]
  },
  {
   "cell_type": "code",
   "execution_count": null,
   "metadata": {},
   "outputs": [],
   "source": []
  }
 ],
 "metadata": {
  "kernelspec": {
   "display_name": "Python 3",
   "language": "python",
   "name": "python3"
  },
  "language_info": {
   "codemirror_mode": {
    "name": "ipython",
    "version": 3
   },
   "file_extension": ".py",
   "mimetype": "text/x-python",
   "name": "python",
   "nbconvert_exporter": "python",
   "pygments_lexer": "ipython3",
   "version": "3.7.3"
  },
  "varInspector": {
   "cols": {
    "lenName": 16,
    "lenType": 16,
    "lenVar": 40
   },
   "kernels_config": {
    "python": {
     "delete_cmd_postfix": "",
     "delete_cmd_prefix": "del ",
     "library": "var_list.py",
     "varRefreshCmd": "print(var_dic_list())"
    },
    "r": {
     "delete_cmd_postfix": ") ",
     "delete_cmd_prefix": "rm(",
     "library": "var_list.r",
     "varRefreshCmd": "cat(var_dic_list()) "
    }
   },
   "types_to_exclude": [
    "module",
    "function",
    "builtin_function_or_method",
    "instance",
    "_Feature"
   ],
   "window_display": false
  }
 },
 "nbformat": 4,
 "nbformat_minor": 2
}
