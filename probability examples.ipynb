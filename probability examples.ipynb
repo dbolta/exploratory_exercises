{
 "cells": [
  {
   "cell_type": "markdown",
   "metadata": {},
   "source": [
    "# A random assortment of statistics and probability examples\n",
    "__1. Birthday paradox__\n",
    "<br>__2. Coupon collector's problem__\n",
    "<br>__3. Poisson and exponential events probabilities__\n",
    "<br>__4. Goodness of fit: chi-squared and k-s tests__\n",
    "<br>__5. Jeep problem__\n",
    "<br>__6. Streaks__\n",
    "<br>__7. Imperfect Streaks__\n",
    "<br>__8. Simulated Chinese Restaurant Process__\n",
    "<br>__9. Simulated Dirichlet Process__"
   ]
  },
  {
   "cell_type": "code",
   "execution_count": 67,
   "metadata": {},
   "outputs": [],
   "source": [
    "import numpy as np\n",
    "import scipy.stats\n",
    "import scipy.optimize\n",
    "import sys\n",
    "import matplotlib.pyplot as plt\n",
    "import pandas as pd\n",
    "import random"
   ]
  },
  {
   "cell_type": "markdown",
   "metadata": {},
   "source": [
    "### 1. Birthday paradox\n",
    "Probability of having the same birthday.\n",
    "<br>Some cool algebra tricks wth help of Taylor expansion of exp(x)\n",
    "<br>https://betterexplained.com/articles/understanding-the-birthday-paradox/"
   ]
  },
  {
   "cell_type": "code",
   "execution_count": 2,
   "metadata": {},
   "outputs": [
    {
     "data": {
      "text/plain": [
       "0.04811882531956668"
      ]
     },
     "execution_count": 2,
     "metadata": {},
     "output_type": "execute_result"
    }
   ],
   "source": [
    "### Probability given number people in room\n",
    "days_in_year: int = 365\n",
    "people_in_room: int = 6\n",
    "\n",
    "prob_different = np.exp(-1*(people_in_room ** 2 / (2 * days_in_year)))\n",
    "prob_same = 1 - prob_different\n",
    "prob_same"
   ]
  },
  {
   "cell_type": "code",
   "execution_count": 3,
   "metadata": {},
   "outputs": [
    {
     "data": {
      "text/plain": [
       "42.00167213523923"
      ]
     },
     "execution_count": 3,
     "metadata": {},
     "output_type": "execute_result"
    }
   ],
   "source": [
    "### How many people to get certain probability\n",
    "desired_prob_same = 0.9\n",
    "\n",
    "prob_different = 1 - desired_prob_same\n",
    "# 0 = people_in_room^2 - people_in_room + 2 * days_in_year * np.ln(prob_different)\n",
    "people_in_room = 1 + np.sqrt(1**2 - 4 * 1 * 2 * days_in_year * np.log(prob_different)) / (2 * 1)\n",
    "people_in_room"
   ]
  },
  {
   "cell_type": "markdown",
   "metadata": {},
   "source": [
    "### 2. Coupon collector's problem\n",
    "Approach: work back from probabilities of getting the next unpossessed coupon.\n",
    "<br>(Number of coupons required is reciprocal to probability of getting needed coupons.)\n",
    "<br>Thanks to algebra, the summation simplifies to a quantity including the harmonic number of coupons.\n",
    "<br>https://brilliant.org/wiki/coupon-collector-problem/"
   ]
  },
  {
   "cell_type": "code",
   "execution_count": 4,
   "metadata": {},
   "outputs": [
    {
     "data": {
      "text/plain": [
       "29.29"
      ]
     },
     "execution_count": 4,
     "metadata": {},
     "output_type": "execute_result"
    }
   ],
   "source": [
    "number_coupons: int = 10\n",
    "\n",
    "def harmonic_num(x: int):\n",
    "    harmonic_number: float = 0.0\n",
    "    for i in range(x):\n",
    "        harmonic_number += 1/(i + 1)\n",
    "    return harmonic_number\n",
    "number_times: float = number_coupons * harmonic_num(number_coupons)\n",
    "np.round(number_times, 3)"
   ]
  },
  {
   "cell_type": "markdown",
   "metadata": {},
   "source": [
    "### 3. Poisson events and exponential time between events\n",
    "<br>References: Wiki articles for poisson and exponential distributions\n",
    "<br>https://stats.stackexchange.com/questions/2092/relationship-between-poisson-and-exponential-distribution\n",
    "\n",
    "__Baseball no-hitters events__\n",
    "<br>[sandcat.middlebury.edu/econ/repec/mdl/ancoec/0717.pdf](sandcat.middlebury.edu/econ/repec/mdl/ancoec/0717.pdf)\n",
    "<br>49 no-hitters in 40 years 1920-1959; over 280 months of baseball season\n",
    "<br>lambda = 1.225 no-hitters per year\n",
    "<br>lambda = 0.175 no-hitters per month"
   ]
  },
  {
   "cell_type": "code",
   "execution_count": 5,
   "metadata": {},
   "outputs": [
    {
     "name": "stdout",
     "output_type": "stream",
     "text": [
      "Avg number events per time period: 0.175\n",
      "Number of events in that time period to investigate: 0\n",
      "Prob_of_that_number_of_events: 0.839\n",
      "Prob_of_that_number_or_fewer_events (including 0): 0.839\n"
     ]
    }
   ],
   "source": [
    "avg_event_rate = 49/280 # lambda: the number occurences per time period\n",
    "\n",
    "### Poisson: probability of a given number of events occuring\n",
    "number_events_per_time_interval_to_investigate: int = 0\n",
    "    \n",
    "def poisson_pdf(rate, number_events_to_check):\n",
    "    return (rate ** number_events_to_check * \n",
    "            np.exp(-1 * rate) /\n",
    "            np.math.factorial(number_events_to_check))\n",
    "    \n",
    "prob_of_that_number_of_events = poisson_pdf(rate = avg_event_rate, \n",
    "                                            number_events_to_check = number_events_per_time_interval_to_investigate)\n",
    "\n",
    "prob_of_that_number_or_fewer_events = 0\n",
    "for i in range(number_events_per_time_interval_to_investigate + 1):\n",
    "    prob_of_that_number_or_fewer_events += \\\n",
    "    poisson_pdf(rate = avg_event_rate, \n",
    "                number_events_to_check = i)\n",
    "\n",
    "print(\"Avg number events per time period:\", \n",
    "      np.round(avg_event_rate, 3))\n",
    "print(\"Number of events in that time period to investigate:\", number_events_per_time_interval_to_investigate)\n",
    "print(\"Prob_of_that_number_of_events:\", \n",
    "      np.round(prob_of_that_number_of_events, 3))\n",
    "print(\"Prob_of_that_number_or_fewer_events (including 0):\", \n",
    "      np.round(prob_of_that_number_or_fewer_events, 3))"
   ]
  },
  {
   "cell_type": "code",
   "execution_count": 6,
   "metadata": {},
   "outputs": [
    {
     "name": "stdout",
     "output_type": "stream",
     "text": [
      "Avg number events per time period: 0.175\n",
      "Time between events to investigate: 0.143\n",
      "Prob_of_that_time_or_less_between_events (including 0): 0.025\n",
      "Avg_time_between_events: 5.714\n",
      "Probability of avg time or less between events: 0.632\n",
      "Median_time_between_events 3.961\n"
     ]
    }
   ],
   "source": [
    "avg_event_rate = 49/280 # lambda: the number occurences per time period\n",
    "\n",
    "### Exponential: time between events\n",
    "time_to_investigate = 1/7 # 7 months in mlb season\n",
    "\n",
    "prob_of_that_exact_time_between_occurences = avg_event_rate * np.exp(-1 * avg_event_rate * time_to_investigate)\n",
    "prob_of_time_between_occurences = 1 - np.exp(-1 * avg_event_rate * time_to_investigate) # this amount of time or less\n",
    "\n",
    "avg_time_between_events = 1 / avg_event_rate\n",
    "median_time_between_events = np.log(2) / avg_event_rate\n",
    "median_time_between_events\n",
    "\n",
    "print(\"Avg number events per time period:\", \n",
    "      np.round(avg_event_rate, 3))\n",
    "print(\"Time between events to investigate:\", \n",
    "      np.round(time_to_investigate, 3))\n",
    "# print(\"Prob_density_at_that_exact_time_between_occurences:\", \n",
    "#       np.round(prob_of_that_exact_time_between_occurences, 3))\n",
    "print(\"Prob_of_that_time_or_less_between_events (including 0):\", \n",
    "      np.round(prob_of_time_between_occurences, 3))\n",
    "print(\"Avg_time_between_events:\", \n",
    "      np.round(avg_time_between_events, 3))\n",
    "print(\"Probability of avg time or less between events:\", \n",
    "      np.round(1 - np.exp(-1 * avg_event_rate * avg_time_between_events), 3))\n",
    "print(\"Median_time_between_events\", \n",
    "      np.round(median_time_between_events, 3))"
   ]
  },
  {
   "cell_type": "markdown",
   "metadata": {},
   "source": [
    "### 4. Goodness of fit\n",
    "Chi-squared test for deviation from expected distribution\n",
    "<br>Only for binned/categorical data\n",
    "<br>[sandcat.middlebury.edu/econ/repec/mdl/ancoec/0717.pdf](sandcat.middlebury.edu/econ/repec/mdl/ancoec/0717.pdf)\n",
    "<br>https://docs.scipy.org/doc/scipy/reference/generated/scipy.stats.chisquare.html"
   ]
  },
  {
   "cell_type": "code",
   "execution_count": 7,
   "metadata": {},
   "outputs": [
    {
     "name": "stdout",
     "output_type": "stream",
     "text": [
      "If pvalue below 0.05, observations do not belong to expected distribution.\n",
      "P-value = 0.9878024170265235\n"
     ]
    }
   ],
   "source": [
    "observed_array = [11, 15, 9, 4, 1]\n",
    "expected_array = [11.75, 14.39, 8.8164, 3.6, 1.1025]\n",
    "dof_adjustment = 1 # +1 if also estimating mean for poisson from sample data\n",
    "\n",
    "print(\"If pvalue below 0.05, observations do not belong to expected distribution.\")\n",
    "print(\"P-value =\",\n",
    "      scipy.stats.chisquare(f_obs = observed_array,\n",
    "                            f_exp = expected_array,\n",
    "                            ddof = dof_adjustment)[1])"
   ]
  },
  {
   "cell_type": "markdown",
   "metadata": {},
   "source": [
    "Goodness of fit for continuous variables\n",
    "<br>https://stats.stackexchange.com/questions/76350/goodness-of-fit-for-continuous-variables\n",
    "\n",
    "Scipy kstest\n",
    "<br>https://docs.scipy.org/doc/scipy/reference/generated/scipy.stats.kstest.html\n",
    "\n",
    "List of continuous distributions in scipy\n",
    "<br>https://docs.scipy.org/doc/scipy/reference/stats.html#module-scipy.stats"
   ]
  },
  {
   "cell_type": "code",
   "execution_count": 8,
   "metadata": {},
   "outputs": [
    {
     "data": {
      "text/plain": [
       "KstestResult(statistic=0.5000427891604897, pvalue=9.655302994802462e-232)"
      ]
     },
     "execution_count": 8,
     "metadata": {},
     "output_type": "execute_result"
    }
   ],
   "source": [
    "scipy.stats.kstest(rvs = scipy.stats.uniform.rvs(size=1000, random_state = 12345),\n",
    "                  cdf = \"norm\",\n",
    "                  #args = (1, 1),\n",
    "                   # N = 20,\n",
    "                  alternative = 'two-sided',\n",
    "                  mode = 'approx')"
   ]
  },
  {
   "cell_type": "markdown",
   "metadata": {},
   "source": [
    "Named tuple\n",
    "<br>https://docs.python.org/2/library/collections.html"
   ]
  },
  {
   "cell_type": "code",
   "execution_count": 9,
   "metadata": {},
   "outputs": [],
   "source": [
    "import collections\n",
    "norm_args = collections.namedtuple('norm_args', ['loc', 'scale'])"
   ]
  },
  {
   "cell_type": "code",
   "execution_count": 10,
   "metadata": {},
   "outputs": [
    {
     "data": {
      "text/plain": [
       "KstestResult(statistic=0.02526609656624318, pvalue=0.5457961444206735)"
      ]
     },
     "execution_count": 10,
     "metadata": {},
     "output_type": "execute_result"
    }
   ],
   "source": [
    "scipy.stats.kstest(rvs = scipy.stats.norm.rvs(loc = 1,\n",
    "                                              scale = 1,\n",
    "                                              size = 1000, \n",
    "                                              random_state = 12345),\n",
    "                  cdf = \"norm\",\n",
    "                  args = norm_args(loc=1, scale=1),\n",
    "                   # N = 20,\n",
    "                  alternative = 'two-sided',\n",
    "                  mode = 'approx')"
   ]
  },
  {
   "cell_type": "code",
   "execution_count": 11,
   "metadata": {},
   "outputs": [],
   "source": [
    "uniform_args = collections.namedtuple('uniform_args', ['loc', 'scale'])"
   ]
  },
  {
   "cell_type": "code",
   "execution_count": 12,
   "metadata": {},
   "outputs": [
    {
     "data": {
      "text/plain": [
       "KstestResult(statistic=0.014856419814211264, pvalue=0.9800639362901664)"
      ]
     },
     "execution_count": 12,
     "metadata": {},
     "output_type": "execute_result"
    }
   ],
   "source": [
    "scipy.stats.kstest(rvs = scipy.stats.uniform.rvs(loc = 1,\n",
    "                                                 scale = 1,\n",
    "                                                 size=1000, \n",
    "                                                 random_state = 12345),\n",
    "                  cdf = \"uniform\",\n",
    "                  args = uniform_args(loc=1, scale=1),\n",
    "                   # N = 20,\n",
    "                  alternative = 'two-sided',\n",
    "                  mode = 'approx')"
   ]
  },
  {
   "cell_type": "markdown",
   "metadata": {},
   "source": [
    "### 5. Jeep problem\n",
    "<br>https://en.wikipedia.org/wiki/Jeep_problem"
   ]
  },
  {
   "cell_type": "code",
   "execution_count": 13,
   "metadata": {},
   "outputs": [
    {
     "name": "stdout",
     "output_type": "stream",
     "text": [
      "12367 trips needed to explore\n",
      "3092 trips needed to cross\n"
     ]
    }
   ],
   "source": [
    "desert_width = 5\n",
    "\n",
    "def dist_explore(num_trips):\n",
    "    return harmonic_num(x = num_trips) / 2\n",
    "\n",
    "def dist_cross(num_trips):\n",
    "    final_trip_distance = 0.0\n",
    "    for i in range(num_trips):\n",
    "        final_trip_distance += 1 / (2 * (i + 1) - 1)\n",
    "    return final_trip_distance\n",
    "\n",
    "resultant_distance = 0.0\n",
    "n_trips_to_explore = 0\n",
    "while resultant_distance < desert_width:\n",
    "    n_trips_to_explore += 1\n",
    "    resultant_distance = dist_explore(num_trips = n_trips_to_explore)\n",
    "\n",
    "resultant_distance = 0.0\n",
    "n_trips_to_cross = 0\n",
    "while resultant_distance < desert_width:\n",
    "    n_trips_to_cross += 1\n",
    "    resultant_distance = dist_cross(num_trips = n_trips_to_cross)\n",
    "\n",
    "print(n_trips_to_explore, \"trips needed to explore\")\n",
    "print(n_trips_to_cross, \"trips needed to cross\")"
   ]
  },
  {
   "cell_type": "markdown",
   "metadata": {},
   "source": [
    "### 6. Streaks\n",
    "What's the probability of a given success or fail streak?\n",
    "<br>(This is a nice problem to introduce Markov Chains, but the chain is slower to compute.)\n",
    "<br>https://www.askamathematician.com/2010/07/q-whats-the-chance-of-getting-a-run-of-k-successes-in-n-bernoulli-trials-why-use-approximations-when-the-exact-answer-is-known/"
   ]
  },
  {
   "cell_type": "code",
   "execution_count": 14,
   "metadata": {},
   "outputs": [],
   "source": [
    "sys.setrecursionlimit(20000)\n",
    "\n",
    "def prob_of_streak(num_trials, streak_length, prob_success, saved = None):\n",
    "    if saved == None: saved = {}\n",
    "    \n",
    "    ID = (num_trials, streak_length, prob_success)\n",
    "    \n",
    "    if ID in saved: return saved[ID]\n",
    "    else:\n",
    "        if streak_length > num_trials or num_trials <= 0:\n",
    "            result = 0\n",
    "        else:\n",
    "            result = prob_success ** streak_length\n",
    "            for first_fail in range(1, streak_length + 1):\n",
    "                pr = prob_of_streak(num_trials = num_trials - first_fail,\n",
    "                                   streak_length = streak_length,\n",
    "                                   prob_success = prob_success,\n",
    "                                   saved = saved)\n",
    "                result += (prob_success ** (first_fail - 1)) * (1 - prob_success) * pr\n",
    "        saved[ID] = result\n",
    "        \n",
    "        return result    "
   ]
  },
  {
   "cell_type": "markdown",
   "metadata": {},
   "source": [
    "Test function with single iteration"
   ]
  },
  {
   "cell_type": "code",
   "execution_count": 15,
   "metadata": {},
   "outputs": [
    {
     "data": {
      "text/plain": [
       "4.407870509145775e-297"
      ]
     },
     "execution_count": 15,
     "metadata": {},
     "output_type": "execute_result"
    }
   ],
   "source": [
    "p_success = 0.350 # -.350 on base %\n",
    "n_trials = 650    # plate appearances per year\n",
    "\n",
    "prob_of_streak(num_trials = n_trials, \n",
    "               streak_length = 650, \n",
    "               prob_success = p_success)"
   ]
  },
  {
   "cell_type": "code",
   "execution_count": 16,
   "metadata": {},
   "outputs": [],
   "source": [
    "def prob_streak_list(prob_success, n_trials):\n",
    "    probs_success_streak = [prob_of_streak(num_trials = n_trials, \n",
    "                                       streak_length = 1,\n",
    "                                       prob_success = prob_success)]\n",
    "\n",
    "    i = 2\n",
    "    while i <= n_trials:\n",
    "        if probs_success_streak[i - 2] <= 0.0001:\n",
    "            probs_success_streak.append(0.0)\n",
    "            i += 1\n",
    "        elif probs_success_streak[i - 2] >= 0.999:\n",
    "            tmp = prob_of_streak(num_trials = n_trials, \n",
    "                                 streak_length = i + 1,\n",
    "                                 prob_success = prob_success)\n",
    "            if tmp >= 0.999:\n",
    "                probs_success_streak.append((probs_success_streak[i - 2] + tmp) /2)\n",
    "                probs_success_streak.append(tmp)\n",
    "                i += 2\n",
    "            else:\n",
    "                probs_success_streak.append(prob_of_streak(num_trials = n_trials, \n",
    "                                                       streak_length = i,\n",
    "                                                       prob_success = prob_success))\n",
    "                probs_success_streak.append(tmp)\n",
    "                i += 2\n",
    "        else:\n",
    "            probs_success_streak.append(prob_of_streak(num_trials = n_trials, \n",
    "                                                   streak_length = i,\n",
    "                                                   prob_success = prob_success))\n",
    "            i += 1\n",
    "    return [x for x in probs_success_streak if x > 0]\n",
    "\n",
    "def prob_streak_lists(prob_success, n_trials):\n",
    "    return [prob_streak_list(prob_success_i, n_trials) for prob_success_i in [prob_success, 1 - prob_success]]"
   ]
  },
  {
   "cell_type": "markdown",
   "metadata": {},
   "source": [
    "__Baseball hits example__"
   ]
  },
  {
   "cell_type": "code",
   "execution_count": 17,
   "metadata": {},
   "outputs": [],
   "source": [
    "p_success = 0.350 # 0.350 on base %\n",
    "num_trials =  650    # plate appearances per year\n",
    "streak_list_results = prob_streak_lists(prob_success =  p_success,\n",
    "                                        n_trials = num_trials)"
   ]
  },
  {
   "cell_type": "code",
   "execution_count": 18,
   "metadata": {},
   "outputs": [
    {
     "data": {
      "image/png": "[encoded data removed]",
      "text/plain": [
       "<Figure size 432x288 with 1 Axes>"
      ]
     },
     "metadata": {
      "needs_background": "light"
     },
     "output_type": "display_data"
    }
   ],
   "source": [
    "plt.plot([i for i in range(len(streak_list_results[0]))], streak_list_results[0],\n",
    "               label = 'Success',\n",
    "               linestyle = '-', color = 'green')\n",
    "plt.plot([i for i in range(len(streak_list_results[1]))], streak_list_results[1],\n",
    "               label = 'Unsuccess',\n",
    "               linestyle = '', marker = '.', color = 'red')\n",
    "plt.xlabel('Streak Length')\n",
    "plt.ylabel('Probability')\n",
    "plt.title('Probability of Streak Lengths for ' + str(p_success) + \" Chance of Success and \" +\n",
    "         str(num_trials) + \" Trials\")\n",
    "plt.legend()\n",
    "plt.show()"
   ]
  },
  {
   "cell_type": "markdown",
   "metadata": {},
   "source": [
    "Check slump results"
   ]
  },
  {
   "cell_type": "code",
   "execution_count": 19,
   "metadata": {},
   "outputs": [
    {
     "data": {
      "text/plain": [
       "[1.0,\n",
       " 0.9999999999999998,\n",
       " 0.9999999999999996,\n",
       " 0.999999999999999,\n",
       " 0.9999999999999984,\n",
       " 0.9999986946518137,\n",
       " 0.9999973893036289,\n",
       " 0.9996594807180735,\n",
       " 0.9934220579691067,\n",
       " 0.9588218921219284,\n",
       " 0.8697568870122705,\n",
       " 0.7297720428653122,\n",
       " 0.569449053814327,\n",
       " 0.4195509348521937]"
      ]
     },
     "execution_count": 19,
     "metadata": {},
     "output_type": "execute_result"
    }
   ],
   "source": [
    "streak_list_results[1][0:14]"
   ]
  },
  {
   "cell_type": "markdown",
   "metadata": {},
   "source": [
    "Even an exceptional hitter should expect 8-9 in-a-row slump during the season.\n",
    "\n",
    "But if a batter is in a 14-straight slump with a season average of 0.350, they probably are actually in a slump."
   ]
  },
  {
   "cell_type": "markdown",
   "metadata": {},
   "source": [
    "__Basketball shots example__"
   ]
  },
  {
   "cell_type": "code",
   "execution_count": 20,
   "metadata": {},
   "outputs": [
    {
     "data": {
      "image/png": "[encoded data removed]",
      "text/plain": [
       "<Figure size 432x288 with 1 Axes>"
      ]
     },
     "metadata": {
      "needs_background": "light"
     },
     "output_type": "display_data"
    }
   ],
   "source": [
    "p_success = 0.53 # 53% field goal percentage\n",
    "num_trials =  15 * 82 # 15 field goals attempted per game, 82 games per season \n",
    "streak_list_results = prob_streak_lists(prob_success =  p_success,\n",
    "                                        n_trials = num_trials)\n",
    "\n",
    "plt.plot([i for i in range(len(streak_list_results[0]))], streak_list_results[0],\n",
    "               label = 'Success',\n",
    "               linestyle = '-', color = 'green')\n",
    "plt.plot([i for i in range(len(streak_list_results[1]))], streak_list_results[1],\n",
    "               label = 'Unsuccess',\n",
    "               linestyle = '', marker = '.', color = 'red')\n",
    "plt.xlabel('Streak Length')\n",
    "plt.ylabel('Probability')\n",
    "plt.title('Probability of Streak Lengths for ' + str(p_success) + \" Chance of Success and \" +\n",
    "         str(num_trials) + \" Trials\")\n",
    "plt.legend()\n",
    "plt.show()"
   ]
  },
  {
   "cell_type": "code",
   "execution_count": 21,
   "metadata": {},
   "outputs": [
    {
     "data": {
      "text/plain": [
       "[1.0,\n",
       " 0.9999999999999996,\n",
       " 0.9999999999999992,\n",
       " 0.9999999999992637,\n",
       " 0.9999999999985283,\n",
       " 0.9995714941544882,\n",
       " 0.999142988310448,\n",
       " 0.9746329050304372,\n",
       " 0.8541837388875277,\n",
       " 0.6369811014505753,\n",
       " 0.41412608868743445,\n",
       " 0.24612583888598696,\n",
       " 0.13880432660110342,\n",
       " 0.07603274776428774,\n",
       " 0.04099623343587418]"
      ]
     },
     "execution_count": 21,
     "metadata": {},
     "output_type": "execute_result"
    }
   ],
   "source": [
    "streak_list_results[0][0:15]"
   ]
  },
  {
   "cell_type": "markdown",
   "metadata": {},
   "source": [
    "So, a player who shoots 53% from the field career, should have a 10 shot streak in 64% of seasons.\n",
    "<br>If they don't, then their accuracy was changing season to season.\n",
    "\n",
    "Another way, if they shot 53% for the season but had a 15 shot streak, their accuracy inconsistent through the season."
   ]
  },
  {
   "cell_type": "markdown",
   "metadata": {},
   "source": [
    "__Steph curry's 100 4th quarter free throws in a row__"
   ]
  },
  {
   "cell_type": "code",
   "execution_count": 42,
   "metadata": {},
   "outputs": [
    {
     "data": {
      "image/png": "[encoded data removed]",
      "text/plain": [
       "<Figure size 432x288 with 1 Axes>"
      ]
     },
     "metadata": {
      "needs_background": "light"
     },
     "output_type": "display_data"
    }
   ],
   "source": [
    "p_success = 0.934 # 0.906 career, 0.934 season best\n",
    "num_trials = 7 * 82 / 4 # free throw attempts per game, games per season, 1/4 for 4th quarter only\n",
    "streak_list_results = prob_streak_lists(prob_success =  p_success,\n",
    "                                        n_trials = num_trials)\n",
    "plt.plot([i for i in range(len(streak_list_results[0]))], streak_list_results[0],\n",
    "               label = 'Success',\n",
    "               linestyle = '-', color = 'green')\n",
    "plt.plot([i for i in range(len(streak_list_results[1]))], streak_list_results[1],\n",
    "               label = 'Unsuccess',\n",
    "               linestyle = '', marker = '.', color = 'red')\n",
    "plt.xlabel('Streak Length')\n",
    "plt.ylabel('Probability')\n",
    "plt.title('Probability of Streak Lengths for ' + str(p_success) + \" Chance of Success and \" +\n",
    "         str(num_trials) + \" Trials\")\n",
    "plt.legend()\n",
    "plt.show()"
   ]
  },
  {
   "cell_type": "code",
   "execution_count": 106,
   "metadata": {},
   "outputs": [
    {
     "data": {
      "text/html": [
       "<div>\n",
       "<style scoped>\n",
       "    .dataframe tbody tr th:only-of-type {\n",
       "        vertical-align: middle;\n",
       "    }\n",
       "\n",
       "    .dataframe tbody tr th {\n",
       "        vertical-align: top;\n",
       "    }\n",
       "\n",
       "    .dataframe thead th {\n",
       "        text-align: right;\n",
       "    }\n",
       "</style>\n",
       "<table border=\"1\" class=\"dataframe\">\n",
       "  <thead>\n",
       "    <tr style=\"text-align: right;\">\n",
       "      <th></th>\n",
       "      <th>Overall Freethrow Accuracy</th>\n",
       "      <th>Probability of seeing 100-streak 4th Quarter in a season</th>\n",
       "    </tr>\n",
       "  </thead>\n",
       "  <tbody>\n",
       "    <tr>\n",
       "      <th>0</th>\n",
       "      <td>10.0</td>\n",
       "      <td>0.968993</td>\n",
       "    </tr>\n",
       "    <tr>\n",
       "      <th>1</th>\n",
       "      <td>20.0</td>\n",
       "      <td>0.977370</td>\n",
       "    </tr>\n",
       "    <tr>\n",
       "      <th>2</th>\n",
       "      <td>30.0</td>\n",
       "      <td>0.982507</td>\n",
       "    </tr>\n",
       "    <tr>\n",
       "      <th>3</th>\n",
       "      <td>40.0</td>\n",
       "      <td>0.986299</td>\n",
       "    </tr>\n",
       "    <tr>\n",
       "      <th>4</th>\n",
       "      <td>50.0</td>\n",
       "      <td>0.989357</td>\n",
       "    </tr>\n",
       "    <tr>\n",
       "      <th>5</th>\n",
       "      <td>60.0</td>\n",
       "      <td>0.991953</td>\n",
       "    </tr>\n",
       "    <tr>\n",
       "      <th>6</th>\n",
       "      <td>70.0</td>\n",
       "      <td>0.994236</td>\n",
       "    </tr>\n",
       "    <tr>\n",
       "      <th>7</th>\n",
       "      <td>80.0</td>\n",
       "      <td>0.996299</td>\n",
       "    </tr>\n",
       "    <tr>\n",
       "      <th>8</th>\n",
       "      <td>90.0</td>\n",
       "      <td>0.998204</td>\n",
       "    </tr>\n",
       "  </tbody>\n",
       "</table>\n",
       "</div>"
      ],
      "text/plain": [
       "  Overall Freethrow Accuracy  \\\n",
       "0                       10.0   \n",
       "1                       20.0   \n",
       "2                       30.0   \n",
       "3                       40.0   \n",
       "4                       50.0   \n",
       "5                       60.0   \n",
       "6                       70.0   \n",
       "7                       80.0   \n",
       "8                       90.0   \n",
       "\n",
       "   Probability of seeing 100-streak 4th Quarter in a season  \n",
       "0                                           0.968993         \n",
       "1                                           0.977370         \n",
       "2                                           0.982507         \n",
       "3                                           0.986299         \n",
       "4                                           0.989357         \n",
       "5                                           0.991953         \n",
       "6                                           0.994236         \n",
       "7                                           0.996299         \n",
       "8                                           0.998204         "
      ]
     },
     "execution_count": 106,
     "metadata": {},
     "output_type": "execute_result"
    }
   ],
   "source": [
    "p_success = 0.934 # 0.906 career, 0.934 season best\n",
    "num_trials = 7 * 82 / 4 # free throw attempts per game, games per season, 1/4 for 4th quarter only\n",
    "\n",
    "def optim_100_shots(p_success, num_trials, streak_length, target_prob):\n",
    "    return (prob_of_streak(num_trials, streak_length, prob_success = p_success, saved = None) -\n",
    "           target_prob) ** 2 \n",
    "    \n",
    "#scipy.optimize.minimize_scalar(optim_100_shots, bounds = (0.001, 0.999), method='bounded', \n",
    "#                               args = (num_trials, 100, 0.1), options={'xatol': 1e-05, 'maxiter': 500, 'disp': 1})\n",
    "\n",
    "target_probs = np.arange(0.1, 1.0, 0.1)\n",
    "pd.DataFrame({\"Overall Freethrow Accuracy\" : [str(np.round(target_prob * 100)) for target_prob in target_probs],\n",
    "            \"Probability of seeing 100-streak 4th Quarter in a season\" : \n",
    "              [scipy.optimize.minimize_scalar(optim_100_shots, bounds = (0.001, 0.999), method='bounded', \n",
    "                                args = (num_trials, 100, target_prob))['x'] \n",
    "             for target_prob in target_probs]})\n",
    "\n"
   ]
  },
  {
   "cell_type": "markdown",
   "metadata": {},
   "source": [
    "Aside from cherry-picking the 4th quarter stats, Steph was legitimately playing better than his own high free throw % average during the 4th quarter of games during his streak.\n",
    "\n",
    "__What about karl malone's 18 straight free-throws in a finals game?__"
   ]
  },
  {
   "cell_type": "code",
   "execution_count": 116,
   "metadata": {},
   "outputs": [
    {
     "data": {
      "text/html": [
       "<div>\n",
       "<style scoped>\n",
       "    .dataframe tbody tr th:only-of-type {\n",
       "        vertical-align: middle;\n",
       "    }\n",
       "\n",
       "    .dataframe tbody tr th {\n",
       "        vertical-align: top;\n",
       "    }\n",
       "\n",
       "    .dataframe thead th {\n",
       "        text-align: right;\n",
       "    }\n",
       "</style>\n",
       "<table border=\"1\" class=\"dataframe\">\n",
       "  <thead>\n",
       "    <tr style=\"text-align: right;\">\n",
       "      <th></th>\n",
       "      <th>Overall Freethrow Accuracy</th>\n",
       "      <th>Probability of seeing 100-streak 4th Quarter in a season</th>\n",
       "    </tr>\n",
       "  </thead>\n",
       "  <tbody>\n",
       "    <tr>\n",
       "      <th>0</th>\n",
       "      <td>10.0</td>\n",
       "      <td>0.732645</td>\n",
       "    </tr>\n",
       "    <tr>\n",
       "      <th>1</th>\n",
       "      <td>20.0</td>\n",
       "      <td>0.769017</td>\n",
       "    </tr>\n",
       "    <tr>\n",
       "      <th>2</th>\n",
       "      <td>30.0</td>\n",
       "      <td>0.792988</td>\n",
       "    </tr>\n",
       "    <tr>\n",
       "      <th>3</th>\n",
       "      <td>40.0</td>\n",
       "      <td>0.811997</td>\n",
       "    </tr>\n",
       "    <tr>\n",
       "      <th>4</th>\n",
       "      <td>50.0</td>\n",
       "      <td>0.828573</td>\n",
       "    </tr>\n",
       "    <tr>\n",
       "      <th>5</th>\n",
       "      <td>60.0</td>\n",
       "      <td>0.844046</td>\n",
       "    </tr>\n",
       "    <tr>\n",
       "      <th>6</th>\n",
       "      <td>70.0</td>\n",
       "      <td>0.859433</td>\n",
       "    </tr>\n",
       "    <tr>\n",
       "      <th>7</th>\n",
       "      <td>80.0</td>\n",
       "      <td>0.875987</td>\n",
       "    </tr>\n",
       "    <tr>\n",
       "      <th>8</th>\n",
       "      <td>90.0</td>\n",
       "      <td>0.896521</td>\n",
       "    </tr>\n",
       "  </tbody>\n",
       "</table>\n",
       "</div>"
      ],
      "text/plain": [
       "  Overall Freethrow Accuracy  \\\n",
       "0                       10.0   \n",
       "1                       20.0   \n",
       "2                       30.0   \n",
       "3                       40.0   \n",
       "4                       50.0   \n",
       "5                       60.0   \n",
       "6                       70.0   \n",
       "7                       80.0   \n",
       "8                       90.0   \n",
       "\n",
       "   Probability of seeing 100-streak 4th Quarter in a season  \n",
       "0                                           0.732645         \n",
       "1                                           0.769017         \n",
       "2                                           0.792988         \n",
       "3                                           0.811997         \n",
       "4                                           0.828573         \n",
       "5                                           0.844046         \n",
       "6                                           0.859433         \n",
       "7                                           0.875987         \n",
       "8                                           0.896521         "
      ]
     },
     "execution_count": 116,
     "metadata": {},
     "output_type": "execute_result"
    }
   ],
   "source": [
    "p_success = 0.934 # 0.906 career, 0.934 season best\n",
    "num_trials = 7 * 17 # free throw attempts per game, 17 finals games per karl's career\n",
    "\n",
    "def optim_100_shots(p_success, num_trials, streak_length, target_prob):\n",
    "    return (prob_of_streak(num_trials, streak_length, prob_success = p_success, saved = None) -\n",
    "           target_prob) ** 2 \n",
    "    \n",
    "#scipy.optimize.minimize_scalar(optim_100_shots, bounds = (0.001, 0.999), method='bounded', \n",
    "#                               args = (num_trials, 100, 0.1), options={'xatol': 1e-05, 'maxiter': 500, 'disp': 1})\n",
    "\n",
    "target_probs = np.arange(0.1, 1.0, 0.1)\n",
    "pd.DataFrame({\"Overall Freethrow Accuracy\" : [str(np.round(target_prob * 100)) for target_prob in target_probs],\n",
    "            \"Probability of seeing 100-streak 4th Quarter in a season\" : \n",
    "              [scipy.optimize.minimize_scalar(optim_100_shots, bounds = (0.001, 0.999), method='bounded', \n",
    "                                args = (num_trials, 18, target_prob))['x'] \n",
    "             for target_prob in target_probs]})\n",
    "\n"
   ]
  },
  {
   "cell_type": "markdown",
   "metadata": {},
   "source": [
    "Assuming a 75% career free-throw avg, Karl played better than his career average during the finals."
   ]
  },
  {
   "cell_type": "markdown",
   "metadata": {},
   "source": [
    "### 7. Simulated Streaks with Impurity\n",
    "What about streaks other than 100% pure success (or failure)?\n",
    "<br>Let's simulate:"
   ]
  },
  {
   "cell_type": "code",
   "execution_count": 22,
   "metadata": {},
   "outputs": [
    {
     "data": {
      "text/plain": [
       "(1.0, 2)"
      ]
     },
     "execution_count": 22,
     "metadata": {},
     "output_type": "execute_result"
    }
   ],
   "source": [
    "def sim_streak_prob(p_success: float,\n",
    "                    k_successes: int,\n",
    "                    out_of_m_tries: int,\n",
    "                    num_trials: int):\n",
    "    \n",
    "    num_iters = 50000\n",
    "    prev = 1.0\n",
    "    current = 0.0    \n",
    "    iteration = 0\n",
    "    \n",
    "    while current != prev and iteration < 20:\n",
    "        iteration += 1\n",
    "        \n",
    "        prev = current\n",
    "    \n",
    "        run_matrix = ((np.random.uniform(size = (num_iters, num_trials)) # run matrix of random numbers\n",
    "                       < p_success).astype(int). # was trial successful?\n",
    "                      cumsum(axis = 1))          # cumsums of success\n",
    "        run_matrix[:, out_of_m_tries:] = run_matrix[:, out_of_m_tries:] - run_matrix[:, :-out_of_m_tries] # cumsum to rolling sum\n",
    "        run_matrix = (run_matrix >= k_successes).astype(int) # detect streaks during n events\n",
    "        run_matrix = (run_matrix.sum(axis = 1) >= 1).astype(int).mean() # average streaks over iters\n",
    "        current = prev * (iteration - 1) / iteration + run_matrix * 1 / iteration\n",
    "        current = np.round(current, 4)\n",
    "        \n",
    "    return current, iteration\n",
    "\n",
    "# probability of hitting 4-for-5\n",
    "sim_streak_prob(p_success = 0.35,\n",
    "                k_successes = 4,\n",
    "                out_of_m_tries = 5,\n",
    "                num_trials = 650)"
   ]
  },
  {
   "cell_type": "markdown",
   "metadata": {},
   "source": [
    "__Test on basketball__\n",
    "Compare to 9 out of 9 results from before"
   ]
  },
  {
   "cell_type": "code",
   "execution_count": 28,
   "metadata": {},
   "outputs": [
    {
     "data": {
      "text/plain": [
       "(0.0, 1)"
      ]
     },
     "execution_count": 28,
     "metadata": {},
     "output_type": "execute_result"
    }
   ],
   "source": [
    "sim_streak_prob(p_success = 0., # field goal %\n",
    "                   k_successes = 100,\n",
    "                   out_of_m_tries = 100,\n",
    "                   num_trials = 7 * 82) # free throw attempts per game, games per season"
   ]
  },
  {
   "cell_type": "markdown",
   "metadata": {},
   "source": [
    "Find most number of plate appearances where batter will only miss 1 "
   ]
  },
  {
   "cell_type": "code",
   "execution_count": 24,
   "metadata": {},
   "outputs": [
    {
     "data": {
      "text/plain": [
       "7"
      ]
     },
     "execution_count": 24,
     "metadata": {},
     "output_type": "execute_result"
    }
   ],
   "source": [
    "plate_appears = 3\n",
    "minus_1_result = 1.0\n",
    "\n",
    "while minus_1_result > 0.99:\n",
    "    plate_appears += 1\n",
    "    minus_1_result, _ = sim_streak_prob(p_success = 0.350, # field goal %\n",
    "                                        k_successes = plate_appears - 1,\n",
    "                                        out_of_m_tries = plate_appears,\n",
    "                                        num_trials = 650) # games per season\n",
    "plate_appears"
   ]
  },
  {
   "cell_type": "markdown",
   "metadata": {},
   "source": [
    "Wow- a .350 hitter should go 6-for-7 at least once in the season"
   ]
  },
  {
   "cell_type": "code",
   "execution_count": 25,
   "metadata": {},
   "outputs": [
    {
     "data": {
      "text/plain": [
       "8"
      ]
     },
     "execution_count": 25,
     "metadata": {},
     "output_type": "execute_result"
    }
   ],
   "source": [
    "plate_appears = 3\n",
    "minus_1_result = 1.0\n",
    "\n",
    "while minus_1_result > 0.80:\n",
    "    plate_appears += 1\n",
    "    minus_1_result, _ = sim_streak_prob(p_success = 0.350, # field goal %\n",
    "                                        k_successes = plate_appears - 1,\n",
    "                                        out_of_m_tries = plate_appears,\n",
    "                                        num_trials = 650) # games per season\n",
    "plate_appears"
   ]
  },
  {
   "cell_type": "markdown",
   "metadata": {},
   "source": [
    "And that same .350 hitter should only go 7-for-8 in 80% of seasons."
   ]
  },
  {
   "cell_type": "code",
   "execution_count": null,
   "metadata": {},
   "outputs": [],
   "source": [
    "sim_streak_prob(p_success = 0.53, # field goal %\n",
    "                   k_successes = 100,\n",
    "                   out_of_m_tries = 100,\n",
    "                   num_trials = 15 * 82) # games per season"
   ]
  },
  {
   "cell_type": "markdown",
   "metadata": {},
   "source": [
    "### 8. Chinese Restaurant\n",
    "https://en.wikipedia.org/wiki/Chinese_restaurant_process\n",
    "<br>discount, α, and strength, θ, defined for 0 ≤ α < 1 and θ > −α"
   ]
  },
  {
   "cell_type": "markdown",
   "metadata": {},
   "source": [
    "__Base Solution__"
   ]
  },
  {
   "cell_type": "code",
   "execution_count": 206,
   "metadata": {},
   "outputs": [
    {
     "data": {
      "text/plain": [
       "[81, 13, 5, 1]"
      ]
     },
     "execution_count": 206,
     "metadata": {},
     "output_type": "execute_result"
    }
   ],
   "source": [
    "init_seating = [1]\n",
    "number_patrons = 100\n",
    "\n",
    "np.random.seed(1)\n",
    "seating = init_seating.copy()\n",
    "for i in range(number_patrons - 1):\n",
    "    seating += [1]\n",
    "    patrons_sat_sum = sum(seating)\n",
    "    patrons_sat_cumsum = np.cumsum(seating)\n",
    "    tmp = np.random.uniform()\n",
    "    seating[sum(patrons_sat_cumsum / patrons_sat_sum <= tmp)] = \\\n",
    "    seating[sum(patrons_sat_cumsum /patrons_sat_sum <= tmp)] + 1\n",
    "    if seating[-1] == 2:\n",
    "        seating[-1] = 1\n",
    "    else:\n",
    "        seating = seating[0:-1]\n",
    "            \n",
    "seating"
   ]
  },
  {
   "cell_type": "markdown",
   "metadata": {},
   "source": [
    "__General Solution__"
   ]
  },
  {
   "cell_type": "code",
   "execution_count": 205,
   "metadata": {},
   "outputs": [
    {
     "data": {
      "text/plain": [
       "[81, 13, 5, 1]"
      ]
     },
     "execution_count": 205,
     "metadata": {},
     "output_type": "execute_result"
    }
   ],
   "source": [
    "discount = 0 ## 0 by default\n",
    "strength = 1 ## 1 by default\n",
    "init_seating = [1]\n",
    "number_patrons = 100\n",
    "\n",
    "np.random.seed(1)\n",
    "seating = init_seating.copy()\n",
    "for i in range(number_patrons - 1):\n",
    "    patrons_sat_sum = sum(seating)\n",
    "    seating_probs = [(a - discount) / (patrons_sat_sum + strength) for a in seating] + \\\n",
    "    [(strength + len(seating) * discount) / (patrons_sat_sum + strength)]\n",
    "    seating_probs = np.cumsum(seating_probs)\n",
    "    tmp = np.random.uniform()\n",
    "    index_to_seat_at = sum(seating_probs <= tmp)\n",
    "    if index_to_seat_at == len(seating):\n",
    "        seating.append(1)\n",
    "    else:\n",
    "        seating[index_to_seat_at] = seating[index_to_seat_at] + 1\n",
    "    \n",
    "seating"
   ]
  },
  {
   "cell_type": "code",
   "execution_count": 208,
   "metadata": {},
   "outputs": [],
   "source": [
    "def general_chinese_prior_iter(number_patrons, discount = 0, strength = 1, func_seed = 1):\n",
    "    init_seating = [1]\n",
    "    np.random.seed(func_seed)\n",
    "    \n",
    "    seating = init_seating.copy()\n",
    "    for i in range(number_patrons - 1):\n",
    "        patrons_sat_sum = sum(seating)\n",
    "        seating_probs = [(a - discount) / (patrons_sat_sum + strength) for a in seating] + \\\n",
    "        [(strength + len(seating) * discount) / (patrons_sat_sum + strength)]\n",
    "        seating_probs = np.cumsum(seating_probs)\n",
    "        tmp = np.random.uniform()\n",
    "        index_to_seat_at = sum(seating_probs <= tmp)\n",
    "        if index_to_seat_at == len(seating):\n",
    "            seating.append(1)\n",
    "        else:\n",
    "            seating[index_to_seat_at] = seating[index_to_seat_at] + 1\n",
    "    \n",
    "    return seating"
   ]
  },
  {
   "cell_type": "code",
   "execution_count": 215,
   "metadata": {},
   "outputs": [
    {
     "name": "stdout",
     "output_type": "stream",
     "text": [
      "[2, 3, 9, 4, 2]\n",
      "[18, 2]\n",
      "[20]\n",
      "[4, 13, 1, 1, 1]\n",
      "[4, 8, 5, 2, 1]\n",
      "[12, 5, 3]\n",
      "[7, 10, 2, 1]\n",
      "[8, 9, 3]\n",
      "[2, 12, 4, 1, 1]\n",
      "[18, 2]\n"
     ]
    }
   ],
   "source": [
    "for i in range(10):\n",
    "    print(general_chinese_prior_iter(number_patrons = 20, func_seed = i))"
   ]
  },
  {
   "cell_type": "markdown",
   "metadata": {},
   "source": [
    "### 9. Dirichlet Process\n",
    "https://en.wikipedia.org/wiki/Dirichlet_process\n",
    "<br>base distributions in scipy\n",
    "<br>https://docs.scipy.org/doc/scipy/reference/stats.html"
   ]
  },
  {
   "cell_type": "code",
   "execution_count": 589,
   "metadata": {},
   "outputs": [],
   "source": [
    "dirichlet_obs = None\n",
    "\n",
    "def dirichlet_iter(base_dist = scipy.stats.norm.rvs, obs = None, scale = 1):\n",
    "    if obs is None:\n",
    "        obs = pd.DataFrame({\"value\": [base_dist()],\n",
    "                            \"count\": [1],\n",
    "                            \"pdf\": [1],             \n",
    "                            \"cdf\": [1]})\n",
    "    else:\n",
    "        tmp = np.random.uniform()\n",
    "        obs.loc[:, 'pdf'] = obs.loc[:,'count'] / (scale + sum(obs.loc[:,'count']) - 1 + 1)\n",
    "        obs.loc[:, 'cdf'] = np.cumsum(obs.loc[:, 'pdf'])\n",
    "        if tmp > max(obs.loc[:, 'cdf']):\n",
    "            value = base_dist()\n",
    "            if sum(obs.loc[:, 'value'] == value) == 0:\n",
    "                obs = pd.concat([obs,\n",
    "                                 pd.DataFrame({\"value\": [value],\n",
    "                                               \"count\": [1],\n",
    "                                               \"pdf\": [1],\n",
    "                                               \"cdf\": [1]})])\n",
    "                obs = obs.sort_values('value')\n",
    "            else:\n",
    "                obs.loc[obs['value'] == value, 'count'] = obs.loc[obs['value'] == value, 'count'] + 1\n",
    "        else:\n",
    "            ind_to_incr = sum(obs.loc[:, 'cdf'] <= tmp)\n",
    "            obs.iloc[ind_to_incr, obs.columns.get_loc('count')] = obs.loc[:, 'count'].iloc[ind_to_incr] + 1        \n",
    "        \n",
    "    return obs"
   ]
  },
  {
   "cell_type": "code",
   "execution_count": 599,
   "metadata": {},
   "outputs": [
    {
     "data": {
      "text/html": [
       "<div>\n",
       "<style scoped>\n",
       "    .dataframe tbody tr th:only-of-type {\n",
       "        vertical-align: middle;\n",
       "    }\n",
       "\n",
       "    .dataframe tbody tr th {\n",
       "        vertical-align: top;\n",
       "    }\n",
       "\n",
       "    .dataframe thead th {\n",
       "        text-align: right;\n",
       "    }\n",
       "</style>\n",
       "<table border=\"1\" class=\"dataframe\">\n",
       "  <thead>\n",
       "    <tr style=\"text-align: right;\">\n",
       "      <th></th>\n",
       "      <th>value</th>\n",
       "      <th>count</th>\n",
       "      <th>pdf</th>\n",
       "      <th>cdf</th>\n",
       "    </tr>\n",
       "  </thead>\n",
       "  <tbody>\n",
       "    <tr>\n",
       "      <th>0</th>\n",
       "      <td>-1.011184</td>\n",
       "      <td>1</td>\n",
       "      <td>0.01</td>\n",
       "      <td>0.01</td>\n",
       "    </tr>\n",
       "    <tr>\n",
       "      <th>0</th>\n",
       "      <td>-0.813780</td>\n",
       "      <td>2</td>\n",
       "      <td>0.02</td>\n",
       "      <td>0.03</td>\n",
       "    </tr>\n",
       "    <tr>\n",
       "      <th>0</th>\n",
       "      <td>-0.191391</td>\n",
       "      <td>47</td>\n",
       "      <td>0.47</td>\n",
       "      <td>0.50</td>\n",
       "    </tr>\n",
       "    <tr>\n",
       "      <th>0</th>\n",
       "      <td>0.094072</td>\n",
       "      <td>1</td>\n",
       "      <td>0.01</td>\n",
       "      <td>0.51</td>\n",
       "    </tr>\n",
       "    <tr>\n",
       "      <th>0</th>\n",
       "      <td>0.164440</td>\n",
       "      <td>30</td>\n",
       "      <td>0.29</td>\n",
       "      <td>0.80</td>\n",
       "    </tr>\n",
       "  </tbody>\n",
       "</table>\n",
       "</div>"
      ],
      "text/plain": [
       "      value  count   pdf   cdf\n",
       "0 -1.011184      1  0.01  0.01\n",
       "0 -0.813780      2  0.02  0.03\n",
       "0 -0.191391     47  0.47  0.50\n",
       "0  0.094072      1  0.01  0.51\n",
       "0  0.164440     30  0.29  0.80"
      ]
     },
     "execution_count": 599,
     "metadata": {},
     "output_type": "execute_result"
    }
   ],
   "source": [
    "num_samples = 1000\n",
    "scale = 30\n",
    "dirich_df = dirichlet_iter(scale = scale)\n",
    "for i in range(num_samples - 1):\n",
    "    dirich_df = dirichlet_iter(obs = dirich_df, scale = scale)\n",
    "dirich.head()"
   ]
  },
  {
   "cell_type": "code",
   "execution_count": 600,
   "metadata": {},
   "outputs": [
    {
     "data": {
      "image/png": "[encoded data removed]",
      "text/plain": [
       "<Figure size 432x288 with 1 Axes>"
      ]
     },
     "metadata": {
      "needs_background": "light"
     },
     "output_type": "display_data"
    }
   ],
   "source": [
    "dirichlet_values_list = []\n",
    "for i in list(dirich_df['value']):\n",
    "    dirichlet_values_list += [i, i, i]\n",
    "\n",
    "dirichlet_counts_list = []\n",
    "for i in list(dirich_df['count']):\n",
    "    dirichlet_counts_list += [0, i, 0]\n",
    "\n",
    "plt.plot(dirichlet_values_list, \n",
    "         dirichlet_counts_list,\n",
    "         #label = 'Dirichlet results',\n",
    "         linestyle = '-', #marker = '.', \n",
    "         color = 'blue')\n",
    "plt.xlabel('Value')\n",
    "plt.ylabel('Frequency')\n",
    "plt.title('Dirichlet Process Outcomes for ' + str(num_samples) + \" iterations and \" +\n",
    "         str(scale) + \" scale (alpha).\")\n",
    "#plt.legend()\n",
    "plt.show()"
   ]
  },
  {
   "cell_type": "code",
   "execution_count": null,
   "metadata": {},
   "outputs": [],
   "source": []
  }
 ],
 "metadata": {
  "kernelspec": {
   "display_name": "Python 3",
   "language": "python",
   "name": "python3"
  },
  "language_info": {
   "codemirror_mode": {
    "name": "ipython",
    "version": 3
   },
   "file_extension": ".py",
   "mimetype": "text/x-python",
   "name": "python",
   "nbconvert_exporter": "python",
   "pygments_lexer": "ipython3",
   "version": "3.6.8"
  },
  "varInspector": {
   "cols": {
    "lenName": 16,
    "lenType": 16,
    "lenVar": 40
   },
   "kernels_config": {
    "python": {
     "delete_cmd_postfix": "",
     "delete_cmd_prefix": "del ",
     "library": "var_list.py",
     "varRefreshCmd": "print(var_dic_list())"
    },
    "r": {
     "delete_cmd_postfix": ") ",
     "delete_cmd_prefix": "rm(",
     "library": "var_list.r",
     "varRefreshCmd": "cat(var_dic_list()) "
    }
   },
   "types_to_exclude": [
    "module",
    "function",
    "builtin_function_or_method",
    "instance",
    "_Feature"
   ],
   "window_display": false
  }
 },
 "nbformat": 4,
 "nbformat_minor": 2
}
