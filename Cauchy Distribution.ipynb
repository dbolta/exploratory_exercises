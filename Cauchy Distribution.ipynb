{
 "cells": [
  {
   "cell_type": "markdown",
   "metadata": {},
   "source": [
    "## Cauchy Distribution Source Comparisons\n",
    "Compare different ways to compute the Cauchy Distribution\n",
    "1. Simulated from Monte Carlo\n",
    "2. Analyticially per wikipedia\n",
    "3. scipy.stats (testing the \"scale\" argument)"
   ]
  },
  {
   "cell_type": "code",
   "execution_count": 3,
   "metadata": {},
   "outputs": [],
   "source": [
    "import numpy as np\n",
    "import pandas as pd\n",
    "import scipy.stats\n",
    "import altair as alt"
   ]
  },
  {
   "cell_type": "code",
   "execution_count": 4,
   "metadata": {},
   "outputs": [
    {
     "data": {
      "text/plain": [
       "RendererRegistry.enable('notebook')"
      ]
     },
     "execution_count": 4,
     "metadata": {},
     "output_type": "execute_result"
    }
   ],
   "source": [
    "alt.renderers.enable('notebook')"
   ]
  },
  {
   "cell_type": "markdown",
   "metadata": {},
   "source": [
    "__Setup__\n",
    "<br>Arguments used across functions "
   ]
  },
  {
   "cell_type": "code",
   "execution_count": 60,
   "metadata": {},
   "outputs": [],
   "source": [
    "dist_from_xaxis = 10\n",
    "n_samples_for_sim = 50"
   ]
  },
  {
   "cell_type": "markdown",
   "metadata": {},
   "source": [
    "__Function to simulate__\n",
    "<br>Simulation based on interpretation of rays emanating from point source onto x axis\n",
    "<br>Compare to analytical descriptions as sample size decreases."
   ]
  },
  {
   "cell_type": "code",
   "execution_count": 69,
   "metadata": {},
   "outputs": [],
   "source": [
    "def cauchy_cdf_sim(y, n = 5000, x0 = 0):\n",
    "    ### np.random.uniform samples [low,high), so need to make low exclusive\n",
    "    if y == 0:\n",
    "        y += 1e-8\n",
    "    if y > 0:\n",
    "        y *= -1\n",
    "    interval_min = 1e-16\n",
    "    interval_max = np.pi\n",
    "    angles = np.random.uniform(size = n, low = interval_min, high = interval_max)\n",
    "    intersects = np.sort(np.abs(y) / np.tan(angles))\n",
    "    cdf_df = pd.DataFrame({\"intersects\": intersects,\n",
    "                           \"simulated_cdf\": np.arange(intersects.size) / intersects.size})\n",
    "    return cdf_df"
   ]
  },
  {
   "cell_type": "code",
   "execution_count": 70,
   "metadata": {},
   "outputs": [
    {
     "data": {
      "text/html": [
       "<div>\n",
       "<style scoped>\n",
       "    .dataframe tbody tr th:only-of-type {\n",
       "        vertical-align: middle;\n",
       "    }\n",
       "\n",
       "    .dataframe tbody tr th {\n",
       "        vertical-align: top;\n",
       "    }\n",
       "\n",
       "    .dataframe thead th {\n",
       "        text-align: right;\n",
       "    }\n",
       "</style>\n",
       "<table border=\"1\" class=\"dataframe\">\n",
       "  <thead>\n",
       "    <tr style=\"text-align: right;\">\n",
       "      <th></th>\n",
       "      <th>intersects</th>\n",
       "      <th>simulated_cdf</th>\n",
       "    </tr>\n",
       "  </thead>\n",
       "  <tbody>\n",
       "    <tr>\n",
       "      <th>0</th>\n",
       "      <td>-410.274857</td>\n",
       "      <td>0.00</td>\n",
       "    </tr>\n",
       "    <tr>\n",
       "      <th>1</th>\n",
       "      <td>-250.714914</td>\n",
       "      <td>0.02</td>\n",
       "    </tr>\n",
       "    <tr>\n",
       "      <th>2</th>\n",
       "      <td>-95.276891</td>\n",
       "      <td>0.04</td>\n",
       "    </tr>\n",
       "    <tr>\n",
       "      <th>3</th>\n",
       "      <td>-69.733804</td>\n",
       "      <td>0.06</td>\n",
       "    </tr>\n",
       "    <tr>\n",
       "      <th>4</th>\n",
       "      <td>-57.303321</td>\n",
       "      <td>0.08</td>\n",
       "    </tr>\n",
       "  </tbody>\n",
       "</table>\n",
       "</div>"
      ],
      "text/plain": [
       "   intersects  simulated_cdf\n",
       "0 -410.274857           0.00\n",
       "1 -250.714914           0.02\n",
       "2  -95.276891           0.04\n",
       "3  -69.733804           0.06\n",
       "4  -57.303321           0.08"
      ]
     },
     "execution_count": 70,
     "metadata": {},
     "output_type": "execute_result"
    }
   ],
   "source": [
    "simulated_cdf = cauchy_cdf_sim(y = dist_from_xaxis, n = n_samples_for_sim)\n",
    "simulated_cdf.head()"
   ]
  },
  {
   "cell_type": "code",
   "execution_count": 71,
   "metadata": {},
   "outputs": [
    {
     "data": {
      "application/javascript": [
       "var spec = {\"config\": {\"view\": {\"width\": 400, \"height\": 300}, \"mark\": {\"tooltip\": null}}, \"data\": {\"name\": \"data-a1e82fc6ea59bf6b8d458c24e518fc2e\"}, \"mark\": \"line\", \"encoding\": {\"x\": {\"type\": \"quantitative\", \"field\": \"intersects\"}, \"y\": {\"type\": \"quantitative\", \"field\": \"simulated_cdf\"}}, \"$schema\": \"https://vega.github.io/schema/vega-lite/v3.2.1.json\", \"datasets\": {\"data-a1e82fc6ea59bf6b8d458c24e518fc2e\": [{\"intersects\": -17.27268063637131, \"simulated_cdf\": 0.1}, {\"intersects\": -16.295129452379044, \"simulated_cdf\": 0.12}, {\"intersects\": -12.559934818813963, \"simulated_cdf\": 0.14}, {\"intersects\": -12.15735931572666, \"simulated_cdf\": 0.16}, {\"intersects\": -10.782950498042505, \"simulated_cdf\": 0.18}, {\"intersects\": -9.037607661383849, \"simulated_cdf\": 0.2}, {\"intersects\": -8.708757175227934, \"simulated_cdf\": 0.22}, {\"intersects\": -5.343476150985086, \"simulated_cdf\": 0.24}, {\"intersects\": -4.166849167573884, \"simulated_cdf\": 0.26}, {\"intersects\": -3.1282600108181584, \"simulated_cdf\": 0.28}, {\"intersects\": -2.878907392092877, \"simulated_cdf\": 0.3}, {\"intersects\": -2.486477549362001, \"simulated_cdf\": 0.32}, {\"intersects\": -1.6854037946587024, \"simulated_cdf\": 0.34}, {\"intersects\": -0.5711473343698948, \"simulated_cdf\": 0.36}, {\"intersects\": 0.25540841805106335, \"simulated_cdf\": 0.38}, {\"intersects\": 1.1000042839086588, \"simulated_cdf\": 0.4}, {\"intersects\": 1.4184292199382131, \"simulated_cdf\": 0.42}, {\"intersects\": 2.9213033980470238, \"simulated_cdf\": 0.44}, {\"intersects\": 2.9836692057326073, \"simulated_cdf\": 0.46}, {\"intersects\": 3.37205669504226, \"simulated_cdf\": 0.48}, {\"intersects\": 3.5677571405472577, \"simulated_cdf\": 0.5}, {\"intersects\": 3.9576004439271113, \"simulated_cdf\": 0.52}, {\"intersects\": 4.253747393482549, \"simulated_cdf\": 0.54}, {\"intersects\": 4.354640752910438, \"simulated_cdf\": 0.56}, {\"intersects\": 5.693965489488838, \"simulated_cdf\": 0.58}, {\"intersects\": 6.951196457055604, \"simulated_cdf\": 0.6}, {\"intersects\": 7.011802301674642, \"simulated_cdf\": 0.62}, {\"intersects\": 7.448681384249432, \"simulated_cdf\": 0.64}, {\"intersects\": 7.651238875846465, \"simulated_cdf\": 0.66}, {\"intersects\": 8.265935014655119, \"simulated_cdf\": 0.68}, {\"intersects\": 9.008168327207112, \"simulated_cdf\": 0.7}, {\"intersects\": 9.64234057252809, \"simulated_cdf\": 0.72}, {\"intersects\": 10.620327470216072, \"simulated_cdf\": 0.74}, {\"intersects\": 11.553423330979518, \"simulated_cdf\": 0.76}, {\"intersects\": 15.742135499809015, \"simulated_cdf\": 0.78}, {\"intersects\": 18.13032747481719, \"simulated_cdf\": 0.8}, {\"intersects\": 28.19343510265211, \"simulated_cdf\": 0.82}, {\"intersects\": 33.31097508871233, \"simulated_cdf\": 0.84}, {\"intersects\": 39.659872358093274, \"simulated_cdf\": 0.86}, {\"intersects\": 56.75472307499386, \"simulated_cdf\": 0.88}, {\"intersects\": 61.728692345077064, \"simulated_cdf\": 0.9}]}};\n",
       "var opt = {};\n",
       "var type = \"vega-lite\";\n",
       "var id = \"d5943281-d53e-4262-bab3-603bafc78eca\";\n",
       "\n",
       "var output_area = this;\n",
       "\n",
       "require([\"nbextensions/jupyter-vega/index\"], function(vega) {\n",
       "  var target = document.createElement(\"div\");\n",
       "  target.id = id;\n",
       "  target.className = \"vega-embed\";\n",
       "\n",
       "  var style = document.createElement(\"style\");\n",
       "  style.textContent = [\n",
       "    \".vega-embed .error p {\",\n",
       "    \"  color: firebrick;\",\n",
       "    \"  font-size: 14px;\",\n",
       "    \"}\",\n",
       "  ].join(\"\\\\n\");\n",
       "\n",
       "  // element is a jQuery wrapped DOM element inside the output area\n",
       "  // see http://ipython.readthedocs.io/en/stable/api/generated/\\\n",
       "  // IPython.display.html#IPython.display.Javascript.__init__\n",
       "  element[0].appendChild(target);\n",
       "  element[0].appendChild(style);\n",
       "\n",
       "  vega.render(\"#\" + id, spec, type, opt, output_area);\n",
       "}, function (err) {\n",
       "  if (err.requireType !== \"scripterror\") {\n",
       "    throw(err);\n",
       "  }\n",
       "});\n"
      ],
      "text/plain": [
       "<vega.vegalite.VegaLite at 0x2711d6649e8>"
      ]
     },
     "metadata": {
      "jupyter-vega": "#d5943281-d53e-4262-bab3-603bafc78eca"
     },
     "output_type": "display_data"
    },
    {
     "data": {
      "text/plain": []
     },
     "execution_count": 71,
     "metadata": {},
     "output_type": "execute_result"
    },
    {
     "data": {
      "image/png": "[encoded data removed]"
     },
     "metadata": {
      "jupyter-vega": "#d5943281-d53e-4262-bab3-603bafc78eca"
     },
     "output_type": "display_data"
    }
   ],
   "source": [
    "simulated_cdf = simulated_cdf.loc[(simulated_cdf['simulated_cdf'] >= 0.1) & (simulated_cdf['simulated_cdf'] <= 0.9)]\n",
    "alt.Chart(simulated_cdf).mark_line().encode(\n",
    "    x='intersects',\n",
    "    y='simulated_cdf'\n",
    ")"
   ]
  },
  {
   "cell_type": "markdown",
   "metadata": {},
   "source": [
    "__Analytical cdf__\n",
    "<br>https://en.wikipedia.org/wiki/Cauchy_distribution"
   ]
  },
  {
   "cell_type": "code",
   "execution_count": 72,
   "metadata": {},
   "outputs": [],
   "source": [
    "def cauchy_cdf(x, y = 1, x0 = 0):\n",
    "    return 1 / np.pi * np.arctan((x - x0) / y) + 0.5 \n",
    "simulated_cdf.loc[:,'analytical_cdf'] = cauchy_cdf(x = simulated_cdf.loc[:, 'intersects'], y = dist_from_xaxis)"
   ]
  },
  {
   "cell_type": "markdown",
   "metadata": {},
   "source": [
    "__Scipy cdf__\n",
    "<br>https://docs.scipy.org/doc/scipy/reference/generated/scipy.stats.cauchy.html"
   ]
  },
  {
   "cell_type": "code",
   "execution_count": 73,
   "metadata": {},
   "outputs": [
    {
     "data": {
      "text/html": [
       "<div>\n",
       "<style scoped>\n",
       "    .dataframe tbody tr th:only-of-type {\n",
       "        vertical-align: middle;\n",
       "    }\n",
       "\n",
       "    .dataframe tbody tr th {\n",
       "        vertical-align: top;\n",
       "    }\n",
       "\n",
       "    .dataframe thead th {\n",
       "        text-align: right;\n",
       "    }\n",
       "</style>\n",
       "<table border=\"1\" class=\"dataframe\">\n",
       "  <thead>\n",
       "    <tr style=\"text-align: right;\">\n",
       "      <th></th>\n",
       "      <th>intersects</th>\n",
       "      <th>simulated_cdf</th>\n",
       "      <th>analytical_cdf</th>\n",
       "      <th>scipy_cdf</th>\n",
       "    </tr>\n",
       "  </thead>\n",
       "  <tbody>\n",
       "    <tr>\n",
       "      <th>5</th>\n",
       "      <td>-17.272681</td>\n",
       "      <td>0.10</td>\n",
       "      <td>0.167048</td>\n",
       "      <td>0.167048</td>\n",
       "    </tr>\n",
       "    <tr>\n",
       "      <th>6</th>\n",
       "      <td>-16.295129</td>\n",
       "      <td>0.12</td>\n",
       "      <td>0.175203</td>\n",
       "      <td>0.175203</td>\n",
       "    </tr>\n",
       "    <tr>\n",
       "      <th>7</th>\n",
       "      <td>-12.559935</td>\n",
       "      <td>0.14</td>\n",
       "      <td>0.214034</td>\n",
       "      <td>0.214034</td>\n",
       "    </tr>\n",
       "    <tr>\n",
       "      <th>8</th>\n",
       "      <td>-12.157359</td>\n",
       "      <td>0.16</td>\n",
       "      <td>0.219105</td>\n",
       "      <td>0.219105</td>\n",
       "    </tr>\n",
       "    <tr>\n",
       "      <th>9</th>\n",
       "      <td>-10.782950</td>\n",
       "      <td>0.18</td>\n",
       "      <td>0.238014</td>\n",
       "      <td>0.238014</td>\n",
       "    </tr>\n",
       "  </tbody>\n",
       "</table>\n",
       "</div>"
      ],
      "text/plain": [
       "   intersects  simulated_cdf  analytical_cdf  scipy_cdf\n",
       "5  -17.272681           0.10        0.167048   0.167048\n",
       "6  -16.295129           0.12        0.175203   0.175203\n",
       "7  -12.559935           0.14        0.214034   0.214034\n",
       "8  -12.157359           0.16        0.219105   0.219105\n",
       "9  -10.782950           0.18        0.238014   0.238014"
      ]
     },
     "execution_count": 73,
     "metadata": {},
     "output_type": "execute_result"
    }
   ],
   "source": [
    "simulated_cdf.loc[:,'scipy_cdf'] = scipy.stats.cauchy.cdf(x = simulated_cdf.loc[:, 'intersects'], scale = dist_from_xaxis)\n",
    "\n",
    "simulated_cdf.head()"
   ]
  },
  {
   "cell_type": "markdown",
   "metadata": {},
   "source": [
    "__Melt for plotting__"
   ]
  },
  {
   "cell_type": "code",
   "execution_count": 74,
   "metadata": {},
   "outputs": [
    {
     "data": {
      "text/html": [
       "<div>\n",
       "<style scoped>\n",
       "    .dataframe tbody tr th:only-of-type {\n",
       "        vertical-align: middle;\n",
       "    }\n",
       "\n",
       "    .dataframe tbody tr th {\n",
       "        vertical-align: top;\n",
       "    }\n",
       "\n",
       "    .dataframe thead th {\n",
       "        text-align: right;\n",
       "    }\n",
       "</style>\n",
       "<table border=\"1\" class=\"dataframe\">\n",
       "  <thead>\n",
       "    <tr style=\"text-align: right;\">\n",
       "      <th></th>\n",
       "      <th>intersects</th>\n",
       "      <th>variable</th>\n",
       "      <th>value</th>\n",
       "    </tr>\n",
       "  </thead>\n",
       "  <tbody>\n",
       "    <tr>\n",
       "      <th>0</th>\n",
       "      <td>-17.272681</td>\n",
       "      <td>simulated_cdf</td>\n",
       "      <td>0.10</td>\n",
       "    </tr>\n",
       "    <tr>\n",
       "      <th>1</th>\n",
       "      <td>-16.295129</td>\n",
       "      <td>simulated_cdf</td>\n",
       "      <td>0.12</td>\n",
       "    </tr>\n",
       "    <tr>\n",
       "      <th>2</th>\n",
       "      <td>-12.559935</td>\n",
       "      <td>simulated_cdf</td>\n",
       "      <td>0.14</td>\n",
       "    </tr>\n",
       "    <tr>\n",
       "      <th>3</th>\n",
       "      <td>-12.157359</td>\n",
       "      <td>simulated_cdf</td>\n",
       "      <td>0.16</td>\n",
       "    </tr>\n",
       "    <tr>\n",
       "      <th>4</th>\n",
       "      <td>-10.782950</td>\n",
       "      <td>simulated_cdf</td>\n",
       "      <td>0.18</td>\n",
       "    </tr>\n",
       "  </tbody>\n",
       "</table>\n",
       "</div>"
      ],
      "text/plain": [
       "   intersects       variable  value\n",
       "0  -17.272681  simulated_cdf   0.10\n",
       "1  -16.295129  simulated_cdf   0.12\n",
       "2  -12.559935  simulated_cdf   0.14\n",
       "3  -12.157359  simulated_cdf   0.16\n",
       "4  -10.782950  simulated_cdf   0.18"
      ]
     },
     "execution_count": 74,
     "metadata": {},
     "output_type": "execute_result"
    }
   ],
   "source": [
    "melted_cdf = pd.melt(simulated_cdf, id_vars = \"intersects\")\n",
    "while melted_cdf.shape[0] > 5000:\n",
    "    melted_cdf = melted_cdf.iloc[np.arange(melted_cdf.shape[0] / 2) * 2]\n",
    "melted_cdf.head()"
   ]
  },
  {
   "cell_type": "code",
   "execution_count": 75,
   "metadata": {},
   "outputs": [
    {
     "data": {
      "application/javascript": [
       "var spec = {\"config\": {\"view\": {\"width\": 400, \"height\": 300}, \"mark\": {\"tooltip\": null}}, \"layer\": [{\"data\": {\"name\": \"data-5529262ced198930e24156c47c46c630\"}, \"mark\": \"line\", \"encoding\": {\"color\": {\"type\": \"nominal\", \"field\": \"variable\"}, \"x\": {\"type\": \"quantitative\", \"field\": \"intersects\"}, \"y\": {\"type\": \"quantitative\", \"field\": \"value\"}}}, {\"data\": {\"name\": \"data-661c6d49cd76c7957ef4e5c14e5263ac\"}, \"mark\": {\"type\": \"circle\", \"color\": \"blue\"}, \"encoding\": {\"x\": {\"type\": \"quantitative\", \"field\": \"intersects\"}, \"y\": {\"type\": \"quantitative\", \"field\": \"value\"}}}], \"$schema\": \"https://vega.github.io/schema/vega-lite/v3.2.1.json\", \"datasets\": {\"data-5529262ced198930e24156c47c46c630\": [{\"intersects\": -17.27268063637131, \"variable\": \"analytical_cdf\", \"value\": 0.16704805500468117}, {\"intersects\": -16.295129452379044, \"variable\": \"analytical_cdf\", \"value\": 0.17520344887898082}, {\"intersects\": -12.559934818813963, \"variable\": \"analytical_cdf\", \"value\": 0.21403438290204457}, {\"intersects\": -12.15735931572666, \"variable\": \"analytical_cdf\", \"value\": 0.21910502530711856}, {\"intersects\": -10.782950498042505, \"variable\": \"analytical_cdf\", \"value\": 0.2380140655068132}, {\"intersects\": -9.037607661383849, \"variable\": \"analytical_cdf\", \"value\": 0.2660775686012574}, {\"intersects\": -8.708757175227934, \"variable\": \"analytical_cdf\", \"value\": 0.27193435876616173}, {\"intersects\": -5.343476150985086, \"variable\": \"analytical_cdf\", \"value\": 0.34379048670378765}, {\"intersects\": -4.166849167573884, \"variable\": \"analytical_cdf\", \"value\": 0.37432913381655897}, {\"intersects\": -3.1282600108181584, \"variable\": \"analytical_cdf\", \"value\": 0.40349422357975695}, {\"intersects\": -2.878907392092877, \"variable\": \"analytical_cdf\", \"value\": 0.41077433522197226}, {\"intersects\": -2.486477549362001, \"variable\": \"analytical_cdf\", \"value\": 0.4224261117275355}, {\"intersects\": -1.6854037946587024, \"variable\": \"analytical_cdf\", \"value\": 0.44685141838643727}, {\"intersects\": -0.5711473343698948, \"variable\": \"analytical_cdf\", \"value\": 0.4818395455808274}, {\"intersects\": 0.25540841805106335, \"variable\": \"analytical_cdf\", \"value\": 0.5081281353340656}, {\"intersects\": 1.1000042839086588, \"variable\": \"analytical_cdf\", \"value\": 0.5348740152285629}, {\"intersects\": 1.4184292199382131, \"variable\": \"analytical_cdf\", \"value\": 0.5448508106786397}, {\"intersects\": 2.9213033980470238, \"variable\": \"analytical_cdf\", \"value\": 0.5904704741936831}, {\"intersects\": 2.9836692057326073, \"variable\": \"analytical_cdf\", \"value\": 0.5922964610147521}, {\"intersects\": 3.37205669504226, \"variable\": \"analytical_cdf\", \"value\": 0.6035244332422549}, {\"intersects\": 3.5677571405472577, \"variable\": \"analytical_cdf\", \"value\": 0.6090842541621149}, {\"intersects\": 3.9576004439271113, \"variable\": \"analytical_cdf\", \"value\": 0.6199537779220515}, {\"intersects\": 4.253747393482549, \"variable\": \"analytical_cdf\", \"value\": 0.628020420393686}, {\"intersects\": 4.354640752910438, \"variable\": \"analytical_cdf\", \"value\": 0.630729973077555}, {\"intersects\": 5.693965489488838, \"variable\": \"analytical_cdf\", \"value\": 0.6647613163621877}, {\"intersects\": 6.951196457055604, \"variable\": \"analytical_cdf\", \"value\": 0.6933551260591777}, {\"intersects\": 7.011802301674642, \"variable\": \"analytical_cdf\", \"value\": 0.6946521059486901}, {\"intersects\": 7.448681384249432, \"variable\": \"analytical_cdf\", \"value\": 0.7037847326109171}, {\"intersects\": 7.651238875846465, \"variable\": \"analytical_cdf\", \"value\": 0.7078914783189081}, {\"intersects\": 8.265935014655119, \"variable\": \"analytical_cdf\", \"value\": 0.7198717464526744}, {\"intersects\": 9.008168327207112, \"variable\": \"analytical_cdf\", \"value\": 0.7334058829979115}, {\"intersects\": 9.64234057252809, \"variable\": \"analytical_cdf\", \"value\": 0.7442046645773948}, {\"intersects\": 10.620327470216072, \"variable\": \"analytical_cdf\", \"value\": 0.7595729242285962}, {\"intersects\": 11.553423330979518, \"variable\": \"analytical_cdf\", \"value\": 0.7729019990582275}, {\"intersects\": 15.742135499809015, \"variable\": \"analytical_cdf\", \"value\": 0.8198596819200852}, {\"intersects\": 18.13032747481719, \"variable\": \"analytical_cdf\", \"value\": 0.8395585548054482}, {\"intersects\": 28.19343510265211, \"variable\": \"analytical_cdf\", \"value\": 0.8915043652487171}, {\"intersects\": 33.31097508871233, \"variable\": \"analytical_cdf\", \"value\": 0.9071676217558715}, {\"intersects\": 39.659872358093274, \"variable\": \"analytical_cdf\", \"value\": 0.9213788738211451}, {\"intersects\": 56.75472307499386, \"variable\": \"analytical_cdf\", \"value\": 0.9444846368558685}, {\"intersects\": 61.728692345077064, \"variable\": \"analytical_cdf\", \"value\": 0.9488781688350453}, {\"intersects\": -17.27268063637131, \"variable\": \"scipy_cdf\", \"value\": 0.16704805500468117}, {\"intersects\": -16.295129452379044, \"variable\": \"scipy_cdf\", \"value\": 0.17520344887898082}, {\"intersects\": -12.559934818813963, \"variable\": \"scipy_cdf\", \"value\": 0.21403438290204457}, {\"intersects\": -12.15735931572666, \"variable\": \"scipy_cdf\", \"value\": 0.21910502530711856}, {\"intersects\": -10.782950498042505, \"variable\": \"scipy_cdf\", \"value\": 0.2380140655068132}, {\"intersects\": -9.037607661383849, \"variable\": \"scipy_cdf\", \"value\": 0.2660775686012574}, {\"intersects\": -8.708757175227934, \"variable\": \"scipy_cdf\", \"value\": 0.27193435876616173}, {\"intersects\": -5.343476150985086, \"variable\": \"scipy_cdf\", \"value\": 0.34379048670378765}, {\"intersects\": -4.166849167573884, \"variable\": \"scipy_cdf\", \"value\": 0.37432913381655897}, {\"intersects\": -3.1282600108181584, \"variable\": \"scipy_cdf\", \"value\": 0.40349422357975695}, {\"intersects\": -2.878907392092877, \"variable\": \"scipy_cdf\", \"value\": 0.41077433522197226}, {\"intersects\": -2.486477549362001, \"variable\": \"scipy_cdf\", \"value\": 0.4224261117275355}, {\"intersects\": -1.6854037946587024, \"variable\": \"scipy_cdf\", \"value\": 0.44685141838643727}, {\"intersects\": -0.5711473343698948, \"variable\": \"scipy_cdf\", \"value\": 0.4818395455808274}, {\"intersects\": 0.25540841805106335, \"variable\": \"scipy_cdf\", \"value\": 0.5081281353340656}, {\"intersects\": 1.1000042839086588, \"variable\": \"scipy_cdf\", \"value\": 0.5348740152285629}, {\"intersects\": 1.4184292199382131, \"variable\": \"scipy_cdf\", \"value\": 0.5448508106786397}, {\"intersects\": 2.9213033980470238, \"variable\": \"scipy_cdf\", \"value\": 0.5904704741936831}, {\"intersects\": 2.9836692057326073, \"variable\": \"scipy_cdf\", \"value\": 0.5922964610147521}, {\"intersects\": 3.37205669504226, \"variable\": \"scipy_cdf\", \"value\": 0.6035244332422549}, {\"intersects\": 3.5677571405472577, \"variable\": \"scipy_cdf\", \"value\": 0.6090842541621149}, {\"intersects\": 3.9576004439271113, \"variable\": \"scipy_cdf\", \"value\": 0.6199537779220515}, {\"intersects\": 4.253747393482549, \"variable\": \"scipy_cdf\", \"value\": 0.628020420393686}, {\"intersects\": 4.354640752910438, \"variable\": \"scipy_cdf\", \"value\": 0.630729973077555}, {\"intersects\": 5.693965489488838, \"variable\": \"scipy_cdf\", \"value\": 0.6647613163621877}, {\"intersects\": 6.951196457055604, \"variable\": \"scipy_cdf\", \"value\": 0.6933551260591777}, {\"intersects\": 7.011802301674642, \"variable\": \"scipy_cdf\", \"value\": 0.6946521059486901}, {\"intersects\": 7.448681384249432, \"variable\": \"scipy_cdf\", \"value\": 0.7037847326109171}, {\"intersects\": 7.651238875846465, \"variable\": \"scipy_cdf\", \"value\": 0.7078914783189081}, {\"intersects\": 8.265935014655119, \"variable\": \"scipy_cdf\", \"value\": 0.7198717464526744}, {\"intersects\": 9.008168327207112, \"variable\": \"scipy_cdf\", \"value\": 0.7334058829979115}, {\"intersects\": 9.64234057252809, \"variable\": \"scipy_cdf\", \"value\": 0.7442046645773948}, {\"intersects\": 10.620327470216072, \"variable\": \"scipy_cdf\", \"value\": 0.7595729242285962}, {\"intersects\": 11.553423330979518, \"variable\": \"scipy_cdf\", \"value\": 0.7729019990582275}, {\"intersects\": 15.742135499809015, \"variable\": \"scipy_cdf\", \"value\": 0.8198596819200852}, {\"intersects\": 18.13032747481719, \"variable\": \"scipy_cdf\", \"value\": 0.8395585548054482}, {\"intersects\": 28.19343510265211, \"variable\": \"scipy_cdf\", \"value\": 0.8915043652487171}, {\"intersects\": 33.31097508871233, \"variable\": \"scipy_cdf\", \"value\": 0.9071676217558715}, {\"intersects\": 39.659872358093274, \"variable\": \"scipy_cdf\", \"value\": 0.9213788738211451}, {\"intersects\": 56.75472307499386, \"variable\": \"scipy_cdf\", \"value\": 0.9444846368558685}, {\"intersects\": 61.728692345077064, \"variable\": \"scipy_cdf\", \"value\": 0.9488781688350453}], \"data-661c6d49cd76c7957ef4e5c14e5263ac\": [{\"intersects\": -17.27268063637131, \"variable\": \"simulated_cdf\", \"value\": 0.1}, {\"intersects\": -16.295129452379044, \"variable\": \"simulated_cdf\", \"value\": 0.12}, {\"intersects\": -12.559934818813963, \"variable\": \"simulated_cdf\", \"value\": 0.14}, {\"intersects\": -12.15735931572666, \"variable\": \"simulated_cdf\", \"value\": 0.16}, {\"intersects\": -10.782950498042505, \"variable\": \"simulated_cdf\", \"value\": 0.18}, {\"intersects\": -9.037607661383849, \"variable\": \"simulated_cdf\", \"value\": 0.2}, {\"intersects\": -8.708757175227934, \"variable\": \"simulated_cdf\", \"value\": 0.22}, {\"intersects\": -5.343476150985086, \"variable\": \"simulated_cdf\", \"value\": 0.24}, {\"intersects\": -4.166849167573884, \"variable\": \"simulated_cdf\", \"value\": 0.26}, {\"intersects\": -3.1282600108181584, \"variable\": \"simulated_cdf\", \"value\": 0.28}, {\"intersects\": -2.878907392092877, \"variable\": \"simulated_cdf\", \"value\": 0.3}, {\"intersects\": -2.486477549362001, \"variable\": \"simulated_cdf\", \"value\": 0.32}, {\"intersects\": -1.6854037946587024, \"variable\": \"simulated_cdf\", \"value\": 0.34}, {\"intersects\": -0.5711473343698948, \"variable\": \"simulated_cdf\", \"value\": 0.36}, {\"intersects\": 0.25540841805106335, \"variable\": \"simulated_cdf\", \"value\": 0.38}, {\"intersects\": 1.1000042839086588, \"variable\": \"simulated_cdf\", \"value\": 0.4}, {\"intersects\": 1.4184292199382131, \"variable\": \"simulated_cdf\", \"value\": 0.42}, {\"intersects\": 2.9213033980470238, \"variable\": \"simulated_cdf\", \"value\": 0.44}, {\"intersects\": 2.9836692057326073, \"variable\": \"simulated_cdf\", \"value\": 0.46}, {\"intersects\": 3.37205669504226, \"variable\": \"simulated_cdf\", \"value\": 0.48}, {\"intersects\": 3.5677571405472577, \"variable\": \"simulated_cdf\", \"value\": 0.5}, {\"intersects\": 3.9576004439271113, \"variable\": \"simulated_cdf\", \"value\": 0.52}, {\"intersects\": 4.253747393482549, \"variable\": \"simulated_cdf\", \"value\": 0.54}, {\"intersects\": 4.354640752910438, \"variable\": \"simulated_cdf\", \"value\": 0.56}, {\"intersects\": 5.693965489488838, \"variable\": \"simulated_cdf\", \"value\": 0.58}, {\"intersects\": 6.951196457055604, \"variable\": \"simulated_cdf\", \"value\": 0.6}, {\"intersects\": 7.011802301674642, \"variable\": \"simulated_cdf\", \"value\": 0.62}, {\"intersects\": 7.448681384249432, \"variable\": \"simulated_cdf\", \"value\": 0.64}, {\"intersects\": 7.651238875846465, \"variable\": \"simulated_cdf\", \"value\": 0.66}, {\"intersects\": 8.265935014655119, \"variable\": \"simulated_cdf\", \"value\": 0.68}, {\"intersects\": 9.008168327207112, \"variable\": \"simulated_cdf\", \"value\": 0.7}, {\"intersects\": 9.64234057252809, \"variable\": \"simulated_cdf\", \"value\": 0.72}, {\"intersects\": 10.620327470216072, \"variable\": \"simulated_cdf\", \"value\": 0.74}, {\"intersects\": 11.553423330979518, \"variable\": \"simulated_cdf\", \"value\": 0.76}, {\"intersects\": 15.742135499809015, \"variable\": \"simulated_cdf\", \"value\": 0.78}, {\"intersects\": 18.13032747481719, \"variable\": \"simulated_cdf\", \"value\": 0.8}, {\"intersects\": 28.19343510265211, \"variable\": \"simulated_cdf\", \"value\": 0.82}, {\"intersects\": 33.31097508871233, \"variable\": \"simulated_cdf\", \"value\": 0.84}, {\"intersects\": 39.659872358093274, \"variable\": \"simulated_cdf\", \"value\": 0.86}, {\"intersects\": 56.75472307499386, \"variable\": \"simulated_cdf\", \"value\": 0.88}, {\"intersects\": 61.728692345077064, \"variable\": \"simulated_cdf\", \"value\": 0.9}]}};\n",
       "var opt = {};\n",
       "var type = \"vega-lite\";\n",
       "var id = \"e0f88334-bd9d-40de-90a9-d82290ad36fb\";\n",
       "\n",
       "var output_area = this;\n",
       "\n",
       "require([\"nbextensions/jupyter-vega/index\"], function(vega) {\n",
       "  var target = document.createElement(\"div\");\n",
       "  target.id = id;\n",
       "  target.className = \"vega-embed\";\n",
       "\n",
       "  var style = document.createElement(\"style\");\n",
       "  style.textContent = [\n",
       "    \".vega-embed .error p {\",\n",
       "    \"  color: firebrick;\",\n",
       "    \"  font-size: 14px;\",\n",
       "    \"}\",\n",
       "  ].join(\"\\\\n\");\n",
       "\n",
       "  // element is a jQuery wrapped DOM element inside the output area\n",
       "  // see http://ipython.readthedocs.io/en/stable/api/generated/\\\n",
       "  // IPython.display.html#IPython.display.Javascript.__init__\n",
       "  element[0].appendChild(target);\n",
       "  element[0].appendChild(style);\n",
       "\n",
       "  vega.render(\"#\" + id, spec, type, opt, output_area);\n",
       "}, function (err) {\n",
       "  if (err.requireType !== \"scripterror\") {\n",
       "    throw(err);\n",
       "  }\n",
       "});\n"
      ],
      "text/plain": [
       "<vega.vegalite.VegaLite at 0x2711d8f8908>"
      ]
     },
     "metadata": {
      "jupyter-vega": "#e0f88334-bd9d-40de-90a9-d82290ad36fb"
     },
     "output_type": "display_data"
    },
    {
     "data": {
      "text/plain": []
     },
     "execution_count": 75,
     "metadata": {},
     "output_type": "execute_result"
    },
    {
     "data": {
      "image/png": "[encoded data removed]"
     },
     "metadata": {
      "jupyter-vega": "#e0f88334-bd9d-40de-90a9-d82290ad36fb"
     },
     "output_type": "display_data"
    }
   ],
   "source": [
    "lines = (alt.Chart(melted_cdf.loc[melted_cdf['variable'] != 'simulated_cdf'])\n",
    "         .mark_line().encode(\n",
    "    x='intersects',\n",
    "    y='value',\n",
    "    color='variable'\n",
    "))\n",
    "\n",
    "points = (alt.Chart(melted_cdf.loc[melted_cdf['variable'] == 'simulated_cdf'])\n",
    "          .mark_circle(color = \"blue\").encode(\n",
    "    x='intersects',\n",
    "    y='value'\n",
    "))\n",
    "\n",
    "lines + points"
   ]
  },
  {
   "cell_type": "code",
   "execution_count": null,
   "metadata": {},
   "outputs": [],
   "source": []
  }
 ],
 "metadata": {
  "kernelspec": {
   "display_name": "Python 3",
   "language": "python",
   "name": "python3"
  },
  "language_info": {
   "codemirror_mode": {
    "name": "ipython",
    "version": 3
   },
   "file_extension": ".py",
   "mimetype": "text/x-python",
   "name": "python",
   "nbconvert_exporter": "python",
   "pygments_lexer": "ipython3",
   "version": "3.6.8"
  }
 },
 "nbformat": 4,
 "nbformat_minor": 2
}
